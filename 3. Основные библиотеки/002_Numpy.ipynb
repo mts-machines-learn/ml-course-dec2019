{
  "nbformat": 4,
  "nbformat_minor": 0,
  "metadata": {
    "kernelspec": {
      "display_name": "Python 3",
      "language": "python",
      "name": "python3"
    },
    "language_info": {
      "codemirror_mode": {
        "name": "ipython",
        "version": 3
      },
      "file_extension": ".py",
      "mimetype": "text/x-python",
      "name": "python",
      "nbconvert_exporter": "python",
      "pygments_lexer": "ipython3",
      "version": "3.6.5"
    },
    "colab": {
      "name": "002_Numpy.ipynb",
      "provenance": [],
      "include_colab_link": true
    }
  },
  "cells": [
    {
      "cell_type": "markdown",
      "metadata": {
        "id": "view-in-github",
        "colab_type": "text"
      },
      "source": [
        "<a href=\"https://colab.research.google.com/github/mts-machines-learn/ml-course-dec2019/blob/master/3.%20%D0%9E%D1%81%D0%BD%D0%BE%D0%B2%D0%BD%D1%8B%D0%B5%20%D0%B1%D0%B8%D0%B1%D0%BB%D0%B8%D0%BE%D1%82%D0%B5%D0%BA%D0%B8/002_Numpy.ipynb\" target=\"_parent\"><img src=\"https://colab.research.google.com/assets/colab-badge.svg\" alt=\"Open In Colab\"/></a>"
      ]
    },
    {
      "cell_type": "markdown",
      "metadata": {
        "id": "huMIivmyreLS",
        "colab_type": "text"
      },
      "source": [
        "\n",
        "# Библиотека numpy\n"
      ]
    },
    {
      "cell_type": "markdown",
      "metadata": {
        "id": "Lp76VmnjgXyL",
        "colab_type": "text"
      },
      "source": [
        "## Одномерные массивы"
      ]
    },
    {
      "cell_type": "code",
      "metadata": {
        "id": "-mllcDPereLU",
        "colab_type": "code",
        "colab": {}
      },
      "source": [
        "import numpy as np"
      ],
      "execution_count": 0,
      "outputs": []
    },
    {
      "cell_type": "markdown",
      "metadata": {
        "id": "ufNVgaSereLX",
        "colab_type": "text"
      },
      "source": [
        "Инициализация массива:"
      ]
    },
    {
      "cell_type": "code",
      "metadata": {
        "id": "b_WyxoWGreLY",
        "colab_type": "code",
        "outputId": "21366ea7-a483-4d2b-fd26-7a11feae62ee",
        "colab": {
          "base_uri": "https://localhost:8080/",
          "height": 35
        }
      },
      "source": [
        "a = np.array([1, 2, 3])\n",
        "a, type(a)"
      ],
      "execution_count": 0,
      "outputs": [
        {
          "output_type": "execute_result",
          "data": {
            "text/plain": [
              "(array([1, 2, 3]), numpy.ndarray)"
            ]
          },
          "metadata": {
            "tags": []
          },
          "execution_count": 2
        }
      ]
    },
    {
      "cell_type": "markdown",
      "metadata": {
        "id": "CRAFCPaNreLj",
        "colab_type": "text"
      },
      "source": [
        "Узнать размерность массива:"
      ]
    },
    {
      "cell_type": "code",
      "metadata": {
        "id": "JwR_fgpSreLj",
        "colab_type": "code",
        "outputId": "b358645c-d8da-4087-a1dd-08391815ec61",
        "colab": {
          "base_uri": "https://localhost:8080/",
          "height": 35
        }
      },
      "source": [
        "a.ndim"
      ],
      "execution_count": 0,
      "outputs": [
        {
          "output_type": "execute_result",
          "data": {
            "text/plain": [
              "1"
            ]
          },
          "metadata": {
            "tags": []
          },
          "execution_count": 3
        }
      ]
    },
    {
      "cell_type": "markdown",
      "metadata": {
        "id": "znqotQd0reLl",
        "colab_type": "text"
      },
      "source": [
        "В $n$-мерном случае возвращается кортеж размеров по каждой координате."
      ]
    },
    {
      "cell_type": "code",
      "metadata": {
        "id": "xJt_AkBcreLm",
        "colab_type": "code",
        "outputId": "3713696f-a897-49f5-b1ac-98429f516909",
        "colab": {
          "base_uri": "https://localhost:8080/",
          "height": 35
        }
      },
      "source": [
        "a.shape"
      ],
      "execution_count": 0,
      "outputs": [
        {
          "output_type": "execute_result",
          "data": {
            "text/plain": [
              "(3,)"
            ]
          },
          "metadata": {
            "tags": []
          },
          "execution_count": 4
        }
      ]
    },
    {
      "cell_type": "markdown",
      "metadata": {
        "id": "BKLefk-FreLo",
        "colab_type": "text"
      },
      "source": [
        "`size` - это число элементов в массиве\n",
        "\n",
        "`len` - размер по первой координате"
      ]
    },
    {
      "cell_type": "code",
      "metadata": {
        "id": "xytBLg7preLp",
        "colab_type": "code",
        "outputId": "a2ebdbd1-b0d7-4bdc-c298-a82c9a7fc93b",
        "colab": {
          "base_uri": "https://localhost:8080/",
          "height": 35
        }
      },
      "source": [
        "len(a), a.size"
      ],
      "execution_count": 0,
      "outputs": [
        {
          "output_type": "execute_result",
          "data": {
            "text/plain": [
              "(3, 3)"
            ]
          },
          "metadata": {
            "tags": []
          },
          "execution_count": 5
        }
      ]
    },
    {
      "cell_type": "markdown",
      "metadata": {
        "id": "phadKdL6reLv",
        "colab_type": "text"
      },
      "source": [
        "Индексация"
      ]
    },
    {
      "cell_type": "code",
      "metadata": {
        "id": "x0EB_YShreLw",
        "colab_type": "code",
        "outputId": "7fba85dd-82e2-4076-85de-1c39290baa4e",
        "colab": {
          "base_uri": "https://localhost:8080/",
          "height": 35
        }
      },
      "source": [
        "a[1]"
      ],
      "execution_count": 0,
      "outputs": [
        {
          "output_type": "execute_result",
          "data": {
            "text/plain": [
              "2"
            ]
          },
          "metadata": {
            "tags": []
          },
          "execution_count": 6
        }
      ]
    },
    {
      "cell_type": "markdown",
      "metadata": {
        "id": "rIlywBzYreLy",
        "colab_type": "text"
      },
      "source": [
        "Массивы - изменяемые объекты"
      ]
    },
    {
      "cell_type": "code",
      "metadata": {
        "id": "kNlRDYSoreLz",
        "colab_type": "code",
        "outputId": "88bb2d64-1441-4b97-fddd-68264587832c",
        "colab": {
          "base_uri": "https://localhost:8080/",
          "height": 35
        }
      },
      "source": [
        "a[1] = 10\n",
        "print(a)"
      ],
      "execution_count": 0,
      "outputs": [
        {
          "output_type": "stream",
          "text": [
            "[ 1 10  3]\n"
          ],
          "name": "stdout"
        }
      ]
    },
    {
      "cell_type": "markdown",
      "metadata": {
        "id": "lRhJIOadreL3",
        "colab_type": "text"
      },
      "source": [
        "Массив чисел типа float"
      ]
    },
    {
      "cell_type": "code",
      "metadata": {
        "id": "QSaXciB_reL4",
        "colab_type": "code",
        "outputId": "b8c85d96-ff2e-437d-a665-b18b10081988",
        "colab": {
          "base_uri": "https://localhost:8080/",
          "height": 35
        }
      },
      "source": [
        "b = np.array([1., 2, 3])\n",
        "b.dtype"
      ],
      "execution_count": 0,
      "outputs": [
        {
          "output_type": "execute_result",
          "data": {
            "text/plain": [
              "dtype('float64')"
            ]
          },
          "metadata": {
            "tags": []
          },
          "execution_count": 8
        }
      ]
    },
    {
      "cell_type": "markdown",
      "metadata": {
        "id": "TJQnbrWbreL6",
        "colab_type": "text"
      },
      "source": [
        "Указать тип при инициализации"
      ]
    },
    {
      "cell_type": "code",
      "metadata": {
        "id": "oG_KNdjXreL7",
        "colab_type": "code",
        "outputId": "4325cecf-d3a0-4658-c256-b7f97e463ef8",
        "colab": {
          "base_uri": "https://localhost:8080/",
          "height": 35
        }
      },
      "source": [
        "c = np.array([1, 2, 5], dtype=np.float64)\n",
        "print(c)"
      ],
      "execution_count": 0,
      "outputs": [
        {
          "output_type": "stream",
          "text": [
            "[1. 2. 5.]\n"
          ],
          "name": "stdout"
        }
      ]
    },
    {
      "cell_type": "markdown",
      "metadata": {
        "id": "9U1iTCFWreL9",
        "colab_type": "text"
      },
      "source": [
        "Приведение типов"
      ]
    },
    {
      "cell_type": "code",
      "metadata": {
        "id": "i9LykLsareL-",
        "colab_type": "code",
        "outputId": "b16f6d41-57e5-49ef-ca84-91a00b599fb8",
        "colab": {
          "base_uri": "https://localhost:8080/",
          "height": 71
        }
      },
      "source": [
        "print(c.dtype)\n",
        "print(c.astype(int))\n",
        "print(c.astype(str))"
      ],
      "execution_count": 0,
      "outputs": [
        {
          "output_type": "stream",
          "text": [
            "float64\n",
            "[1 2 5]\n",
            "['1.0' '2.0' '5.0']\n"
          ],
          "name": "stdout"
        }
      ]
    },
    {
      "cell_type": "markdown",
      "metadata": {
        "id": "m0KBMdmSreMA",
        "colab_type": "text"
      },
      "source": [
        "Массивы, заполненные нулями или единицами"
      ]
    },
    {
      "cell_type": "code",
      "metadata": {
        "id": "TIyKPrUcreMB",
        "colab_type": "code",
        "outputId": "c48b0cbe-d429-4385-de39-c2cba100006b",
        "colab": {
          "base_uri": "https://localhost:8080/",
          "height": 35
        }
      },
      "source": [
        "np.zeros(3)\n"
      ],
      "execution_count": 0,
      "outputs": [
        {
          "output_type": "execute_result",
          "data": {
            "text/plain": [
              "array([0., 0., 0.])"
            ]
          },
          "metadata": {
            "tags": []
          },
          "execution_count": 11
        }
      ]
    },
    {
      "cell_type": "code",
      "metadata": {
        "id": "_Q2QuDT6reMD",
        "colab_type": "code",
        "outputId": "02a2b148-dc25-4a49-c351-44f45e2e9b1e",
        "colab": {
          "base_uri": "https://localhost:8080/",
          "height": 35
        }
      },
      "source": [
        "np.ones(3, dtype=np.int64)"
      ],
      "execution_count": 0,
      "outputs": [
        {
          "output_type": "execute_result",
          "data": {
            "text/plain": [
              "array([1, 1, 1])"
            ]
          },
          "metadata": {
            "tags": []
          },
          "execution_count": 12
        }
      ]
    },
    {
      "cell_type": "markdown",
      "metadata": {
        "id": "88K9pfiSreMN",
        "colab_type": "text"
      },
      "source": [
        "np.arange"
      ]
    },
    {
      "cell_type": "code",
      "metadata": {
        "id": "OiAWbhEhreMO",
        "colab_type": "code",
        "outputId": "c45a3035-a7da-4317-a9c5-f64e78e31219",
        "colab": {
          "base_uri": "https://localhost:8080/",
          "height": 35
        }
      },
      "source": [
        "a = np.arange(0, 10, 2)\n",
        "print(a)"
      ],
      "execution_count": 0,
      "outputs": [
        {
          "output_type": "stream",
          "text": [
            "[0 2 4 6 8]\n"
          ],
          "name": "stdout"
        }
      ]
    },
    {
      "cell_type": "code",
      "metadata": {
        "id": "xlR1yACQreMR",
        "colab_type": "code",
        "outputId": "72d58e27-89e5-48e8-9513-7ea1d350f975",
        "colab": {
          "base_uri": "https://localhost:8080/",
          "height": 35
        }
      },
      "source": [
        "b = np.arange(0., 10, 2)\n",
        "print(b)"
      ],
      "execution_count": 0,
      "outputs": [
        {
          "output_type": "stream",
          "text": [
            "[0. 2. 4. 6. 8.]\n"
          ],
          "name": "stdout"
        }
      ]
    },
    {
      "cell_type": "markdown",
      "metadata": {
        "id": "H81wKgjTreMX",
        "colab_type": "text"
      },
      "source": [
        "## Операции над одномерными массивами\n",
        "\n",
        "Арифметические операции проводятся поэлементно."
      ]
    },
    {
      "cell_type": "code",
      "metadata": {
        "id": "r4mtyxhZU1zg",
        "colab_type": "code",
        "colab": {}
      },
      "source": [
        "a = np.array([1,2,3,4])\n",
        "b = np.arange(1,8,2)"
      ],
      "execution_count": 0,
      "outputs": []
    },
    {
      "cell_type": "code",
      "metadata": {
        "id": "5eSka4YVreMY",
        "colab_type": "code",
        "outputId": "2c4ce7fd-32aa-4f43-e5be-bb056b9346b6",
        "colab": {
          "base_uri": "https://localhost:8080/",
          "height": 35
        }
      },
      "source": [
        "print(a + b)"
      ],
      "execution_count": 0,
      "outputs": [
        {
          "output_type": "stream",
          "text": [
            "[ 2  5  8 11]\n"
          ],
          "name": "stdout"
        }
      ]
    },
    {
      "cell_type": "code",
      "metadata": {
        "id": "plMjrdw-reMZ",
        "colab_type": "code",
        "outputId": "66f7d968-887f-4d67-bed1-fb80706ad5fa",
        "colab": {
          "base_uri": "https://localhost:8080/",
          "height": 35
        }
      },
      "source": [
        "print(a - b)"
      ],
      "execution_count": 0,
      "outputs": [
        {
          "output_type": "stream",
          "text": [
            "[ 0 -1 -2 -3]\n"
          ],
          "name": "stdout"
        }
      ]
    },
    {
      "cell_type": "code",
      "metadata": {
        "id": "oYjnxjaPreMb",
        "colab_type": "code",
        "outputId": "ed4ffeb3-2c17-4659-c3fa-e6a975a47191",
        "colab": {
          "base_uri": "https://localhost:8080/",
          "height": 35
        }
      },
      "source": [
        "print(a * b)"
      ],
      "execution_count": 0,
      "outputs": [
        {
          "output_type": "stream",
          "text": [
            "[ 1  6 15 28]\n"
          ],
          "name": "stdout"
        }
      ]
    },
    {
      "cell_type": "code",
      "metadata": {
        "id": "C2-9NtxareMd",
        "colab_type": "code",
        "outputId": "8742587b-e8a2-45d8-bc26-b8fea1d854e7",
        "colab": {
          "base_uri": "https://localhost:8080/",
          "height": 35
        }
      },
      "source": [
        "print(a / b)"
      ],
      "execution_count": 0,
      "outputs": [
        {
          "output_type": "stream",
          "text": [
            "[1.         0.66666667 0.6        0.57142857]\n"
          ],
          "name": "stdout"
        }
      ]
    },
    {
      "cell_type": "code",
      "metadata": {
        "id": "ecfFUhAyreMg",
        "colab_type": "code",
        "outputId": "777e6f20-1b14-4188-9088-fe255e45cac8",
        "colab": {
          "base_uri": "https://localhost:8080/",
          "height": 35
        }
      },
      "source": [
        "print(a ** 2)"
      ],
      "execution_count": 0,
      "outputs": [
        {
          "output_type": "stream",
          "text": [
            "[ 1  4  9 16]\n"
          ],
          "name": "stdout"
        }
      ]
    },
    {
      "cell_type": "markdown",
      "metadata": {
        "id": "m4qL-CvvreMi",
        "colab_type": "text"
      },
      "source": [
        "Когда операнды разных типов, они приводятся к большему типу."
      ]
    },
    {
      "cell_type": "code",
      "metadata": {
        "id": "xpfGNPSjreMj",
        "colab_type": "code",
        "outputId": "805d193b-4ab6-42ea-a836-ca1011057070",
        "colab": {
          "base_uri": "https://localhost:8080/",
          "height": 35
        }
      },
      "source": [
        "print(a + 4.3)"
      ],
      "execution_count": 0,
      "outputs": [
        {
          "output_type": "stream",
          "text": [
            "[5.3 6.3 7.3 8.3]\n"
          ],
          "name": "stdout"
        }
      ]
    },
    {
      "cell_type": "code",
      "metadata": {
        "id": "UBlnpOzLreMr",
        "colab_type": "code",
        "outputId": "f123c352-8dd2-4275-e677-6859b139cc71",
        "colab": {
          "base_uri": "https://localhost:8080/",
          "height": 35
        }
      },
      "source": [
        "print(a + 1)"
      ],
      "execution_count": 0,
      "outputs": [
        {
          "output_type": "stream",
          "text": [
            "[2 3 4 5]\n"
          ],
          "name": "stdout"
        }
      ]
    },
    {
      "cell_type": "code",
      "metadata": {
        "id": "VENbyPHgreMt",
        "colab_type": "code",
        "outputId": "be0b28a0-fac8-47e8-ab9a-fb3f1534bca1",
        "colab": {
          "base_uri": "https://localhost:8080/",
          "height": 35
        }
      },
      "source": [
        "print(2 * a)"
      ],
      "execution_count": 0,
      "outputs": [
        {
          "output_type": "stream",
          "text": [
            "[2 4 6 8]\n"
          ],
          "name": "stdout"
        }
      ]
    },
    {
      "cell_type": "markdown",
      "metadata": {
        "id": "6YUKi2WmreMv",
        "colab_type": "text"
      },
      "source": [
        "Сравнения"
      ]
    },
    {
      "cell_type": "code",
      "metadata": {
        "id": "2XNotwYBreMv",
        "colab_type": "code",
        "outputId": "27961b49-ecaa-4dc9-d98c-7b29e2c82984",
        "colab": {
          "base_uri": "https://localhost:8080/",
          "height": 35
        }
      },
      "source": [
        "print(a > b)"
      ],
      "execution_count": 0,
      "outputs": [
        {
          "output_type": "stream",
          "text": [
            "[False False False False]\n"
          ],
          "name": "stdout"
        }
      ]
    },
    {
      "cell_type": "code",
      "metadata": {
        "id": "HDD0YJ_0reMy",
        "colab_type": "code",
        "outputId": "3aa8598d-5696-4f90-fd88-696e013d2be2",
        "colab": {
          "base_uri": "https://localhost:8080/",
          "height": 35
        }
      },
      "source": [
        "print(a == b)"
      ],
      "execution_count": 0,
      "outputs": [
        {
          "output_type": "stream",
          "text": [
            "[ True False False False]\n"
          ],
          "name": "stdout"
        }
      ]
    },
    {
      "cell_type": "code",
      "metadata": {
        "id": "F4unB93ireMz",
        "colab_type": "code",
        "outputId": "cbe85299-88ca-4813-c268-1d03b0bc69a2",
        "colab": {
          "base_uri": "https://localhost:8080/",
          "height": 35
        }
      },
      "source": [
        "c = a > 2\n",
        "print(c)"
      ],
      "execution_count": 0,
      "outputs": [
        {
          "output_type": "stream",
          "text": [
            "[False False  True  True]\n"
          ],
          "name": "stdout"
        }
      ]
    },
    {
      "cell_type": "markdown",
      "metadata": {
        "id": "BCt6nCbdreM5",
        "colab_type": "text"
      },
      "source": [
        "Модификация на месте."
      ]
    },
    {
      "cell_type": "code",
      "metadata": {
        "id": "shGDmYRdreM6",
        "colab_type": "code",
        "outputId": "61d214b7-4768-4865-cadd-76168ca270c4",
        "colab": {
          "base_uri": "https://localhost:8080/",
          "height": 35
        }
      },
      "source": [
        "a += 1\n",
        "print(a)"
      ],
      "execution_count": 0,
      "outputs": [
        {
          "output_type": "stream",
          "text": [
            "[2 3 4 5]\n"
          ],
          "name": "stdout"
        }
      ]
    },
    {
      "cell_type": "code",
      "metadata": {
        "id": "DrZ--zd1reNC",
        "colab_type": "code",
        "outputId": "a634757d-ac84-49aa-9a4b-ae8f7edb4960",
        "colab": {
          "base_uri": "https://localhost:8080/",
          "height": 35
        }
      },
      "source": [
        "b *= 2\n",
        "print(b)"
      ],
      "execution_count": 0,
      "outputs": [
        {
          "output_type": "stream",
          "text": [
            "[ 2  6 10 14]\n"
          ],
          "name": "stdout"
        }
      ]
    },
    {
      "cell_type": "markdown",
      "metadata": {
        "id": "60Atqk8TreNG",
        "colab_type": "text"
      },
      "source": [
        "При выполнении операций над массивами деление на 0 не возбуждает исключения, а даёт значения `np.nan` или `np.inf`."
      ]
    },
    {
      "cell_type": "code",
      "metadata": {
        "id": "yPd5ZufkreNG",
        "colab_type": "code",
        "outputId": "1eca2329-4cac-49f9-e4dc-ca1994e3e11f",
        "colab": {
          "base_uri": "https://localhost:8080/",
          "height": 107
        }
      },
      "source": [
        "print(np.array([0.0, 0.0, 1.0, -1.0]) / np.array([1.0, 0.0, 0.0, 0.0]))"
      ],
      "execution_count": 0,
      "outputs": [
        {
          "output_type": "stream",
          "text": [
            "[  0.  nan  inf -inf]\n"
          ],
          "name": "stdout"
        },
        {
          "output_type": "stream",
          "text": [
            "/usr/local/lib/python3.6/dist-packages/ipykernel_launcher.py:1: RuntimeWarning: divide by zero encountered in true_divide\n",
            "  \"\"\"Entry point for launching an IPython kernel.\n",
            "/usr/local/lib/python3.6/dist-packages/ipykernel_launcher.py:1: RuntimeWarning: invalid value encountered in true_divide\n",
            "  \"\"\"Entry point for launching an IPython kernel.\n"
          ],
          "name": "stderr"
        }
      ]
    },
    {
      "cell_type": "code",
      "metadata": {
        "id": "trKZJ9ikreNI",
        "colab_type": "code",
        "outputId": "fbfc3032-5bd5-4e66-a406-4155cc286cbd",
        "colab": {
          "base_uri": "https://localhost:8080/",
          "height": 35
        }
      },
      "source": [
        "np.nan + 1, np.inf + 1, np.inf * 0, 1. / np.inf"
      ],
      "execution_count": 0,
      "outputs": [
        {
          "output_type": "execute_result",
          "data": {
            "text/plain": [
              "(nan, inf, nan, 0.0)"
            ]
          },
          "metadata": {
            "tags": []
          },
          "execution_count": 30
        }
      ]
    },
    {
      "cell_type": "markdown",
      "metadata": {
        "id": "x5NBBoyYreNL",
        "colab_type": "text"
      },
      "source": [
        "Сумма и произведение всех элементов массива; максимальный и минимальный элемент; среднее и среднеквадратичное отклонение."
      ]
    },
    {
      "cell_type": "code",
      "metadata": {
        "id": "nxwrTPEfVc9j",
        "colab_type": "code",
        "outputId": "4aa4ebac-4876-4a73-e66d-326962c34e9d",
        "colab": {
          "base_uri": "https://localhost:8080/",
          "height": 35
        }
      },
      "source": [
        "print(b)"
      ],
      "execution_count": 0,
      "outputs": [
        {
          "output_type": "stream",
          "text": [
            "[ 2  6 10 14]\n"
          ],
          "name": "stdout"
        }
      ]
    },
    {
      "cell_type": "code",
      "metadata": {
        "id": "WwVNR43kreNM",
        "colab_type": "code",
        "outputId": "2d76fe80-72ac-42f3-a8bd-d0a89699e938",
        "colab": {
          "base_uri": "https://localhost:8080/",
          "height": 35
        }
      },
      "source": [
        "b.sum(), b.prod(), b.max(), b.min(), b.mean(), b.std()"
      ],
      "execution_count": 0,
      "outputs": [
        {
          "output_type": "execute_result",
          "data": {
            "text/plain": [
              "(32, 1680, 14, 2, 8.0, 4.47213595499958)"
            ]
          },
          "metadata": {
            "tags": []
          },
          "execution_count": 32
        }
      ]
    },
    {
      "cell_type": "markdown",
      "metadata": {
        "id": "AsnB9nHHreNN",
        "colab_type": "text"
      },
      "source": [
        "Имеются встроенные функции"
      ]
    },
    {
      "cell_type": "code",
      "metadata": {
        "id": "mqXRmHcPreNO",
        "colab_type": "code",
        "outputId": "b6f43d36-1713-47e5-9388-d43ec9ee21db",
        "colab": {
          "base_uri": "https://localhost:8080/",
          "height": 107
        }
      },
      "source": [
        "print(np.sqrt(b))\n",
        "print(np.exp(b))\n",
        "print(np.log(b))\n",
        "print(np.sin(b))\n",
        "print(np.e, np.pi)"
      ],
      "execution_count": 0,
      "outputs": [
        {
          "output_type": "stream",
          "text": [
            "[1.41421356 2.44948974 3.16227766 3.74165739]\n",
            "[7.38905610e+00 4.03428793e+02 2.20264658e+04 1.20260428e+06]\n",
            "[0.69314718 1.79175947 2.30258509 2.63905733]\n",
            "[ 0.90929743 -0.2794155  -0.54402111  0.99060736]\n",
            "2.718281828459045 3.141592653589793\n"
          ],
          "name": "stdout"
        }
      ]
    },
    {
      "cell_type": "markdown",
      "metadata": {
        "id": "VwV5Ru9vreNU",
        "colab_type": "text"
      },
      "source": [
        "Сортировка массива:"
      ]
    },
    {
      "cell_type": "code",
      "metadata": {
        "id": "OPrquQJwLXAQ",
        "colab_type": "code",
        "colab": {}
      },
      "source": [
        "b = np.array([1, 4, 2, 3, 5])"
      ],
      "execution_count": 0,
      "outputs": []
    },
    {
      "cell_type": "code",
      "metadata": {
        "id": "yNmVb6wyreNU",
        "colab_type": "code",
        "outputId": "f9618d21-00b0-4dc9-8b39-8c4fb99c32cc",
        "colab": {
          "base_uri": "https://localhost:8080/",
          "height": 53
        }
      },
      "source": [
        "print(np.sort(b))\n",
        "print(b)"
      ],
      "execution_count": 0,
      "outputs": [
        {
          "output_type": "stream",
          "text": [
            "[1 2 3 4 5]\n",
            "[1 4 2 3 5]\n"
          ],
          "name": "stdout"
        }
      ]
    },
    {
      "cell_type": "code",
      "metadata": {
        "id": "-RLVp7NTreNX",
        "colab_type": "code",
        "outputId": "571855b2-b031-4cd4-ea0a-5786a5bd8e4d",
        "colab": {
          "base_uri": "https://localhost:8080/",
          "height": 35
        }
      },
      "source": [
        "b.sort()\n",
        "print(b)"
      ],
      "execution_count": 0,
      "outputs": [
        {
          "output_type": "stream",
          "text": [
            "[1 2 3 4 5]\n"
          ],
          "name": "stdout"
        }
      ]
    },
    {
      "cell_type": "markdown",
      "metadata": {
        "id": "CNTPpe7UreNY",
        "colab_type": "text"
      },
      "source": [
        "Конкатенация массивов"
      ]
    },
    {
      "cell_type": "code",
      "metadata": {
        "id": "BkA4odRAVnG6",
        "colab_type": "code",
        "outputId": "65061465-aafb-44eb-e65f-41cf0428956b",
        "colab": {
          "base_uri": "https://localhost:8080/",
          "height": 53
        }
      },
      "source": [
        "print(a)\n",
        "print(b)"
      ],
      "execution_count": 0,
      "outputs": [
        {
          "output_type": "stream",
          "text": [
            "[2 3 4 5]\n",
            "[1 2 3 4 5]\n"
          ],
          "name": "stdout"
        }
      ]
    },
    {
      "cell_type": "code",
      "metadata": {
        "id": "ADEqvxMrreNZ",
        "colab_type": "code",
        "outputId": "193b80bd-2365-4130-fb84-059eb0abddf5",
        "colab": {
          "base_uri": "https://localhost:8080/",
          "height": 35
        }
      },
      "source": [
        "a = np.hstack((a, b))\n",
        "print(a)"
      ],
      "execution_count": 0,
      "outputs": [
        {
          "output_type": "stream",
          "text": [
            "[2 3 4 5 1 2 3 4 5]\n"
          ],
          "name": "stdout"
        }
      ]
    },
    {
      "cell_type": "markdown",
      "metadata": {
        "id": "CHyfJqxTreNd",
        "colab_type": "text"
      },
      "source": [
        "Расщепление массива в позициях 2 и 4."
      ]
    },
    {
      "cell_type": "code",
      "metadata": {
        "id": "GympFs43reNd",
        "colab_type": "code",
        "outputId": "a373a610-774b-42ba-ca26-df7c302c084f",
        "colab": {
          "base_uri": "https://localhost:8080/",
          "height": 35
        }
      },
      "source": [
        "np.hsplit(a, [2, 4])"
      ],
      "execution_count": 0,
      "outputs": [
        {
          "output_type": "execute_result",
          "data": {
            "text/plain": [
              "[array([2, 3]), array([4, 5]), array([1, 2, 3, 4, 5])]"
            ]
          },
          "metadata": {
            "tags": []
          },
          "execution_count": 39
        }
      ]
    },
    {
      "cell_type": "markdown",
      "metadata": {
        "id": "pRG0IlrHreNe",
        "colab_type": "text"
      },
      "source": [
        "Функции `delete`, `insert` и `append` не меняют массив на месте, а возвращают новый массив, в котором удалены, вставлены в середину или добавлены в конец какие-то элементы."
      ]
    },
    {
      "cell_type": "code",
      "metadata": {
        "id": "5pxlXzR8reNf",
        "colab_type": "code",
        "outputId": "8511a157-e5ed-4fae-f88c-43441c04601f",
        "colab": {
          "base_uri": "https://localhost:8080/",
          "height": 35
        }
      },
      "source": [
        "a = np.delete(a, [5, 7])\n",
        "print(a)"
      ],
      "execution_count": 0,
      "outputs": [
        {
          "output_type": "stream",
          "text": [
            "[2 3 4 5 1 3 5]\n"
          ],
          "name": "stdout"
        }
      ]
    },
    {
      "cell_type": "code",
      "metadata": {
        "id": "bSZdHGEfreNg",
        "colab_type": "code",
        "outputId": "006a8042-3b8a-48ce-f3a2-1ddc58466896",
        "colab": {
          "base_uri": "https://localhost:8080/",
          "height": 35
        }
      },
      "source": [
        "a = np.insert(a, 2, [1000, 1000])\n",
        "print(a)"
      ],
      "execution_count": 0,
      "outputs": [
        {
          "output_type": "stream",
          "text": [
            "[   2    3 1000 1000    4    5    1    3    5]\n"
          ],
          "name": "stdout"
        }
      ]
    },
    {
      "cell_type": "code",
      "metadata": {
        "id": "AB_MrQjdreNi",
        "colab_type": "code",
        "outputId": "1e2bf443-a4e9-4598-d9a3-6cc8c9adb288",
        "colab": {
          "base_uri": "https://localhost:8080/",
          "height": 35
        }
      },
      "source": [
        "a = np.append(a, [-1, -2, -3])\n",
        "print(a)"
      ],
      "execution_count": 0,
      "outputs": [
        {
          "output_type": "stream",
          "text": [
            "[   2    3 1000 1000    4    5    1    3    5   -1   -2   -3]\n"
          ],
          "name": "stdout"
        }
      ]
    },
    {
      "cell_type": "markdown",
      "metadata": {
        "id": "j3J6x1j4reNr",
        "colab_type": "text"
      },
      "source": [
        "Диапазон индексов. Создаётся новый заголовок массива, указывающий на те же данные. Изменения, сделанные через такой массив, видны и в исходном массиве."
      ]
    },
    {
      "cell_type": "code",
      "metadata": {
        "id": "vSxsCY-nreNr",
        "colab_type": "code",
        "outputId": "d97e2403-bf28-4620-ea28-33b78f65c8ca",
        "colab": {
          "base_uri": "https://localhost:8080/",
          "height": 35
        }
      },
      "source": [
        "b = a[2:6]\n",
        "print(b)"
      ],
      "execution_count": 0,
      "outputs": [
        {
          "output_type": "stream",
          "text": [
            "[1000 1000    4    5]\n"
          ],
          "name": "stdout"
        }
      ]
    },
    {
      "cell_type": "code",
      "metadata": {
        "id": "xJy_6aCUreNt",
        "colab_type": "code",
        "outputId": "b0a22631-8e26-4979-c60e-e7a0748ce5a8",
        "colab": {
          "base_uri": "https://localhost:8080/",
          "height": 35
        }
      },
      "source": [
        "b[0] = -100\n",
        "print(b)"
      ],
      "execution_count": 0,
      "outputs": [
        {
          "output_type": "stream",
          "text": [
            "[-100 1000    4    5]\n"
          ],
          "name": "stdout"
        }
      ]
    },
    {
      "cell_type": "code",
      "metadata": {
        "id": "0leYSHY5reNv",
        "colab_type": "code",
        "outputId": "7e94930d-dc1f-45a0-94b5-8ee9753b9e10",
        "colab": {
          "base_uri": "https://localhost:8080/",
          "height": 35
        }
      },
      "source": [
        "print(a)"
      ],
      "execution_count": 0,
      "outputs": [
        {
          "output_type": "stream",
          "text": [
            "[   2    3 -100 1000    4    5    1    3    5   -1   -2   -3]\n"
          ],
          "name": "stdout"
        }
      ]
    },
    {
      "cell_type": "markdown",
      "metadata": {
        "id": "Ao8_0OSCreNx",
        "colab_type": "text"
      },
      "source": [
        "Диапазон с шагом 2."
      ]
    },
    {
      "cell_type": "code",
      "metadata": {
        "id": "syUL-HIbreNy",
        "colab_type": "code",
        "outputId": "873952ec-84a3-41a8-f94a-17b05c2da504",
        "colab": {
          "base_uri": "https://localhost:8080/",
          "height": 35
        }
      },
      "source": [
        "b = a[1:10:2]\n",
        "print(b)"
      ],
      "execution_count": 0,
      "outputs": [
        {
          "output_type": "stream",
          "text": [
            "[   3 1000    5    3   -1]\n"
          ],
          "name": "stdout"
        }
      ]
    },
    {
      "cell_type": "code",
      "metadata": {
        "id": "rPN_gRjYreN0",
        "colab_type": "code",
        "outputId": "627a655f-15f1-42ab-be23-2a6924f6d53f",
        "colab": {
          "base_uri": "https://localhost:8080/",
          "height": 35
        }
      },
      "source": [
        "b[0] = -0.1\n",
        "print(a)"
      ],
      "execution_count": 0,
      "outputs": [
        {
          "output_type": "stream",
          "text": [
            "[   2    0 -100 1000    4    5    1    3    5   -1   -2   -3]\n"
          ],
          "name": "stdout"
        }
      ]
    },
    {
      "cell_type": "markdown",
      "metadata": {
        "id": "PmXgdPHTreN3",
        "colab_type": "text"
      },
      "source": [
        "Массив в обратном порядке."
      ]
    },
    {
      "cell_type": "code",
      "metadata": {
        "id": "Ai7LGEJwreN4",
        "colab_type": "code",
        "outputId": "61169678-68a6-4650-828b-593603a6ba1e",
        "colab": {
          "base_uri": "https://localhost:8080/",
          "height": 35
        }
      },
      "source": [
        "b = a[::-1]\n",
        "print(b)"
      ],
      "execution_count": 0,
      "outputs": [
        {
          "output_type": "stream",
          "text": [
            "[  -3   -2   -1    5    3    1    5    4 1000 -100    0    2]\n"
          ],
          "name": "stdout"
        }
      ]
    },
    {
      "cell_type": "markdown",
      "metadata": {
        "id": "za0DhYYAreN5",
        "colab_type": "text"
      },
      "source": [
        "Подмассиву можно присвоить значение - массив правильного размера или скаляр."
      ]
    },
    {
      "cell_type": "code",
      "metadata": {
        "id": "MSJD4waareN6",
        "colab_type": "code",
        "outputId": "a7fbd1d8-7552-41c0-8567-bbb177617202",
        "colab": {
          "base_uri": "https://localhost:8080/",
          "height": 35
        }
      },
      "source": [
        "a[1:10:3] = 0\n",
        "print(a)"
      ],
      "execution_count": 0,
      "outputs": [
        {
          "output_type": "stream",
          "text": [
            "[   2    0 -100 1000    0    5    1    0    5   -1   -2   -3]\n"
          ],
          "name": "stdout"
        }
      ]
    },
    {
      "cell_type": "markdown",
      "metadata": {
        "id": "lcqtqO8LreN9",
        "colab_type": "text"
      },
      "source": [
        "Тут опять создаётся только новый заголовок, указывающий на те же данные."
      ]
    },
    {
      "cell_type": "code",
      "metadata": {
        "id": "0PV6WHQereN9",
        "colab_type": "code",
        "outputId": "06d30b1c-6bf8-4d26-cfc3-5b7f9264b94e",
        "colab": {
          "base_uri": "https://localhost:8080/",
          "height": 35
        }
      },
      "source": [
        "b = a[:]\n",
        "b[1] = 0.1\n",
        "print(a)"
      ],
      "execution_count": 0,
      "outputs": [
        {
          "output_type": "stream",
          "text": [
            "[   2    0 -100 1000    0    5    1    0    5   -1   -2   -3]\n"
          ],
          "name": "stdout"
        }
      ]
    },
    {
      "cell_type": "code",
      "metadata": {
        "id": "U6i6T0L4L7so",
        "colab_type": "code",
        "outputId": "72f464dd-7e9c-4902-c832-79b9591fb5e6",
        "colab": {
          "base_uri": "https://localhost:8080/",
          "height": 53
        }
      },
      "source": [
        "b"
      ],
      "execution_count": 0,
      "outputs": [
        {
          "output_type": "execute_result",
          "data": {
            "text/plain": [
              "array([   2,    0, -100, 1000,    0,    5,    1,    0,    5,   -1,   -2,\n",
              "         -3])"
            ]
          },
          "metadata": {
            "tags": []
          },
          "execution_count": 51
        }
      ]
    },
    {
      "cell_type": "markdown",
      "metadata": {
        "id": "WKpf3ifLreN-",
        "colab_type": "text"
      },
      "source": [
        "Чтобы скопировать и данные массива, нужно использовать метод `copy`."
      ]
    },
    {
      "cell_type": "code",
      "metadata": {
        "id": "lrmYoDpXreN_",
        "colab_type": "code",
        "outputId": "08983421-c3b9-45c8-df10-74805ae207e9",
        "colab": {
          "base_uri": "https://localhost:8080/",
          "height": 53
        }
      },
      "source": [
        "b = a.copy()\n",
        "b[2] = 0\n",
        "print(b)\n",
        "print(a)"
      ],
      "execution_count": 0,
      "outputs": [
        {
          "output_type": "stream",
          "text": [
            "[   2    0    0 1000    0    5    1    0    5   -1   -2   -3]\n",
            "[   2    0 -100 1000    0    5    1    0    5   -1   -2   -3]\n"
          ],
          "name": "stdout"
        }
      ]
    },
    {
      "cell_type": "markdown",
      "metadata": {
        "id": "hYOGNLptreOB",
        "colab_type": "text"
      },
      "source": [
        "Можно задать список индексов."
      ]
    },
    {
      "cell_type": "code",
      "metadata": {
        "id": "t3SjQM_kreOB",
        "colab_type": "code",
        "outputId": "425e3774-13c0-4db0-9fe8-1c43536e159e",
        "colab": {
          "base_uri": "https://localhost:8080/",
          "height": 35
        }
      },
      "source": [
        "print(a[[2, 3, 5]])"
      ],
      "execution_count": 0,
      "outputs": [
        {
          "output_type": "stream",
          "text": [
            "[-100 1000    5]\n"
          ],
          "name": "stdout"
        }
      ]
    },
    {
      "cell_type": "markdown",
      "metadata": {
        "id": "sgR_fu9jreOD",
        "colab_type": "text"
      },
      "source": [
        "Можно задать булев массив той же величины."
      ]
    },
    {
      "cell_type": "code",
      "metadata": {
        "id": "g6XwPCuZreOE",
        "colab_type": "code",
        "outputId": "8f0ce4b6-d186-49a8-ac2e-699a021493be",
        "colab": {
          "base_uri": "https://localhost:8080/",
          "height": 35
        }
      },
      "source": [
        "b = a > 0\n",
        "print(b)"
      ],
      "execution_count": 0,
      "outputs": [
        {
          "output_type": "stream",
          "text": [
            "[ True False False  True False  True  True False  True False False False]\n"
          ],
          "name": "stdout"
        }
      ]
    },
    {
      "cell_type": "code",
      "metadata": {
        "id": "YPA_3lWdreOF",
        "colab_type": "code",
        "outputId": "0d28ca10-7aa4-486d-e73c-9bc2645871bf",
        "colab": {
          "base_uri": "https://localhost:8080/",
          "height": 35
        }
      },
      "source": [
        "print(a[b])"
      ],
      "execution_count": 0,
      "outputs": [
        {
          "output_type": "stream",
          "text": [
            "[   2 1000    5    1    5]\n"
          ],
          "name": "stdout"
        }
      ]
    },
    {
      "cell_type": "markdown",
      "metadata": {
        "id": "BmeUgb_lreOH",
        "colab_type": "text"
      },
      "source": [
        "## 2-мерные массивы"
      ]
    },
    {
      "cell_type": "code",
      "metadata": {
        "id": "KVBOyC1EreOH",
        "colab_type": "code",
        "outputId": "b06f976d-ef41-4bb5-8ffe-530306591cd5",
        "colab": {
          "base_uri": "https://localhost:8080/",
          "height": 53
        }
      },
      "source": [
        "a = np.array([[0.0, 1.0], [-1.0, 0.0]])\n",
        "print(a)"
      ],
      "execution_count": 0,
      "outputs": [
        {
          "output_type": "stream",
          "text": [
            "[[ 0.  1.]\n",
            " [-1.  0.]]\n"
          ],
          "name": "stdout"
        }
      ]
    },
    {
      "cell_type": "code",
      "metadata": {
        "id": "Iw4_IB5NreOI",
        "colab_type": "code",
        "outputId": "29885a05-5d48-45de-c0f2-823a710ae6ee",
        "colab": {
          "base_uri": "https://localhost:8080/",
          "height": 35
        }
      },
      "source": [
        "a.ndim"
      ],
      "execution_count": 0,
      "outputs": [
        {
          "output_type": "execute_result",
          "data": {
            "text/plain": [
              "2"
            ]
          },
          "metadata": {
            "tags": []
          },
          "execution_count": 57
        }
      ]
    },
    {
      "cell_type": "code",
      "metadata": {
        "id": "JbuZj4k-reOJ",
        "colab_type": "code",
        "outputId": "7908ec88-2989-41a4-c1a3-ec846c04eb18",
        "colab": {
          "base_uri": "https://localhost:8080/",
          "height": 35
        }
      },
      "source": [
        "a.shape"
      ],
      "execution_count": 0,
      "outputs": [
        {
          "output_type": "execute_result",
          "data": {
            "text/plain": [
              "(2, 2)"
            ]
          },
          "metadata": {
            "tags": []
          },
          "execution_count": 58
        }
      ]
    },
    {
      "cell_type": "code",
      "metadata": {
        "id": "vOe5IJKdreOL",
        "colab_type": "code",
        "outputId": "482d0993-83d0-4b89-89af-06ee596529ad",
        "colab": {
          "base_uri": "https://localhost:8080/",
          "height": 35
        }
      },
      "source": [
        "len(a), a.size"
      ],
      "execution_count": 0,
      "outputs": [
        {
          "output_type": "execute_result",
          "data": {
            "text/plain": [
              "(2, 4)"
            ]
          },
          "metadata": {
            "tags": []
          },
          "execution_count": 59
        }
      ]
    },
    {
      "cell_type": "code",
      "metadata": {
        "id": "xqTNx8PAreON",
        "colab_type": "code",
        "outputId": "714dedaf-70ff-49dd-deb2-9c30e9bbcf1c",
        "colab": {
          "base_uri": "https://localhost:8080/",
          "height": 35
        }
      },
      "source": [
        "a[1, 0]"
      ],
      "execution_count": 0,
      "outputs": [
        {
          "output_type": "execute_result",
          "data": {
            "text/plain": [
              "-1.0"
            ]
          },
          "metadata": {
            "tags": []
          },
          "execution_count": 60
        }
      ]
    },
    {
      "cell_type": "markdown",
      "metadata": {
        "id": "wOq69KZEreOZ",
        "colab_type": "text"
      },
      "source": [
        "Арифметические операции поэлементные"
      ]
    },
    {
      "cell_type": "code",
      "metadata": {
        "id": "UwZoeHOCWyYL",
        "colab_type": "code",
        "outputId": "46787053-f6a4-4996-c453-4885a28d6ebe",
        "colab": {
          "base_uri": "https://localhost:8080/",
          "height": 53
        }
      },
      "source": [
        "print(a)"
      ],
      "execution_count": 0,
      "outputs": [
        {
          "output_type": "stream",
          "text": [
            "[[ 0.  1.]\n",
            " [-1.  0.]]\n"
          ],
          "name": "stdout"
        }
      ]
    },
    {
      "cell_type": "code",
      "metadata": {
        "id": "0joYOpd1OkL4",
        "colab_type": "code",
        "outputId": "a59a0896-abe1-4414-efb8-3bbddc66296f",
        "colab": {
          "base_uri": "https://localhost:8080/",
          "height": 53
        }
      },
      "source": [
        "b = np.ones((2,2)) * 2\n",
        "print(b)"
      ],
      "execution_count": 0,
      "outputs": [
        {
          "output_type": "stream",
          "text": [
            "[[2. 2.]\n",
            " [2. 2.]]\n"
          ],
          "name": "stdout"
        }
      ]
    },
    {
      "cell_type": "code",
      "metadata": {
        "id": "_gjZ6WbRreOa",
        "colab_type": "code",
        "outputId": "a856a0ce-ab17-4ed5-87df-2ddaf52896d5",
        "colab": {
          "base_uri": "https://localhost:8080/",
          "height": 197
        }
      },
      "source": [
        "print(a + 1)\n",
        "print(a * 2)\n",
        "print(a + [0, 1])  # второе слагаемое дополняется до матрицы копированием строк\n",
        "print(a + np.array([[0, 2]]).T)  # .T - транспонирование\n",
        "print(a + b)"
      ],
      "execution_count": 0,
      "outputs": [
        {
          "output_type": "stream",
          "text": [
            "[[1. 2.]\n",
            " [0. 1.]]\n",
            "[[ 0.  2.]\n",
            " [-2.  0.]]\n",
            "[[ 0.  2.]\n",
            " [-1.  1.]]\n",
            "[[0. 1.]\n",
            " [1. 2.]]\n",
            "[[2. 3.]\n",
            " [1. 2.]]\n"
          ],
          "name": "stdout"
        }
      ]
    },
    {
      "cell_type": "markdown",
      "metadata": {
        "id": "z8PKInforeOd",
        "colab_type": "text"
      },
      "source": [
        "Поэлементное и матричное умножение."
      ]
    },
    {
      "cell_type": "code",
      "metadata": {
        "id": "Db5JOwsmreOe",
        "colab_type": "code",
        "outputId": "e7c4372f-20bc-4810-b1cf-5d669e7aa2a7",
        "colab": {
          "base_uri": "https://localhost:8080/",
          "height": 53
        }
      },
      "source": [
        "print(a * b)"
      ],
      "execution_count": 0,
      "outputs": [
        {
          "output_type": "stream",
          "text": [
            "[[ 0.  2.]\n",
            " [-2.  0.]]\n"
          ],
          "name": "stdout"
        }
      ]
    },
    {
      "cell_type": "code",
      "metadata": {
        "id": "o9YuPExc_-Dm",
        "colab_type": "code",
        "outputId": "96228a4c-5196-4201-fbf7-7c1036c0b4b5",
        "colab": {
          "base_uri": "https://localhost:8080/",
          "height": 53
        }
      },
      "source": [
        "print(b*a)"
      ],
      "execution_count": 0,
      "outputs": [
        {
          "output_type": "stream",
          "text": [
            "[[ 0.  2.]\n",
            " [-2.  0.]]\n"
          ],
          "name": "stdout"
        }
      ]
    },
    {
      "cell_type": "code",
      "metadata": {
        "id": "T5_u1fVZreOg",
        "colab_type": "code",
        "outputId": "89ae55b5-1d32-4bfd-9897-37436678ae41",
        "colab": {
          "base_uri": "https://localhost:8080/",
          "height": 53
        }
      },
      "source": [
        "print(a @ b)"
      ],
      "execution_count": 0,
      "outputs": [
        {
          "output_type": "stream",
          "text": [
            "[[ 2.  2.]\n",
            " [-2. -2.]]\n"
          ],
          "name": "stdout"
        }
      ]
    },
    {
      "cell_type": "code",
      "metadata": {
        "id": "PA2NTDAZreOl",
        "colab_type": "code",
        "outputId": "bd2d751e-241b-4ca8-9df3-9c8e86df6a81",
        "colab": {
          "base_uri": "https://localhost:8080/",
          "height": 53
        }
      },
      "source": [
        "print(b @ a)"
      ],
      "execution_count": 0,
      "outputs": [
        {
          "output_type": "stream",
          "text": [
            "[[-2.  2.]\n",
            " [-2.  2.]]\n"
          ],
          "name": "stdout"
        }
      ]
    },
    {
      "cell_type": "markdown",
      "metadata": {
        "id": "ySGHip68reOq",
        "colab_type": "text"
      },
      "source": [
        "Умножение матрицы на вектор."
      ]
    },
    {
      "cell_type": "code",
      "metadata": {
        "id": "U36MywToXBKW",
        "colab_type": "code",
        "outputId": "3be0825d-3dfc-4671-b9c3-7309137419b3",
        "colab": {
          "base_uri": "https://localhost:8080/",
          "height": 53
        }
      },
      "source": [
        "print(b)"
      ],
      "execution_count": 0,
      "outputs": [
        {
          "output_type": "stream",
          "text": [
            "[[2. 2.]\n",
            " [2. 2.]]\n"
          ],
          "name": "stdout"
        }
      ]
    },
    {
      "cell_type": "code",
      "metadata": {
        "id": "x6ZwTcg8reOr",
        "colab_type": "code",
        "outputId": "266f8ed1-f28d-46bc-9bce-3e7eaffa8af2",
        "colab": {
          "base_uri": "https://localhost:8080/",
          "height": 35
        }
      },
      "source": [
        "v = np.array([1, 5], dtype=np.float64)\n",
        "print(b @ v)"
      ],
      "execution_count": 0,
      "outputs": [
        {
          "output_type": "stream",
          "text": [
            "[12. 12.]\n"
          ],
          "name": "stdout"
        }
      ]
    },
    {
      "cell_type": "markdown",
      "metadata": {
        "id": "bK9Ye6jMreO5",
        "colab_type": "text"
      },
      "source": [
        "Единичная матрица."
      ]
    },
    {
      "cell_type": "code",
      "metadata": {
        "id": "vxzu6SYPreO6",
        "colab_type": "code",
        "outputId": "b6318f8e-1376-4d49-e24d-764bab0caacf",
        "colab": {
          "base_uri": "https://localhost:8080/",
          "height": 89
        }
      },
      "source": [
        "I = np.eye(4)\n",
        "print(I)"
      ],
      "execution_count": 0,
      "outputs": [
        {
          "output_type": "stream",
          "text": [
            "[[1. 0. 0. 0.]\n",
            " [0. 1. 0. 0.]\n",
            " [0. 0. 1. 0.]\n",
            " [0. 0. 0. 1.]]\n"
          ],
          "name": "stdout"
        }
      ]
    },
    {
      "cell_type": "markdown",
      "metadata": {
        "id": "kt2cTyKgreO6",
        "colab_type": "text"
      },
      "source": [
        "reshape"
      ]
    },
    {
      "cell_type": "code",
      "metadata": {
        "id": "u3EargPBreO7",
        "colab_type": "code",
        "outputId": "5de5321a-b629-407d-a25f-4c9a6e13c4c8",
        "colab": {
          "base_uri": "https://localhost:8080/",
          "height": 35
        }
      },
      "source": [
        "print(I.reshape(16))"
      ],
      "execution_count": 0,
      "outputs": [
        {
          "output_type": "stream",
          "text": [
            "[1. 0. 0. 0. 0. 1. 0. 0. 0. 0. 1. 0. 0. 0. 0. 1.]\n"
          ],
          "name": "stdout"
        }
      ]
    },
    {
      "cell_type": "code",
      "metadata": {
        "id": "t1qu5eu5reO8",
        "colab_type": "code",
        "outputId": "875ec279-503d-444b-d21c-23f7e4e98bf0",
        "colab": {
          "base_uri": "https://localhost:8080/",
          "height": 53
        }
      },
      "source": [
        "print(I.reshape(2, 8))"
      ],
      "execution_count": 0,
      "outputs": [
        {
          "output_type": "stream",
          "text": [
            "[[1. 0. 0. 0. 0. 1. 0. 0.]\n",
            " [0. 0. 1. 0. 0. 0. 0. 1.]]\n"
          ],
          "name": "stdout"
        }
      ]
    },
    {
      "cell_type": "markdown",
      "metadata": {
        "id": "UTv8WnMDreO9",
        "colab_type": "text"
      },
      "source": [
        "Строка."
      ]
    },
    {
      "cell_type": "code",
      "metadata": {
        "id": "Vny4HkstreO9",
        "colab_type": "code",
        "outputId": "71cde4e0-d772-4f58-a217-9a256210c9e2",
        "colab": {
          "base_uri": "https://localhost:8080/",
          "height": 35
        }
      },
      "source": [
        "print(I[1])"
      ],
      "execution_count": 0,
      "outputs": [
        {
          "output_type": "stream",
          "text": [
            "[0. 1. 0. 0.]\n"
          ],
          "name": "stdout"
        }
      ]
    },
    {
      "cell_type": "markdown",
      "metadata": {
        "id": "0VOi8zlMreO-",
        "colab_type": "text"
      },
      "source": [
        "Цикл по строкам."
      ]
    },
    {
      "cell_type": "code",
      "metadata": {
        "id": "g9YWc38DreO_",
        "colab_type": "code",
        "outputId": "00f11327-d2e3-44cd-b0fe-a119576b62fa",
        "colab": {
          "base_uri": "https://localhost:8080/",
          "height": 89
        }
      },
      "source": [
        "for row in I:\n",
        "    print(row)"
      ],
      "execution_count": 0,
      "outputs": [
        {
          "output_type": "stream",
          "text": [
            "[1. 0. 0. 0.]\n",
            "[0. 1. 0. 0.]\n",
            "[0. 0. 1. 0.]\n",
            "[0. 0. 0. 1.]\n"
          ],
          "name": "stdout"
        }
      ]
    },
    {
      "cell_type": "markdown",
      "metadata": {
        "id": "X_hD8MhvrePA",
        "colab_type": "text"
      },
      "source": [
        "Столбец."
      ]
    },
    {
      "cell_type": "code",
      "metadata": {
        "id": "_0CD1M4frePA",
        "colab_type": "code",
        "outputId": "97726efb-542b-4501-cbbe-e3be2cc0b93f",
        "colab": {
          "base_uri": "https://localhost:8080/",
          "height": 35
        }
      },
      "source": [
        "print(I[:, 2])"
      ],
      "execution_count": 0,
      "outputs": [
        {
          "output_type": "stream",
          "text": [
            "[0. 0. 1. 0.]\n"
          ],
          "name": "stdout"
        }
      ]
    },
    {
      "cell_type": "markdown",
      "metadata": {
        "id": "ekLpiCdlrePC",
        "colab_type": "text"
      },
      "source": [
        "Подматрица."
      ]
    },
    {
      "cell_type": "code",
      "metadata": {
        "id": "2AeNG7KFrePD",
        "colab_type": "code",
        "outputId": "1f37657b-9ef4-4f8b-f726-8d635e553ab0",
        "colab": {
          "base_uri": "https://localhost:8080/",
          "height": 53
        }
      },
      "source": [
        "print(I[0:2, 1:3])"
      ],
      "execution_count": 0,
      "outputs": [
        {
          "output_type": "stream",
          "text": [
            "[[0. 0.]\n",
            " [1. 0.]]\n"
          ],
          "name": "stdout"
        }
      ]
    },
    {
      "cell_type": "markdown",
      "metadata": {
        "id": "1wEzk0m6rePG",
        "colab_type": "text"
      },
      "source": [
        "Транспонированная матрица."
      ]
    },
    {
      "cell_type": "code",
      "metadata": {
        "id": "_sR4rJf5rePH",
        "colab_type": "code",
        "outputId": "d08e9239-057c-42e7-f2ae-f3d0bab1e365",
        "colab": {
          "base_uri": "https://localhost:8080/",
          "height": 53
        }
      },
      "source": [
        "print(b.T)"
      ],
      "execution_count": 0,
      "outputs": [
        {
          "output_type": "stream",
          "text": [
            "[[2. 2.]\n",
            " [2. 2.]]\n"
          ],
          "name": "stdout"
        }
      ]
    },
    {
      "cell_type": "markdown",
      "metadata": {
        "id": "ZVwmqFFFrePI",
        "colab_type": "text"
      },
      "source": [
        "Соединение матриц по горизонтали и по вертикали."
      ]
    },
    {
      "cell_type": "code",
      "metadata": {
        "id": "R2LFs8xkrePI",
        "colab_type": "code",
        "outputId": "86dffc27-f493-4255-d980-cd35941859dc",
        "colab": {
          "base_uri": "https://localhost:8080/",
          "height": 143
        }
      },
      "source": [
        "a = np.array([[0, 1], [2, 3]])\n",
        "b = np.array([[4, 5, 6], [7, 8, 9]])\n",
        "c = np.array([[4, 5], [6, 7], [8, 9]])\n",
        "print(a)\n",
        "print(b)\n",
        "print(c)"
      ],
      "execution_count": 0,
      "outputs": [
        {
          "output_type": "stream",
          "text": [
            "[[0 1]\n",
            " [2 3]]\n",
            "[[4 5 6]\n",
            " [7 8 9]]\n",
            "[[4 5]\n",
            " [6 7]\n",
            " [8 9]]\n"
          ],
          "name": "stdout"
        }
      ]
    },
    {
      "cell_type": "code",
      "metadata": {
        "id": "O8zZ-vQYrePJ",
        "colab_type": "code",
        "outputId": "9998a005-cd73-4115-99f5-473aa9422204",
        "colab": {
          "base_uri": "https://localhost:8080/",
          "height": 53
        }
      },
      "source": [
        "print(np.hstack((a, b)))"
      ],
      "execution_count": 0,
      "outputs": [
        {
          "output_type": "stream",
          "text": [
            "[[0 1 4 5 6]\n",
            " [2 3 7 8 9]]\n"
          ],
          "name": "stdout"
        }
      ]
    },
    {
      "cell_type": "code",
      "metadata": {
        "id": "J3tjggB_rePL",
        "colab_type": "code",
        "outputId": "b2c97b7b-11a8-47b2-ca62-7db6412f1bcc",
        "colab": {
          "base_uri": "https://localhost:8080/",
          "height": 107
        }
      },
      "source": [
        "print(np.vstack((a, c)))"
      ],
      "execution_count": 0,
      "outputs": [
        {
          "output_type": "stream",
          "text": [
            "[[0 1]\n",
            " [2 3]\n",
            " [4 5]\n",
            " [6 7]\n",
            " [8 9]]\n"
          ],
          "name": "stdout"
        }
      ]
    },
    {
      "cell_type": "markdown",
      "metadata": {
        "id": "3ubhWV4nrePM",
        "colab_type": "text"
      },
      "source": [
        "Сумма всех элементов; суммы столбцов; суммы строк."
      ]
    },
    {
      "cell_type": "code",
      "metadata": {
        "id": "hBv83rqqYJjn",
        "colab_type": "code",
        "outputId": "79adf3f9-04ac-4531-d101-fc10eaef86ca",
        "colab": {
          "base_uri": "https://localhost:8080/",
          "height": 53
        }
      },
      "source": [
        "print(b)"
      ],
      "execution_count": 0,
      "outputs": [
        {
          "output_type": "stream",
          "text": [
            "[[4 5 6]\n",
            " [7 8 9]]\n"
          ],
          "name": "stdout"
        }
      ]
    },
    {
      "cell_type": "code",
      "metadata": {
        "id": "vhzyaByvrePN",
        "colab_type": "code",
        "outputId": "92566857-bbd9-4706-ddf6-45707e8fc4c0",
        "colab": {
          "base_uri": "https://localhost:8080/",
          "height": 71
        }
      },
      "source": [
        "print(b.sum())\n",
        "print(b.sum(axis=0))\n",
        "print(b.sum(axis=1))"
      ],
      "execution_count": 0,
      "outputs": [
        {
          "output_type": "stream",
          "text": [
            "39\n",
            "[11 13 15]\n",
            "[15 24]\n"
          ],
          "name": "stdout"
        }
      ]
    },
    {
      "cell_type": "markdown",
      "metadata": {
        "id": "bCQ5RFxYrePO",
        "colab_type": "text"
      },
      "source": [
        "Аналогично работают `prod`, `max`, `min` и т.д."
      ]
    },
    {
      "cell_type": "code",
      "metadata": {
        "id": "9uTq1HVArePO",
        "colab_type": "code",
        "outputId": "1a4a67cf-fd22-43e3-b2c5-085e60da87bc",
        "colab": {
          "base_uri": "https://localhost:8080/",
          "height": 71
        }
      },
      "source": [
        "print(b.max())\n",
        "print(b.max(axis=0))\n",
        "print(b.max(axis=1))"
      ],
      "execution_count": 0,
      "outputs": [
        {
          "output_type": "stream",
          "text": [
            "9\n",
            "[7 8 9]\n",
            "[6 9]\n"
          ],
          "name": "stdout"
        }
      ]
    },
    {
      "cell_type": "markdown",
      "metadata": {
        "id": "UNC6BOHvrePO",
        "colab_type": "text"
      },
      "source": [
        "След - сумма диагональных элементов."
      ]
    },
    {
      "cell_type": "code",
      "metadata": {
        "id": "DJYhjT6MrePP",
        "colab_type": "code",
        "outputId": "7c88081e-92a2-4b97-9044-f865b55d9a72",
        "colab": {
          "base_uri": "https://localhost:8080/",
          "height": 35
        }
      },
      "source": [
        "np.trace(a)"
      ],
      "execution_count": 0,
      "outputs": [
        {
          "output_type": "execute_result",
          "data": {
            "text/plain": [
              "3"
            ]
          },
          "metadata": {
            "tags": []
          },
          "execution_count": 84
        }
      ]
    },
    {
      "cell_type": "markdown",
      "metadata": {
        "id": "cmDjp1-FrePS",
        "colab_type": "text"
      },
      "source": [
        "## Линейная алгебра"
      ]
    },
    {
      "cell_type": "code",
      "metadata": {
        "id": "7vqKPaS-Ypv_",
        "colab_type": "code",
        "outputId": "b3225626-211a-46bd-c58e-9e9bdce94504",
        "colab": {
          "base_uri": "https://localhost:8080/",
          "height": 53
        }
      },
      "source": [
        "print(a)"
      ],
      "execution_count": 0,
      "outputs": [
        {
          "output_type": "stream",
          "text": [
            "[[0 1]\n",
            " [2 3]]\n"
          ],
          "name": "stdout"
        }
      ]
    },
    {
      "cell_type": "code",
      "metadata": {
        "id": "OQthDPbmrePS",
        "colab_type": "code",
        "outputId": "1683e3aa-3af2-4cf6-fc01-9afb79ffd23f",
        "colab": {
          "base_uri": "https://localhost:8080/",
          "height": 35
        }
      },
      "source": [
        "np.linalg.det(a)"
      ],
      "execution_count": 0,
      "outputs": [
        {
          "output_type": "execute_result",
          "data": {
            "text/plain": [
              "-2.0"
            ]
          },
          "metadata": {
            "tags": []
          },
          "execution_count": 86
        }
      ]
    },
    {
      "cell_type": "markdown",
      "metadata": {
        "id": "NM91Qb76rePT",
        "colab_type": "text"
      },
      "source": [
        "Обратная матрица."
      ]
    },
    {
      "cell_type": "code",
      "metadata": {
        "id": "y__P6QbirePU",
        "colab_type": "code",
        "outputId": "b486e891-b3db-4da9-9638-24e586e470f9",
        "colab": {
          "base_uri": "https://localhost:8080/",
          "height": 53
        }
      },
      "source": [
        "a1 = np.linalg.inv(a)\n",
        "print(a1)"
      ],
      "execution_count": 0,
      "outputs": [
        {
          "output_type": "stream",
          "text": [
            "[[-1.5  0.5]\n",
            " [ 1.   0. ]]\n"
          ],
          "name": "stdout"
        }
      ]
    },
    {
      "cell_type": "code",
      "metadata": {
        "id": "Z0gy4lwirePV",
        "colab_type": "code",
        "outputId": "8a738052-922a-4d95-86e4-065461d8824f",
        "colab": {
          "base_uri": "https://localhost:8080/",
          "height": 89
        }
      },
      "source": [
        "print(a @ a1)\n",
        "print(a1 @ a)"
      ],
      "execution_count": 0,
      "outputs": [
        {
          "output_type": "stream",
          "text": [
            "[[1. 0.]\n",
            " [0. 1.]]\n",
            "[[1. 0.]\n",
            " [0. 1.]]\n"
          ],
          "name": "stdout"
        }
      ]
    },
    {
      "cell_type": "markdown",
      "metadata": {
        "id": "mKapsuo6rePX",
        "colab_type": "text"
      },
      "source": [
        "Решение линейной системы $au=v$."
      ]
    },
    {
      "cell_type": "code",
      "metadata": {
        "id": "O9fmz_M-rePX",
        "colab_type": "code",
        "colab": {}
      },
      "source": [
        "v = np.array([0, 1], dtype=np.float64)\n"
      ],
      "execution_count": 0,
      "outputs": []
    },
    {
      "cell_type": "code",
      "metadata": {
        "id": "Csyl1ruOrePY",
        "colab_type": "code",
        "outputId": "908fde2c-e972-4bd8-f74c-97334107a6e5",
        "colab": {
          "base_uri": "https://localhost:8080/",
          "height": 35
        }
      },
      "source": [
        "u = np.linalg.solve(a, v)\n",
        "print(u)"
      ],
      "execution_count": 0,
      "outputs": [
        {
          "output_type": "stream",
          "text": [
            "[0.5 0. ]\n"
          ],
          "name": "stdout"
        }
      ]
    },
    {
      "cell_type": "markdown",
      "metadata": {
        "id": "UobWxiKgrePY",
        "colab_type": "text"
      },
      "source": [
        "Проверим."
      ]
    },
    {
      "cell_type": "code",
      "metadata": {
        "id": "OmETRro4rePZ",
        "colab_type": "code",
        "outputId": "4495d474-cf91-4203-a885-c63ad882eadc",
        "colab": {
          "base_uri": "https://localhost:8080/",
          "height": 35
        }
      },
      "source": [
        "print(a @ u - v)"
      ],
      "execution_count": 0,
      "outputs": [
        {
          "output_type": "stream",
          "text": [
            "[0. 0.]\n"
          ],
          "name": "stdout"
        }
      ]
    },
    {
      "cell_type": "code",
      "metadata": {
        "id": "6zOL7q-bY4T8",
        "colab_type": "code",
        "outputId": "cfed0783-ea46-45e1-aa9f-5af75a7fcfe8",
        "colab": {
          "base_uri": "https://localhost:8080/",
          "height": 35
        }
      },
      "source": [
        "print(a1 @ v)"
      ],
      "execution_count": 0,
      "outputs": [
        {
          "output_type": "stream",
          "text": [
            "[0.5 0. ]\n"
          ],
          "name": "stdout"
        }
      ]
    },
    {
      "cell_type": "markdown",
      "metadata": {
        "id": "YgTlRVRErePZ",
        "colab_type": "text"
      },
      "source": [
        "Собственные значения и собственные векторы: $a u_i = \\lambda_i u_i$. `l` - одномерный массив собственных значений $\\lambda_i$, столбцы матрицы $u$ - собственные векторы $u_i$."
      ]
    },
    {
      "cell_type": "code",
      "metadata": {
        "id": "bIuL_eXGrePZ",
        "colab_type": "code",
        "outputId": "f7a01f28-878a-4420-8847-1b918f0c2021",
        "colab": {
          "base_uri": "https://localhost:8080/",
          "height": 71
        }
      },
      "source": [
        "l, u = np.linalg.eig(a)\n",
        "print(l)\n",
        "print(u)"
      ],
      "execution_count": 0,
      "outputs": [
        {
          "output_type": "stream",
          "text": [
            "[-0.56155281  3.56155281]\n",
            "[[-0.87192821 -0.27032301]\n",
            " [ 0.48963374 -0.96276969]]\n"
          ],
          "name": "stdout"
        }
      ]
    },
    {
      "cell_type": "markdown",
      "metadata": {
        "id": "tM8JdlX_rePb",
        "colab_type": "text"
      },
      "source": [
        "Проверим."
      ]
    },
    {
      "cell_type": "code",
      "metadata": {
        "id": "Bbs7QdqrrePb",
        "colab_type": "code",
        "outputId": "21e79ab6-c135-49e4-87c2-c37eaf79b394",
        "colab": {
          "base_uri": "https://localhost:8080/",
          "height": 53
        }
      },
      "source": [
        "for i in range(2):\n",
        "    print(a @ u[:, i] - l[i] * u[:, i])"
      ],
      "execution_count": 0,
      "outputs": [
        {
          "output_type": "stream",
          "text": [
            "[0.00000000e+00 1.66533454e-16]\n",
            "[ 0.0000000e+00 -4.4408921e-16]\n"
          ],
          "name": "stdout"
        }
      ]
    },
    {
      "cell_type": "markdown",
      "metadata": {
        "id": "zR-R0A3grePc",
        "colab_type": "text"
      },
      "source": [
        "Функция `diag` от одномерного массива строит диагональную матрицу; от квадратной матрицы - возвращает одномерный массив её диагональных элементов."
      ]
    },
    {
      "cell_type": "code",
      "metadata": {
        "id": "aKtsFi58rePc",
        "colab_type": "code",
        "outputId": "1ebe1216-0425-4b81-ab0d-f0e3c2f3ef10",
        "colab": {
          "base_uri": "https://localhost:8080/",
          "height": 71
        }
      },
      "source": [
        "L = np.diag(l)\n",
        "print(L)\n",
        "print(np.diag(L))"
      ],
      "execution_count": 0,
      "outputs": [
        {
          "output_type": "stream",
          "text": [
            "[[-0.56155281  0.        ]\n",
            " [ 0.          3.56155281]]\n",
            "[-0.56155281  3.56155281]\n"
          ],
          "name": "stdout"
        }
      ]
    },
    {
      "cell_type": "markdown",
      "metadata": {
        "id": "WpzJn_gGrePd",
        "colab_type": "text"
      },
      "source": [
        "Все уравнения $a u_i = \\lambda_i u_i$ можно собрать в одно матричное уравнение $a u = u \\Lambda$, где $\\Lambda$ - диагональная матрица с собственными значениями $\\lambda_i$ по диагонали."
      ]
    },
    {
      "cell_type": "code",
      "metadata": {
        "id": "r4scSOj2rePd",
        "colab_type": "code",
        "outputId": "98baf442-71d3-4e90-9bd5-6eb5f5940b57",
        "colab": {
          "base_uri": "https://localhost:8080/",
          "height": 53
        }
      },
      "source": [
        "print(a @ u - u @ L)"
      ],
      "execution_count": 0,
      "outputs": [
        {
          "output_type": "stream",
          "text": [
            "[[ 0.00000000e+00  0.00000000e+00]\n",
            " [ 1.66533454e-16 -4.44089210e-16]]\n"
          ],
          "name": "stdout"
        }
      ]
    },
    {
      "cell_type": "markdown",
      "metadata": {
        "id": "2p3gFzQnrePe",
        "colab_type": "text"
      },
      "source": [
        "Поэтому $u^{-1} a u = \\Lambda$."
      ]
    },
    {
      "cell_type": "code",
      "metadata": {
        "id": "jjPZzilPrePe",
        "colab_type": "code",
        "outputId": "2c8278ec-0b9a-480b-b7f5-3b8d0a11b12c",
        "colab": {
          "base_uri": "https://localhost:8080/",
          "height": 53
        }
      },
      "source": [
        "print(np.linalg.inv(u) @ a @ u)"
      ],
      "execution_count": 0,
      "outputs": [
        {
          "output_type": "stream",
          "text": [
            "[[-5.61552813e-01  2.77555756e-17]\n",
            " [-2.22044605e-16  3.56155281e+00]]\n"
          ],
          "name": "stdout"
        }
      ]
    },
    {
      "cell_type": "markdown",
      "metadata": {
        "id": "LJnwHZSZrePp",
        "colab_type": "text"
      },
      "source": [
        "## Сохранение в файл и чтение из файла"
      ]
    },
    {
      "cell_type": "code",
      "metadata": {
        "id": "NNpVzVierePp",
        "colab_type": "code",
        "colab": {}
      },
      "source": [
        "x = np.arange(0, 25, 0.5).reshape((5, 10))"
      ],
      "execution_count": 0,
      "outputs": []
    },
    {
      "cell_type": "code",
      "metadata": {
        "id": "z8ZiZuAAacA7",
        "colab_type": "code",
        "colab": {}
      },
      "source": [
        "np.save('x.npy', x)"
      ],
      "execution_count": 0,
      "outputs": []
    },
    {
      "cell_type": "code",
      "metadata": {
        "id": "FMQElDB3ahFR",
        "colab_type": "code",
        "outputId": "6a16cde1-8398-4b40-cfe6-e1e8318e8be8",
        "colab": {
          "base_uri": "https://localhost:8080/",
          "height": 107
        }
      },
      "source": [
        "x = np.load('x.npy')\n",
        "print(x)"
      ],
      "execution_count": 0,
      "outputs": [
        {
          "output_type": "stream",
          "text": [
            "[[ 0.   0.5  1.   1.5  2.   2.5  3.   3.5  4.   4.5]\n",
            " [ 5.   5.5  6.   6.5  7.   7.5  8.   8.5  9.   9.5]\n",
            " [10.  10.5 11.  11.5 12.  12.5 13.  13.5 14.  14.5]\n",
            " [15.  15.5 16.  16.5 17.  17.5 18.  18.5 19.  19.5]\n",
            " [20.  20.5 21.  21.5 22.  22.5 23.  23.5 24.  24.5]]\n"
          ],
          "name": "stdout"
        }
      ]
    }
  ]
}