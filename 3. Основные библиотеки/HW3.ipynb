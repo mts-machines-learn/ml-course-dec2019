{
  "nbformat": 4,
  "nbformat_minor": 0,
  "metadata": {
    "kernelspec": {
      "display_name": "Python 3",
      "language": "python",
      "name": "python3"
    },
    "language_info": {
      "codemirror_mode": {
        "name": "ipython",
        "version": 3
      },
      "file_extension": ".py",
      "mimetype": "text/x-python",
      "name": "python",
      "nbconvert_exporter": "python",
      "pygments_lexer": "ipython3",
      "version": "3.6.5"
    },
    "colab": {
      "name": "HW3.ipynb",
      "provenance": [],
      "include_colab_link": true
    }
  },
  "cells": [
    {
      "cell_type": "markdown",
      "metadata": {
        "id": "view-in-github",
        "colab_type": "text"
      },
      "source": [
        "<a href=\"https://colab.research.google.com/github/mts-machines-learn/ml-course-dec2019/blob/dev/3.%20%D0%9E%D1%81%D0%BD%D0%BE%D0%B2%D0%BD%D1%8B%D0%B5%20%D0%B1%D0%B8%D0%B1%D0%BB%D0%B8%D0%BE%D1%82%D0%B5%D0%BA%D0%B8/HW3.ipynb\" target=\"_parent\"><img src=\"https://colab.research.google.com/assets/colab-badge.svg\" alt=\"Open In Colab\"/></a>"
      ]
    },
    {
      "cell_type": "markdown",
      "metadata": {
        "id": "uuX1yAb2q8qD",
        "colab_type": "text"
      },
      "source": [
        "# Практическое задание\n",
        "\n",
        "В данном задании предлагается решить несколько задач на использование функций библиотек `numpy` и `matplotlib`.\n",
        "Во всех заданиях предполагается, что все аргументы функций, которые нужно реализовать, имеют тип `numpy.array` либо являются числами. Возвращать нужно также либо `numpy.array`, либо число. Кроме того, предполагается, что все аргументы корректны, и проверять их на корректность не нужно.\n",
        "\n",
        "При реализации запрещается пользоваться любыми циклами, в том числе стандартными функциями языка, которые заменяют циклы. Можно использовать любые функции библиотек `numpy` или `scipy`, кроме функции `numpy.fromfunction` и декоратора `numpy.vectorize`."
      ]
    },
    {
      "cell_type": "code",
      "metadata": {
        "id": "JxwxYkHRq8qG",
        "colab_type": "code",
        "colab": {}
      },
      "source": [
        "import numpy as np\n",
        "import scipy.stats as sps\n",
        "import matplotlib.pyplot as plt\n",
        "\n",
        "%matplotlib inline"
      ],
      "execution_count": 0,
      "outputs": []
    },
    {
      "cell_type": "markdown",
      "metadata": {
        "id": "FeOZHAyLytZJ",
        "colab_type": "text"
      },
      "source": [
        "# Задача 1"
      ]
    },
    {
      "cell_type": "markdown",
      "metadata": {
        "id": "xKtknDXQwL76",
        "colab_type": "text"
      },
      "source": [
        "**Задача 1.** Индексация массивов. Необходимо написать функцию, которая создает матрицу размера NxN следующим образом: \n",
        "все крайние элементы равны 1, а все остальные (внутренние) равны 0.\n",
        "\n",
        "Ожидаемый вывод при n=5:\n",
        "```\n",
        "array([[1., 1., 1., 1., 1.],\n",
        "       [1., 0., 0., 0., 1.],\n",
        "       [1., 0., 0., 0., 1.],\n",
        "       [1., 0., 0., 0., 1.],\n",
        "       [1., 1., 1., 1., 1.]])\n",
        "```"
      ]
    },
    {
      "cell_type": "code",
      "metadata": {
        "id": "bcq89oY5nAWy",
        "colab_type": "code",
        "colab": {}
      },
      "source": [
        "def create_boarded_array(n):\n",
        "    '''\n",
        "    Функция создает np.array, у которого крайние элементы = 1, остальные = 0.\n",
        "    '''\n",
        "    # ВАШ КОД ЗДЕСЬ\n",
        "    return res_arr\n",
        "\n",
        "create_boarded_array(5)"
      ],
      "execution_count": 0,
      "outputs": []
    },
    {
      "cell_type": "markdown",
      "metadata": {
        "id": "zXrsK81T6hrf",
        "colab_type": "text"
      },
      "source": [
        "### Подсказка"
      ]
    },
    {
      "cell_type": "markdown",
      "metadata": {
        "id": "Jn9ZM73r6wFd",
        "colab_type": "text"
      },
      "source": [
        "Подсказка: при индексации массива можно использовать диапазоны индексов 1:-1"
      ]
    },
    {
      "cell_type": "markdown",
      "metadata": {
        "id": "r5yqwnQ3y1xt",
        "colab_type": "text"
      },
      "source": [
        "# Задача 2"
      ]
    },
    {
      "cell_type": "markdown",
      "metadata": {
        "id": "ZsoipL9QyR48",
        "colab_type": "text"
      },
      "source": [
        "\n",
        "**Задача 2.** Создать массив \"шахматная доска\" - размер 8х8, где на месте белых клеток находятся нули, а на месте черных клеток - 1.\n",
        "\n",
        "Ожидаемый результат:\n",
        "```\n",
        "[[0 1 0 1 0 1 0 1]\n",
        " [1 0 1 0 1 0 1 0]\n",
        " [0 1 0 1 0 1 0 1]\n",
        " [1 0 1 0 1 0 1 0]\n",
        " [0 1 0 1 0 1 0 1]\n",
        " [1 0 1 0 1 0 1 0]\n",
        " [0 1 0 1 0 1 0 1]\n",
        " [1 0 1 0 1 0 1 0]]\n",
        " ```"
      ]
    },
    {
      "cell_type": "code",
      "metadata": {
        "id": "mOKWF66Dna9D",
        "colab_type": "code",
        "colab": {}
      },
      "source": [
        "# Можно также сделать в виде функции, \n",
        "# но Задачи 2 и 3 примем и без оформления в виде функции:\n",
        "# частов при прототипировании решений в Jupyter некоторые вычисления \n",
        "# выполняются один раз, поэтому необязательно их оборачивать \n",
        "# в отдельную функцию\n",
        "\n",
        "# ВАШ КОД ЗДЕСЬ\n"
      ],
      "execution_count": 0,
      "outputs": []
    },
    {
      "cell_type": "markdown",
      "metadata": {
        "id": "8_gFCGuKh_cL",
        "colab_type": "text"
      },
      "source": [
        "## Подсказка"
      ]
    },
    {
      "cell_type": "markdown",
      "metadata": {
        "id": "JNqy0rA6iFFD",
        "colab_type": "text"
      },
      "source": [
        "В этой задаче существует несколько вариантов реализации:\n",
        "1. подумайте над индексацией массивов - ведь можно задавать не единичный шаг!\n",
        "2. или обратите внимание на функцию tile"
      ]
    },
    {
      "cell_type": "markdown",
      "metadata": {
        "id": "wCkjEZLWjF2r",
        "colab_type": "text"
      },
      "source": [
        "# Задача 3"
      ]
    },
    {
      "cell_type": "markdown",
      "metadata": {
        "id": "G1wPmKK59f5K",
        "colab_type": "text"
      },
      "source": [
        "**Задача 3.** Создать массив 5х2, содержащий числа от 0 до 100 с шагом 10\n",
        "\n",
        "Ожидаемый результат:\n",
        "```\n",
        "array([[100, 110],\n",
        "       [120, 130],\n",
        "       [140, 150],\n",
        "       [160, 170],\n",
        "       [180, 190]])\n",
        "```"
      ]
    },
    {
      "cell_type": "code",
      "metadata": {
        "id": "mGu2ebgWobKK",
        "colab_type": "code",
        "colab": {}
      },
      "source": [
        "# ВАШ КОД ЗДЕСЬ\n"
      ],
      "execution_count": 0,
      "outputs": []
    },
    {
      "cell_type": "markdown",
      "metadata": {
        "id": "6xGeQHrrjVlX",
        "colab_type": "text"
      },
      "source": [
        "## Подсказка"
      ]
    },
    {
      "cell_type": "markdown",
      "metadata": {
        "id": "9YBZ4_QtjYfr",
        "colab_type": "text"
      },
      "source": [
        "Можно сначала создать одномерный массив, а затем изменить его форму!"
      ]
    },
    {
      "cell_type": "markdown",
      "metadata": {
        "id": "CXm4YVk4j6hK",
        "colab_type": "text"
      },
      "source": [
        "# Задача 4*."
      ]
    },
    {
      "cell_type": "markdown",
      "metadata": {
        "id": "sGmhhokfq8qJ",
        "colab_type": "text"
      },
      "source": [
        "**Задача 4.** Напишите функцию, реализующую матричное умножение. При вычислении разрешается создавать объекты размерности три. Запрещается пользоваться функциями, реализующими матричное умножение (`numpy.dot`, операция `@`, операция умножения в классе `numpy.matrix`). *Авторское решение занимает одну строчку.*"
      ]
    },
    {
      "cell_type": "code",
      "metadata": {
        "id": "QTWU43s3q8qJ",
        "colab_type": "code",
        "colab": {}
      },
      "source": [
        "def matrix_multiplication(A, B): \n",
        "    '''Возвращает матрицу, которая является результатом\n",
        "    матричного умножения матриц A и B.\n",
        "    '''\n",
        "\n",
        "    # преобразование типов (если входные данные, например, list)\n",
        "    A = np.array(A)\n",
        "    B = np.array(B)    \n",
        "\n",
        "    # ВАШ КОД ЗДЕСЬ\n",
        "    return result"
      ],
      "execution_count": 0,
      "outputs": []
    },
    {
      "cell_type": "markdown",
      "metadata": {
        "id": "5kyon8EOkwKT",
        "colab_type": "text"
      },
      "source": [
        "## Подсказка"
      ]
    },
    {
      "cell_type": "markdown",
      "metadata": {
        "id": "nbji7yzGk0Pn",
        "colab_type": "text"
      },
      "source": [
        "Подумайте, как разбить операцию умножения двух матриц на несколько более простых операций, которые удобно решить в матричном виде!\n",
        "\n",
        "Обратите внимание на возможности numpy - транспонирование матриц, изменение формы, поэлементные операции, объединение нескольких строк в одну матрицу, суммирование вдоль определенной оси `(np.sum(axis=2))`."
      ]
    },
    {
      "cell_type": "markdown",
      "metadata": {
        "id": "hn4J_bpWlmac",
        "colab_type": "text"
      },
      "source": [
        "## Проверка правильности решения"
      ]
    },
    {
      "cell_type": "markdown",
      "metadata": {
        "id": "h3h7SN_Nq8qM",
        "colab_type": "text"
      },
      "source": [
        "Проверьте правильность реализации на случайных матрицах. Должен получится ноль (1е-13 тоже подойдет)."
      ]
    },
    {
      "cell_type": "code",
      "metadata": {
        "id": "CxZWMsW0q8qN",
        "colab_type": "code",
        "outputId": "c0079e8d-5cb8-4715-f4a3-a692ec2ceb82",
        "colab": {}
      },
      "source": [
        "A = sps.uniform.rvs(size=(10, 20))\n",
        "B = sps.uniform.rvs(size=(20, 30))\n",
        "np.abs(matrix_multiplication(A, B) - A @ B).sum()"
      ],
      "execution_count": 0,
      "outputs": [
        {
          "output_type": "execute_result",
          "data": {
            "text/plain": [
              "3.5971225997855072e-14"
            ]
          },
          "metadata": {
            "tags": []
          },
          "execution_count": 5
        }
      ]
    },
    {
      "cell_type": "markdown",
      "metadata": {
        "id": "tm_m1JSbq8qQ",
        "colab_type": "text"
      },
      "source": [
        "А вот в таком стиле вы присылали бы нам свои работы, если не стали бы делать это задание."
      ]
    },
    {
      "cell_type": "code",
      "metadata": {
        "id": "0beMcrmDq8qR",
        "colab_type": "code",
        "colab": {}
      },
      "source": [
        "def bad_matrix_multiplication(A, B):\n",
        "    C = [[0 for j in range(len(B[0]))] for i in range(len(A))]\n",
        "    for i in range(len(A)):\n",
        "        for j in range(len(B[0])):\n",
        "            for k in range(len(B)):\n",
        "                C[i][j] += A[i][k] * B[k][j]\n",
        "    return C"
      ],
      "execution_count": 0,
      "outputs": []
    },
    {
      "cell_type": "markdown",
      "metadata": {
        "id": "gmt-eedyq8qT",
        "colab_type": "text"
      },
      "source": [
        "Проверьте, насколько быстрее работает ваш код по сравнению с неэффективной реализацией `bad_matrix_multiplication`. Эффективный код должен работать почти в 200 раз быстрее. Для примера посмотрите также, насколько быстрее работают встроенные `numpy`-функции."
      ]
    },
    {
      "cell_type": "code",
      "metadata": {
        "id": "QCo9qfk8q8qU",
        "colab_type": "code",
        "outputId": "12aff053-42b7-474c-d38a-849032dacb03",
        "colab": {
          "base_uri": "https://localhost:8080/",
          "height": 119
        }
      },
      "source": [
        "A = sps.uniform.rvs(size=(400, 200))\n",
        "B = sps.uniform.rvs(size=(200, 300))\n",
        "\n",
        "%time C1 = matrix_multiplication(A, B)\n",
        "%time C2 = A @ B  # python 3.5\n",
        "%time C3 = np.matrix(A) * np.matrix(B)\n",
        "%time C4 = bad_matrix_multiplication(A, B)"
      ],
      "execution_count": 5,
      "outputs": [
        {
          "output_type": "stream",
          "text": [
            "CPU times: user 1.08 ms, sys: 2.02 ms, total: 3.11 ms\n",
            "Wall time: 7.06 ms\n",
            "CPU times: user 2.44 ms, sys: 3.84 ms, total: 6.28 ms\n",
            "Wall time: 5.69 ms\n",
            "CPU times: user 22.2 s, sys: 144 ms, total: 22.3 s\n",
            "Wall time: 22.2 s\n"
          ],
          "name": "stdout"
        }
      ]
    },
    {
      "cell_type": "markdown",
      "metadata": {
        "id": "DOZUJeBPlBoJ",
        "colab_type": "text"
      },
      "source": [
        "Хороший стиль программирования - писать документацию к функции (как в шаблоне), а также проверять входные параметры на корректность. Требовать все проверки на корректность мы пока не будем, но документировать функции нужно :)"
      ]
    },
    {
      "cell_type": "markdown",
      "metadata": {
        "id": "0bFdGns3m3JG",
        "colab_type": "text"
      },
      "source": [
        "# Задача 5*."
      ]
    },
    {
      "cell_type": "markdown",
      "metadata": {
        "id": "9DEIrtDiq8qZ",
        "colab_type": "text"
      },
      "source": [
        "**Задача 5.** Отойдем от задач-примеров к более реальным случаям применения numpy. Напишите функцию, которая по входной последовательности $X = (X_1, ..., X_n)$ строит последовательность $S = (S_1, ..., S_n)$, где $S_k = \\frac{X_1 + ... + X_k}{k}$.  *Авторское решение занимает одну строчку.*"
      ]
    },
    {
      "cell_type": "code",
      "metadata": {
        "id": "hR2jQn31o5Pk",
        "colab_type": "code",
        "colab": {}
      },
      "source": [
        "def cumavg(X):\n",
        "    '''\n",
        "    Для входного массива построим массив, каждый i-ый элемент которого - \n",
        "    среднее по первым i элементам.\n",
        "    '''\n",
        "\n",
        "    # ВАШ КОД ЗДЕСЬ\n"
      ],
      "execution_count": 0,
      "outputs": []
    },
    {
      "cell_type": "markdown",
      "metadata": {
        "id": "IM83i5phpagT",
        "colab_type": "text"
      },
      "source": [
        "## Подсказка"
      ]
    },
    {
      "cell_type": "markdown",
      "metadata": {
        "id": "6bESCeVCpcm7",
        "colab_type": "text"
      },
      "source": [
        "Для этого хорошо подходит функция `np.cumsum()`"
      ]
    },
    {
      "cell_type": "markdown",
      "metadata": {
        "id": "Hk7M7Q6Jqt38",
        "colab_type": "text"
      },
      "source": [
        "## Проверка решения"
      ]
    },
    {
      "cell_type": "markdown",
      "metadata": {
        "id": "mzcg5QX1q8qg",
        "colab_type": "text"
      },
      "source": [
        "Проверьте корректность работы реализации, а также ее эффективность. Эффективный код должен работать в 50 раз быстрее."
      ]
    },
    {
      "cell_type": "code",
      "metadata": {
        "id": "fRNH9Tnhq8qh",
        "colab_type": "code",
        "outputId": "9e07eba4-93c5-4dbc-cbc7-bafc92ff860b",
        "colab": {}
      },
      "source": [
        "def bad_cumavg(X):\n",
        "    S = [0 for i in range(len(X))]\n",
        "    for i in range(len(X)):\n",
        "        S[i] = X[i] + S[i - 1]\n",
        "    for i in range(len(X)):\n",
        "        S[i] /= i + 1\n",
        "    return S\n",
        "\n",
        "X = sps.uniform.rvs(size=10 ** 7)\n",
        "\n",
        "%time S1 = cumavg(X)\n",
        "%time S2 = bad_cumavg(X)\n",
        "\n",
        "np.abs(S1 - S2).sum()"
      ],
      "execution_count": 0,
      "outputs": [
        {
          "output_type": "stream",
          "text": [
            "CPU times: user 180 ms, sys: 24 ms, total: 204 ms\n",
            "Wall time: 203 ms\n",
            "CPU times: user 14.2 s, sys: 68 ms, total: 14.2 s\n",
            "Wall time: 14.2 s\n"
          ],
          "name": "stdout"
        },
        {
          "output_type": "execute_result",
          "data": {
            "text/plain": [
              "0.0"
            ]
          },
          "metadata": {
            "tags": []
          },
          "execution_count": 14
        }
      ]
    },
    {
      "cell_type": "markdown",
      "metadata": {
        "id": "w-c0J9gXq7pz",
        "colab_type": "text"
      },
      "source": [
        "# Задача 6*."
      ]
    },
    {
      "cell_type": "markdown",
      "metadata": {
        "id": "snpAQNhGq8qj",
        "colab_type": "text"
      },
      "source": [
        "**Задача 6.** Дана матрица $A = (a_{ij})$ размера $n \\times m$. Вычислите величину $$\\frac{1}{m} \\sum_{j=1}^m \\min_{i=1, ..., n} a_{ij},$$ то есть средний минимум по столбцам. *Авторское решение занимает одну строчку.*"
      ]
    },
    {
      "cell_type": "code",
      "metadata": {
        "id": "jDt_jY3orUrD",
        "colab_type": "code",
        "colab": {}
      },
      "source": [
        "def avgmin(A):\n",
        "    '''\n",
        "    Вычисление среднего минимума по столбцам для матрицы m x n\n",
        "    '''\n",
        "\n",
        "    # ВАШ КОД ЗДЕСЬ\n"
      ],
      "execution_count": 0,
      "outputs": []
    },
    {
      "cell_type": "markdown",
      "metadata": {
        "id": "TLKtYorkrkBD",
        "colab_type": "text"
      },
      "source": [
        "## Подсказка"
      ]
    },
    {
      "cell_type": "markdown",
      "metadata": {
        "id": "ZLVT-OSrrm6j",
        "colab_type": "text"
      },
      "source": [
        "Подумайте, как разбить вычисление на несколько простых операций, например, сначала посчитать минимумы для столбцов, а потом среднее значение получившейся строки"
      ]
    },
    {
      "cell_type": "markdown",
      "metadata": {
        "id": "xnmgb1wasaZ0",
        "colab_type": "text"
      },
      "source": [
        "## Проверка решения"
      ]
    },
    {
      "cell_type": "markdown",
      "metadata": {
        "id": "dymHWdn9q8qm",
        "colab_type": "text"
      },
      "source": [
        "Проверьте корректность работы реализации, а также ее эффективность. Эффективный код должен работать почти в 200 раз быстрее. Обратите внимание, что разность чисел может быть не равна нулю из-за ошибок округления, но должна иметь малый порядок."
      ]
    },
    {
      "cell_type": "code",
      "metadata": {
        "id": "Qyu5IujXq8qn",
        "colab_type": "code",
        "outputId": "ccc2abdf-c098-483c-a2af-04d9559fbcb7",
        "colab": {
          "base_uri": "https://localhost:8080/",
          "height": 102
        }
      },
      "source": [
        "def bad_avgmin(A):\n",
        "    N, M = len(A), len(A[0])\n",
        "    min_col = [min([A[i][j] for i in range(N)]) for j in range(M)]\n",
        "    return sum(min_col) / M\n",
        "\n",
        "N, M = 5000, 10000\n",
        "A = sps.uniform.rvs(size=(N, M))\n",
        "\n",
        "%time S1 = avgmin(A)\n",
        "%time S2 = bad_avgmin(A)\n",
        "\n",
        "print(np.abs(S1 - S2))"
      ],
      "execution_count": 0,
      "outputs": [
        {
          "output_type": "stream",
          "text": [
            "CPU times: user 86.8 ms, sys: 0 ns, total: 86.8 ms\n",
            "Wall time: 86.8 ms\n",
            "CPU times: user 19 s, sys: 3.78 ms, total: 19 s\n",
            "Wall time: 19 s\n",
            "1.3552527156068805e-19\n"
          ],
          "name": "stdout"
        }
      ]
    },
    {
      "cell_type": "markdown",
      "metadata": {
        "id": "xWGRf33zw_ck",
        "colab_type": "text"
      },
      "source": [
        "# Задачи по matplotlib"
      ]
    },
    {
      "cell_type": "code",
      "metadata": {
        "id": "49rK1-DeySil",
        "colab_type": "code",
        "colab": {}
      },
      "source": [
        "import matplotlib.pyplot as plt\n",
        "%matplotlib inline"
      ],
      "execution_count": 0,
      "outputs": []
    },
    {
      "cell_type": "markdown",
      "metadata": {
        "id": "fIsINCpzxL3c",
        "colab_type": "text"
      },
      "source": [
        "# Задача 7."
      ]
    },
    {
      "cell_type": "markdown",
      "metadata": {
        "id": "RnxMYMdbyJPt",
        "colab_type": "text"
      },
      "source": [
        "**Задача 7.** Даны массивы `x` и `y`. Исользуя `matplotlib`, постройте на одном координатном поле две линии: \n",
        "1. y(x) - сплошную синюю линию\n",
        "2. y1(x1) - красную пунктирную линию\n",
        "3. добавьте точки данных на линии в виде маркеров\n",
        "4. добавьте координатную сетку на график\n",
        "5. добавьте легенду на график\n",
        "6. добавьте названия осей\n",
        "7. добавьте название графика (title) "
      ]
    },
    {
      "cell_type": "code",
      "metadata": {
        "id": "ejO80fh0yKs1",
        "colab_type": "code",
        "outputId": "e7e05c08-1d3f-4d14-8469-1b855a5c411c",
        "colab": {
          "base_uri": "https://localhost:8080/",
          "height": 295
        }
      },
      "source": [
        "# Ожидаемый результат\n"
      ],
      "execution_count": 0,
      "outputs": [
        {
          "output_type": "display_data",
          "data": {
            "image/png": "[encoded data removed]",
            "text/plain": [
              "<Figure size 432x288 with 1 Axes>"
            ]
          },
          "metadata": {
            "tags": []
          }
        }
      ]
    },
    {
      "cell_type": "code",
      "metadata": {
        "id": "WMjW3Avs7BOO",
        "colab_type": "code",
        "colab": {}
      },
      "source": [
        "x = np.arange(1,111, 10)\n",
        "x1 = np.logspace(0.001, 2, num=10)\n",
        "y = 1/x\n",
        "y1 = 1/x1\n",
        "\n",
        "# ВАШ КОД ЗДЕСЬ"
      ],
      "execution_count": 0,
      "outputs": []
    },
    {
      "cell_type": "markdown",
      "metadata": {
        "id": "UYB2Jhee7P8X",
        "colab_type": "text"
      },
      "source": [
        "# Задача 8."
      ]
    },
    {
      "cell_type": "markdown",
      "metadata": {
        "id": "oVBxKs4o7TpO",
        "colab_type": "text"
      },
      "source": [
        "**Задача 8**. По результатам Задачи 7 можно сделать выводы, что для функции, подобной $x = 1/y$ удобнее использовать логарифмичемкую шкалу, поскольку она более подробно показывает ту область, где значения функции меняются быстро. Но дальнейшие точки на графике сливаются, наблюдать их неудобно. Чтобы решить эту проблему постройте два `subplot`.\n",
        "1. Создайте два аналогичных крафика один под другим, используя subplot\n",
        "2. Аналогичным образом отобразите заглавие, подписи осей, легенду и координатную сетку.\n",
        "3. Измените размер фигуры, чтобы увеличить ее (`figsize=(10,10)`)"
      ]
    },
    {
      "cell_type": "code",
      "metadata": {
        "id": "kTh1x3_w8AIf",
        "colab_type": "code",
        "outputId": "eeac09a0-d5ce-4474-9034-6c8dbc272e6b",
        "colab": {
          "base_uri": "https://localhost:8080/",
          "height": 622
        }
      },
      "source": [
        "\n",
        "# Ожидаемый вывод"
      ],
      "execution_count": 0,
      "outputs": [
        {
          "output_type": "display_data",
          "data": {
            "image/png": "[encoded data removed]",
            "text/plain": [
              "<Figure size 720x720 with 2 Axes>"
            ]
          },
          "metadata": {
            "tags": []
          }
        }
      ]
    },
    {
      "cell_type": "code",
      "metadata": {
        "id": "VKXeGMuv9WCI",
        "colab_type": "code",
        "colab": {}
      },
      "source": [
        "x = np.arange(1,111, 10)\n",
        "x1 = np.logspace(0.001, 2, num=10)\n",
        "y = 1/x\n",
        "y1 = 1/x1\n",
        "\n",
        "# ВАШ КОД ЗДЕСЬ"
      ],
      "execution_count": 0,
      "outputs": []
    },
    {
      "cell_type": "markdown",
      "metadata": {
        "id": "9nzTq3wJ9gnH",
        "colab_type": "text"
      },
      "source": [
        "# Теоретические вопросы"
      ]
    },
    {
      "cell_type": "markdown",
      "metadata": {
        "id": "Roy_rHlDq8qp",
        "colab_type": "text"
      },
      "source": [
        "**Вопрос:** За счет чего достигается такая эффективность методов `numpy`?\n",
        "\n",
        "**Ответ:** "
      ]
    },
    {
      "cell_type": "code",
      "metadata": {
        "id": "2oWujfRom947",
        "colab_type": "code",
        "colab": {}
      },
      "source": [
        ""
      ],
      "execution_count": 0,
      "outputs": []
    }
  ]
}