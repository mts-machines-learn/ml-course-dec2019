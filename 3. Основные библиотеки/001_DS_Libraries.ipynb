{
  "nbformat": 4,
  "nbformat_minor": 0,
  "metadata": {
    "colab": {
      "name": "001_DS_Libraries.ipynb",
      "provenance": [],
      "collapsed_sections": [
        "T4mcLDeEIatk",
        "O5IzmFSupnpw",
        "T2WYhRwqTXwH",
        "r6qgbOAdTyqn",
        "Xj_UrzGxAr0j",
        "fFIP27E0EMiz",
        "IB4Bng8udPLm",
        "sLsKTOGJgIA6",
        "Dc8BHMK7HWF4",
        "uKmAgzBp6Klo",
        "dvZNBdMYO8He",
        "zcHS6IdGM-aJ",
        "Fx-ceHY0NmtC",
        "TkeNoFU_O1sQ",
        "Fiu7O2mCX7IX",
        "AwG2vjM1Xc2O",
        "emKRAj6QcmKD",
        "ET7A7W7ahdMU",
        "1gvm52UsikMK",
        "wFLWgVjjKmY6",
        "xFB7p8pYKmjO"
      ],
      "include_colab_link": true
    },
    "kernelspec": {
      "name": "python3",
      "display_name": "Python 3"
    }
  },
  "cells": [
    {
      "cell_type": "markdown",
      "metadata": {
        "id": "view-in-github",
        "colab_type": "text"
      },
      "source": [
        "<a href=\"https://colab.research.google.com/github/mts-machines-learn/ml-course-dec2019/blob/lesson3/3.%20%D0%9E%D1%81%D0%BD%D0%BE%D0%B2%D0%BD%D1%8B%D0%B5%20%D0%B1%D0%B8%D0%B1%D0%BB%D0%B8%D0%BE%D1%82%D0%B5%D0%BA%D0%B8/001_DS_Libraries.ipynb\" target=\"_parent\"><img src=\"https://colab.research.google.com/assets/colab-badge.svg\" alt=\"Open In Colab\"/></a>"
      ]
    },
    {
      "cell_type": "markdown",
      "metadata": {
        "id": "T4mcLDeEIatk",
        "colab_type": "text"
      },
      "source": [
        "# План лекции:\n",
        "Библиотека **Numpy**:\n",
        "\n",
        "    Векторы\n",
        "\n",
        "    Матрицы\n",
        "\n",
        "    Функции\n",
        "\n",
        "Библиотека **Matplotlib**:\n",
        "\n",
        "    Графики\n",
        "    \n",
        "    Гистограммы\n",
        "\n"
      ]
    },
    {
      "cell_type": "markdown",
      "metadata": {
        "id": "-ZIdAGII_LO_",
        "colab_type": "text"
      },
      "source": [
        "Установка:\n",
        "\n",
        "\n",
        "conda install -c anaconda numpy\n",
        "\n",
        "conda install -c anaconda matplotlib"
      ]
    },
    {
      "cell_type": "code",
      "metadata": {
        "id": "2j3QJZ81dqbe",
        "colab_type": "code",
        "colab": {}
      },
      "source": [
        "import numpy as np"
      ],
      "execution_count": 0,
      "outputs": []
    },
    {
      "cell_type": "markdown",
      "metadata": {
        "id": "MDVuh2pJdz3C",
        "colab_type": "text"
      },
      "source": [
        "#### Задача 0. Вычислить сумму первых $10^8$ целых чисел."
      ]
    },
    {
      "cell_type": "code",
      "metadata": {
        "id": "h14j3v2ydnqu",
        "colab_type": "code",
        "outputId": "3d8ab61a-f21b-45cc-c6e4-57df24dae8a9",
        "colab": {
          "base_uri": "https://localhost:8080/"
        }
      },
      "source": [
        "%%time\n",
        "\n",
        "sum_value = 0\n",
        "for i in range(10 ** 8):\n",
        "    sum_value += i\n",
        "print(sum_value)"
      ],
      "execution_count": 0,
      "outputs": [
        {
          "output_type": "stream",
          "text": [
            "4999999950000000\n",
            "CPU times: user 9.54 s, sys: 6.28 ms, total: 9.55 s\n",
            "Wall time: 9.57 s\n"
          ],
          "name": "stdout"
        }
      ]
    },
    {
      "cell_type": "code",
      "metadata": {
        "id": "yZhSmTpgdr6Q",
        "colab_type": "code",
        "outputId": "a55f6b88-709c-43f4-e30d-06fbcfb3130c",
        "colab": {
          "base_uri": "https://localhost:8080/"
        }
      },
      "source": [
        "%%time\n",
        "\n",
        "sum_value = np.arange(10 ** 8).sum()\n",
        "print(sum_value)"
      ],
      "execution_count": 0,
      "outputs": [
        {
          "output_type": "stream",
          "text": [
            "4999999950000000\n",
            "CPU times: user 236 ms, sys: 4 ms, total: 240 ms\n",
            "Wall time: 241 ms\n"
          ],
          "name": "stdout"
        }
      ]
    },
    {
      "cell_type": "markdown",
      "metadata": {
        "id": "nLXVxiHfKmOK",
        "colab_type": "text"
      },
      "source": [
        "# Вектор\n",
        "Вектором называется направленный отрезок, для которого указано его начало и конец. Направление принято указывать стрелкой.\n",
        "\n",
        "Рассмотрим пример вектора на плоскости. Координаты данного вектора: $(2, 3)$\n",
        "\n",
        "![](https://raw.githubusercontent.com/mts-machines-learn/ml-course-dec2019/master/3.%20%D0%9E%D1%81%D0%BD%D0%BE%D0%B2%D0%BD%D1%8B%D0%B5%20%D0%B1%D0%B8%D0%B1%D0%BB%D0%B8%D0%BE%D1%82%D0%B5%D0%BA%D0%B8/images/vector1.png)\n",
        "\n",
        "\n",
        "Тот же самый вектор $(2,3)$, который отложен не от начала координат, а от точки $(2,1)$\n",
        "\n",
        "![](https://raw.githubusercontent.com/mts-machines-learn/ml-course-dec2019/master/3.%20%D0%9E%D1%81%D0%BD%D0%BE%D0%B2%D0%BD%D1%8B%D0%B5%20%D0%B1%D0%B8%D0%B1%D0%BB%D0%B8%D0%BE%D1%82%D0%B5%D0%BA%D0%B8/images/vector2.png)\n",
        "\n",
        "Аналогично выглядят векторы в трехмерном пространстве. Единичные векторы принято обозночать буквами $i, j, k$.\n",
        "\n",
        "![](https://raw.githubusercontent.com/mts-machines-learn/ml-course-dec2019/master/3.%20%D0%9E%D1%81%D0%BD%D0%BE%D0%B2%D0%BD%D1%8B%D0%B5%20%D0%B1%D0%B8%D0%B1%D0%BB%D0%B8%D0%BE%D1%82%D0%B5%D0%BA%D0%B8/images/vector3.png)\n",
        "\n",
        "\n",
        "В общем виде вектор размерности $n$ записывается как \n",
        "$\\bar{x} = \\begin{pmatrix}\n",
        "  x_1 \\\\\n",
        "  x_2 \\\\\n",
        "  \\vdots \\\\\n",
        "  x_n \\end{pmatrix}$\n",
        "\n",
        "\n"
      ]
    },
    {
      "cell_type": "markdown",
      "metadata": {
        "id": "O5IzmFSupnpw",
        "colab_type": "text"
      },
      "source": [
        "## Операции над векторами\n",
        "\n"
      ]
    },
    {
      "cell_type": "markdown",
      "metadata": {
        "id": "QxfIGx8CRgE0",
        "colab_type": "text"
      },
      "source": [
        "### Сложение, умножение вектора и скаляра\n",
        "\n",
        "$\\begin{pmatrix}\n",
        "  1 \\\\\n",
        "  2 \\\\\n",
        "  3 \\end{pmatrix} + 4  = \\begin{pmatrix}\n",
        "  1 + 4 \\\\\n",
        "  2 + 4\\\\\n",
        "  3 + 4 \\end{pmatrix} = \\begin{pmatrix}\n",
        "  5 \\\\\n",
        "  6 \\\\\n",
        "  7 \\end{pmatrix}$\n",
        "\n",
        "\n",
        "$\\begin{pmatrix}\n",
        "  1 \\\\\n",
        "  2 \\\\\n",
        "  3 \\end{pmatrix} \\times 4  = \\begin{pmatrix}\n",
        "  1 \\times 4 \\\\\n",
        "  2 \\times 4\\\\\n",
        "  3 \\times 4 \\end{pmatrix} = \\begin{pmatrix}\n",
        "  4 \\\\\n",
        "  8 \\\\\n",
        "  12 \\end{pmatrix}$\n",
        "\n",
        "  Вычитание, умножение и деление производятся также поэлементно.\n",
        "\n"
      ]
    },
    {
      "cell_type": "markdown",
      "metadata": {
        "id": "NhfsJrtURk7U",
        "colab_type": "text"
      },
      "source": [
        "### Сложение вектора и вектора\n",
        "\n",
        "Векторы складываются по правилу \"параллелограмма\"\n",
        "\n",
        "![](https://raw.githubusercontent.com/mts-machines-learn/ml-course-dec2019/master/3.%20%D0%9E%D1%81%D0%BD%D0%BE%D0%B2%D0%BD%D1%8B%D0%B5%20%D0%B1%D0%B8%D0%B1%D0%BB%D0%B8%D0%BE%D1%82%D0%B5%D0%BA%D0%B8/images/vector4.png)\n",
        "\n",
        "\n",
        "$\\begin{pmatrix}\n",
        "  2 \\\\\n",
        "  1 \\end{pmatrix} + \n",
        "  \\begin{pmatrix}\n",
        "  1 \\\\\n",
        "  3 \\end{pmatrix} = \\begin{pmatrix}\n",
        "  3 \\\\\n",
        "  4 \\end{pmatrix}$\n"
      ]
    },
    {
      "cell_type": "markdown",
      "metadata": {
        "id": "Od3d0mCsRokW",
        "colab_type": "text"
      },
      "source": [
        "### Скалярное умножение двух векторов\n",
        "\n",
        "$\\bar{v} = \\begin{pmatrix}\n",
        "  1 \\\\\n",
        "  2 \\\\\n",
        "  3 \\end{pmatrix}, \\bar{u} =  \n",
        "  \\begin{pmatrix}\n",
        "  3 \\\\\n",
        "  2 \\\\\n",
        "  1 \\end{pmatrix}$ \n",
        "  \n",
        "$(v, u) = v_1 \\times u_1 + v_2 \\times u_2 + v_3 \\times u_3 = 1 \\times 3 + 2 \\times 2 + 3 \\times 1 = 10$\n",
        "\n",
        "  Получили скаляр, а не вектор!\n"
      ]
    },
    {
      "cell_type": "markdown",
      "metadata": {
        "id": "FmHa22APU65U",
        "colab_type": "text"
      },
      "source": [
        "## Практическая часть:"
      ]
    },
    {
      "cell_type": "markdown",
      "metadata": {
        "id": "T2WYhRwqTXwH",
        "colab_type": "text"
      },
      "source": [
        "#### Инициализация векторов, операции с векторами"
      ]
    },
    {
      "cell_type": "code",
      "metadata": {
        "id": "ro6Jq5FlolHW",
        "colab_type": "code",
        "colab": {}
      },
      "source": [
        "a = np.array([1,3,5])\n",
        "b = np.array([2,4,6])"
      ],
      "execution_count": 0,
      "outputs": []
    },
    {
      "cell_type": "markdown",
      "metadata": {
        "id": "c8Ajw3_jv_p4",
        "colab_type": "text"
      },
      "source": [
        "Вектор суммы a и b"
      ]
    },
    {
      "cell_type": "code",
      "metadata": {
        "id": "F9sy-KaeolFX",
        "colab_type": "code",
        "outputId": "e0fa45da-78fd-49d5-a7e7-5c36e4504d2b",
        "colab": {
          "base_uri": "https://localhost:8080/"
        }
      },
      "source": [
        "a + b"
      ],
      "execution_count": 0,
      "outputs": [
        {
          "output_type": "execute_result",
          "data": {
            "text/plain": [
              "array([ 3,  7, 11])"
            ]
          },
          "metadata": {
            "tags": []
          },
          "execution_count": 126
        }
      ]
    },
    {
      "cell_type": "markdown",
      "metadata": {
        "id": "0G2WAJZXwXsV",
        "colab_type": "text"
      },
      "source": [
        "Сложение вектора и скаляра\n",
        "\n",
        "\n"
      ]
    },
    {
      "cell_type": "code",
      "metadata": {
        "id": "k_AEMPIt_w60",
        "colab_type": "code",
        "outputId": "61ab2224-e0df-4c98-f540-e7cb8391fd55",
        "colab": {
          "base_uri": "https://localhost:8080/"
        }
      },
      "source": [
        "a + 2"
      ],
      "execution_count": 0,
      "outputs": [
        {
          "output_type": "execute_result",
          "data": {
            "text/plain": [
              "array([3, 5, 7])"
            ]
          },
          "metadata": {
            "tags": []
          },
          "execution_count": 127
        }
      ]
    },
    {
      "cell_type": "markdown",
      "metadata": {
        "id": "prk5p8KBwJw8",
        "colab_type": "text"
      },
      "source": [
        "Скалярное произведение <a,b>"
      ]
    },
    {
      "cell_type": "code",
      "metadata": {
        "id": "VxBWN101wM3B",
        "colab_type": "code",
        "outputId": "4eeab573-9165-4e42-963e-52d7d1b57903",
        "colab": {
          "base_uri": "https://localhost:8080/"
        }
      },
      "source": [
        "np.dot(a, b)  # 1*2 + 3*4 + 5*6 = 2 + 12 + 30 = 44"
      ],
      "execution_count": 0,
      "outputs": [
        {
          "output_type": "execute_result",
          "data": {
            "text/plain": [
              "44"
            ]
          },
          "metadata": {
            "tags": []
          },
          "execution_count": 128
        }
      ]
    },
    {
      "cell_type": "code",
      "metadata": {
        "id": "80oMpZ7Q_UOr",
        "colab_type": "code",
        "outputId": "bb621beb-163c-47ff-fa8c-a550942a4dc6",
        "colab": {
          "base_uri": "https://localhost:8080/"
        }
      },
      "source": [
        "a @ b"
      ],
      "execution_count": 0,
      "outputs": [
        {
          "output_type": "execute_result",
          "data": {
            "text/plain": [
              "44"
            ]
          },
          "metadata": {
            "tags": []
          },
          "execution_count": 129
        }
      ]
    },
    {
      "cell_type": "markdown",
      "metadata": {
        "id": "hukwP3ntwSPB",
        "colab_type": "text"
      },
      "source": [
        "Покомпонентное умножение векторов"
      ]
    },
    {
      "cell_type": "code",
      "metadata": {
        "id": "fnJwcKioolBN",
        "colab_type": "code",
        "outputId": "6d8606ab-7bce-4320-bdf0-6648aa046af9",
        "colab": {
          "base_uri": "https://localhost:8080/"
        }
      },
      "source": [
        "a * b"
      ],
      "execution_count": 0,
      "outputs": [
        {
          "output_type": "execute_result",
          "data": {
            "text/plain": [
              "array([ 2, 12, 30])"
            ]
          },
          "metadata": {
            "tags": []
          },
          "execution_count": 130
        }
      ]
    },
    {
      "cell_type": "markdown",
      "metadata": {
        "id": "r6qgbOAdTyqn",
        "colab_type": "text"
      },
      "source": [
        "#### Индексация"
      ]
    },
    {
      "cell_type": "code",
      "metadata": {
        "id": "QRG9TKA4_g5M",
        "colab_type": "code",
        "colab": {}
      },
      "source": [
        "a = np.array([1,3,5])"
      ],
      "execution_count": 0,
      "outputs": []
    },
    {
      "cell_type": "markdown",
      "metadata": {
        "id": "TLX_-5GuwqKt",
        "colab_type": "text"
      },
      "source": [
        "Обращение ко второму элементу вектора:"
      ]
    },
    {
      "cell_type": "code",
      "metadata": {
        "id": "avVmz1ezwiSk",
        "colab_type": "code",
        "outputId": "e3bea34c-bb92-49f1-e1d3-faeb3f5550d9",
        "colab": {
          "base_uri": "https://localhost:8080/"
        }
      },
      "source": [
        "a[2]"
      ],
      "execution_count": 0,
      "outputs": [
        {
          "output_type": "execute_result",
          "data": {
            "text/plain": [
              "5"
            ]
          },
          "metadata": {
            "tags": []
          },
          "execution_count": 132
        }
      ]
    },
    {
      "cell_type": "markdown",
      "metadata": {
        "id": "-lLil8cTw3UI",
        "colab_type": "text"
      },
      "source": [
        "Изменение второго элемента вектора:"
      ]
    },
    {
      "cell_type": "code",
      "metadata": {
        "id": "yRBb5dN8_YHc",
        "colab_type": "code",
        "colab": {}
      },
      "source": [
        "a[2] = 7"
      ],
      "execution_count": 0,
      "outputs": []
    },
    {
      "cell_type": "code",
      "metadata": {
        "id": "CXrOuEEZ_dbt",
        "colab_type": "code",
        "outputId": "6dd06151-f209-4e8f-a342-3110a15abe83",
        "colab": {
          "base_uri": "https://localhost:8080/"
        }
      },
      "source": [
        "print(a)"
      ],
      "execution_count": 0,
      "outputs": [
        {
          "output_type": "stream",
          "text": [
            "[1 3 7]\n"
          ],
          "name": "stdout"
        }
      ]
    },
    {
      "cell_type": "markdown",
      "metadata": {
        "id": "TfZiDZw2xcGl",
        "colab_type": "text"
      },
      "source": [
        "Копирование вектора"
      ]
    },
    {
      "cell_type": "code",
      "metadata": {
        "id": "Wt4dM1tmw8sx",
        "colab_type": "code",
        "colab": {}
      },
      "source": [
        "b = a\n",
        "b[2] = 10"
      ],
      "execution_count": 0,
      "outputs": []
    },
    {
      "cell_type": "code",
      "metadata": {
        "id": "9iqbyaPCxAuH",
        "colab_type": "code",
        "outputId": "8328662c-cb75-4ba7-b67d-8ad0f6fe149a",
        "colab": {
          "base_uri": "https://localhost:8080/"
        }
      },
      "source": [
        "print(a)"
      ],
      "execution_count": 0,
      "outputs": [
        {
          "output_type": "stream",
          "text": [
            "[ 1  3 10]\n"
          ],
          "name": "stdout"
        }
      ]
    },
    {
      "cell_type": "code",
      "metadata": {
        "id": "bGryoG2axUoI",
        "colab_type": "code",
        "colab": {}
      },
      "source": [
        "a = np.array([1,3,5])"
      ],
      "execution_count": 0,
      "outputs": []
    },
    {
      "cell_type": "code",
      "metadata": {
        "id": "WT15MiSbxPtj",
        "colab_type": "code",
        "colab": {}
      },
      "source": [
        "b = a.copy()\n",
        "b[2] = 10"
      ],
      "execution_count": 0,
      "outputs": []
    },
    {
      "cell_type": "code",
      "metadata": {
        "id": "jIiXyfXzxWfk",
        "colab_type": "code",
        "outputId": "c1664140-1fca-4bb6-c650-6ec4d00e6baf",
        "colab": {
          "base_uri": "https://localhost:8080/"
        }
      },
      "source": [
        "print(a)"
      ],
      "execution_count": 0,
      "outputs": [
        {
          "output_type": "stream",
          "text": [
            "[1 3 5]\n"
          ],
          "name": "stdout"
        }
      ]
    },
    {
      "cell_type": "markdown",
      "metadata": {
        "id": "qKey6mV2xlhC",
        "colab_type": "text"
      },
      "source": [
        "np.arange"
      ]
    },
    {
      "cell_type": "code",
      "metadata": {
        "id": "2XxnvGogADda",
        "colab_type": "code",
        "outputId": "56f0894d-8e99-4c44-ae98-a46580d324cf",
        "colab": {
          "base_uri": "https://localhost:8080/"
        }
      },
      "source": [
        "range_50 = np.arange(100,150,1)\n",
        "print(range_50)"
      ],
      "execution_count": 0,
      "outputs": [
        {
          "output_type": "stream",
          "text": [
            "[100 101 102 103 104 105 106 107 108 109 110 111 112 113 114 115 116 117\n",
            " 118 119 120 121 122 123 124 125 126 127 128 129 130 131 132 133 134 135\n",
            " 136 137 138 139 140 141 142 143 144 145 146 147 148 149]\n"
          ],
          "name": "stdout"
        }
      ]
    },
    {
      "cell_type": "code",
      "metadata": {
        "id": "BjYzElMiAGBX",
        "colab_type": "code",
        "outputId": "e07d41d0-e1e9-4369-ff88-eae56bce28d3",
        "colab": {
          "base_uri": "https://localhost:8080/"
        }
      },
      "source": [
        "np.arange(1,100,2)"
      ],
      "execution_count": 0,
      "outputs": [
        {
          "output_type": "execute_result",
          "data": {
            "text/plain": [
              "array([ 1,  3,  5,  7,  9, 11, 13, 15, 17, 19, 21, 23, 25, 27, 29, 31, 33,\n",
              "       35, 37, 39, 41, 43, 45, 47, 49, 51, 53, 55, 57, 59, 61, 63, 65, 67,\n",
              "       69, 71, 73, 75, 77, 79, 81, 83, 85, 87, 89, 91, 93, 95, 97, 99])"
            ]
          },
          "metadata": {
            "tags": []
          },
          "execution_count": 141
        }
      ]
    },
    {
      "cell_type": "markdown",
      "metadata": {
        "id": "ZQkK7yPixuIe",
        "colab_type": "text"
      },
      "source": [
        "Индексы и срезы"
      ]
    },
    {
      "cell_type": "code",
      "metadata": {
        "id": "7ZWltBu1AWlH",
        "colab_type": "code",
        "outputId": "87ecfd6d-65c1-466d-dd63-c7b77d8ad122",
        "colab": {
          "base_uri": "https://localhost:8080/"
        }
      },
      "source": [
        "range_50[6:14]"
      ],
      "execution_count": 0,
      "outputs": [
        {
          "output_type": "execute_result",
          "data": {
            "text/plain": [
              "array([106, 107, 108, 109, 110, 111, 112, 113])"
            ]
          },
          "metadata": {
            "tags": []
          },
          "execution_count": 142
        }
      ]
    },
    {
      "cell_type": "code",
      "metadata": {
        "id": "0uOTVeCcAT3b",
        "colab_type": "code",
        "outputId": "d4629ab9-09b3-4165-b46c-8a8f26234d26",
        "colab": {
          "base_uri": "https://localhost:8080/"
        }
      },
      "source": [
        "range_50[[6,8,10,12]]"
      ],
      "execution_count": 0,
      "outputs": [
        {
          "output_type": "execute_result",
          "data": {
            "text/plain": [
              "array([106, 108, 110, 112])"
            ]
          },
          "metadata": {
            "tags": []
          },
          "execution_count": 143
        }
      ]
    },
    {
      "cell_type": "code",
      "metadata": {
        "id": "RYGdAEBvAZmf",
        "colab_type": "code",
        "outputId": "6731618e-88f3-4a2c-cea6-3333188d5e75",
        "colab": {
          "base_uri": "https://localhost:8080/"
        }
      },
      "source": [
        "range_50[6:14:2]"
      ],
      "execution_count": 0,
      "outputs": [
        {
          "output_type": "execute_result",
          "data": {
            "text/plain": [
              "array([106, 108, 110, 112])"
            ]
          },
          "metadata": {
            "tags": []
          },
          "execution_count": 144
        }
      ]
    },
    {
      "cell_type": "code",
      "metadata": {
        "id": "sB_gZ7hdAkDY",
        "colab_type": "code",
        "outputId": "b8ee632f-bb5c-464f-eab3-fdcc6952ef02",
        "colab": {
          "base_uri": "https://localhost:8080/"
        }
      },
      "source": [
        "range_50[::]"
      ],
      "execution_count": 0,
      "outputs": [
        {
          "output_type": "execute_result",
          "data": {
            "text/plain": [
              "array([100, 101, 102, 103, 104, 105, 106, 107, 108, 109, 110, 111, 112,\n",
              "       113, 114, 115, 116, 117, 118, 119, 120, 121, 122, 123, 124, 125,\n",
              "       126, 127, 128, 129, 130, 131, 132, 133, 134, 135, 136, 137, 138,\n",
              "       139, 140, 141, 142, 143, 144, 145, 146, 147, 148, 149])"
            ]
          },
          "metadata": {
            "tags": []
          },
          "execution_count": 145
        }
      ]
    },
    {
      "cell_type": "code",
      "metadata": {
        "id": "d9TKK17xAn-_",
        "colab_type": "code",
        "outputId": "0a9df63c-1d8a-49e2-f3c9-5a2025c4d5c4",
        "colab": {
          "base_uri": "https://localhost:8080/"
        }
      },
      "source": [
        "range_50[::-1]"
      ],
      "execution_count": 0,
      "outputs": [
        {
          "output_type": "execute_result",
          "data": {
            "text/plain": [
              "array([149, 148, 147, 146, 145, 144, 143, 142, 141, 140, 139, 138, 137,\n",
              "       136, 135, 134, 133, 132, 131, 130, 129, 128, 127, 126, 125, 124,\n",
              "       123, 122, 121, 120, 119, 118, 117, 116, 115, 114, 113, 112, 111,\n",
              "       110, 109, 108, 107, 106, 105, 104, 103, 102, 101, 100])"
            ]
          },
          "metadata": {
            "tags": []
          },
          "execution_count": 146
        }
      ]
    },
    {
      "cell_type": "markdown",
      "metadata": {
        "id": "Xj_UrzGxAr0j",
        "colab_type": "text"
      },
      "source": [
        "### Задача 1. Создать вектор длины n из чисел вида 0, 3, 6, 9, ..."
      ]
    },
    {
      "cell_type": "code",
      "metadata": {
        "id": "plYf9OqgArkU",
        "colab_type": "code",
        "colab": {}
      },
      "source": [
        "n = 100\n",
        "range_3k = np.arange(0,n,3) "
      ],
      "execution_count": 0,
      "outputs": []
    },
    {
      "cell_type": "code",
      "metadata": {
        "id": "QiYdBGQHBFiK",
        "colab_type": "code",
        "outputId": "e3127da6-687c-4453-d1e5-d0f190874214",
        "colab": {
          "base_uri": "https://localhost:8080/"
        }
      },
      "source": [
        "range_3k"
      ],
      "execution_count": 0,
      "outputs": [
        {
          "output_type": "execute_result",
          "data": {
            "text/plain": [
              "array([ 0,  3,  6,  9, 12, 15, 18, 21, 24, 27, 30, 33, 36, 39, 42, 45, 48,\n",
              "       51, 54, 57, 60, 63, 66, 69, 72, 75, 78, 81, 84, 87, 90, 93, 96, 99])"
            ]
          },
          "metadata": {
            "tags": []
          },
          "execution_count": 148
        }
      ]
    },
    {
      "cell_type": "markdown",
      "metadata": {
        "id": "fFIP27E0EMiz",
        "colab_type": "text"
      },
      "source": [
        "### Задача 2. Заменить в массиве случайные k элементов на 0.\n"
      ]
    },
    {
      "cell_type": "code",
      "metadata": {
        "id": "Qf4IeztTBQFJ",
        "colab_type": "code",
        "colab": {}
      },
      "source": [
        "def random_zeros(array, k):\n",
        "  random_ind = np.random.choice(np.arange(len(array)), size=k, replace=False)\n",
        "  print(np.sort(random_ind))\n",
        "  array[random_ind] = 0\n",
        "  return array"
      ],
      "execution_count": 0,
      "outputs": []
    },
    {
      "cell_type": "code",
      "metadata": {
        "id": "Hf63kVW4E4GV",
        "colab_type": "code",
        "outputId": "3fd12b06-1642-412c-faba-a09194fcbe11",
        "colab": {
          "base_uri": "https://localhost:8080/"
        }
      },
      "source": [
        "random_zeros(np.array([1,2,3,4,5,6,7,8,9,10]), 5)"
      ],
      "execution_count": 0,
      "outputs": [
        {
          "output_type": "stream",
          "text": [
            "[0 1 3 5 7]\n"
          ],
          "name": "stdout"
        },
        {
          "output_type": "execute_result",
          "data": {
            "text/plain": [
              "array([ 0,  0,  3,  0,  5,  0,  7,  0,  9, 10])"
            ]
          },
          "metadata": {
            "tags": []
          },
          "execution_count": 150
        }
      ]
    },
    {
      "cell_type": "markdown",
      "metadata": {
        "id": "IB4Bng8udPLm",
        "colab_type": "text"
      },
      "source": [
        "### Функции агрегирования для вектора"
      ]
    },
    {
      "cell_type": "code",
      "metadata": {
        "id": "KRN9vtmrdVxA",
        "colab_type": "code",
        "colab": {}
      },
      "source": [
        "inflation = np.array([8.78, 6.1, 6.58, 6.45, 11.36, 12.91, 5.38, 2.52, 4.27, 2.68])"
      ],
      "execution_count": 0,
      "outputs": []
    },
    {
      "cell_type": "code",
      "metadata": {
        "id": "YgkiATvFfYHD",
        "colab_type": "code",
        "outputId": "c447c878-ff5a-4762-a8c2-2bde1ad152ce",
        "colab": {
          "base_uri": "https://localhost:8080/"
        }
      },
      "source": [
        "inflation.max()"
      ],
      "execution_count": 0,
      "outputs": [
        {
          "output_type": "execute_result",
          "data": {
            "text/plain": [
              "12.91"
            ]
          },
          "metadata": {
            "tags": []
          },
          "execution_count": 152
        }
      ]
    },
    {
      "cell_type": "code",
      "metadata": {
        "id": "Mf5fY7BZfal_",
        "colab_type": "code",
        "outputId": "aa5acac5-1d69-4026-c387-94acc723a5bc",
        "colab": {
          "base_uri": "https://localhost:8080/"
        }
      },
      "source": [
        "inflation.min()"
      ],
      "execution_count": 0,
      "outputs": [
        {
          "output_type": "execute_result",
          "data": {
            "text/plain": [
              "2.52"
            ]
          },
          "metadata": {
            "tags": []
          },
          "execution_count": 153
        }
      ]
    },
    {
      "cell_type": "code",
      "metadata": {
        "id": "XPF-iSLWfcwp",
        "colab_type": "code",
        "outputId": "a458d784-cb47-40ad-a665-39ae596f568d",
        "colab": {
          "base_uri": "https://localhost:8080/"
        }
      },
      "source": [
        "inflation.mean()"
      ],
      "execution_count": 0,
      "outputs": [
        {
          "output_type": "execute_result",
          "data": {
            "text/plain": [
              "6.703"
            ]
          },
          "metadata": {
            "tags": []
          },
          "execution_count": 154
        }
      ]
    },
    {
      "cell_type": "code",
      "metadata": {
        "id": "PYSyobIifnYd",
        "colab_type": "code",
        "colab": {}
      },
      "source": [
        "marks = np.array([3,3,4,5,5,4,2,4,4,4,4,5])"
      ],
      "execution_count": 0,
      "outputs": []
    },
    {
      "cell_type": "code",
      "metadata": {
        "id": "yN69T3lGfrYJ",
        "colab_type": "code",
        "outputId": "7a771b0b-e680-488d-a989-0bdc8c881e8d",
        "colab": {
          "base_uri": "https://localhost:8080/"
        }
      },
      "source": [
        "marks.mean()"
      ],
      "execution_count": 0,
      "outputs": [
        {
          "output_type": "execute_result",
          "data": {
            "text/plain": [
              "3.9166666666666665"
            ]
          },
          "metadata": {
            "tags": []
          },
          "execution_count": 156
        }
      ]
    },
    {
      "cell_type": "code",
      "metadata": {
        "id": "2nrA7KhZftgY",
        "colab_type": "code",
        "outputId": "6da2802b-e89f-4e19-adf6-53979f1c821f",
        "colab": {
          "base_uri": "https://localhost:8080/"
        }
      },
      "source": [
        "marks.sum()"
      ],
      "execution_count": 0,
      "outputs": [
        {
          "output_type": "execute_result",
          "data": {
            "text/plain": [
              "47"
            ]
          },
          "metadata": {
            "tags": []
          },
          "execution_count": 157
        }
      ]
    },
    {
      "cell_type": "code",
      "metadata": {
        "id": "PxoQpx0od-oc",
        "colab_type": "code",
        "outputId": "259b6973-4289-430e-9b13-1c1226c03236",
        "colab": {
          "base_uri": "https://localhost:8080/"
        }
      },
      "source": [
        "np.median(marks)"
      ],
      "execution_count": 0,
      "outputs": [
        {
          "output_type": "execute_result",
          "data": {
            "text/plain": [
              "4.0"
            ]
          },
          "metadata": {
            "tags": []
          },
          "execution_count": 158
        }
      ]
    },
    {
      "cell_type": "markdown",
      "metadata": {
        "id": "sLsKTOGJgIA6",
        "colab_type": "text"
      },
      "source": [
        "### Задача 3. Посчитать сумму первых k элементов вектора"
      ]
    },
    {
      "cell_type": "code",
      "metadata": {
        "id": "6B5ZMr3ff_w0",
        "colab_type": "code",
        "colab": {}
      },
      "source": [
        "def first_k_sum(array, k):\n",
        "  return array[:k].sum()"
      ],
      "execution_count": 0,
      "outputs": []
    },
    {
      "cell_type": "code",
      "metadata": {
        "id": "aqd58ikUgW2o",
        "colab_type": "code",
        "outputId": "fc62454d-442a-4c8b-cfa3-fd5a32d18234",
        "colab": {
          "base_uri": "https://localhost:8080/"
        }
      },
      "source": [
        "first_k_sum(np.array([1,1,1,1,1,1,1,1,1,1]), 7)"
      ],
      "execution_count": 0,
      "outputs": [
        {
          "output_type": "execute_result",
          "data": {
            "text/plain": [
              "7"
            ]
          },
          "metadata": {
            "tags": []
          },
          "execution_count": 160
        }
      ]
    },
    {
      "cell_type": "markdown",
      "metadata": {
        "id": "LhOANgzsKmTs",
        "colab_type": "text"
      },
      "source": [
        "# Матрица\n",
        "\n",
        "Матрица - обычно это набор чисел, упорядоченных по строкам и столбцам.\n",
        "\n",
        "Примеры:\n",
        "\n",
        "$A_{3,3} =\n",
        " \\begin{pmatrix}\n",
        "  1 & 2 & 3 \\\\\n",
        "  4 & 5 & 6 \\\\\n",
        "  7 & 8 & 9  \\\\\n",
        "  \\end{pmatrix}$ , \n",
        "\n",
        "$A_{2,3} =\n",
        " \\begin{pmatrix}\n",
        "  1 & 2 & 3 \\\\\n",
        "  4 & 5 & 6 \\\\\n",
        "  \\end{pmatrix}$, \n",
        "\n",
        "$A_{3,2} =\n",
        " \\begin{pmatrix}\n",
        "  1 & 2 \\\\\n",
        "  4 & 5 \\\\\n",
        "  7 & 8  \\\\\n",
        "  \\end{pmatrix}$ , \n",
        "\n",
        "Общий вид: \n",
        "\n",
        "$A_{m,n} =\n",
        " \\begin{pmatrix}\n",
        "  a_{1,1} & a_{1,2} & \\cdots & a_{1,n} \\\\\n",
        "  a_{2,1} & a_{2,2} & \\cdots & a_{2,n} \\\\\n",
        "  \\vdots  & \\vdots  & \\ddots & \\vdots  \\\\\n",
        "  a_{m,1} & a_{m,2} & \\cdots & a_{m,n}\n",
        " \\end{pmatrix}$\n",
        "\n",
        " $m$ - количество строк матрицы\n",
        "\n",
        " $n$ - количество столбцов матрицы\n",
        "\n",
        " $a_{i,j}$ - элемент, стоящий на пересечении $i$-той строки и $j$-го столбца\n",
        "\n"
      ]
    },
    {
      "cell_type": "markdown",
      "metadata": {
        "id": "Dc8BHMK7HWF4",
        "colab_type": "text"
      },
      "source": [
        "## Операции над матрицами\n",
        "\n",
        "\n"
      ]
    },
    {
      "cell_type": "markdown",
      "metadata": {
        "id": "2Q2cF1gvR5Je",
        "colab_type": "text"
      },
      "source": [
        "### Сложение, умножение матрицы и скаляра:\n",
        "\n",
        "$\\begin{pmatrix}\n",
        "  1 & 2 & 3 \\\\\n",
        "  4 & 5 & 6 \\\\\n",
        "  7 & 8 & 9  \\\\\n",
        "  \\end{pmatrix} + 2 = \\begin{pmatrix}\n",
        "  1+2 & 2+2 & 3+2 \\\\\n",
        "  4+2 & 5+2 & 6+2 \\\\\n",
        "  7+2 & 8+2 & 9+2  \\\\\n",
        "  \\end{pmatrix} =\n",
        "  \\begin{pmatrix}\n",
        "  3 & 4 & 5 \\\\\n",
        "  6 & 7 & 8 \\\\\n",
        "  9 & 10 & 11  \\\\\n",
        "  \\end{pmatrix}$\n",
        "\n",
        "\n",
        "$\\begin{pmatrix}\n",
        "  1 & 2 & 3 \\\\\n",
        "  4 & 5 & 6 \\\\\n",
        "  7 & 8 & 9  \\\\\n",
        "  \\end{pmatrix} \\times 2 = \\begin{pmatrix}\n",
        "  1\\times2 & 2\\times2 & 3\\times2 \\\\\n",
        "  4\\times2 & 5\\times2 & 6\\times2 \\\\\n",
        "  7\\times2 & 8\\times2 & 9\\times2  \\\\\n",
        "  \\end{pmatrix} = \\begin{pmatrix}\n",
        "  2 & 4 & 6 \\\\\n",
        "  8 & 10 & 12 \\\\\n",
        "  14 & 16 & 18  \\\\\n",
        "  \\end{pmatrix}$\n",
        "\n",
        "\n"
      ]
    },
    {
      "cell_type": "markdown",
      "metadata": {
        "id": "ikgwcan-SM5X",
        "colab_type": "text"
      },
      "source": [
        "### Cложение матриц \n",
        "\n",
        "(складываем матрицы с одинаковыми размерами)\n",
        "\n",
        "$\\begin{pmatrix}\n",
        "  1 & 2 & 3 \\\\\n",
        "  4 & 5 & 6 \\\\\n",
        "  7 & 8 & 9  \\\\\n",
        "  \\end{pmatrix} +  \\begin{pmatrix}\n",
        "  3 & 3 & 3 \\\\\n",
        "  1 & 1 & 1 \\\\\n",
        "  2 & 2 & 2  \\\\\n",
        "  \\end{pmatrix} = \\begin{pmatrix}\n",
        "  1+3 & 2+3 & 3+3 \\\\\n",
        "  4+1 & 5+1 & 6+1 \\\\\n",
        "  7+2 & 8+2 & 9+2  \\\\\n",
        "  \\end{pmatrix} = \\begin{pmatrix}\n",
        "  4 & 5 & 6 \\\\\n",
        "  5 & 6 & 7 \\\\\n",
        "  9 & 10 & 11 \\\\\n",
        "  \\end{pmatrix}$"
      ]
    },
    {
      "cell_type": "markdown",
      "metadata": {
        "id": "ZH1nU5KBR9p1",
        "colab_type": "text"
      },
      "source": [
        " ### Умножение матрицы на вектор\n",
        "\n",
        "<img src=https://raw.githubusercontent.com/mts-machines-learn/ml-course-dec2019/master/3.%20%D0%9E%D1%81%D0%BD%D0%BE%D0%B2%D0%BD%D1%8B%D0%B5%20%D0%B1%D0%B8%D0%B1%D0%BB%D0%B8%D0%BE%D1%82%D0%B5%D0%BA%D0%B8/images/matrix_1.PNG width=\"500\">\n",
        "\n",
        "<!-- \n",
        "$\\begin{pmatrix}\n",
        "  1 & 2 & 3 \\\\\n",
        "  4 & 5 & 6 \\\\\n",
        "  7 & 8 & 9  \\\\\n",
        "  \\end{pmatrix} \\times \\begin{pmatrix}\n",
        "  1  \\\\\n",
        "  2 \\\\\n",
        "  3 \\\\\n",
        "  \\end{pmatrix} = \\begin{pmatrix}\n",
        "  1\\times1+2\\times2+3\\times3 \\\\\n",
        "  4\\times1+5\\times2+6\\times3 \\\\\n",
        "  7\\times1+8\\times2+9\\times3\n",
        "  \\end{pmatrix} = \\begin{pmatrix}\n",
        "  14 \\\\\n",
        "  32 \\\\\n",
        "  50\n",
        "  \\end{pmatrix}$ -->\n",
        "\n",
        " \n"
      ]
    },
    {
      "cell_type": "markdown",
      "metadata": {
        "id": "AuLPqIbHSHiG",
        "colab_type": "text"
      },
      "source": [
        " ### Умножение матрицы на матрицу\n",
        "\n",
        "<img src=https://raw.githubusercontent.com/mts-machines-learn/ml-course-dec2019/master/3.%20%D0%9E%D1%81%D0%BD%D0%BE%D0%B2%D0%BD%D1%8B%D0%B5%20%D0%B1%D0%B8%D0%B1%D0%BB%D0%B8%D0%BE%D1%82%D0%B5%D0%BA%D0%B8/images/matrix_2.PNG width=\"800\">\n",
        "\n",
        " <!-- $\\begin{pmatrix}\n",
        "  1 & 2 & 3 \\\\\n",
        "  4 & 5 & 6 \\\\\n",
        "  7 & 8 & 9  \\\\\n",
        "  \\end{pmatrix} \\times \\begin{pmatrix}\n",
        "  1 & 2\\\\\n",
        "  2 & 0\\\\\n",
        "  3 & 1\\\\\n",
        "  \\end{pmatrix} = \\begin{pmatrix}\n",
        "  1\\times1+2\\times2+3\\times3 & 1\\times2 + 2\\times0 + 3\\times1 \\\\\n",
        "  4\\times1+5\\times2+6\\times3 & 4\\times2 + 5\\times0 + 6\\times1 \\\\\n",
        "  7\\times1+8\\times2+9\\times3 & 7\\times2 + 8\\times0 + 9\\times1 \\\\\n",
        "  \\end{pmatrix} = \\begin{pmatrix}\n",
        "  14 & 5 \\\\\n",
        "  32 & 14 \\\\\n",
        "  50 & 23 \\\\\n",
        "  \\end{pmatrix}$ -->\n",
        "\n",
        "Как изменяются размерности матриц?\n",
        "\n",
        "\n",
        "<img src=https://raw.githubusercontent.com/mts-machines-learn/ml-course-dec2019/master/3.%20%D0%9E%D1%81%D0%BD%D0%BE%D0%B2%D0%BD%D1%8B%D0%B5%20%D0%B1%D0%B8%D0%B1%D0%BB%D0%B8%D0%BE%D1%82%D0%B5%D0%BA%D0%B8/images/matrix_3.png width=\"500\">\n",
        "\n",
        "$A_{n,k} \\times B_{k,m} = C_{n,m}$ (количество столбцов в первой матрице равно количеству строк во второй матрице)\n",
        "\n",
        "Тогда элементы матрицы произведения определяются как:\n",
        "\n",
        "$C_{i,j} = \\sum_k{A_{i,k}B_{k,j}}$\n"
      ]
    },
    {
      "cell_type": "markdown",
      "metadata": {
        "id": "sDM7tfO8SCok",
        "colab_type": "text"
      },
      "source": [
        "### Транспонирование матрицы\n",
        "\n",
        "  $B = \\begin{pmatrix}\n",
        "  1 & 2 \\\\\n",
        "  4 & 5 \\\\\n",
        "  7 & 8 \\\\\n",
        "  \\end{pmatrix} B^T = \\begin{pmatrix}\n",
        "  1 & 4 & 7 \\\\\n",
        "  2 & 5 & 8 \\\\\n",
        "  \\end{pmatrix}$\n",
        "\n",
        "Для элементов матриц $B$ и $B^T$ выполнено следующее: \n",
        "$B_{i,j} = B^T_{j.i}$\n",
        "\n",
        "  Если размерность матрицы $B = (m,n)$, то рамерность матрицы $B^T = (n,m)$"
      ]
    },
    {
      "cell_type": "markdown",
      "metadata": {
        "id": "uKmAgzBp6Klo",
        "colab_type": "text"
      },
      "source": [
        "## Практическая часть"
      ]
    },
    {
      "cell_type": "markdown",
      "metadata": {
        "id": "dvZNBdMYO8He",
        "colab_type": "text"
      },
      "source": [
        "##### Инициализация матриц, операции с матрицами"
      ]
    },
    {
      "cell_type": "code",
      "metadata": {
        "id": "OmC4WDZN7_nm",
        "colab_type": "code",
        "colab": {}
      },
      "source": [
        "A = np.array([[1,2,3],\n",
        "              [4,5,6],\n",
        "              [7,8,9]])\n",
        "\n",
        "B = np.array([[3,3,3],\n",
        "              [1,1,1],\n",
        "              [2,2,2]])"
      ],
      "execution_count": 0,
      "outputs": []
    },
    {
      "cell_type": "markdown",
      "metadata": {
        "id": "9j2LORiLBAN_",
        "colab_type": "text"
      },
      "source": [
        "Сумма двух матриц"
      ]
    },
    {
      "cell_type": "code",
      "metadata": {
        "id": "ZrmgyKyV8J-t",
        "colab_type": "code",
        "outputId": "6c0a45e0-b83b-4eee-cae2-994605e0c728",
        "colab": {
          "base_uri": "https://localhost:8080/"
        }
      },
      "source": [
        "A + B"
      ],
      "execution_count": 0,
      "outputs": [
        {
          "output_type": "execute_result",
          "data": {
            "text/plain": [
              "array([[ 4,  5,  6],\n",
              "       [ 5,  6,  7],\n",
              "       [ 9, 10, 11]])"
            ]
          },
          "metadata": {
            "tags": []
          },
          "execution_count": 162
        }
      ]
    },
    {
      "cell_type": "markdown",
      "metadata": {
        "id": "4bQZvCQWBKl0",
        "colab_type": "text"
      },
      "source": [
        "Сумма матрицы и скаляра"
      ]
    },
    {
      "cell_type": "code",
      "metadata": {
        "id": "yhqsgF1N8RVG",
        "colab_type": "code",
        "outputId": "f3e493c9-92d4-4b7a-9aca-22730658d754",
        "colab": {
          "base_uri": "https://localhost:8080/"
        }
      },
      "source": [
        "A + 2"
      ],
      "execution_count": 0,
      "outputs": [
        {
          "output_type": "execute_result",
          "data": {
            "text/plain": [
              "array([[ 3,  4,  5],\n",
              "       [ 6,  7,  8],\n",
              "       [ 9, 10, 11]])"
            ]
          },
          "metadata": {
            "tags": []
          },
          "execution_count": 163
        }
      ]
    },
    {
      "cell_type": "markdown",
      "metadata": {
        "id": "fRq3O1z0BLam",
        "colab_type": "text"
      },
      "source": [
        "Произведение матрицы и скаляра"
      ]
    },
    {
      "cell_type": "code",
      "metadata": {
        "id": "OtqQLkcC63CS",
        "colab_type": "code",
        "outputId": "5e4c2070-b759-4e38-c07e-1ccc1f6d8bfc",
        "colab": {
          "base_uri": "https://localhost:8080/"
        }
      },
      "source": [
        "A * 2"
      ],
      "execution_count": 0,
      "outputs": [
        {
          "output_type": "execute_result",
          "data": {
            "text/plain": [
              "array([[ 2,  4,  6],\n",
              "       [ 8, 10, 12],\n",
              "       [14, 16, 18]])"
            ]
          },
          "metadata": {
            "tags": []
          },
          "execution_count": 164
        }
      ]
    },
    {
      "cell_type": "code",
      "metadata": {
        "id": "9wiL-f7o6pUs",
        "colab_type": "code",
        "colab": {}
      },
      "source": [
        "A = np.array([[1,2,3],\n",
        "              [4,5,6],\n",
        "              [7,8,9]])\n",
        "\n",
        "v = np.array([1,2,3])"
      ],
      "execution_count": 0,
      "outputs": []
    },
    {
      "cell_type": "markdown",
      "metadata": {
        "id": "iitW7i4iBPa5",
        "colab_type": "text"
      },
      "source": [
        "Произведение матрицы и вектора"
      ]
    },
    {
      "cell_type": "code",
      "metadata": {
        "id": "vc-w5Og96tMn",
        "colab_type": "code",
        "outputId": "e4673ffd-8253-43b3-a4e5-7799d58bbf7f",
        "colab": {
          "base_uri": "https://localhost:8080/"
        }
      },
      "source": [
        "A @ v"
      ],
      "execution_count": 0,
      "outputs": [
        {
          "output_type": "execute_result",
          "data": {
            "text/plain": [
              "array([14, 32, 50])"
            ]
          },
          "metadata": {
            "tags": []
          },
          "execution_count": 166
        }
      ]
    },
    {
      "cell_type": "code",
      "metadata": {
        "id": "KjmcG4TFHOuU",
        "colab_type": "code",
        "colab": {}
      },
      "source": [
        "A = np.array([[1,2,3],\n",
        "              [4,5,6],\n",
        "              [7,8,9]])\n",
        "\n",
        "B = np.array([[1,2],\n",
        "              [2,0],\n",
        "              [3,1]])"
      ],
      "execution_count": 0,
      "outputs": []
    },
    {
      "cell_type": "markdown",
      "metadata": {
        "id": "fnl7tngABSHl",
        "colab_type": "text"
      },
      "source": [
        "Произведение матриц"
      ]
    },
    {
      "cell_type": "code",
      "metadata": {
        "id": "WJzYAu-06YvS",
        "colab_type": "code",
        "outputId": "3a310369-9383-4f31-bd98-82d99da8bb86",
        "colab": {
          "base_uri": "https://localhost:8080/"
        }
      },
      "source": [
        "A @ B"
      ],
      "execution_count": 0,
      "outputs": [
        {
          "output_type": "execute_result",
          "data": {
            "text/plain": [
              "array([[14,  5],\n",
              "       [32, 14],\n",
              "       [50, 23]])"
            ]
          },
          "metadata": {
            "tags": []
          },
          "execution_count": 168
        }
      ]
    },
    {
      "cell_type": "markdown",
      "metadata": {
        "id": "0998zSVkBVbj",
        "colab_type": "text"
      },
      "source": [
        "shape"
      ]
    },
    {
      "cell_type": "code",
      "metadata": {
        "id": "Ina-plJ76_qF",
        "colab_type": "code",
        "colab": {}
      },
      "source": [
        "A = np.array([[1,2],\n",
        "              [4,5],\n",
        "              [7,8]])"
      ],
      "execution_count": 0,
      "outputs": []
    },
    {
      "cell_type": "code",
      "metadata": {
        "id": "eKKe-gDt8faF",
        "colab_type": "code",
        "outputId": "37685f05-8ab2-4030-c849-563c3fec3139",
        "colab": {
          "base_uri": "https://localhost:8080/"
        }
      },
      "source": [
        "A.shape"
      ],
      "execution_count": 0,
      "outputs": [
        {
          "output_type": "execute_result",
          "data": {
            "text/plain": [
              "(3, 2)"
            ]
          },
          "metadata": {
            "tags": []
          },
          "execution_count": 170
        }
      ]
    },
    {
      "cell_type": "code",
      "metadata": {
        "id": "mUEIHqtv8fdm",
        "colab_type": "code",
        "outputId": "9d2c58de-4664-48f0-8ebd-020bc1bc3a27",
        "colab": {
          "base_uri": "https://localhost:8080/"
        }
      },
      "source": [
        "A.reshape(6)"
      ],
      "execution_count": 0,
      "outputs": [
        {
          "output_type": "execute_result",
          "data": {
            "text/plain": [
              "array([1, 2, 4, 5, 7, 8])"
            ]
          },
          "metadata": {
            "tags": []
          },
          "execution_count": 171
        }
      ]
    },
    {
      "cell_type": "code",
      "metadata": {
        "id": "SV-kF2XY8q-Z",
        "colab_type": "code",
        "outputId": "2961e256-6731-4707-aebd-5dbe7dece702",
        "colab": {
          "base_uri": "https://localhost:8080/"
        }
      },
      "source": [
        "A.reshape(2, 3)"
      ],
      "execution_count": 0,
      "outputs": [
        {
          "output_type": "execute_result",
          "data": {
            "text/plain": [
              "array([[1, 2, 4],\n",
              "       [5, 7, 8]])"
            ]
          },
          "metadata": {
            "tags": []
          },
          "execution_count": 172
        }
      ]
    },
    {
      "cell_type": "code",
      "metadata": {
        "id": "eevmq8fv8fjn",
        "colab_type": "code",
        "outputId": "44799c6e-9d68-4d3c-c027-abe086ad0846",
        "colab": {
          "base_uri": "https://localhost:8080/"
        }
      },
      "source": [
        "A.reshape(-1, 3)"
      ],
      "execution_count": 0,
      "outputs": [
        {
          "output_type": "execute_result",
          "data": {
            "text/plain": [
              "array([[1, 2, 4],\n",
              "       [5, 7, 8]])"
            ]
          },
          "metadata": {
            "tags": []
          },
          "execution_count": 173
        }
      ]
    },
    {
      "cell_type": "code",
      "metadata": {
        "id": "x2V5a9rN8fh4",
        "colab_type": "code",
        "outputId": "ae1e1c60-1c85-455f-b6bb-bc07e1a47a4a",
        "colab": {
          "base_uri": "https://localhost:8080/"
        }
      },
      "source": [
        "A.size"
      ],
      "execution_count": 0,
      "outputs": [
        {
          "output_type": "execute_result",
          "data": {
            "text/plain": [
              "6"
            ]
          },
          "metadata": {
            "tags": []
          },
          "execution_count": 174
        }
      ]
    },
    {
      "cell_type": "code",
      "metadata": {
        "id": "WXbXNQ1Z9n6i",
        "colab_type": "code",
        "outputId": "5cb38e3f-707a-4cd3-ce81-de6d76e25167",
        "colab": {
          "base_uri": "https://localhost:8080/"
        }
      },
      "source": [
        "A.shape[0] * A.shape[1]"
      ],
      "execution_count": 0,
      "outputs": [
        {
          "output_type": "execute_result",
          "data": {
            "text/plain": [
              "6"
            ]
          },
          "metadata": {
            "tags": []
          },
          "execution_count": 175
        }
      ]
    },
    {
      "cell_type": "code",
      "metadata": {
        "id": "3Wzuwa4U9pr8",
        "colab_type": "code",
        "colab": {}
      },
      "source": [
        "A = np.arange(1, 10)\n",
        "A = A.reshape(3, 3)"
      ],
      "execution_count": 0,
      "outputs": []
    },
    {
      "cell_type": "code",
      "metadata": {
        "id": "UhQjODV9AJ6V",
        "colab_type": "code",
        "outputId": "f238a576-6f22-4ff6-8580-7f97ccf402dc",
        "colab": {
          "base_uri": "https://localhost:8080/"
        }
      },
      "source": [
        "A"
      ],
      "execution_count": 0,
      "outputs": [
        {
          "output_type": "execute_result",
          "data": {
            "text/plain": [
              "array([[1, 2, 3],\n",
              "       [4, 5, 6],\n",
              "       [7, 8, 9]])"
            ]
          },
          "metadata": {
            "tags": []
          },
          "execution_count": 177
        }
      ]
    },
    {
      "cell_type": "markdown",
      "metadata": {
        "id": "zcHS6IdGM-aJ",
        "colab_type": "text"
      },
      "source": [
        "##### Размерности матриц"
      ]
    },
    {
      "cell_type": "markdown",
      "metadata": {
        "id": "FVTVG9fnl9ln",
        "colab_type": "text"
      },
      "source": [
        "![](https://raw.githubusercontent.com/mts-machines-learn/ml-course-dec2019/master/3.%20%D0%9E%D1%81%D0%BD%D0%BE%D0%B2%D0%BD%D1%8B%D0%B5%20%D0%B1%D0%B8%D0%B1%D0%BB%D0%B8%D0%BE%D1%82%D0%B5%D0%BA%D0%B8/images/axis.PNG)"
      ]
    },
    {
      "cell_type": "code",
      "metadata": {
        "id": "7e0Y0aSoNAbI",
        "colab_type": "code",
        "colab": {}
      },
      "source": [
        "A = np.array([[2,3,4,5],\n",
        "              [6,7,8,9]])"
      ],
      "execution_count": 0,
      "outputs": []
    },
    {
      "cell_type": "code",
      "metadata": {
        "id": "YoGW9Pynl7oW",
        "colab_type": "code",
        "outputId": "5c5a57d1-eacc-4322-d577-714b9876963a",
        "colab": {
          "base_uri": "https://localhost:8080/"
        }
      },
      "source": [
        "A.sum()"
      ],
      "execution_count": 0,
      "outputs": [
        {
          "output_type": "execute_result",
          "data": {
            "text/plain": [
              "44"
            ]
          },
          "metadata": {
            "tags": []
          },
          "execution_count": 179
        }
      ]
    },
    {
      "cell_type": "code",
      "metadata": {
        "id": "T2u6FmDRNETa",
        "colab_type": "code",
        "outputId": "ed81abfc-e2c4-4618-a4bc-3d00b59694a1",
        "colab": {
          "base_uri": "https://localhost:8080/"
        }
      },
      "source": [
        "A.sum(axis=0)\n"
      ],
      "execution_count": 0,
      "outputs": [
        {
          "output_type": "execute_result",
          "data": {
            "text/plain": [
              "array([ 8, 10, 12, 14])"
            ]
          },
          "metadata": {
            "tags": []
          },
          "execution_count": 180
        }
      ]
    },
    {
      "cell_type": "code",
      "metadata": {
        "id": "_Tz1QkPpNJA6",
        "colab_type": "code",
        "outputId": "26a2ba16-effe-432f-9ce2-63c51d1e320d",
        "colab": {
          "base_uri": "https://localhost:8080/"
        }
      },
      "source": [
        "A.sum(axis=1)"
      ],
      "execution_count": 0,
      "outputs": [
        {
          "output_type": "execute_result",
          "data": {
            "text/plain": [
              "array([14, 30])"
            ]
          },
          "metadata": {
            "tags": []
          },
          "execution_count": 181
        }
      ]
    },
    {
      "cell_type": "markdown",
      "metadata": {
        "id": "Fx-ceHY0NmtC",
        "colab_type": "text"
      },
      "source": [
        "##### Задача 4: Создать матрицу из четных чисел, размера m*n;"
      ]
    },
    {
      "cell_type": "code",
      "metadata": {
        "id": "usKMZRk7NlG_",
        "colab_type": "code",
        "colab": {}
      },
      "source": [
        "def create_odd_matrix_way1(m,n):\n",
        "  size = m*n\n",
        "  array = np.arange(0, 2*size, 2)\n",
        "  array = array.reshape(m, n)\n",
        "  return array"
      ],
      "execution_count": 0,
      "outputs": []
    },
    {
      "cell_type": "code",
      "metadata": {
        "id": "h-wHEH86OAXq",
        "colab_type": "code",
        "outputId": "6aea4a75-81aa-4a72-e18a-c87a685bc501",
        "colab": {
          "base_uri": "https://localhost:8080/"
        }
      },
      "source": [
        "create_odd_matrix_way1(4,3)"
      ],
      "execution_count": 0,
      "outputs": [
        {
          "output_type": "execute_result",
          "data": {
            "text/plain": [
              "array([[ 0,  2,  4],\n",
              "       [ 6,  8, 10],\n",
              "       [12, 14, 16],\n",
              "       [18, 20, 22]])"
            ]
          },
          "metadata": {
            "tags": []
          },
          "execution_count": 183
        }
      ]
    },
    {
      "cell_type": "markdown",
      "metadata": {
        "id": "TkeNoFU_O1sQ",
        "colab_type": "text"
      },
      "source": [
        "#### Индексация"
      ]
    },
    {
      "cell_type": "code",
      "metadata": {
        "id": "RBkngvh2OwNj",
        "colab_type": "code",
        "colab": {}
      },
      "source": [
        "A = np.arange(0, 25)"
      ],
      "execution_count": 0,
      "outputs": []
    },
    {
      "cell_type": "code",
      "metadata": {
        "id": "Q0XqnwdcVXDR",
        "colab_type": "code",
        "outputId": "b89537f1-d807-4cbc-a4af-52cae7e39627",
        "colab": {
          "base_uri": "https://localhost:8080/"
        }
      },
      "source": [
        "A = A.reshape(5,5)\n",
        "A"
      ],
      "execution_count": 0,
      "outputs": [
        {
          "output_type": "execute_result",
          "data": {
            "text/plain": [
              "array([[ 0,  1,  2,  3,  4],\n",
              "       [ 5,  6,  7,  8,  9],\n",
              "       [10, 11, 12, 13, 14],\n",
              "       [15, 16, 17, 18, 19],\n",
              "       [20, 21, 22, 23, 24]])"
            ]
          },
          "metadata": {
            "tags": []
          },
          "execution_count": 185
        }
      ]
    },
    {
      "cell_type": "markdown",
      "metadata": {
        "id": "j0pCMXVuEV31",
        "colab_type": "text"
      },
      "source": [
        "Обращение к строке матрицы"
      ]
    },
    {
      "cell_type": "code",
      "metadata": {
        "id": "udW5T_1FVck4",
        "colab_type": "code",
        "outputId": "0a802a61-b2b4-41f8-c997-79cafdf002af",
        "colab": {
          "base_uri": "https://localhost:8080/"
        }
      },
      "source": [
        "A[2]"
      ],
      "execution_count": 0,
      "outputs": [
        {
          "output_type": "execute_result",
          "data": {
            "text/plain": [
              "array([10, 11, 12, 13, 14])"
            ]
          },
          "metadata": {
            "tags": []
          },
          "execution_count": 186
        }
      ]
    },
    {
      "cell_type": "markdown",
      "metadata": {
        "id": "VQ8jSNYVEY20",
        "colab_type": "text"
      },
      "source": [
        "Обращение к столбцу матрицы"
      ]
    },
    {
      "cell_type": "code",
      "metadata": {
        "id": "PyVcUcCxVm9V",
        "colab_type": "code",
        "outputId": "6485ffed-e52a-4830-adbb-96cd4c0d3ff5",
        "colab": {
          "base_uri": "https://localhost:8080/"
        }
      },
      "source": [
        "A[:, 2]"
      ],
      "execution_count": 0,
      "outputs": [
        {
          "output_type": "execute_result",
          "data": {
            "text/plain": [
              "array([ 2,  7, 12, 17, 22])"
            ]
          },
          "metadata": {
            "tags": []
          },
          "execution_count": 187
        }
      ]
    },
    {
      "cell_type": "markdown",
      "metadata": {
        "id": "NkAyagfGEboM",
        "colab_type": "text"
      },
      "source": [
        "Обращение к элементу матрицы"
      ]
    },
    {
      "cell_type": "code",
      "metadata": {
        "id": "m9y07fJsVo4i",
        "colab_type": "code",
        "outputId": "e710ae5c-a19f-4026-8f9f-781f55e25bf1",
        "colab": {
          "base_uri": "https://localhost:8080/"
        }
      },
      "source": [
        "A[2, 2]"
      ],
      "execution_count": 0,
      "outputs": [
        {
          "output_type": "execute_result",
          "data": {
            "text/plain": [
              "12"
            ]
          },
          "metadata": {
            "tags": []
          },
          "execution_count": 188
        }
      ]
    },
    {
      "cell_type": "markdown",
      "metadata": {
        "id": "OZ1ZfbGnEdyb",
        "colab_type": "text"
      },
      "source": [
        "Срезы матрицы"
      ]
    },
    {
      "cell_type": "code",
      "metadata": {
        "id": "C0W7-DbyVrny",
        "colab_type": "code",
        "outputId": "520dea3e-f471-475c-f1ff-3fc0ba0dcc6c",
        "colab": {
          "base_uri": "https://localhost:8080/"
        }
      },
      "source": [
        "A[0:3, 0:3]"
      ],
      "execution_count": 0,
      "outputs": [
        {
          "output_type": "execute_result",
          "data": {
            "text/plain": [
              "array([[ 0,  1,  2],\n",
              "       [ 5,  6,  7],\n",
              "       [10, 11, 12]])"
            ]
          },
          "metadata": {
            "tags": []
          },
          "execution_count": 189
        }
      ]
    },
    {
      "cell_type": "code",
      "metadata": {
        "id": "DVPT3FgaV6A1",
        "colab_type": "code",
        "colab": {}
      },
      "source": [
        "A[0:3, 0:3] = 100"
      ],
      "execution_count": 0,
      "outputs": []
    },
    {
      "cell_type": "code",
      "metadata": {
        "id": "cYmFyJS2V9cS",
        "colab_type": "code",
        "outputId": "7b8e8c5c-5bf8-4f3c-ba27-971c1b5f38bb",
        "colab": {
          "base_uri": "https://localhost:8080/"
        }
      },
      "source": [
        "A"
      ],
      "execution_count": 0,
      "outputs": [
        {
          "output_type": "execute_result",
          "data": {
            "text/plain": [
              "array([[100, 100, 100,   3,   4],\n",
              "       [100, 100, 100,   8,   9],\n",
              "       [100, 100, 100,  13,  14],\n",
              "       [ 15,  16,  17,  18,  19],\n",
              "       [ 20,  21,  22,  23,  24]])"
            ]
          },
          "metadata": {
            "tags": []
          },
          "execution_count": 191
        }
      ]
    },
    {
      "cell_type": "code",
      "metadata": {
        "id": "C8knsmBNV_RL",
        "colab_type": "code",
        "colab": {}
      },
      "source": [
        "A[2] = 50"
      ],
      "execution_count": 0,
      "outputs": []
    },
    {
      "cell_type": "code",
      "metadata": {
        "id": "7M3YCuoIWEJz",
        "colab_type": "code",
        "outputId": "b8c2d435-ee5c-4ab7-deb6-c9e1c3a02063",
        "colab": {
          "base_uri": "https://localhost:8080/"
        }
      },
      "source": [
        "A"
      ],
      "execution_count": 0,
      "outputs": [
        {
          "output_type": "execute_result",
          "data": {
            "text/plain": [
              "array([[100, 100, 100,   3,   4],\n",
              "       [100, 100, 100,   8,   9],\n",
              "       [ 50,  50,  50,  50,  50],\n",
              "       [ 15,  16,  17,  18,  19],\n",
              "       [ 20,  21,  22,  23,  24]])"
            ]
          },
          "metadata": {
            "tags": []
          },
          "execution_count": 193
        }
      ]
    },
    {
      "cell_type": "code",
      "metadata": {
        "id": "Y7PPHJ-1XNqd",
        "colab_type": "code",
        "colab": {}
      },
      "source": [
        "A[1] = np.array([10, 20, 30, 40, 50])"
      ],
      "execution_count": 0,
      "outputs": []
    },
    {
      "cell_type": "code",
      "metadata": {
        "id": "ZhoQS3ODXaMJ",
        "colab_type": "code",
        "outputId": "99d1f3c1-2460-4809-8841-9380ea3b1bd9",
        "colab": {
          "base_uri": "https://localhost:8080/"
        }
      },
      "source": [
        "A"
      ],
      "execution_count": 0,
      "outputs": [
        {
          "output_type": "execute_result",
          "data": {
            "text/plain": [
              "array([[100, 100, 100,   3,   4],\n",
              "       [ 10,  20,  30,  40,  50],\n",
              "       [ 50,  50,  50,  50,  50],\n",
              "       [ 15,  16,  17,  18,  19],\n",
              "       [ 20,  21,  22,  23,  24]])"
            ]
          },
          "metadata": {
            "tags": []
          },
          "execution_count": 195
        }
      ]
    },
    {
      "cell_type": "markdown",
      "metadata": {
        "id": "Fiu7O2mCX7IX",
        "colab_type": "text"
      },
      "source": [
        "#### Матрицы из нулей, единиц"
      ]
    },
    {
      "cell_type": "code",
      "metadata": {
        "id": "rFi-KOOiXtb2",
        "colab_type": "code",
        "outputId": "c41c8878-d399-4f73-d302-ea514ad6fb82",
        "colab": {
          "base_uri": "https://localhost:8080/"
        }
      },
      "source": [
        "np.ones((4,5))"
      ],
      "execution_count": 0,
      "outputs": [
        {
          "output_type": "execute_result",
          "data": {
            "text/plain": [
              "array([[1., 1., 1., 1., 1.],\n",
              "       [1., 1., 1., 1., 1.],\n",
              "       [1., 1., 1., 1., 1.],\n",
              "       [1., 1., 1., 1., 1.]])"
            ]
          },
          "metadata": {
            "tags": []
          },
          "execution_count": 196
        }
      ]
    },
    {
      "cell_type": "code",
      "metadata": {
        "id": "Xwj8qaI1X3uK",
        "colab_type": "code",
        "outputId": "0e4b2337-41cf-4434-e394-1c1fd74e488a",
        "colab": {
          "base_uri": "https://localhost:8080/"
        }
      },
      "source": [
        "np.zeros((4,5))"
      ],
      "execution_count": 0,
      "outputs": [
        {
          "output_type": "execute_result",
          "data": {
            "text/plain": [
              "array([[0., 0., 0., 0., 0.],\n",
              "       [0., 0., 0., 0., 0.],\n",
              "       [0., 0., 0., 0., 0.],\n",
              "       [0., 0., 0., 0., 0.]])"
            ]
          },
          "metadata": {
            "tags": []
          },
          "execution_count": 197
        }
      ]
    },
    {
      "cell_type": "markdown",
      "metadata": {
        "id": "AwG2vjM1Xc2O",
        "colab_type": "text"
      },
      "source": [
        "#### Задача 5. Создать матрицу с элементами вида $a_{i,j} = i$\n",
        "\n",
        "То есть все значения в строке одинаковы и равны номеру строки\n",
        "\n",
        "Вид матрицы размера $(4,4)$: \n",
        "\n",
        "$\\begin{pmatrix}\n",
        "0 & 0 & 0 & 0 \\\\\n",
        "1 & 1 & 1 & 1\\\\\n",
        "2&2&2&2\\\\\n",
        "3&3&3&3\n",
        "\\end{pmatrix}$"
      ]
    },
    {
      "cell_type": "code",
      "metadata": {
        "id": "EH56jE1lYE7i",
        "colab_type": "code",
        "colab": {}
      },
      "source": [
        "def create_rows_matrix(n,m):\n",
        "  array = np.zeros((n,m))\n",
        "  for i in range(n):\n",
        "    array[i] = i\n",
        "  return array"
      ],
      "execution_count": 0,
      "outputs": []
    },
    {
      "cell_type": "code",
      "metadata": {
        "id": "UB_Xc84RXcQE",
        "colab_type": "code",
        "outputId": "d7d9d780-cbc9-40cc-af95-2369f67348fe",
        "colab": {
          "base_uri": "https://localhost:8080/"
        }
      },
      "source": [
        "create_rows_matrix(3,5)"
      ],
      "execution_count": 0,
      "outputs": [
        {
          "output_type": "execute_result",
          "data": {
            "text/plain": [
              "array([[0., 0., 0., 0., 0.],\n",
              "       [1., 1., 1., 1., 1.],\n",
              "       [2., 2., 2., 2., 2.]])"
            ]
          },
          "metadata": {
            "tags": []
          },
          "execution_count": 199
        }
      ]
    },
    {
      "cell_type": "code",
      "metadata": {
        "id": "hbrQZnoSYnAC",
        "colab_type": "code",
        "colab": {}
      },
      "source": [
        "def create_columns_matrix(n,m):\n",
        "  array = np.zeros((n,m))\n",
        "  for j in range(m):\n",
        "    array[:, j] = j\n",
        "  return array"
      ],
      "execution_count": 0,
      "outputs": []
    },
    {
      "cell_type": "code",
      "metadata": {
        "id": "-j5odw3QYrwZ",
        "colab_type": "code",
        "outputId": "ca5d269a-e1b3-4e60-e1ad-1e5ff9a07eea",
        "colab": {
          "base_uri": "https://localhost:8080/"
        }
      },
      "source": [
        "create_columns_matrix(3,5)"
      ],
      "execution_count": 0,
      "outputs": [
        {
          "output_type": "execute_result",
          "data": {
            "text/plain": [
              "array([[0., 1., 2., 3., 4.],\n",
              "       [0., 1., 2., 3., 4.],\n",
              "       [0., 1., 2., 3., 4.]])"
            ]
          },
          "metadata": {
            "tags": []
          },
          "execution_count": 201
        }
      ]
    },
    {
      "cell_type": "markdown",
      "metadata": {
        "colab_type": "text",
        "id": "emKRAj6QcmKD"
      },
      "source": [
        "#### Задача 6. Создать матрицу $A_{n,m}$ со сдвигом в строках.\n",
        "\n",
        "Вид матрицы размера $(4,4)$: \n",
        "\n",
        "$\\begin{pmatrix}\n",
        "0 & 1 & 2 & 3 \\\\\n",
        "1 &2&3&4\\\\\n",
        "2&3&4&5\\\\\n",
        "3&4&5&6\n",
        "\\end{pmatrix}$"
      ]
    },
    {
      "cell_type": "code",
      "metadata": {
        "id": "u_a7E7B1cuA0",
        "colab_type": "code",
        "colab": {}
      },
      "source": [
        "def shift_matrix(n, m):\n",
        "  array = np.zeros((n,m))\n",
        "  for i in range(n):\n",
        "    array[i] = np.arange(i, m+i)\n",
        "  return array.reshape(n,m) "
      ],
      "execution_count": 0,
      "outputs": []
    },
    {
      "cell_type": "code",
      "metadata": {
        "id": "cq1BbvcZcvDN",
        "colab_type": "code",
        "outputId": "130c6117-4eb0-49d2-8f6f-4488c8f2d8e9",
        "colab": {
          "base_uri": "https://localhost:8080/"
        }
      },
      "source": [
        "shift_matrix(5,6)"
      ],
      "execution_count": 0,
      "outputs": [
        {
          "output_type": "execute_result",
          "data": {
            "text/plain": [
              "array([[0., 1., 2., 3., 4., 5.],\n",
              "       [1., 2., 3., 4., 5., 6.],\n",
              "       [2., 3., 4., 5., 6., 7.],\n",
              "       [3., 4., 5., 6., 7., 8.],\n",
              "       [4., 5., 6., 7., 8., 9.]])"
            ]
          },
          "metadata": {
            "tags": []
          },
          "execution_count": 203
        }
      ]
    },
    {
      "cell_type": "markdown",
      "metadata": {
        "id": "ET7A7W7ahdMU",
        "colab_type": "text"
      },
      "source": [
        "#### Конкатенация матриц по строкам и столбцам"
      ]
    },
    {
      "cell_type": "code",
      "metadata": {
        "id": "yAtsfAg_htqM",
        "colab_type": "code",
        "colab": {}
      },
      "source": [
        "A = np.array([[1,2,3], \n",
        "              [4,5,6]])\n",
        "B = np.array([[7,8,9],\n",
        "               [10,11,12]])"
      ],
      "execution_count": 0,
      "outputs": []
    },
    {
      "cell_type": "code",
      "metadata": {
        "id": "rOPQEi9uh684",
        "colab_type": "code",
        "outputId": "49cefc4b-1971-4a92-a64b-1bfcf675d583",
        "colab": {
          "base_uri": "https://localhost:8080/"
        }
      },
      "source": [
        "C = np.vstack((A, B))\n",
        "C"
      ],
      "execution_count": 0,
      "outputs": [
        {
          "output_type": "execute_result",
          "data": {
            "text/plain": [
              "array([[ 1,  2,  3],\n",
              "       [ 4,  5,  6],\n",
              "       [ 7,  8,  9],\n",
              "       [10, 11, 12]])"
            ]
          },
          "metadata": {
            "tags": []
          },
          "execution_count": 205
        }
      ]
    },
    {
      "cell_type": "code",
      "metadata": {
        "id": "fd0Vv-umiBQM",
        "colab_type": "code",
        "outputId": "35d0bd32-8fc1-4009-9ceb-27de5a91fe4d",
        "colab": {
          "base_uri": "https://localhost:8080/"
        }
      },
      "source": [
        "D = np.hstack((A, B))\n",
        "D"
      ],
      "execution_count": 0,
      "outputs": [
        {
          "output_type": "execute_result",
          "data": {
            "text/plain": [
              "array([[ 1,  2,  3,  7,  8,  9],\n",
              "       [ 4,  5,  6, 10, 11, 12]])"
            ]
          },
          "metadata": {
            "tags": []
          },
          "execution_count": 206
        }
      ]
    },
    {
      "cell_type": "markdown",
      "metadata": {
        "id": "1gvm52UsikMK",
        "colab_type": "text"
      },
      "source": [
        "### Задача 7. Для квадратной матрицы $A$ создать блочную матрицу вида\n",
        " $\\begin{bmatrix}\n",
        "A & A^T\n",
        " \\end{bmatrix}$. (Конкатенация двух матриц)"
      ]
    },
    {
      "cell_type": "code",
      "metadata": {
        "id": "vvsxDsYFiGb3",
        "colab_type": "code",
        "colab": {}
      },
      "source": [
        "def concat_transpose(A):\n",
        "  assert A.shape[0] == A.shape[1]\n",
        "\n",
        "  return np.hstack((A, A.T))"
      ],
      "execution_count": 0,
      "outputs": []
    },
    {
      "cell_type": "code",
      "metadata": {
        "id": "6iy3xlSZjgy1",
        "colab_type": "code",
        "colab": {}
      },
      "source": [
        "A = np.array([[3,4,5],\n",
        "              [1,2,3],\n",
        "              [3,4,2]])"
      ],
      "execution_count": 0,
      "outputs": []
    },
    {
      "cell_type": "code",
      "metadata": {
        "id": "wGgaZ45IkLHf",
        "colab_type": "code",
        "outputId": "a8772684-9123-49c5-99f4-1c247ffef2c3",
        "colab": {
          "base_uri": "https://localhost:8080/"
        }
      },
      "source": [
        "concat_transpose(A)"
      ],
      "execution_count": 0,
      "outputs": [
        {
          "output_type": "execute_result",
          "data": {
            "text/plain": [
              "array([[3, 4, 5, 3, 1, 3],\n",
              "       [1, 2, 3, 4, 2, 4],\n",
              "       [3, 4, 2, 5, 3, 2]])"
            ]
          },
          "metadata": {
            "tags": []
          },
          "execution_count": 209
        }
      ]
    },
    {
      "cell_type": "markdown",
      "metadata": {
        "id": "wFLWgVjjKmY6",
        "colab_type": "text"
      },
      "source": [
        "# Функции"
      ]
    },
    {
      "cell_type": "markdown",
      "metadata": {
        "id": "j6XaWpaMFWFC",
        "colab_type": "text"
      },
      "source": [
        "функция одной переменной"
      ]
    },
    {
      "cell_type": "code",
      "metadata": {
        "id": "BwkF_TLqlGJ1",
        "colab_type": "code",
        "colab": {}
      },
      "source": [
        "x = 4"
      ],
      "execution_count": 0,
      "outputs": []
    },
    {
      "cell_type": "code",
      "metadata": {
        "id": "dxlRmbP5k-J0",
        "colab_type": "code",
        "outputId": "414160a7-c80d-4b53-a778-055c3545c014",
        "colab": {
          "base_uri": "https://localhost:8080/"
        }
      },
      "source": [
        "np.sqrt(x)"
      ],
      "execution_count": 0,
      "outputs": [
        {
          "output_type": "execute_result",
          "data": {
            "text/plain": [
              "2.0"
            ]
          },
          "metadata": {
            "tags": []
          },
          "execution_count": 211
        }
      ]
    },
    {
      "cell_type": "markdown",
      "metadata": {
        "id": "PV2KgW4qFcDS",
        "colab_type": "text"
      },
      "source": [
        "функция от вектора"
      ]
    },
    {
      "cell_type": "code",
      "metadata": {
        "id": "lwfTM5v2lCRv",
        "colab_type": "code",
        "colab": {}
      },
      "source": [
        "squares_vec = np.array([1,4,9,16,25])"
      ],
      "execution_count": 0,
      "outputs": []
    },
    {
      "cell_type": "code",
      "metadata": {
        "id": "i4auKil2lLo3",
        "colab_type": "code",
        "outputId": "c9994001-366e-40cc-d569-68b9d25b4ec4",
        "colab": {
          "base_uri": "https://localhost:8080/"
        }
      },
      "source": [
        "np.sqrt(squares_vec)"
      ],
      "execution_count": 0,
      "outputs": [
        {
          "output_type": "execute_result",
          "data": {
            "text/plain": [
              "array([1., 2., 3., 4., 5.])"
            ]
          },
          "metadata": {
            "tags": []
          },
          "execution_count": 213
        }
      ]
    },
    {
      "cell_type": "code",
      "metadata": {
        "id": "RVtb0S15lSdw",
        "colab_type": "code",
        "outputId": "07b1bd23-f950-4f7c-f34b-b30383af4fac",
        "colab": {
          "base_uri": "https://localhost:8080/"
        }
      },
      "source": [
        "x**2"
      ],
      "execution_count": 0,
      "outputs": [
        {
          "output_type": "execute_result",
          "data": {
            "text/plain": [
              "16"
            ]
          },
          "metadata": {
            "tags": []
          },
          "execution_count": 214
        }
      ]
    },
    {
      "cell_type": "code",
      "metadata": {
        "id": "Mikmm_CllVjh",
        "colab_type": "code",
        "outputId": "5a0e22c3-87d2-48d4-8f16-817ad4749294",
        "colab": {
          "base_uri": "https://localhost:8080/"
        }
      },
      "source": [
        "squares_vec**2"
      ],
      "execution_count": 0,
      "outputs": [
        {
          "output_type": "execute_result",
          "data": {
            "text/plain": [
              "array([  1,  16,  81, 256, 625])"
            ]
          },
          "metadata": {
            "tags": []
          },
          "execution_count": 215
        }
      ]
    },
    {
      "cell_type": "code",
      "metadata": {
        "id": "dpAkaMWflZmo",
        "colab_type": "code",
        "colab": {}
      },
      "source": [
        "def rub2usd(x):\n",
        "  return x / 63.54\n"
      ],
      "execution_count": 0,
      "outputs": []
    },
    {
      "cell_type": "code",
      "metadata": {
        "id": "M4flF8d7le9C",
        "colab_type": "code",
        "outputId": "26900aa5-950c-41f7-d544-dc6de3438ff3",
        "colab": {
          "base_uri": "https://localhost:8080/"
        }
      },
      "source": [
        "rub2usd(2000)"
      ],
      "execution_count": 0,
      "outputs": [
        {
          "output_type": "execute_result",
          "data": {
            "text/plain": [
              "31.47623544224111"
            ]
          },
          "metadata": {
            "tags": []
          },
          "execution_count": 217
        }
      ]
    },
    {
      "cell_type": "code",
      "metadata": {
        "id": "Ylflv5Q4lgIN",
        "colab_type": "code",
        "colab": {}
      },
      "source": [
        "items = np.array([2000,2500,3534,3000,3200])"
      ],
      "execution_count": 0,
      "outputs": []
    },
    {
      "cell_type": "code",
      "metadata": {
        "id": "sXKxGKfllnmd",
        "colab_type": "code",
        "outputId": "3f9bd44b-d96b-41c5-ce1d-2be4d2979e48",
        "colab": {
          "base_uri": "https://localhost:8080/"
        }
      },
      "source": [
        "rub2usd(items)"
      ],
      "execution_count": 0,
      "outputs": [
        {
          "output_type": "execute_result",
          "data": {
            "text/plain": [
              "array([31.47623544, 39.3452943 , 55.61850803, 47.21435316, 50.36197671])"
            ]
          },
          "metadata": {
            "tags": []
          },
          "execution_count": 219
        }
      ]
    },
    {
      "cell_type": "code",
      "metadata": {
        "id": "bqm01qaKlp4w",
        "colab_type": "code",
        "colab": {}
      },
      "source": [
        "shop = np.array([[6500,3000,3500,4000,2000],\n",
        "                  [5200,3000,1500,4000,3000]])"
      ],
      "execution_count": 0,
      "outputs": []
    },
    {
      "cell_type": "code",
      "metadata": {
        "id": "TFNf9wzolvWJ",
        "colab_type": "code",
        "outputId": "b70fba68-a9fc-4533-a314-8c22eb51e243",
        "colab": {
          "base_uri": "https://localhost:8080/"
        }
      },
      "source": [
        "rub2usd(shop)"
      ],
      "execution_count": 0,
      "outputs": [
        {
          "output_type": "execute_result",
          "data": {
            "text/plain": [
              "array([[102.29776519,  47.21435316,  55.08341202,  62.95247088,\n",
              "         31.47623544],\n",
              "       [ 81.83821215,  47.21435316,  23.60717658,  62.95247088,\n",
              "         47.21435316]])"
            ]
          },
          "metadata": {
            "tags": []
          },
          "execution_count": 221
        }
      ]
    },
    {
      "cell_type": "markdown",
      "metadata": {
        "id": "xFB7p8pYKmjO",
        "colab_type": "text"
      },
      "source": [
        "# Графики функций"
      ]
    },
    {
      "cell_type": "code",
      "metadata": {
        "id": "FqaoEc0mLe6u",
        "colab_type": "code",
        "colab": {}
      },
      "source": [
        "import matplotlib.pyplot as plt"
      ],
      "execution_count": 0,
      "outputs": []
    },
    {
      "cell_type": "code",
      "metadata": {
        "id": "B7uJaf3uLhMX",
        "colab_type": "code",
        "colab": {}
      },
      "source": [
        "inflation = np.array([8.78, 6.1, 6.58, 6.45, 11.36, 12.91, 5.38, 2.52, 4.27, 2.68])\n",
        "years = np.arange(2010, 2020)"
      ],
      "execution_count": 0,
      "outputs": []
    },
    {
      "cell_type": "code",
      "metadata": {
        "id": "JTMsT-u0ezl5",
        "colab_type": "code",
        "outputId": "03157754-14d8-4530-9579-8b985cf06148",
        "colab": {
          "base_uri": "https://localhost:8080/",
          "height": 35
        }
      },
      "source": [
        "years"
      ],
      "execution_count": 0,
      "outputs": [
        {
          "output_type": "execute_result",
          "data": {
            "text/plain": [
              "array([2010, 2011, 2012, 2013, 2014, 2015, 2016, 2017, 2018, 2019])"
            ]
          },
          "metadata": {
            "tags": []
          },
          "execution_count": 224
        }
      ]
    },
    {
      "cell_type": "code",
      "metadata": {
        "id": "xH9Cs4yfa3MD",
        "colab_type": "code",
        "outputId": "e37634c3-6cc7-46f5-bee8-114b13645b4a",
        "colab": {
          "base_uri": "https://localhost:8080/",
          "height": 265
        }
      },
      "source": [
        "plt.figure(figsize=(6, 4))\n",
        "plt.scatter(years, inflation, label='inflation', marker='o')\n",
        "plt.legend()\n",
        "plt.show()"
      ],
      "execution_count": 0,
      "outputs": [
        {
          "output_type": "display_data",
          "data": {
            "image/png": "[encoded data removed]",
            "text/plain": [
              "<Figure size 432x288 with 1 Axes>"
            ]
          },
          "metadata": {
            "tags": []
          }
        }
      ]
    },
    {
      "cell_type": "code",
      "metadata": {
        "id": "tK5MGQmqe6no",
        "colab_type": "code",
        "outputId": "479029f0-df71-443f-c7e1-c537317b60d2",
        "colab": {
          "base_uri": "https://localhost:8080/",
          "height": 265
        }
      },
      "source": [
        "plt.figure(figsize=(6, 4))\n",
        "plt.plot(years, inflation)\n",
        "plt.show()"
      ],
      "execution_count": 0,
      "outputs": [
        {
          "output_type": "display_data",
          "data": {
            "image/png": "[encoded data removed]",
            "text/plain": [
              "<Figure size 432x288 with 1 Axes>"
            ]
          },
          "metadata": {
            "tags": []
          }
        }
      ]
    },
    {
      "cell_type": "code",
      "metadata": {
        "id": "0zYWHYGUfvSt",
        "colab_type": "code",
        "outputId": "9e34ff08-f951-4c87-8271-bc83964ed855",
        "colab": {
          "base_uri": "https://localhost:8080/",
          "height": 279
        }
      },
      "source": [
        "plt.figure(figsize=(6, 4))\n",
        "plt.plot(years, inflation, marker='o', color='black')\n",
        "plt.xlabel('Год')\n",
        "plt.ylabel('Инфляция')\n",
        "plt.show()"
      ],
      "execution_count": 0,
      "outputs": [
        {
          "output_type": "display_data",
          "data": {
            "image/png": "[encoded data removed]",
            "text/plain": [
              "<Figure size 432x288 with 1 Axes>"
            ]
          },
          "metadata": {
            "tags": []
          }
        }
      ]
    },
    {
      "cell_type": "code",
      "metadata": {
        "id": "HLtnSjj0KW7r",
        "colab_type": "code",
        "colab": {}
      },
      "source": [
        "day_temp = np.array([-2, -5, -7, -8, -8, -10, -10, -9, -8, -7, -6, -5, -3, -3, -4, -5, -7, -8, -8,\n",
        "                     -8, -9, -9, -8, -8, -9, -10, -8, -7, -7, -7, -6])\n",
        "night_temp = np.array([-6, -6, -9, -9, -11, -11, -11, -9, -9, -8, -7, -5, -4, -5, -6, -7, -9, -10, \n",
        "                       -10, -10, -11, -9, -9, -10, -12, -11, -9, -9, -9, -8, -8])"
      ],
      "execution_count": 0,
      "outputs": []
    },
    {
      "cell_type": "code",
      "metadata": {
        "id": "BD-Zk3k0N2yB",
        "colab_type": "code",
        "outputId": "02357d61-371b-4d88-e79b-5ed65d0b11e7",
        "colab": {
          "base_uri": "https://localhost:8080/",
          "height": 279
        }
      },
      "source": [
        "plt.figure(figsize=(10, 4))\n",
        "plt.plot(day_temp, color='red', label='дневная температура')\n",
        "plt.plot(night_temp, color='blue', label='ночная температура')\n",
        "plt.fill_between(x=np.arange(31), y1=night_temp, y2=day_temp, alpha=0.5)\n",
        "plt.xlabel('День января')\n",
        "plt.ylabel('Температура')\n",
        "plt.legend()\n",
        "plt.show()"
      ],
      "execution_count": 0,
      "outputs": [
        {
          "output_type": "display_data",
          "data": {
            "image/png": "[encoded data removed]",
            "text/plain": [
              "<Figure size 720x288 with 1 Axes>"
            ]
          },
          "metadata": {
            "tags": []
          }
        }
      ]
    },
    {
      "cell_type": "code",
      "metadata": {
        "id": "yfVML0NsQhgh",
        "colab_type": "code",
        "colab": {}
      },
      "source": [
        "x = np.arange(-2*np.pi, 2*np.pi, 0.01)"
      ],
      "execution_count": 0,
      "outputs": []
    },
    {
      "cell_type": "code",
      "metadata": {
        "id": "kJF2t6NHQlxg",
        "colab_type": "code",
        "outputId": "38429c9f-ee3b-4344-d424-48500b2fb8c3",
        "colab": {
          "base_uri": "https://localhost:8080/",
          "height": 279
        }
      },
      "source": [
        "plt.figure(figsize=(10, 4))\n",
        "plt.plot(x, np.sin(x), color='red', label='$\\sin{x}$')\n",
        "plt.plot(x, np.cos(x), color='blue', label='$\\cos{x}$')\n",
        "plt.plot(x, np.cos(x + np.pi/2), color='green', dashes=[2, 1], label='$\\cos{(x+\\\\frac{\\pi}{2})}$')\n",
        "plt.xlabel('x')\n",
        "plt.legend(loc='upper left')\n",
        "plt.show()"
      ],
      "execution_count": 0,
      "outputs": [
        {
          "output_type": "display_data",
          "data": {
            "image/png": "[encoded data removed]",
            "text/plain": [
              "<Figure size 720x288 with 1 Axes>"
            ]
          },
          "metadata": {
            "tags": []
          }
        }
      ]
    },
    {
      "cell_type": "code",
      "metadata": {
        "id": "hqpw1GuYSxER",
        "colab_type": "code",
        "outputId": "421c3160-25f3-4968-a332-897565d63d43",
        "colab": {
          "base_uri": "https://localhost:8080/",
          "height": 265
        }
      },
      "source": [
        "x = np.arange(0, 2, 0.01)\n",
        "\n",
        "plt.figure(figsize=(6,4))\n",
        "plt.plot(x, x, x, x**2, x, x**3)\n",
        "plt.show()"
      ],
      "execution_count": 0,
      "outputs": [
        {
          "output_type": "display_data",
          "data": {
            "image/png": "[encoded data removed]",
            "text/plain": [
              "<Figure size 432x288 with 1 Axes>"
            ]
          },
          "metadata": {
            "tags": []
          }
        }
      ]
    },
    {
      "cell_type": "code",
      "metadata": {
        "id": "BK3IYmNzLpq3",
        "colab_type": "code",
        "colab": {}
      },
      "source": [
        "marks = np.array([3,3,4,5,5,4,2,4,4,4,4,5])"
      ],
      "execution_count": 0,
      "outputs": []
    },
    {
      "cell_type": "code",
      "metadata": {
        "id": "sezFQQq2g-Td",
        "colab_type": "code",
        "outputId": "b7afa88d-1589-49b5-8335-3a2ef5b35c8d",
        "colab": {
          "base_uri": "https://localhost:8080/",
          "height": 265
        }
      },
      "source": [
        "plt.figure(figsize=(6, 4))\n",
        "plt.hist(marks, label='оценки Пети Иванова', alpha=0.5)\n",
        "plt.legend(loc='upper left')\n",
        "plt.show()"
      ],
      "execution_count": 0,
      "outputs": [
        {
          "output_type": "display_data",
          "data": {
            "image/png": "[encoded data removed]",
            "text/plain": [
              "<Figure size 432x288 with 1 Axes>"
            ]
          },
          "metadata": {
            "tags": []
          }
        }
      ]
    },
    {
      "cell_type": "code",
      "metadata": {
        "id": "S_eTfUHDj1rR",
        "colab_type": "code",
        "outputId": "df1addb6-3a8c-4e9e-9937-8d2a4df2603e",
        "colab": {
          "base_uri": "https://localhost:8080/",
          "height": 267
        }
      },
      "source": [
        "plt.figure(figsize=(6, 4))\n",
        "\n",
        "x = np.random.normal(1, 2, 5000)\n",
        "y = np.random.normal(-1, 3, 5000)\n",
        "plt.hist([x, y], bins=20, label=['$N(1,2)$', '$N(-1,3)$'])\n",
        "plt.legend(loc='upper right')\n",
        "plt.show()"
      ],
      "execution_count": 0,
      "outputs": [
        {
          "output_type": "display_data",
          "data": {
            "image/png": "[encoded data removed]",
            "text/plain": [
              "<Figure size 432x288 with 1 Axes>"
            ]
          },
          "metadata": {
            "tags": []
          }
        }
      ]
    }
  ]
}