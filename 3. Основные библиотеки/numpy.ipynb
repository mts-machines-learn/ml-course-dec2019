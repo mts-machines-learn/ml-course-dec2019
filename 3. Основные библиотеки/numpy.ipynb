{
  "nbformat": 4,
  "nbformat_minor": 0,
  "metadata": {
    "kernelspec": {
      "display_name": "Python 3",
      "language": "python",
      "name": "python3"
    },
    "language_info": {
      "codemirror_mode": {
        "name": "ipython",
        "version": 3
      },
      "file_extension": ".py",
      "mimetype": "text/x-python",
      "name": "python",
      "nbconvert_exporter": "python",
      "pygments_lexer": "ipython3",
      "version": "3.6.5"
    },
    "colab": {
      "name": "numpy.ipynb",
      "provenance": [],
      "include_colab_link": true
    }
  },
  "cells": [
    {
      "cell_type": "markdown",
      "metadata": {
        "id": "view-in-github",
        "colab_type": "text"
      },
      "source": [
        "<a href=\"https://colab.research.google.com/github/mts-machines-learn/ml-course-dec2019/blob/dev/3.%20%D0%9E%D1%81%D0%BD%D0%BE%D0%B2%D0%BD%D1%8B%D0%B5%20%D0%B1%D0%B8%D0%B1%D0%BB%D0%B8%D0%BE%D1%82%D0%B5%D0%BA%D0%B8/numpy.ipynb\" target=\"_parent\"><img src=\"https://colab.research.google.com/assets/colab-badge.svg\" alt=\"Open In Colab\"/></a>"
      ]
    },
    {
      "cell_type": "markdown",
      "metadata": {
        "id": "huMIivmyreLS",
        "colab_type": "text"
      },
      "source": [
        "\n",
        "# Библиотека numpy\n"
      ]
    },
    {
      "cell_type": "markdown",
      "metadata": {
        "id": "Lp76VmnjgXyL",
        "colab_type": "text"
      },
      "source": [
        "## Одномерные массивы"
      ]
    },
    {
      "cell_type": "code",
      "metadata": {
        "id": "-mllcDPereLU",
        "colab_type": "code",
        "colab": {}
      },
      "source": [
        "import numpy as np"
      ],
      "execution_count": 0,
      "outputs": []
    },
    {
      "cell_type": "markdown",
      "metadata": {
        "id": "ufNVgaSereLX",
        "colab_type": "text"
      },
      "source": [
        "Можно преобразовать список в массив."
      ]
    },
    {
      "cell_type": "code",
      "metadata": {
        "id": "b_WyxoWGreLY",
        "colab_type": "code",
        "outputId": "f25b5488-f13c-4c29-d5c8-22ea758ce7ec",
        "colab": {
          "base_uri": "https://localhost:8080/",
          "height": 34
        }
      },
      "source": [
        "a = np.array([1, 5, 10])\n",
        "a, type(a)"
      ],
      "execution_count": 0,
      "outputs": [
        {
          "output_type": "execute_result",
          "data": {
            "text/plain": [
              "(array([ 1,  5, 10]), numpy.ndarray)"
            ]
          },
          "metadata": {
            "tags": []
          },
          "execution_count": 169
        }
      ]
    },
    {
      "cell_type": "markdown",
      "metadata": {
        "id": "byYtDHcHreLc",
        "colab_type": "text"
      },
      "source": [
        "`print` печатает массивы в удобной форме."
      ]
    },
    {
      "cell_type": "code",
      "metadata": {
        "id": "3PkNlvyOreLd",
        "colab_type": "code",
        "outputId": "757b65bf-88d2-4695-95ca-a7a369a54138",
        "colab": {
          "base_uri": "https://localhost:8080/",
          "height": 34
        }
      },
      "source": [
        "print(a)"
      ],
      "execution_count": 0,
      "outputs": [
        {
          "output_type": "stream",
          "text": [
            "[ 1  5 10]\n"
          ],
          "name": "stdout"
        }
      ]
    },
    {
      "cell_type": "markdown",
      "metadata": {
        "id": "CRAFCPaNreLj",
        "colab_type": "text"
      },
      "source": [
        "Наш массив одномерный."
      ]
    },
    {
      "cell_type": "code",
      "metadata": {
        "id": "JwR_fgpSreLj",
        "colab_type": "code",
        "outputId": "4c4a201d-48b9-4125-fe06-9e282313a54f",
        "colab": {
          "base_uri": "https://localhost:8080/",
          "height": 34
        }
      },
      "source": [
        "a.ndim"
      ],
      "execution_count": 0,
      "outputs": [
        {
          "output_type": "execute_result",
          "data": {
            "text/plain": [
              "1"
            ]
          },
          "metadata": {
            "tags": []
          },
          "execution_count": 171
        }
      ]
    },
    {
      "cell_type": "markdown",
      "metadata": {
        "id": "znqotQd0reLl",
        "colab_type": "text"
      },
      "source": [
        "В $n$-мерном случае возвращается кортеж размеров по каждой координате."
      ]
    },
    {
      "cell_type": "code",
      "metadata": {
        "id": "xJt_AkBcreLm",
        "colab_type": "code",
        "outputId": "4a953a0b-2cf0-4518-92b1-fcc1862d09d1",
        "colab": {
          "base_uri": "https://localhost:8080/",
          "height": 34
        }
      },
      "source": [
        "a.shape"
      ],
      "execution_count": 0,
      "outputs": [
        {
          "output_type": "execute_result",
          "data": {
            "text/plain": [
              "(3,)"
            ]
          },
          "metadata": {
            "tags": []
          },
          "execution_count": 172
        }
      ]
    },
    {
      "cell_type": "markdown",
      "metadata": {
        "id": "BKLefk-FreLo",
        "colab_type": "text"
      },
      "source": [
        "`size` - это полное число элементов в массиве; `len` - размер по первой координате (в 1-мерном случае это то же самое)."
      ]
    },
    {
      "cell_type": "code",
      "metadata": {
        "id": "xytBLg7preLp",
        "colab_type": "code",
        "outputId": "c3e9d7ae-f0ba-47c9-bfcd-52c30c19dd24",
        "colab": {
          "base_uri": "https://localhost:8080/",
          "height": 34
        }
      },
      "source": [
        "len(a), a.size"
      ],
      "execution_count": 0,
      "outputs": [
        {
          "output_type": "execute_result",
          "data": {
            "text/plain": [
              "(3, 3)"
            ]
          },
          "metadata": {
            "tags": []
          },
          "execution_count": 173
        }
      ]
    },
    {
      "cell_type": "markdown",
      "metadata": {
        "id": "1hBWv32hreLr",
        "colab_type": "text"
      },
      "source": [
        "`numpy` предоставляет несколько типов для целых (`int16`, `int32`, `int64`) и чисел с плавающей точкой (`float32`, `float64`)."
      ]
    },
    {
      "cell_type": "code",
      "metadata": {
        "id": "1WjzAAvoreLs",
        "colab_type": "code",
        "outputId": "b83b4b44-11ff-4ed4-9524-af1caf6c13c4",
        "colab": {
          "base_uri": "https://localhost:8080/",
          "height": 34
        }
      },
      "source": [
        "a.dtype, a.dtype.name, a.itemsize"
      ],
      "execution_count": 0,
      "outputs": [
        {
          "output_type": "execute_result",
          "data": {
            "text/plain": [
              "(dtype('int64'), 'int64', 8)"
            ]
          },
          "metadata": {
            "tags": []
          },
          "execution_count": 174
        }
      ]
    },
    {
      "cell_type": "markdown",
      "metadata": {
        "id": "phadKdL6reLv",
        "colab_type": "text"
      },
      "source": [
        "Индексировать массив можно обычным образом."
      ]
    },
    {
      "cell_type": "code",
      "metadata": {
        "id": "x0EB_YShreLw",
        "colab_type": "code",
        "outputId": "9cae607e-6053-485f-e2ce-12454167d53f",
        "colab": {
          "base_uri": "https://localhost:8080/",
          "height": 34
        }
      },
      "source": [
        "a[1]"
      ],
      "execution_count": 0,
      "outputs": [
        {
          "output_type": "execute_result",
          "data": {
            "text/plain": [
              "5"
            ]
          },
          "metadata": {
            "tags": []
          },
          "execution_count": 175
        }
      ]
    },
    {
      "cell_type": "markdown",
      "metadata": {
        "id": "rIlywBzYreLy",
        "colab_type": "text"
      },
      "source": [
        "Массивы - изменяемые объекты."
      ]
    },
    {
      "cell_type": "code",
      "metadata": {
        "id": "kNlRDYSoreLz",
        "colab_type": "code",
        "outputId": "d56df08e-89c5-497d-8156-aa33c0980a8c",
        "colab": {
          "base_uri": "https://localhost:8080/",
          "height": 34
        }
      },
      "source": [
        "a[1] = 3\n",
        "print(a)"
      ],
      "execution_count": 0,
      "outputs": [
        {
          "output_type": "stream",
          "text": [
            "[ 1  3 10]\n"
          ],
          "name": "stdout"
        }
      ]
    },
    {
      "cell_type": "markdown",
      "metadata": {
        "id": "KXOEx4FEreL1",
        "colab_type": "text"
      },
      "source": [
        "Массивы, разумеется, можно использовать в `for` циклах. Но при этом теряется главное преимущество `numpy` - быстродействие. Всегда, когда это возможно, лучше использовать операции над массивами как едиными целыми."
      ]
    },
    {
      "cell_type": "code",
      "metadata": {
        "id": "XpYUaKFXreL1",
        "colab_type": "code",
        "outputId": "2dbc4b9d-3a6a-4707-e043-dd69714f23bd",
        "colab": {
          "base_uri": "https://localhost:8080/",
          "height": 70
        }
      },
      "source": [
        "for i in a:\n",
        "    print(i)"
      ],
      "execution_count": 0,
      "outputs": [
        {
          "output_type": "stream",
          "text": [
            "1\n",
            "3\n",
            "10\n"
          ],
          "name": "stdout"
        }
      ]
    },
    {
      "cell_type": "markdown",
      "metadata": {
        "id": "lRhJIOadreL3",
        "colab_type": "text"
      },
      "source": [
        "Массив чисел с плавающей точкой."
      ]
    },
    {
      "cell_type": "code",
      "metadata": {
        "id": "QSaXciB_reL4",
        "colab_type": "code",
        "outputId": "f9bdd661-bf82-48ab-c684-2477e6cecb67",
        "colab": {
          "base_uri": "https://localhost:8080/",
          "height": 34
        }
      },
      "source": [
        "b = np.array([1., 2, 5])\n",
        "b.dtype"
      ],
      "execution_count": 0,
      "outputs": [
        {
          "output_type": "execute_result",
          "data": {
            "text/plain": [
              "dtype('float64')"
            ]
          },
          "metadata": {
            "tags": []
          },
          "execution_count": 178
        }
      ]
    },
    {
      "cell_type": "markdown",
      "metadata": {
        "id": "TJQnbrWbreL6",
        "colab_type": "text"
      },
      "source": [
        "Точно такой же массив."
      ]
    },
    {
      "cell_type": "code",
      "metadata": {
        "id": "oG_KNdjXreL7",
        "colab_type": "code",
        "outputId": "2463c64f-e1c9-4c47-d4a5-abaf4082dbe4",
        "colab": {
          "base_uri": "https://localhost:8080/",
          "height": 34
        }
      },
      "source": [
        "c = np.array([1, 2, 5], dtype=np.float64)\n",
        "print(c)"
      ],
      "execution_count": 0,
      "outputs": [
        {
          "output_type": "stream",
          "text": [
            "[1. 2. 5.]\n"
          ],
          "name": "stdout"
        }
      ]
    },
    {
      "cell_type": "markdown",
      "metadata": {
        "id": "9U1iTCFWreL9",
        "colab_type": "text"
      },
      "source": [
        "Преобразование данных"
      ]
    },
    {
      "cell_type": "code",
      "metadata": {
        "id": "i9LykLsareL-",
        "colab_type": "code",
        "outputId": "c4377b33-c4fe-4739-cc8a-8cc910728c2d",
        "colab": {
          "base_uri": "https://localhost:8080/",
          "height": 70
        }
      },
      "source": [
        "print(c.dtype)\n",
        "print(c.astype(int))\n",
        "print(c.astype(str))"
      ],
      "execution_count": 0,
      "outputs": [
        {
          "output_type": "stream",
          "text": [
            "float64\n",
            "[1 2 5]\n",
            "['1.0' '2.0' '5.0']\n"
          ],
          "name": "stdout"
        }
      ]
    },
    {
      "cell_type": "markdown",
      "metadata": {
        "id": "m0KBMdmSreMA",
        "colab_type": "text"
      },
      "source": [
        "Массивы, заполненные нулями или единицами. Часто лучше сначала создать такой массив, а потом присваивать значения его элементам."
      ]
    },
    {
      "cell_type": "code",
      "metadata": {
        "id": "TIyKPrUcreMB",
        "colab_type": "code",
        "outputId": "9cad5a24-10bb-4c47-9ea3-38ca5a3bc534",
        "colab": {
          "base_uri": "https://localhost:8080/",
          "height": 34
        }
      },
      "source": [
        "a = np.zeros(3)\n",
        "print(a)"
      ],
      "execution_count": 0,
      "outputs": [
        {
          "output_type": "stream",
          "text": [
            "[0. 0. 0.]\n"
          ],
          "name": "stdout"
        }
      ]
    },
    {
      "cell_type": "code",
      "metadata": {
        "id": "_Q2QuDT6reMD",
        "colab_type": "code",
        "outputId": "fe340bbd-856c-4b00-d843-ce150bfa0638",
        "colab": {
          "base_uri": "https://localhost:8080/",
          "height": 34
        }
      },
      "source": [
        "b = np.ones(3, dtype=np.int64)\n",
        "print(b)"
      ],
      "execution_count": 0,
      "outputs": [
        {
          "output_type": "stream",
          "text": [
            "[1 1 1]\n"
          ],
          "name": "stdout"
        }
      ]
    },
    {
      "cell_type": "markdown",
      "metadata": {
        "id": "Q8G0SxBIreMG",
        "colab_type": "text"
      },
      "source": [
        "Если нужно создать массив, заполненный нулями, длины другого массива, то можно использовать конструкцию"
      ]
    },
    {
      "cell_type": "code",
      "metadata": {
        "id": "IMRleqwWreMH",
        "colab_type": "code",
        "outputId": "4699c21b-4f36-4651-eeb9-fe719deeaa81",
        "colab": {
          "base_uri": "https://localhost:8080/",
          "height": 34
        }
      },
      "source": [
        "np.zeros_like(b)"
      ],
      "execution_count": 0,
      "outputs": [
        {
          "output_type": "execute_result",
          "data": {
            "text/plain": [
              "array([0, 0, 0])"
            ]
          },
          "metadata": {
            "tags": []
          },
          "execution_count": 183
        }
      ]
    },
    {
      "cell_type": "markdown",
      "metadata": {
        "id": "88K9pfiSreMN",
        "colab_type": "text"
      },
      "source": [
        "Функция `arange` подобна `range`. Аргументы могут быть с плавающей точкой. Следует избегать ситуаций, когда *(конец-начало)/шаг* - целое число, потому что в этом случае включение последнего элемента зависит от ошибок округления. Лучше, чтобы конец диапазона был где-то посредине шага."
      ]
    },
    {
      "cell_type": "code",
      "metadata": {
        "id": "OiAWbhEhreMO",
        "colab_type": "code",
        "outputId": "79652d82-5185-4931-8db8-412c583d2893",
        "colab": {
          "base_uri": "https://localhost:8080/",
          "height": 34
        }
      },
      "source": [
        "a = np.arange(0, 10, 2)\n",
        "print(a)"
      ],
      "execution_count": 0,
      "outputs": [
        {
          "output_type": "stream",
          "text": [
            "[0 2 4 6 8]\n"
          ],
          "name": "stdout"
        }
      ]
    },
    {
      "cell_type": "code",
      "metadata": {
        "id": "xlR1yACQreMR",
        "colab_type": "code",
        "outputId": "805c1acb-4460-4f9c-b832-33b21889f226",
        "colab": {
          "base_uri": "https://localhost:8080/",
          "height": 34
        }
      },
      "source": [
        "b = np.arange(0., 10, 2)\n",
        "print(b)"
      ],
      "execution_count": 0,
      "outputs": [
        {
          "output_type": "stream",
          "text": [
            "[0. 2. 4. 6. 8.]\n"
          ],
          "name": "stdout"
        }
      ]
    },
    {
      "cell_type": "markdown",
      "metadata": {
        "id": "nCZFwTLtreMT",
        "colab_type": "text"
      },
      "source": [
        "Последовательности чисел с постоянным шагом можно также создавать функцией `linspace`. Начало и конец диапазона включаются; последний аргумент - число точек."
      ]
    },
    {
      "cell_type": "code",
      "metadata": {
        "id": "w1uMV7szreMU",
        "colab_type": "code",
        "outputId": "f362590c-e861-4bc7-b122-8a026bd43765",
        "colab": {
          "base_uri": "https://localhost:8080/",
          "height": 34
        }
      },
      "source": [
        "a = np.linspace(0, 8, 5)\n",
        "print(a)"
      ],
      "execution_count": 0,
      "outputs": [
        {
          "output_type": "stream",
          "text": [
            "[0. 2. 4. 6. 8.]\n"
          ],
          "name": "stdout"
        }
      ]
    },
    {
      "cell_type": "markdown",
      "metadata": {
        "id": "B-scUtpireMW",
        "colab_type": "text"
      },
      "source": [
        "Последовательность чисел с постоянным шагом по логарифмической шкале от $10^0$ до $10^1$."
      ]
    },
    {
      "cell_type": "code",
      "metadata": {
        "id": "Yygpl-6EreMW",
        "colab_type": "code",
        "outputId": "3d95d9a6-f8f9-43f8-b5c9-5c065d0cc354",
        "colab": {
          "base_uri": "https://localhost:8080/",
          "height": 34
        }
      },
      "source": [
        "b = np.logspace(0, 1, 5)\n",
        "print(b)"
      ],
      "execution_count": 0,
      "outputs": [
        {
          "output_type": "stream",
          "text": [
            "[ 1.          1.77827941  3.16227766  5.62341325 10.        ]\n"
          ],
          "name": "stdout"
        }
      ]
    },
    {
      "cell_type": "markdown",
      "metadata": {
        "id": "H81wKgjTreMX",
        "colab_type": "text"
      },
      "source": [
        "## Операции над одномерными массивами\n",
        "\n",
        "Арифметические операции проводятся поэлементно."
      ]
    },
    {
      "cell_type": "code",
      "metadata": {
        "id": "r4mtyxhZU1zg",
        "colab_type": "code",
        "outputId": "8547bde4-62ee-4c5c-ea02-20b8ed0e2336",
        "colab": {
          "base_uri": "https://localhost:8080/",
          "height": 52
        }
      },
      "source": [
        "print(a)\n",
        "print(b)"
      ],
      "execution_count": 0,
      "outputs": [
        {
          "output_type": "stream",
          "text": [
            "[0. 2. 4. 6. 8.]\n",
            "[ 1.          1.77827941  3.16227766  5.62341325 10.        ]\n"
          ],
          "name": "stdout"
        }
      ]
    },
    {
      "cell_type": "code",
      "metadata": {
        "id": "5eSka4YVreMY",
        "colab_type": "code",
        "outputId": "d14a60d4-cb3d-4967-c8c8-cf2eece2ed0b",
        "colab": {
          "base_uri": "https://localhost:8080/",
          "height": 34
        }
      },
      "source": [
        "print(a + b)"
      ],
      "execution_count": 0,
      "outputs": [
        {
          "output_type": "stream",
          "text": [
            "[ 1.          3.77827941  7.16227766 11.62341325 18.        ]\n"
          ],
          "name": "stdout"
        }
      ]
    },
    {
      "cell_type": "code",
      "metadata": {
        "id": "plMjrdw-reMZ",
        "colab_type": "code",
        "outputId": "f9d2e47f-fc71-476a-b264-d9d8dc222c69",
        "colab": {
          "base_uri": "https://localhost:8080/",
          "height": 34
        }
      },
      "source": [
        "print(a - b)"
      ],
      "execution_count": 0,
      "outputs": [
        {
          "output_type": "stream",
          "text": [
            "[-1.          0.22172059  0.83772234  0.37658675 -2.        ]\n"
          ],
          "name": "stdout"
        }
      ]
    },
    {
      "cell_type": "code",
      "metadata": {
        "id": "oYjnxjaPreMb",
        "colab_type": "code",
        "outputId": "a8c9d1e4-23f2-4e24-d0af-1158202c8ca6",
        "colab": {
          "base_uri": "https://localhost:8080/",
          "height": 34
        }
      },
      "source": [
        "print(a * b)"
      ],
      "execution_count": 0,
      "outputs": [
        {
          "output_type": "stream",
          "text": [
            "[ 0.          3.55655882 12.64911064 33.74047951 80.        ]\n"
          ],
          "name": "stdout"
        }
      ]
    },
    {
      "cell_type": "code",
      "metadata": {
        "id": "C2-9NtxareMd",
        "colab_type": "code",
        "outputId": "cac19a48-4acb-4d8b-b6ed-56333fd1a875",
        "colab": {
          "base_uri": "https://localhost:8080/",
          "height": 34
        }
      },
      "source": [
        "print(a / b)"
      ],
      "execution_count": 0,
      "outputs": [
        {
          "output_type": "stream",
          "text": [
            "[0.         1.12468265 1.26491106 1.06696765 0.8       ]\n"
          ],
          "name": "stdout"
        }
      ]
    },
    {
      "cell_type": "code",
      "metadata": {
        "id": "ecfFUhAyreMg",
        "colab_type": "code",
        "outputId": "5849dba5-940c-46f3-c403-04082172e099",
        "colab": {
          "base_uri": "https://localhost:8080/",
          "height": 34
        }
      },
      "source": [
        "print(a ** 2)"
      ],
      "execution_count": 0,
      "outputs": [
        {
          "output_type": "stream",
          "text": [
            "[ 0.  4. 16. 36. 64.]\n"
          ],
          "name": "stdout"
        }
      ]
    },
    {
      "cell_type": "markdown",
      "metadata": {
        "id": "m4qL-CvvreMi",
        "colab_type": "text"
      },
      "source": [
        "Когда операнды разных типов, они приводятся к большему типу."
      ]
    },
    {
      "cell_type": "code",
      "metadata": {
        "id": "xpfGNPSjreMj",
        "colab_type": "code",
        "outputId": "a6132487-3c2b-4604-a5f7-0490af43251d",
        "colab": {
          "base_uri": "https://localhost:8080/",
          "height": 34
        }
      },
      "source": [
        "i = np.ones(5, dtype=np.int64)\n",
        "print(a + i)"
      ],
      "execution_count": 0,
      "outputs": [
        {
          "output_type": "stream",
          "text": [
            "[1. 3. 5. 7. 9.]\n"
          ],
          "name": "stdout"
        }
      ]
    },
    {
      "cell_type": "markdown",
      "metadata": {
        "id": "IojQVyVpreMm",
        "colab_type": "text"
      },
      "source": [
        "`numpy` содержит элементарные функции, которые тоже применяются к массивам поэлементно. Они называются универсальными функциями (`ufunc`)."
      ]
    },
    {
      "cell_type": "code",
      "metadata": {
        "id": "H04G9J0PreMn",
        "colab_type": "code",
        "outputId": "5ccb1cbd-5670-400d-c8ef-e579d5265ec0",
        "colab": {
          "base_uri": "https://localhost:8080/",
          "height": 34
        }
      },
      "source": [
        "np.sin, type(np.sin)"
      ],
      "execution_count": 0,
      "outputs": [
        {
          "output_type": "execute_result",
          "data": {
            "text/plain": [
              "(<ufunc 'sin'>, numpy.ufunc)"
            ]
          },
          "metadata": {
            "tags": []
          },
          "execution_count": 201
        }
      ]
    },
    {
      "cell_type": "code",
      "metadata": {
        "id": "N8ijmbEAreMp",
        "colab_type": "code",
        "outputId": "5c8e5f03-b6ed-4158-c745-fc2b9a46c05e",
        "colab": {
          "base_uri": "https://localhost:8080/",
          "height": 34
        }
      },
      "source": [
        "print(np.sin(a))"
      ],
      "execution_count": 0,
      "outputs": [
        {
          "output_type": "stream",
          "text": [
            "[ 0.          0.90929743 -0.7568025  -0.2794155   0.98935825]\n"
          ],
          "name": "stdout"
        }
      ]
    },
    {
      "cell_type": "markdown",
      "metadata": {
        "id": "qmWjJZqwreMr",
        "colab_type": "text"
      },
      "source": [
        "Один из операндов может быть скаляром, а не массивом."
      ]
    },
    {
      "cell_type": "code",
      "metadata": {
        "id": "UBlnpOzLreMr",
        "colab_type": "code",
        "outputId": "5e97fbe4-ebd4-4922-a836-856f42497c2d",
        "colab": {
          "base_uri": "https://localhost:8080/",
          "height": 34
        }
      },
      "source": [
        "print(a + 1)"
      ],
      "execution_count": 0,
      "outputs": [
        {
          "output_type": "stream",
          "text": [
            "[1. 3. 5. 7. 9.]\n"
          ],
          "name": "stdout"
        }
      ]
    },
    {
      "cell_type": "code",
      "metadata": {
        "id": "VENbyPHgreMt",
        "colab_type": "code",
        "outputId": "edb7a3bc-9687-41e7-ef49-c906b48e7d84",
        "colab": {
          "base_uri": "https://localhost:8080/",
          "height": 34
        }
      },
      "source": [
        "print(2 * a)"
      ],
      "execution_count": 0,
      "outputs": [
        {
          "output_type": "stream",
          "text": [
            "[ 0.  4.  8. 12. 16.]\n"
          ],
          "name": "stdout"
        }
      ]
    },
    {
      "cell_type": "markdown",
      "metadata": {
        "id": "6YUKi2WmreMv",
        "colab_type": "text"
      },
      "source": [
        "Сравнения дают булевы массивы."
      ]
    },
    {
      "cell_type": "code",
      "metadata": {
        "id": "2XNotwYBreMv",
        "colab_type": "code",
        "outputId": "44e0fd9c-51f2-4625-e196-cdcddd979324",
        "colab": {
          "base_uri": "https://localhost:8080/",
          "height": 34
        }
      },
      "source": [
        "print(a > b)"
      ],
      "execution_count": 0,
      "outputs": [
        {
          "output_type": "stream",
          "text": [
            "[False  True  True  True False]\n"
          ],
          "name": "stdout"
        }
      ]
    },
    {
      "cell_type": "code",
      "metadata": {
        "id": "HDD0YJ_0reMy",
        "colab_type": "code",
        "outputId": "8d70d5a1-1283-4ce5-bf79-e12971a07992",
        "colab": {
          "base_uri": "https://localhost:8080/",
          "height": 34
        }
      },
      "source": [
        "print(a == b)"
      ],
      "execution_count": 0,
      "outputs": [
        {
          "output_type": "stream",
          "text": [
            "[False False False False False]\n"
          ],
          "name": "stdout"
        }
      ]
    },
    {
      "cell_type": "code",
      "metadata": {
        "id": "F4unB93ireMz",
        "colab_type": "code",
        "outputId": "d9d0e83c-f912-4630-f290-abee45182f84",
        "colab": {
          "base_uri": "https://localhost:8080/",
          "height": 34
        }
      },
      "source": [
        "c = a > 5\n",
        "print(c)"
      ],
      "execution_count": 0,
      "outputs": [
        {
          "output_type": "stream",
          "text": [
            "[False False False  True  True]\n"
          ],
          "name": "stdout"
        }
      ]
    },
    {
      "cell_type": "markdown",
      "metadata": {
        "id": "i3xwrg75reM2",
        "colab_type": "text"
      },
      "source": [
        "Кванторы \"существует\" и \"для всех\"."
      ]
    },
    {
      "cell_type": "code",
      "metadata": {
        "id": "F-x74mhPreM3",
        "colab_type": "code",
        "outputId": "00ced949-a126-46e8-cb85-05e2f5a108e4",
        "colab": {
          "base_uri": "https://localhost:8080/",
          "height": 34
        }
      },
      "source": [
        "np.any(c), np.all(c)"
      ],
      "execution_count": 0,
      "outputs": [
        {
          "output_type": "execute_result",
          "data": {
            "text/plain": [
              "(True, False)"
            ]
          },
          "metadata": {
            "tags": []
          },
          "execution_count": 208
        }
      ]
    },
    {
      "cell_type": "markdown",
      "metadata": {
        "id": "BCt6nCbdreM5",
        "colab_type": "text"
      },
      "source": [
        "Модификация на месте."
      ]
    },
    {
      "cell_type": "code",
      "metadata": {
        "id": "shGDmYRdreM6",
        "colab_type": "code",
        "outputId": "9bd9a1e4-b095-4782-9c56-2808ec456a96",
        "colab": {
          "base_uri": "https://localhost:8080/",
          "height": 34
        }
      },
      "source": [
        "a += 1\n",
        "print(a)"
      ],
      "execution_count": 0,
      "outputs": [
        {
          "output_type": "stream",
          "text": [
            "[1. 3. 5. 7. 9.]\n"
          ],
          "name": "stdout"
        }
      ]
    },
    {
      "cell_type": "code",
      "metadata": {
        "id": "DrZ--zd1reNC",
        "colab_type": "code",
        "outputId": "336fc748-0041-4815-ebe0-07b22befad1c",
        "colab": {
          "base_uri": "https://localhost:8080/",
          "height": 34
        }
      },
      "source": [
        "b *= 2\n",
        "print(b)"
      ],
      "execution_count": 0,
      "outputs": [
        {
          "output_type": "stream",
          "text": [
            "[ 2.          3.55655882  6.32455532 11.2468265  20.        ]\n"
          ],
          "name": "stdout"
        }
      ]
    },
    {
      "cell_type": "code",
      "metadata": {
        "id": "Y73Hpyj5reNE",
        "colab_type": "code",
        "outputId": "c8659d68-ce80-4d5a-9f40-eaabe50733cc",
        "colab": {
          "base_uri": "https://localhost:8080/",
          "height": 34
        }
      },
      "source": [
        "b /= a\n",
        "print(b)"
      ],
      "execution_count": 0,
      "outputs": [
        {
          "output_type": "stream",
          "text": [
            "[2.         1.18551961 1.26491106 1.6066895  2.22222222]\n"
          ],
          "name": "stdout"
        }
      ]
    },
    {
      "cell_type": "markdown",
      "metadata": {
        "id": "60Atqk8TreNG",
        "colab_type": "text"
      },
      "source": [
        "При выполнении операций над массивами деление на 0 не возбуждает исключения, а даёт значения `np.nan` или `np.inf`."
      ]
    },
    {
      "cell_type": "code",
      "metadata": {
        "id": "yPd5ZufkreNG",
        "colab_type": "code",
        "outputId": "6ae118a7-b76f-49b7-b71c-b1462fdd05be",
        "colab": {
          "base_uri": "https://localhost:8080/",
          "height": 105
        }
      },
      "source": [
        "print(np.array([0.0, 0.0, 1.0, -1.0]) / np.array([1.0, 0.0, 0.0, 0.0]))"
      ],
      "execution_count": 0,
      "outputs": [
        {
          "output_type": "stream",
          "text": [
            "[  0.  nan  inf -inf]\n"
          ],
          "name": "stdout"
        },
        {
          "output_type": "stream",
          "text": [
            "/usr/local/lib/python3.6/dist-packages/ipykernel_launcher.py:1: RuntimeWarning: divide by zero encountered in true_divide\n",
            "  \"\"\"Entry point for launching an IPython kernel.\n",
            "/usr/local/lib/python3.6/dist-packages/ipykernel_launcher.py:1: RuntimeWarning: invalid value encountered in true_divide\n",
            "  \"\"\"Entry point for launching an IPython kernel.\n"
          ],
          "name": "stderr"
        }
      ]
    },
    {
      "cell_type": "code",
      "metadata": {
        "id": "trKZJ9ikreNI",
        "colab_type": "code",
        "outputId": "1aaf2774-c2a5-4cbe-9196-5ca01100399b",
        "colab": {
          "base_uri": "https://localhost:8080/",
          "height": 34
        }
      },
      "source": [
        "np.nan + 1, np.inf + 1, np.inf * 0, 1. / np.inf"
      ],
      "execution_count": 0,
      "outputs": [
        {
          "output_type": "execute_result",
          "data": {
            "text/plain": [
              "(nan, inf, nan, 0.0)"
            ]
          },
          "metadata": {
            "tags": []
          },
          "execution_count": 213
        }
      ]
    },
    {
      "cell_type": "markdown",
      "metadata": {
        "id": "x5NBBoyYreNL",
        "colab_type": "text"
      },
      "source": [
        "Сумма и произведение всех элементов массива; максимальный и минимальный элемент; среднее и среднеквадратичное отклонение."
      ]
    },
    {
      "cell_type": "code",
      "metadata": {
        "id": "nxwrTPEfVc9j",
        "colab_type": "code",
        "outputId": "d3fdaeef-34da-452a-cc6b-2919dcb50bf8",
        "colab": {
          "base_uri": "https://localhost:8080/",
          "height": 34
        }
      },
      "source": [
        "print(b)"
      ],
      "execution_count": 0,
      "outputs": [
        {
          "output_type": "stream",
          "text": [
            "[2.         1.18551961 1.26491106 1.6066895  2.22222222]\n"
          ],
          "name": "stdout"
        }
      ]
    },
    {
      "cell_type": "code",
      "metadata": {
        "id": "WwVNR43kreNM",
        "colab_type": "code",
        "outputId": "ccf179cb-3f61-44b4-f5c7-a105df34b285",
        "colab": {
          "base_uri": "https://localhost:8080/",
          "height": 123
        }
      },
      "source": [
        "b.sum(), b.prod(), b.max(), b.min(), b.mean(), b.std()"
      ],
      "execution_count": 0,
      "outputs": [
        {
          "output_type": "execute_result",
          "data": {
            "text/plain": [
              "(8.279342393526044,\n",
              " 10.708241812210389,\n",
              " 2.2222222222222223,\n",
              " 1.1855196066926152,\n",
              " 1.6558684787052087,\n",
              " 0.4039003342660745)"
            ]
          },
          "metadata": {
            "tags": []
          },
          "execution_count": 215
        }
      ]
    },
    {
      "cell_type": "markdown",
      "metadata": {
        "id": "AsnB9nHHreNN",
        "colab_type": "text"
      },
      "source": [
        "Имеются встроенные функции"
      ]
    },
    {
      "cell_type": "code",
      "metadata": {
        "id": "mqXRmHcPreNO",
        "colab_type": "code",
        "outputId": "720c78dd-ac76-4a7f-ed31-a5c51928cbee",
        "colab": {
          "base_uri": "https://localhost:8080/",
          "height": 105
        }
      },
      "source": [
        "print(np.sqrt(b))\n",
        "print(np.exp(b))\n",
        "print(np.log(b))\n",
        "print(np.sin(b))\n",
        "print(np.e, np.pi)"
      ],
      "execution_count": 0,
      "outputs": [
        {
          "output_type": "stream",
          "text": [
            "[1.41421356 1.08881569 1.12468265 1.26755256 1.49071198]\n",
            "[7.3890561  3.27238673 3.54277764 4.98627681 9.22781435]\n",
            "[0.69314718 0.17018117 0.23500181 0.47417585 0.7985077 ]\n",
            "[0.90929743 0.92669447 0.95358074 0.99935591 0.79522006]\n",
            "2.718281828459045 3.141592653589793\n"
          ],
          "name": "stdout"
        }
      ]
    },
    {
      "cell_type": "markdown",
      "metadata": {
        "id": "GHRQYkVYreNP",
        "colab_type": "text"
      },
      "source": [
        "Иногда бывает нужно использовать частичные (кумулятивные) суммы."
      ]
    },
    {
      "cell_type": "code",
      "metadata": {
        "id": "gLc64NAareNQ",
        "colab_type": "code",
        "outputId": "666eb4e2-3d3c-45d1-901f-542d68a6e3af",
        "colab": {
          "base_uri": "https://localhost:8080/",
          "height": 34
        }
      },
      "source": [
        "print(b.cumsum())"
      ],
      "execution_count": 0,
      "outputs": [
        {
          "output_type": "stream",
          "text": [
            "[2.         3.18551961 4.45043067 6.05712017 8.27934239]\n"
          ],
          "name": "stdout"
        }
      ]
    },
    {
      "cell_type": "markdown",
      "metadata": {
        "id": "VwV5Ru9vreNU",
        "colab_type": "text"
      },
      "source": [
        "Функция `sort` возвращает отсортированную копию, метод `sort` сортирует на месте."
      ]
    },
    {
      "cell_type": "code",
      "metadata": {
        "id": "yNmVb6wyreNU",
        "colab_type": "code",
        "outputId": "524091f8-c021-445d-9c46-86a52fefd2cb",
        "colab": {
          "base_uri": "https://localhost:8080/",
          "height": 52
        }
      },
      "source": [
        "print(np.sort(b))\n",
        "print(b)"
      ],
      "execution_count": 0,
      "outputs": [
        {
          "output_type": "stream",
          "text": [
            "[1.18551961 1.26491106 1.6066895  2.         2.22222222]\n",
            "[2.         1.18551961 1.26491106 1.6066895  2.22222222]\n"
          ],
          "name": "stdout"
        }
      ]
    },
    {
      "cell_type": "code",
      "metadata": {
        "id": "-RLVp7NTreNX",
        "colab_type": "code",
        "outputId": "3c1c3cd8-0042-4ec4-cf41-01f0a50a857d",
        "colab": {
          "base_uri": "https://localhost:8080/",
          "height": 34
        }
      },
      "source": [
        "b.sort()\n",
        "print(b)"
      ],
      "execution_count": 0,
      "outputs": [
        {
          "output_type": "stream",
          "text": [
            "[1.18551961 1.26491106 1.6066895  2.         2.22222222]\n"
          ],
          "name": "stdout"
        }
      ]
    },
    {
      "cell_type": "markdown",
      "metadata": {
        "id": "CNTPpe7UreNY",
        "colab_type": "text"
      },
      "source": [
        "Объединение массивов."
      ]
    },
    {
      "cell_type": "code",
      "metadata": {
        "id": "BkA4odRAVnG6",
        "colab_type": "code",
        "outputId": "78fcc0b3-53f5-4d6d-b3b5-3213af105f6b",
        "colab": {
          "base_uri": "https://localhost:8080/",
          "height": 52
        }
      },
      "source": [
        "print(a)\n",
        "print(b)"
      ],
      "execution_count": 0,
      "outputs": [
        {
          "output_type": "stream",
          "text": [
            "[1. 3. 5. 7. 9.]\n",
            "[1.18551961 1.26491106 1.6066895  2.         2.22222222]\n"
          ],
          "name": "stdout"
        }
      ]
    },
    {
      "cell_type": "code",
      "metadata": {
        "id": "ADEqvxMrreNZ",
        "colab_type": "code",
        "outputId": "8e860261-3e2e-47c8-cb40-03c3a1a12d45",
        "colab": {
          "base_uri": "https://localhost:8080/",
          "height": 52
        }
      },
      "source": [
        "a = np.hstack((a, b))\n",
        "print(a)"
      ],
      "execution_count": 0,
      "outputs": [
        {
          "output_type": "stream",
          "text": [
            "[1.         3.         5.         7.         9.         1.18551961\n",
            " 1.26491106 1.6066895  2.         2.22222222]\n"
          ],
          "name": "stdout"
        }
      ]
    },
    {
      "cell_type": "markdown",
      "metadata": {
        "id": "CHyfJqxTreNd",
        "colab_type": "text"
      },
      "source": [
        "Расщепление массива в позициях 3 и 6."
      ]
    },
    {
      "cell_type": "code",
      "metadata": {
        "id": "GympFs43reNd",
        "colab_type": "code",
        "outputId": "0e196ef0-4eb1-4ab6-e147-274e38735712",
        "colab": {
          "base_uri": "https://localhost:8080/",
          "height": 70
        }
      },
      "source": [
        "np.hsplit(a, [3, 6])"
      ],
      "execution_count": 0,
      "outputs": [
        {
          "output_type": "execute_result",
          "data": {
            "text/plain": [
              "[array([1., 3., 5.]),\n",
              " array([7.        , 9.        , 1.18551961]),\n",
              " array([1.26491106, 1.6066895 , 2.        , 2.22222222])]"
            ]
          },
          "metadata": {
            "tags": []
          },
          "execution_count": 222
        }
      ]
    },
    {
      "cell_type": "markdown",
      "metadata": {
        "id": "pRG0IlrHreNe",
        "colab_type": "text"
      },
      "source": [
        "Функции `delete`, `insert` и `append` не меняют массив на месте, а возвращают новый массив, в котором удалены, вставлены в середину или добавлены в конец какие-то элементы."
      ]
    },
    {
      "cell_type": "code",
      "metadata": {
        "id": "5pxlXzR8reNf",
        "colab_type": "code",
        "outputId": "a58ef095-ed20-49c4-92f7-aac629b94932",
        "colab": {
          "base_uri": "https://localhost:8080/",
          "height": 52
        }
      },
      "source": [
        "a = np.delete(a, [5, 7])\n",
        "print(a)"
      ],
      "execution_count": 0,
      "outputs": [
        {
          "output_type": "stream",
          "text": [
            "[1.         3.         5.         7.         9.         1.26491106\n",
            " 2.         2.22222222]\n"
          ],
          "name": "stdout"
        }
      ]
    },
    {
      "cell_type": "code",
      "metadata": {
        "id": "bSZdHGEfreNg",
        "colab_type": "code",
        "outputId": "771e9614-a37e-4ab3-ad65-c37a96c197be",
        "colab": {
          "base_uri": "https://localhost:8080/",
          "height": 52
        }
      },
      "source": [
        "a = np.insert(a, 2, [0, 0])\n",
        "print(a)"
      ],
      "execution_count": 0,
      "outputs": [
        {
          "output_type": "stream",
          "text": [
            "[1.         3.         0.         0.         5.         7.\n",
            " 9.         1.26491106 2.         2.22222222]\n"
          ],
          "name": "stdout"
        }
      ]
    },
    {
      "cell_type": "code",
      "metadata": {
        "id": "AB_MrQjdreNi",
        "colab_type": "code",
        "outputId": "43cf64e0-f8c7-44bb-9128-5761c4e47d3d",
        "colab": {
          "base_uri": "https://localhost:8080/",
          "height": 70
        }
      },
      "source": [
        "a = np.append(a, [1, 2, 3])\n",
        "print(a)"
      ],
      "execution_count": 0,
      "outputs": [
        {
          "output_type": "stream",
          "text": [
            "[1.         3.         0.         0.         5.         7.\n",
            " 9.         1.26491106 2.         2.22222222 1.         2.\n",
            " 3.        ]\n"
          ],
          "name": "stdout"
        }
      ]
    },
    {
      "cell_type": "markdown",
      "metadata": {
        "id": "mxss9nK9reNl",
        "colab_type": "text"
      },
      "source": [
        "Есть несколько способов индексации массива. Вот обычный индекс."
      ]
    },
    {
      "cell_type": "code",
      "metadata": {
        "id": "6fnr43fareNm",
        "colab_type": "code",
        "outputId": "9c85d3e9-6fd7-46f3-b29d-b27e291359b7",
        "colab": {
          "base_uri": "https://localhost:8080/",
          "height": 34
        }
      },
      "source": [
        "a = np.linspace(0, 1, 11)\n",
        "print(a)"
      ],
      "execution_count": 0,
      "outputs": [
        {
          "output_type": "stream",
          "text": [
            "[0.  0.1 0.2 0.3 0.4 0.5 0.6 0.7 0.8 0.9 1. ]\n"
          ],
          "name": "stdout"
        }
      ]
    },
    {
      "cell_type": "code",
      "metadata": {
        "id": "e110t4XDreNp",
        "colab_type": "code",
        "outputId": "1e63f822-63ec-4820-de04-f4305792d78a",
        "colab": {
          "base_uri": "https://localhost:8080/",
          "height": 34
        }
      },
      "source": [
        "b = a[2]\n",
        "print(b)"
      ],
      "execution_count": 0,
      "outputs": [
        {
          "output_type": "stream",
          "text": [
            "0.2\n"
          ],
          "name": "stdout"
        }
      ]
    },
    {
      "cell_type": "markdown",
      "metadata": {
        "id": "j3J6x1j4reNr",
        "colab_type": "text"
      },
      "source": [
        "Диапазон индексов. Создаётся новый заголовок массива, указывающий на те же данные. Изменения, сделанные через такой массив, видны и в исходном массиве."
      ]
    },
    {
      "cell_type": "code",
      "metadata": {
        "id": "vSxsCY-nreNr",
        "colab_type": "code",
        "outputId": "94b7e963-c131-4820-a00d-301e4ef117b4",
        "colab": {
          "base_uri": "https://localhost:8080/",
          "height": 34
        }
      },
      "source": [
        "b = a[2:6]\n",
        "print(b)"
      ],
      "execution_count": 0,
      "outputs": [
        {
          "output_type": "stream",
          "text": [
            "[0.2 0.3 0.4 0.5]\n"
          ],
          "name": "stdout"
        }
      ]
    },
    {
      "cell_type": "code",
      "metadata": {
        "id": "xJy_6aCUreNt",
        "colab_type": "code",
        "outputId": "804fa707-2933-4c4e-eb50-73d6f5c89813",
        "colab": {
          "base_uri": "https://localhost:8080/",
          "height": 34
        }
      },
      "source": [
        "b[0] = -0.2\n",
        "print(b)"
      ],
      "execution_count": 0,
      "outputs": [
        {
          "output_type": "stream",
          "text": [
            "[-0.2  0.3  0.4  0.5]\n"
          ],
          "name": "stdout"
        }
      ]
    },
    {
      "cell_type": "code",
      "metadata": {
        "id": "0leYSHY5reNv",
        "colab_type": "code",
        "outputId": "03e751a0-c841-4fca-a6f2-7a1cbd1586a0",
        "colab": {
          "base_uri": "https://localhost:8080/",
          "height": 34
        }
      },
      "source": [
        "print(a)"
      ],
      "execution_count": 0,
      "outputs": [
        {
          "output_type": "stream",
          "text": [
            "[ 0.   0.1 -0.2  0.3  0.4  0.5  0.6  0.7  0.8  0.9  1. ]\n"
          ],
          "name": "stdout"
        }
      ]
    },
    {
      "cell_type": "markdown",
      "metadata": {
        "id": "Ao8_0OSCreNx",
        "colab_type": "text"
      },
      "source": [
        "Диапазон с шагом 2."
      ]
    },
    {
      "cell_type": "code",
      "metadata": {
        "id": "syUL-HIbreNy",
        "colab_type": "code",
        "outputId": "a516aac2-b554-45bf-f507-407861dc70c8",
        "colab": {
          "base_uri": "https://localhost:8080/",
          "height": 34
        }
      },
      "source": [
        "b = a[1:10:2]\n",
        "print(b)"
      ],
      "execution_count": 0,
      "outputs": [
        {
          "output_type": "stream",
          "text": [
            "[0.1 0.3 0.5 0.7 0.9]\n"
          ],
          "name": "stdout"
        }
      ]
    },
    {
      "cell_type": "code",
      "metadata": {
        "id": "rPN_gRjYreN0",
        "colab_type": "code",
        "outputId": "956857d1-b12a-473c-f9ee-93b54a95be07",
        "colab": {
          "base_uri": "https://localhost:8080/",
          "height": 34
        }
      },
      "source": [
        "b[0] = -0.1\n",
        "print(a)"
      ],
      "execution_count": 0,
      "outputs": [
        {
          "output_type": "stream",
          "text": [
            "[ 0.  -0.1 -0.2  0.3  0.4  0.5  0.6  0.7  0.8  0.9  1. ]\n"
          ],
          "name": "stdout"
        }
      ]
    },
    {
      "cell_type": "markdown",
      "metadata": {
        "id": "PmXgdPHTreN3",
        "colab_type": "text"
      },
      "source": [
        "Массив в обратном порядке."
      ]
    },
    {
      "cell_type": "code",
      "metadata": {
        "id": "Ai7LGEJwreN4",
        "colab_type": "code",
        "outputId": "b90e8ce5-a3cd-47eb-fa31-1d921423fafd",
        "colab": {
          "base_uri": "https://localhost:8080/",
          "height": 34
        }
      },
      "source": [
        "b = a[::-1]\n",
        "print(b)"
      ],
      "execution_count": 0,
      "outputs": [
        {
          "output_type": "stream",
          "text": [
            "[ 1.   0.9  0.8  0.7  0.6  0.5  0.4  0.3 -0.2 -0.1  0. ]\n"
          ],
          "name": "stdout"
        }
      ]
    },
    {
      "cell_type": "markdown",
      "metadata": {
        "id": "za0DhYYAreN5",
        "colab_type": "text"
      },
      "source": [
        "Подмассиву можно присвоить значение - массив правильного размера или скаляр."
      ]
    },
    {
      "cell_type": "code",
      "metadata": {
        "id": "MSJD4waareN6",
        "colab_type": "code",
        "outputId": "a7809288-572c-4425-8ea3-72cb02b5e323",
        "colab": {
          "base_uri": "https://localhost:8080/",
          "height": 34
        }
      },
      "source": [
        "a[1:10:3] = 0\n",
        "print(a)"
      ],
      "execution_count": 0,
      "outputs": [
        {
          "output_type": "stream",
          "text": [
            "[ 0.   0.  -0.2  0.3  0.   0.5  0.6  0.   0.8  0.9  1. ]\n"
          ],
          "name": "stdout"
        }
      ]
    },
    {
      "cell_type": "markdown",
      "metadata": {
        "id": "lcqtqO8LreN9",
        "colab_type": "text"
      },
      "source": [
        "Тут опять создаётся только новый заголовок, указывающий на те же данные."
      ]
    },
    {
      "cell_type": "code",
      "metadata": {
        "id": "0PV6WHQereN9",
        "colab_type": "code",
        "outputId": "5255b72d-50d7-4691-ea05-a6eb801fb154",
        "colab": {
          "base_uri": "https://localhost:8080/",
          "height": 34
        }
      },
      "source": [
        "b = a[:]\n",
        "b[1] = 0.1\n",
        "print(a)"
      ],
      "execution_count": 0,
      "outputs": [
        {
          "output_type": "stream",
          "text": [
            "[ 0.   0.1 -0.2  0.3  0.   0.5  0.6  0.   0.8  0.9  1. ]\n"
          ],
          "name": "stdout"
        }
      ]
    },
    {
      "cell_type": "markdown",
      "metadata": {
        "id": "WKpf3ifLreN-",
        "colab_type": "text"
      },
      "source": [
        "Чтобы скопировать и данные массива, нужно использовать метод `copy`."
      ]
    },
    {
      "cell_type": "code",
      "metadata": {
        "id": "lrmYoDpXreN_",
        "colab_type": "code",
        "outputId": "006d34e3-f125-4462-86df-63061fbf6018",
        "colab": {
          "base_uri": "https://localhost:8080/",
          "height": 52
        }
      },
      "source": [
        "b = a.copy()\n",
        "b[2] = 0\n",
        "print(b)\n",
        "print(a)"
      ],
      "execution_count": 0,
      "outputs": [
        {
          "output_type": "stream",
          "text": [
            "[0.  0.1 0.  0.3 0.  0.5 0.6 0.  0.8 0.9 1. ]\n",
            "[ 0.   0.1 -0.2  0.3  0.   0.5  0.6  0.   0.8  0.9  1. ]\n"
          ],
          "name": "stdout"
        }
      ]
    },
    {
      "cell_type": "markdown",
      "metadata": {
        "id": "hYOGNLptreOB",
        "colab_type": "text"
      },
      "source": [
        "Можно задать список индексов."
      ]
    },
    {
      "cell_type": "code",
      "metadata": {
        "id": "t3SjQM_kreOB",
        "colab_type": "code",
        "outputId": "b23195ab-bc7a-499b-cc6c-ecc5474ed624",
        "colab": {
          "base_uri": "https://localhost:8080/",
          "height": 34
        }
      },
      "source": [
        "print(a[[2, 3, 5]])"
      ],
      "execution_count": 0,
      "outputs": [
        {
          "output_type": "stream",
          "text": [
            "[-0.2  0.3  0.5]\n"
          ],
          "name": "stdout"
        }
      ]
    },
    {
      "cell_type": "markdown",
      "metadata": {
        "id": "sgR_fu9jreOD",
        "colab_type": "text"
      },
      "source": [
        "Можно задать булев массив той же величины."
      ]
    },
    {
      "cell_type": "code",
      "metadata": {
        "id": "g6XwPCuZreOE",
        "colab_type": "code",
        "outputId": "9e082462-a07c-4164-80e1-8cb9deba0a71",
        "colab": {
          "base_uri": "https://localhost:8080/",
          "height": 34
        }
      },
      "source": [
        "b = a > 0\n",
        "print(b)"
      ],
      "execution_count": 0,
      "outputs": [
        {
          "output_type": "stream",
          "text": [
            "[False  True False  True False  True  True False  True  True  True]\n"
          ],
          "name": "stdout"
        }
      ]
    },
    {
      "cell_type": "code",
      "metadata": {
        "id": "YPA_3lWdreOF",
        "colab_type": "code",
        "outputId": "acb8a70f-8a43-480d-c97f-dcc50ca739c1",
        "colab": {
          "base_uri": "https://localhost:8080/",
          "height": 34
        }
      },
      "source": [
        "print(a[b])"
      ],
      "execution_count": 0,
      "outputs": [
        {
          "output_type": "stream",
          "text": [
            "[0.1 0.3 0.5 0.6 0.8 0.9 1. ]\n"
          ],
          "name": "stdout"
        }
      ]
    },
    {
      "cell_type": "markdown",
      "metadata": {
        "id": "BmeUgb_lreOH",
        "colab_type": "text"
      },
      "source": [
        "## 2-мерные массивы"
      ]
    },
    {
      "cell_type": "code",
      "metadata": {
        "id": "KVBOyC1EreOH",
        "colab_type": "code",
        "outputId": "5c897af4-be7d-4bd3-8ebb-a9fcde2e2204",
        "colab": {
          "base_uri": "https://localhost:8080/",
          "height": 52
        }
      },
      "source": [
        "a = np.array([[0.0, 1.0], [-1.0, 0.0]])\n",
        "print(a)"
      ],
      "execution_count": 0,
      "outputs": [
        {
          "output_type": "stream",
          "text": [
            "[[ 0.  1.]\n",
            " [-1.  0.]]\n"
          ],
          "name": "stdout"
        }
      ]
    },
    {
      "cell_type": "code",
      "metadata": {
        "id": "Iw4_IB5NreOI",
        "colab_type": "code",
        "outputId": "db38c431-0976-4e06-9ccd-a83516e97317",
        "colab": {
          "base_uri": "https://localhost:8080/",
          "height": 34
        }
      },
      "source": [
        "a.ndim"
      ],
      "execution_count": 0,
      "outputs": [
        {
          "output_type": "execute_result",
          "data": {
            "text/plain": [
              "2"
            ]
          },
          "metadata": {
            "tags": []
          },
          "execution_count": 241
        }
      ]
    },
    {
      "cell_type": "code",
      "metadata": {
        "id": "JbuZj4k-reOJ",
        "colab_type": "code",
        "outputId": "13136ed4-acc0-4e65-cc00-343644885524",
        "colab": {
          "base_uri": "https://localhost:8080/",
          "height": 34
        }
      },
      "source": [
        "a.shape"
      ],
      "execution_count": 0,
      "outputs": [
        {
          "output_type": "execute_result",
          "data": {
            "text/plain": [
              "(2, 2)"
            ]
          },
          "metadata": {
            "tags": []
          },
          "execution_count": 242
        }
      ]
    },
    {
      "cell_type": "code",
      "metadata": {
        "id": "vOe5IJKdreOL",
        "colab_type": "code",
        "outputId": "a87dff45-3810-4d19-ae6f-a2a048cdd3de",
        "colab": {
          "base_uri": "https://localhost:8080/",
          "height": 34
        }
      },
      "source": [
        "len(a), a.size"
      ],
      "execution_count": 0,
      "outputs": [
        {
          "output_type": "execute_result",
          "data": {
            "text/plain": [
              "(2, 4)"
            ]
          },
          "metadata": {
            "tags": []
          },
          "execution_count": 243
        }
      ]
    },
    {
      "cell_type": "code",
      "metadata": {
        "id": "xqTNx8PAreON",
        "colab_type": "code",
        "outputId": "b7ec4f98-731e-474c-c31f-7c0230f58fcc",
        "colab": {
          "base_uri": "https://localhost:8080/",
          "height": 34
        }
      },
      "source": [
        "a[1, 0]"
      ],
      "execution_count": 0,
      "outputs": [
        {
          "output_type": "execute_result",
          "data": {
            "text/plain": [
              "-1.0"
            ]
          },
          "metadata": {
            "tags": []
          },
          "execution_count": 244
        }
      ]
    },
    {
      "cell_type": "markdown",
      "metadata": {
        "id": "R4QiX1tGreOP",
        "colab_type": "text"
      },
      "source": [
        "Атрибуту `shape` можно присвоить новое значение - кортеж размеров по всем координатам. Получится новый заголовок массива; его данные не изменятся."
      ]
    },
    {
      "cell_type": "code",
      "metadata": {
        "id": "tXWFZOJdreOP",
        "colab_type": "code",
        "outputId": "392ed885-0d3b-490c-bab5-07e750f92db2",
        "colab": {
          "base_uri": "https://localhost:8080/",
          "height": 34
        }
      },
      "source": [
        "b = np.linspace(0, 3, 4)\n",
        "print(b)"
      ],
      "execution_count": 0,
      "outputs": [
        {
          "output_type": "stream",
          "text": [
            "[0. 1. 2. 3.]\n"
          ],
          "name": "stdout"
        }
      ]
    },
    {
      "cell_type": "code",
      "metadata": {
        "id": "8HLOl9x5reOS",
        "colab_type": "code",
        "outputId": "0bccbb0e-cf7c-4fd7-d0c7-cb4065b4c54b",
        "colab": {
          "base_uri": "https://localhost:8080/",
          "height": 34
        }
      },
      "source": [
        "b.shape"
      ],
      "execution_count": 0,
      "outputs": [
        {
          "output_type": "execute_result",
          "data": {
            "text/plain": [
              "(4,)"
            ]
          },
          "metadata": {
            "tags": []
          },
          "execution_count": 246
        }
      ]
    },
    {
      "cell_type": "code",
      "metadata": {
        "id": "XFUsnga6reOT",
        "colab_type": "code",
        "outputId": "75b9de73-e0dc-4ae7-91ef-a569667701b4",
        "colab": {
          "base_uri": "https://localhost:8080/",
          "height": 52
        }
      },
      "source": [
        "b.shape = 2, 2\n",
        "print(b)"
      ],
      "execution_count": 0,
      "outputs": [
        {
          "output_type": "stream",
          "text": [
            "[[0. 1.]\n",
            " [2. 3.]]\n"
          ],
          "name": "stdout"
        }
      ]
    },
    {
      "cell_type": "markdown",
      "metadata": {
        "id": "VPnlLiQyreOV",
        "colab_type": "text"
      },
      "source": [
        "Можно растянуть в одномерный массив"
      ]
    },
    {
      "cell_type": "code",
      "metadata": {
        "id": "pOO0rY_YreOX",
        "colab_type": "code",
        "outputId": "a3d1ba1f-ae82-40fc-8d43-101b8d6cc01c",
        "colab": {
          "base_uri": "https://localhost:8080/",
          "height": 34
        }
      },
      "source": [
        "print(b.ravel())"
      ],
      "execution_count": 0,
      "outputs": [
        {
          "output_type": "stream",
          "text": [
            "[0. 1. 2. 3.]\n"
          ],
          "name": "stdout"
        }
      ]
    },
    {
      "cell_type": "markdown",
      "metadata": {
        "id": "wOq69KZEreOZ",
        "colab_type": "text"
      },
      "source": [
        "Арифметические операции поэлементные"
      ]
    },
    {
      "cell_type": "code",
      "metadata": {
        "id": "UwZoeHOCWyYL",
        "colab_type": "code",
        "outputId": "110f095c-e85f-486e-9a2c-15e90b65628a",
        "colab": {
          "base_uri": "https://localhost:8080/",
          "height": 52
        }
      },
      "source": [
        "print(a)"
      ],
      "execution_count": 0,
      "outputs": [
        {
          "output_type": "stream",
          "text": [
            "[[ 0.  1.]\n",
            " [-1.  0.]]\n"
          ],
          "name": "stdout"
        }
      ]
    },
    {
      "cell_type": "code",
      "metadata": {
        "id": "_gjZ6WbRreOa",
        "colab_type": "code",
        "outputId": "c32b3fae-6722-4322-ede7-6434e8707692",
        "colab": {
          "base_uri": "https://localhost:8080/",
          "height": 194
        }
      },
      "source": [
        "print(a + 1)\n",
        "print(a * 2)\n",
        "print(a + [0, 1])  # второе слагаемое дополняется до матрицы копированием строк\n",
        "print(a + np.array([[0, 2]]).T)  # .T - транспонирование\n",
        "print(a + b)"
      ],
      "execution_count": 0,
      "outputs": [
        {
          "output_type": "stream",
          "text": [
            "[[1. 2.]\n",
            " [0. 1.]]\n",
            "[[ 0.  2.]\n",
            " [-2.  0.]]\n",
            "[[ 0.  2.]\n",
            " [-1.  1.]]\n",
            "[[0. 1.]\n",
            " [1. 2.]]\n",
            "[[0. 2.]\n",
            " [1. 3.]]\n"
          ],
          "name": "stdout"
        }
      ]
    },
    {
      "cell_type": "markdown",
      "metadata": {
        "id": "z8PKInforeOd",
        "colab_type": "text"
      },
      "source": [
        "Поэлементное и матричное умножение."
      ]
    },
    {
      "cell_type": "code",
      "metadata": {
        "id": "Db5JOwsmreOe",
        "colab_type": "code",
        "outputId": "2d00d1dc-ccad-4d9e-b31d-54aa8b608c0d",
        "colab": {
          "base_uri": "https://localhost:8080/",
          "height": 52
        }
      },
      "source": [
        "print(a * b)"
      ],
      "execution_count": 0,
      "outputs": [
        {
          "output_type": "stream",
          "text": [
            "[[ 0.  1.]\n",
            " [-2.  0.]]\n"
          ],
          "name": "stdout"
        }
      ]
    },
    {
      "cell_type": "code",
      "metadata": {
        "id": "T5_u1fVZreOg",
        "colab_type": "code",
        "outputId": "1c30e349-e7d9-400a-dcd2-e9b80aa492a4",
        "colab": {
          "base_uri": "https://localhost:8080/",
          "height": 52
        }
      },
      "source": [
        "print(a @ b)"
      ],
      "execution_count": 0,
      "outputs": [
        {
          "output_type": "stream",
          "text": [
            "[[ 2.  3.]\n",
            " [ 0. -1.]]\n"
          ],
          "name": "stdout"
        }
      ]
    },
    {
      "cell_type": "code",
      "metadata": {
        "id": "PA2NTDAZreOl",
        "colab_type": "code",
        "outputId": "81c7196d-4e54-4dff-b0c5-e01c2469ef73",
        "colab": {
          "base_uri": "https://localhost:8080/",
          "height": 52
        }
      },
      "source": [
        "print(b @ a)"
      ],
      "execution_count": 0,
      "outputs": [
        {
          "output_type": "stream",
          "text": [
            "[[-1.  0.]\n",
            " [-3.  2.]]\n"
          ],
          "name": "stdout"
        }
      ]
    },
    {
      "cell_type": "markdown",
      "metadata": {
        "id": "ySGHip68reOq",
        "colab_type": "text"
      },
      "source": [
        "Умножение матрицы на вектор."
      ]
    },
    {
      "cell_type": "code",
      "metadata": {
        "id": "U36MywToXBKW",
        "colab_type": "code",
        "outputId": "806e67ca-2e19-4294-863d-cb1312cb5474",
        "colab": {
          "base_uri": "https://localhost:8080/",
          "height": 52
        }
      },
      "source": [
        "print(b)"
      ],
      "execution_count": 0,
      "outputs": [
        {
          "output_type": "stream",
          "text": [
            "[[0. 1.]\n",
            " [2. 3.]]\n"
          ],
          "name": "stdout"
        }
      ]
    },
    {
      "cell_type": "code",
      "metadata": {
        "id": "x6ZwTcg8reOr",
        "colab_type": "code",
        "outputId": "c83b7669-0e43-4575-c91d-392bfd7f0b80",
        "colab": {
          "base_uri": "https://localhost:8080/",
          "height": 34
        }
      },
      "source": [
        "v = np.array([1, -1], dtype=np.float64)\n",
        "print(b @ v)"
      ],
      "execution_count": 0,
      "outputs": [
        {
          "output_type": "stream",
          "text": [
            "[-1. -1.]\n"
          ],
          "name": "stdout"
        }
      ]
    },
    {
      "cell_type": "code",
      "metadata": {
        "id": "U4xxY8BareOv",
        "colab_type": "code",
        "outputId": "b39d5d10-da2d-4b48-9afa-5e7a69f8640a",
        "colab": {
          "base_uri": "https://localhost:8080/",
          "height": 34
        }
      },
      "source": [
        "print(v @ b)"
      ],
      "execution_count": 0,
      "outputs": [
        {
          "output_type": "stream",
          "text": [
            "[-2. -2.]\n"
          ],
          "name": "stdout"
        }
      ]
    },
    {
      "cell_type": "markdown",
      "metadata": {
        "id": "bK9Ye6jMreO5",
        "colab_type": "text"
      },
      "source": [
        "Единичная матрица."
      ]
    },
    {
      "cell_type": "code",
      "metadata": {
        "id": "vxzu6SYPreO6",
        "colab_type": "code",
        "outputId": "5c9738ad-a765-41c4-c4db-77ed1b554619",
        "colab": {
          "base_uri": "https://localhost:8080/",
          "height": 87
        }
      },
      "source": [
        "I = np.eye(4)\n",
        "print(I)"
      ],
      "execution_count": 0,
      "outputs": [
        {
          "output_type": "stream",
          "text": [
            "[[1. 0. 0. 0.]\n",
            " [0. 1. 0. 0.]\n",
            " [0. 0. 1. 0.]\n",
            " [0. 0. 0. 1.]]\n"
          ],
          "name": "stdout"
        }
      ]
    },
    {
      "cell_type": "markdown",
      "metadata": {
        "id": "kt2cTyKgreO6",
        "colab_type": "text"
      },
      "source": [
        "Метод `reshape` делает то же самое, что присваивание атрибуту `shape`."
      ]
    },
    {
      "cell_type": "code",
      "metadata": {
        "id": "u3EargPBreO7",
        "colab_type": "code",
        "outputId": "f3c1a967-4461-4873-8a23-2d4ecb3af53d",
        "colab": {
          "base_uri": "https://localhost:8080/",
          "height": 34
        }
      },
      "source": [
        "print(I.reshape(16))"
      ],
      "execution_count": 0,
      "outputs": [
        {
          "output_type": "stream",
          "text": [
            "[1. 0. 0. 0. 0. 1. 0. 0. 0. 0. 1. 0. 0. 0. 0. 1.]\n"
          ],
          "name": "stdout"
        }
      ]
    },
    {
      "cell_type": "code",
      "metadata": {
        "id": "t1qu5eu5reO8",
        "colab_type": "code",
        "outputId": "24ab0d40-d1ec-4bf0-c9db-ac6b411c8167",
        "colab": {
          "base_uri": "https://localhost:8080/",
          "height": 52
        }
      },
      "source": [
        "print(I.reshape(2, 8))"
      ],
      "execution_count": 0,
      "outputs": [
        {
          "output_type": "stream",
          "text": [
            "[[1. 0. 0. 0. 0. 1. 0. 0.]\n",
            " [0. 0. 1. 0. 0. 0. 0. 1.]]\n"
          ],
          "name": "stdout"
        }
      ]
    },
    {
      "cell_type": "markdown",
      "metadata": {
        "id": "UTv8WnMDreO9",
        "colab_type": "text"
      },
      "source": [
        "Строка."
      ]
    },
    {
      "cell_type": "code",
      "metadata": {
        "id": "Vny4HkstreO9",
        "colab_type": "code",
        "outputId": "8f384186-e954-4439-f757-0b48124a16be",
        "colab": {
          "base_uri": "https://localhost:8080/",
          "height": 34
        }
      },
      "source": [
        "print(I[1])"
      ],
      "execution_count": 0,
      "outputs": [
        {
          "output_type": "stream",
          "text": [
            "[0. 1. 0. 0.]\n"
          ],
          "name": "stdout"
        }
      ]
    },
    {
      "cell_type": "markdown",
      "metadata": {
        "id": "0VOi8zlMreO-",
        "colab_type": "text"
      },
      "source": [
        "Цикл по строкам."
      ]
    },
    {
      "cell_type": "code",
      "metadata": {
        "id": "g9YWc38DreO_",
        "colab_type": "code",
        "outputId": "df7519db-f687-49dd-b9fe-e0fabba444c9",
        "colab": {
          "base_uri": "https://localhost:8080/",
          "height": 87
        }
      },
      "source": [
        "for row in I:\n",
        "    print(row)"
      ],
      "execution_count": 0,
      "outputs": [
        {
          "output_type": "stream",
          "text": [
            "[1. 0. 0. 0.]\n",
            "[0. 1. 0. 0.]\n",
            "[0. 0. 1. 0.]\n",
            "[0. 0. 0. 1.]\n"
          ],
          "name": "stdout"
        }
      ]
    },
    {
      "cell_type": "markdown",
      "metadata": {
        "id": "X_hD8MhvrePA",
        "colab_type": "text"
      },
      "source": [
        "Столбец."
      ]
    },
    {
      "cell_type": "code",
      "metadata": {
        "id": "_0CD1M4frePA",
        "colab_type": "code",
        "outputId": "4b870012-9fbf-4f39-fe9c-450cc0f7d1a7",
        "colab": {
          "base_uri": "https://localhost:8080/",
          "height": 34
        }
      },
      "source": [
        "print(I[:, 2])"
      ],
      "execution_count": 0,
      "outputs": [
        {
          "output_type": "stream",
          "text": [
            "[0. 0. 1. 0.]\n"
          ],
          "name": "stdout"
        }
      ]
    },
    {
      "cell_type": "markdown",
      "metadata": {
        "id": "ekLpiCdlrePC",
        "colab_type": "text"
      },
      "source": [
        "Подматрица."
      ]
    },
    {
      "cell_type": "code",
      "metadata": {
        "id": "2AeNG7KFrePD",
        "colab_type": "code",
        "outputId": "d955ff6e-2464-40a2-ac8a-866682a93395",
        "colab": {
          "base_uri": "https://localhost:8080/",
          "height": 52
        }
      },
      "source": [
        "print(I[0:2, 1:3])"
      ],
      "execution_count": 0,
      "outputs": [
        {
          "output_type": "stream",
          "text": [
            "[[0. 0.]\n",
            " [1. 0.]]\n"
          ],
          "name": "stdout"
        }
      ]
    },
    {
      "cell_type": "markdown",
      "metadata": {
        "id": "6hRlSlplrePE",
        "colab_type": "text"
      },
      "source": [
        "Можно построить двумерный массив из функции."
      ]
    },
    {
      "cell_type": "code",
      "metadata": {
        "id": "E5z-3308rePF",
        "colab_type": "code",
        "outputId": "f0433857-82a0-4951-8d64-f1b82417610e",
        "colab": {
          "base_uri": "https://localhost:8080/",
          "height": 230
        }
      },
      "source": [
        "def f(i, j):\n",
        "    print(i)\n",
        "    print(j)\n",
        "    return 10 * i + j\n",
        "\n",
        "print(np.fromfunction(f, (4, 4), dtype=np.int64))"
      ],
      "execution_count": 0,
      "outputs": [
        {
          "output_type": "stream",
          "text": [
            "[[0 0 0 0]\n",
            " [1 1 1 1]\n",
            " [2 2 2 2]\n",
            " [3 3 3 3]]\n",
            "[[0 1 2 3]\n",
            " [0 1 2 3]\n",
            " [0 1 2 3]\n",
            " [0 1 2 3]]\n",
            "[[ 0  1  2  3]\n",
            " [10 11 12 13]\n",
            " [20 21 22 23]\n",
            " [30 31 32 33]]\n"
          ],
          "name": "stdout"
        }
      ]
    },
    {
      "cell_type": "markdown",
      "metadata": {
        "id": "1wEzk0m6rePG",
        "colab_type": "text"
      },
      "source": [
        "Транспонированная матрица."
      ]
    },
    {
      "cell_type": "code",
      "metadata": {
        "id": "_sR4rJf5rePH",
        "colab_type": "code",
        "outputId": "e187e6d6-a235-4e68-f423-74b755b94433",
        "colab": {
          "base_uri": "https://localhost:8080/",
          "height": 52
        }
      },
      "source": [
        "print(b.T)"
      ],
      "execution_count": 0,
      "outputs": [
        {
          "output_type": "stream",
          "text": [
            "[[0. 2.]\n",
            " [1. 3.]]\n"
          ],
          "name": "stdout"
        }
      ]
    },
    {
      "cell_type": "markdown",
      "metadata": {
        "id": "ZVwmqFFFrePI",
        "colab_type": "text"
      },
      "source": [
        "Соединение матриц по горизонтали и по вертикали."
      ]
    },
    {
      "cell_type": "code",
      "metadata": {
        "id": "R2LFs8xkrePI",
        "colab_type": "code",
        "outputId": "62c12ccf-9074-43db-a0c2-3a1b38580f06",
        "colab": {
          "base_uri": "https://localhost:8080/",
          "height": 141
        }
      },
      "source": [
        "a = np.array([[0, 1], [2, 3]])\n",
        "b = np.array([[4, 5, 6], [7, 8, 9]])\n",
        "c = np.array([[4, 5], [6, 7], [8, 9]])\n",
        "print(a)\n",
        "print(b)\n",
        "print(c)"
      ],
      "execution_count": 0,
      "outputs": [
        {
          "output_type": "stream",
          "text": [
            "[[0 1]\n",
            " [2 3]]\n",
            "[[4 5 6]\n",
            " [7 8 9]]\n",
            "[[4 5]\n",
            " [6 7]\n",
            " [8 9]]\n"
          ],
          "name": "stdout"
        }
      ]
    },
    {
      "cell_type": "code",
      "metadata": {
        "id": "O8zZ-vQYrePJ",
        "colab_type": "code",
        "outputId": "feb5bdfa-6acf-4a7c-e131-c25beafb99e6",
        "colab": {
          "base_uri": "https://localhost:8080/",
          "height": 52
        }
      },
      "source": [
        "print(np.hstack((a, b)))"
      ],
      "execution_count": 0,
      "outputs": [
        {
          "output_type": "stream",
          "text": [
            "[[0 1 4 5 6]\n",
            " [2 3 7 8 9]]\n"
          ],
          "name": "stdout"
        }
      ]
    },
    {
      "cell_type": "code",
      "metadata": {
        "id": "J3tjggB_rePL",
        "colab_type": "code",
        "outputId": "5bc9db65-b24b-40dd-fab0-949196153565",
        "colab": {
          "base_uri": "https://localhost:8080/",
          "height": 105
        }
      },
      "source": [
        "print(np.vstack((a, c)))"
      ],
      "execution_count": 0,
      "outputs": [
        {
          "output_type": "stream",
          "text": [
            "[[0 1]\n",
            " [2 3]\n",
            " [4 5]\n",
            " [6 7]\n",
            " [8 9]]\n"
          ],
          "name": "stdout"
        }
      ]
    },
    {
      "cell_type": "markdown",
      "metadata": {
        "id": "3ubhWV4nrePM",
        "colab_type": "text"
      },
      "source": [
        "Сумма всех элементов; суммы столбцов; суммы строк."
      ]
    },
    {
      "cell_type": "code",
      "metadata": {
        "id": "hBv83rqqYJjn",
        "colab_type": "code",
        "outputId": "dfdeda11-e6cb-4bb4-d14f-37df5b353d09",
        "colab": {
          "base_uri": "https://localhost:8080/",
          "height": 52
        }
      },
      "source": [
        "print(b)"
      ],
      "execution_count": 0,
      "outputs": [
        {
          "output_type": "stream",
          "text": [
            "[[4 5 6]\n",
            " [7 8 9]]\n"
          ],
          "name": "stdout"
        }
      ]
    },
    {
      "cell_type": "code",
      "metadata": {
        "id": "vhzyaByvrePN",
        "colab_type": "code",
        "outputId": "434a54cf-b4ec-46a7-de0c-0b9a19abe4b2",
        "colab": {
          "base_uri": "https://localhost:8080/",
          "height": 70
        }
      },
      "source": [
        "print(b.sum())\n",
        "print(b.sum(axis=0))\n",
        "print(b.sum(axis=1))"
      ],
      "execution_count": 0,
      "outputs": [
        {
          "output_type": "stream",
          "text": [
            "39\n",
            "[11 13 15]\n",
            "[15 24]\n"
          ],
          "name": "stdout"
        }
      ]
    },
    {
      "cell_type": "markdown",
      "metadata": {
        "id": "bCQ5RFxYrePO",
        "colab_type": "text"
      },
      "source": [
        "Аналогично работают `prod`, `max`, `min` и т.д."
      ]
    },
    {
      "cell_type": "code",
      "metadata": {
        "id": "9uTq1HVArePO",
        "colab_type": "code",
        "outputId": "4c5f2260-6532-42a0-a694-4d2251760ba4",
        "colab": {
          "base_uri": "https://localhost:8080/",
          "height": 70
        }
      },
      "source": [
        "print(b.max())\n",
        "print(b.max(axis=0))\n",
        "print(b.min(axis=1))"
      ],
      "execution_count": 0,
      "outputs": [
        {
          "output_type": "stream",
          "text": [
            "9\n",
            "[7 8 9]\n",
            "[4 7]\n"
          ],
          "name": "stdout"
        }
      ]
    },
    {
      "cell_type": "markdown",
      "metadata": {
        "id": "UNC6BOHvrePO",
        "colab_type": "text"
      },
      "source": [
        "След - сумма диагональных элементов."
      ]
    },
    {
      "cell_type": "code",
      "metadata": {
        "id": "DJYhjT6MrePP",
        "colab_type": "code",
        "outputId": "87ec5e03-0b63-4024-b22e-6a816ca20007",
        "colab": {
          "base_uri": "https://localhost:8080/",
          "height": 34
        }
      },
      "source": [
        "np.trace(a)"
      ],
      "execution_count": 0,
      "outputs": [
        {
          "output_type": "execute_result",
          "data": {
            "text/plain": [
              "3"
            ]
          },
          "metadata": {
            "tags": []
          },
          "execution_count": 272
        }
      ]
    },
    {
      "cell_type": "markdown",
      "metadata": {
        "id": "jv0n3-VMrePQ",
        "colab_type": "text"
      },
      "source": [
        "## Многомерные массивы"
      ]
    },
    {
      "cell_type": "code",
      "metadata": {
        "id": "iuPNm4eyrePQ",
        "colab_type": "code",
        "outputId": "45a72da1-eb80-4143-b76e-588871327acf",
        "colab": {
          "base_uri": "https://localhost:8080/",
          "height": 141
        }
      },
      "source": [
        "X = np.arange(24).reshape(2, 3, 4)\n",
        "print(X)"
      ],
      "execution_count": 0,
      "outputs": [
        {
          "output_type": "stream",
          "text": [
            "[[[ 0  1  2  3]\n",
            "  [ 4  5  6  7]\n",
            "  [ 8  9 10 11]]\n",
            "\n",
            " [[12 13 14 15]\n",
            "  [16 17 18 19]\n",
            "  [20 21 22 23]]]\n"
          ],
          "name": "stdout"
        }
      ]
    },
    {
      "cell_type": "markdown",
      "metadata": {
        "id": "JL3fBKoCrePR",
        "colab_type": "text"
      },
      "source": [
        "Суммирование (аналогично остальные операции)"
      ]
    },
    {
      "cell_type": "code",
      "metadata": {
        "id": "S1yPvA4SrePR",
        "colab_type": "code",
        "outputId": "673c6bfc-ef5b-4496-abe9-c34d4554fc21",
        "colab": {
          "base_uri": "https://localhost:8080/",
          "height": 87
        }
      },
      "source": [
        "# суммируем только по нулевой оси, то есть для фиксированных j и k суммируем только элементы с индексами (*, j, k)\n",
        "print(X.sum(axis=0))\n",
        "# суммируем сразу по двум осям, то есть для фиксированной i суммируем только элементы с индексами (i, *, *)\n",
        "print(X.sum(axis=(1, 2)))"
      ],
      "execution_count": 0,
      "outputs": [
        {
          "output_type": "stream",
          "text": [
            "[[12 14 16 18]\n",
            " [20 22 24 26]\n",
            " [28 30 32 34]]\n",
            "[ 66 210]\n"
          ],
          "name": "stdout"
        }
      ]
    },
    {
      "cell_type": "markdown",
      "metadata": {
        "id": "cmDjp1-FrePS",
        "colab_type": "text"
      },
      "source": [
        "## Линейная алгебра"
      ]
    },
    {
      "cell_type": "code",
      "metadata": {
        "id": "7vqKPaS-Ypv_",
        "colab_type": "code",
        "outputId": "c5bf0fbd-0c17-4e41-8b89-01cdf54298c2",
        "colab": {
          "base_uri": "https://localhost:8080/",
          "height": 52
        }
      },
      "source": [
        "print(a)"
      ],
      "execution_count": 0,
      "outputs": [
        {
          "output_type": "stream",
          "text": [
            "[[0 1]\n",
            " [2 3]]\n"
          ],
          "name": "stdout"
        }
      ]
    },
    {
      "cell_type": "code",
      "metadata": {
        "id": "OQthDPbmrePS",
        "colab_type": "code",
        "outputId": "efedd1a9-eef0-4bc5-b4a7-2fd76af55acc",
        "colab": {
          "base_uri": "https://localhost:8080/",
          "height": 34
        }
      },
      "source": [
        "np.linalg.det(a)"
      ],
      "execution_count": 0,
      "outputs": [
        {
          "output_type": "execute_result",
          "data": {
            "text/plain": [
              "-2.0"
            ]
          },
          "metadata": {
            "tags": []
          },
          "execution_count": 276
        }
      ]
    },
    {
      "cell_type": "markdown",
      "metadata": {
        "id": "NM91Qb76rePT",
        "colab_type": "text"
      },
      "source": [
        "Обратная матрица."
      ]
    },
    {
      "cell_type": "code",
      "metadata": {
        "id": "y__P6QbirePU",
        "colab_type": "code",
        "outputId": "66abd912-a52e-4512-ee60-2fde4a990a13",
        "colab": {
          "base_uri": "https://localhost:8080/",
          "height": 52
        }
      },
      "source": [
        "a1 = np.linalg.inv(a)\n",
        "print(a1)"
      ],
      "execution_count": 0,
      "outputs": [
        {
          "output_type": "stream",
          "text": [
            "[[-1.5  0.5]\n",
            " [ 1.   0. ]]\n"
          ],
          "name": "stdout"
        }
      ]
    },
    {
      "cell_type": "code",
      "metadata": {
        "id": "Z0gy4lwirePV",
        "colab_type": "code",
        "outputId": "93ef64fd-3be5-4e2b-d2c1-909b6ae398d7",
        "colab": {
          "base_uri": "https://localhost:8080/",
          "height": 87
        }
      },
      "source": [
        "print(a @ a1)\n",
        "print(a1 @ a)"
      ],
      "execution_count": 0,
      "outputs": [
        {
          "output_type": "stream",
          "text": [
            "[[1. 0.]\n",
            " [0. 1.]]\n",
            "[[1. 0.]\n",
            " [0. 1.]]\n"
          ],
          "name": "stdout"
        }
      ]
    },
    {
      "cell_type": "markdown",
      "metadata": {
        "id": "mKapsuo6rePX",
        "colab_type": "text"
      },
      "source": [
        "Решение линейной системы $au=v$."
      ]
    },
    {
      "cell_type": "code",
      "metadata": {
        "id": "O9fmz_M-rePX",
        "colab_type": "code",
        "colab": {}
      },
      "source": [
        "v = np.array([0, 1], dtype=np.float64)\n"
      ],
      "execution_count": 0,
      "outputs": []
    },
    {
      "cell_type": "code",
      "metadata": {
        "id": "Csyl1ruOrePY",
        "colab_type": "code",
        "outputId": "d202b153-48b6-4d44-c23b-ff11ed229dc4",
        "colab": {
          "base_uri": "https://localhost:8080/",
          "height": 34
        }
      },
      "source": [
        "u = np.linalg.solve(a, v)\n",
        "print(u)"
      ],
      "execution_count": 0,
      "outputs": [
        {
          "output_type": "stream",
          "text": [
            "[0.5 0. ]\n"
          ],
          "name": "stdout"
        }
      ]
    },
    {
      "cell_type": "markdown",
      "metadata": {
        "id": "UobWxiKgrePY",
        "colab_type": "text"
      },
      "source": [
        "Проверим."
      ]
    },
    {
      "cell_type": "code",
      "metadata": {
        "id": "6zOL7q-bY4T8",
        "colab_type": "code",
        "outputId": "2d92afc7-94ca-424b-cd15-6e2c7b1295f2",
        "colab": {
          "base_uri": "https://localhost:8080/",
          "height": 34
        }
      },
      "source": [
        "print(a1 @ v)"
      ],
      "execution_count": 0,
      "outputs": [
        {
          "output_type": "stream",
          "text": [
            "[0.5 0. ]\n"
          ],
          "name": "stdout"
        }
      ]
    },
    {
      "cell_type": "code",
      "metadata": {
        "id": "OmETRro4rePZ",
        "colab_type": "code",
        "outputId": "85eef45f-b557-40fb-d158-63e5576d81f6",
        "colab": {
          "base_uri": "https://localhost:8080/",
          "height": 34
        }
      },
      "source": [
        "print(a @ u - v)"
      ],
      "execution_count": 0,
      "outputs": [
        {
          "output_type": "stream",
          "text": [
            "[0. 0.]\n"
          ],
          "name": "stdout"
        }
      ]
    },
    {
      "cell_type": "markdown",
      "metadata": {
        "id": "YgTlRVRErePZ",
        "colab_type": "text"
      },
      "source": [
        "Собственные значения и собственные векторы: $a u_i = \\lambda_i u_i$. `l` - одномерный массив собственных значений $\\lambda_i$, столбцы матрицы $u$ - собственные векторы $u_i$."
      ]
    },
    {
      "cell_type": "code",
      "metadata": {
        "id": "bIuL_eXGrePZ",
        "colab_type": "code",
        "outputId": "eddb935b-7c04-4c53-def4-e3263493a350",
        "colab": {
          "base_uri": "https://localhost:8080/",
          "height": 70
        }
      },
      "source": [
        "l, u = np.linalg.eig(a)\n",
        "print(l)\n",
        "print(u)"
      ],
      "execution_count": 0,
      "outputs": [
        {
          "output_type": "stream",
          "text": [
            "[-0.56155281  3.56155281]\n",
            "[[-0.87192821 -0.27032301]\n",
            " [ 0.48963374 -0.96276969]]\n"
          ],
          "name": "stdout"
        }
      ]
    },
    {
      "cell_type": "markdown",
      "metadata": {
        "id": "tM8JdlX_rePb",
        "colab_type": "text"
      },
      "source": [
        "Проверим."
      ]
    },
    {
      "cell_type": "code",
      "metadata": {
        "id": "Bbs7QdqrrePb",
        "colab_type": "code",
        "outputId": "801060b0-d0e3-4eea-da9b-a64547eaef64",
        "colab": {
          "base_uri": "https://localhost:8080/",
          "height": 52
        }
      },
      "source": [
        "for i in range(2):\n",
        "    print(a @ u[:, i] - l[i] * u[:, i])"
      ],
      "execution_count": 0,
      "outputs": [
        {
          "output_type": "stream",
          "text": [
            "[0.00000000e+00 1.66533454e-16]\n",
            "[ 0.0000000e+00 -4.4408921e-16]\n"
          ],
          "name": "stdout"
        }
      ]
    },
    {
      "cell_type": "markdown",
      "metadata": {
        "id": "zR-R0A3grePc",
        "colab_type": "text"
      },
      "source": [
        "Функция `diag` от одномерного массива строит диагональную матрицу; от квадратной матрицы - возвращает одномерный массив её диагональных элементов."
      ]
    },
    {
      "cell_type": "code",
      "metadata": {
        "id": "aKtsFi58rePc",
        "colab_type": "code",
        "outputId": "2aed5508-1813-4ae6-e62a-570ef67d5b0c",
        "colab": {
          "base_uri": "https://localhost:8080/",
          "height": 70
        }
      },
      "source": [
        "L = np.diag(l)\n",
        "print(L)\n",
        "print(np.diag(L))"
      ],
      "execution_count": 0,
      "outputs": [
        {
          "output_type": "stream",
          "text": [
            "[[-0.56155281  0.        ]\n",
            " [ 0.          3.56155281]]\n",
            "[-0.56155281  3.56155281]\n"
          ],
          "name": "stdout"
        }
      ]
    },
    {
      "cell_type": "markdown",
      "metadata": {
        "id": "WpzJn_gGrePd",
        "colab_type": "text"
      },
      "source": [
        "Все уравнения $a u_i = \\lambda_i u_i$ можно собрать в одно матричное уравнение $a u = u \\Lambda$, где $\\Lambda$ - диагональная матрица с собственными значениями $\\lambda_i$ по диагонали."
      ]
    },
    {
      "cell_type": "code",
      "metadata": {
        "id": "r4scSOj2rePd",
        "colab_type": "code",
        "outputId": "89f67364-6142-46b7-d5cd-4baf2a636072",
        "colab": {
          "base_uri": "https://localhost:8080/",
          "height": 52
        }
      },
      "source": [
        "print(a @ u - u @ L)"
      ],
      "execution_count": 0,
      "outputs": [
        {
          "output_type": "stream",
          "text": [
            "[[ 0.00000000e+00  0.00000000e+00]\n",
            " [ 1.66533454e-16 -4.44089210e-16]]\n"
          ],
          "name": "stdout"
        }
      ]
    },
    {
      "cell_type": "markdown",
      "metadata": {
        "id": "2p3gFzQnrePe",
        "colab_type": "text"
      },
      "source": [
        "Поэтому $u^{-1} a u = \\Lambda$."
      ]
    },
    {
      "cell_type": "code",
      "metadata": {
        "id": "jjPZzilPrePe",
        "colab_type": "code",
        "outputId": "19a69785-ebb0-4f9b-d9ad-ba0e6cd2af86",
        "colab": {
          "base_uri": "https://localhost:8080/",
          "height": 52
        }
      },
      "source": [
        "print(np.linalg.inv(u) @ a @ u)"
      ],
      "execution_count": 0,
      "outputs": [
        {
          "output_type": "stream",
          "text": [
            "[[-5.61552813e-01  2.77555756e-17]\n",
            " [-2.22044605e-16  3.56155281e+00]]\n"
          ],
          "name": "stdout"
        }
      ]
    },
    {
      "cell_type": "markdown",
      "metadata": {
        "id": "LJnwHZSZrePp",
        "colab_type": "text"
      },
      "source": [
        "## Сохранение в файл и чтение из файла"
      ]
    },
    {
      "cell_type": "code",
      "metadata": {
        "id": "NNpVzVierePp",
        "colab_type": "code",
        "colab": {}
      },
      "source": [
        "x = np.arange(0, 25, 0.5).reshape((5, 10))\n",
        "\n",
        "# Сохраняем в файл example.txt данные x в формате с двумя точками после запятой и разделителем ';'\n",
        "np.savetxt('example.txt', x, fmt='%.2f', delimiter=';')"
      ],
      "execution_count": 0,
      "outputs": []
    },
    {
      "cell_type": "markdown",
      "metadata": {
        "id": "pKP-KgydrePq",
        "colab_type": "text"
      },
      "source": [
        "Получится такой файл"
      ]
    },
    {
      "cell_type": "code",
      "metadata": {
        "id": "qFrGHm4lrePq",
        "colab_type": "code",
        "outputId": "6affe54e-37fe-457b-8114-5df3ca37c37a",
        "colab": {
          "base_uri": "https://localhost:8080/",
          "height": 105
        }
      },
      "source": [
        "! cat example.txt"
      ],
      "execution_count": 0,
      "outputs": [
        {
          "output_type": "stream",
          "text": [
            "0.00;0.50;1.00;1.50;2.00;2.50;3.00;3.50;4.00;4.50\n",
            "5.00;5.50;6.00;6.50;7.00;7.50;8.00;8.50;9.00;9.50\n",
            "10.00;10.50;11.00;11.50;12.00;12.50;13.00;13.50;14.00;14.50\n",
            "15.00;15.50;16.00;16.50;17.00;17.50;18.00;18.50;19.00;19.50\n",
            "20.00;20.50;21.00;21.50;22.00;22.50;23.00;23.50;24.00;24.50\n"
          ],
          "name": "stdout"
        }
      ]
    },
    {
      "cell_type": "markdown",
      "metadata": {
        "id": "yelPHed-rePr",
        "colab_type": "text"
      },
      "source": [
        "Теперь его можно прочитать"
      ]
    },
    {
      "cell_type": "code",
      "metadata": {
        "id": "I5LU4nrorePt",
        "colab_type": "code",
        "outputId": "4f22cf28-9a39-4153-9a93-d48cb99970cc",
        "colab": {
          "base_uri": "https://localhost:8080/",
          "height": 105
        }
      },
      "source": [
        "x = np.loadtxt('example.txt', delimiter=';')\n",
        "print(x)"
      ],
      "execution_count": 0,
      "outputs": [
        {
          "output_type": "stream",
          "text": [
            "[[ 0.   0.5  1.   1.5  2.   2.5  3.   3.5  4.   4.5]\n",
            " [ 5.   5.5  6.   6.5  7.   7.5  8.   8.5  9.   9.5]\n",
            " [10.  10.5 11.  11.5 12.  12.5 13.  13.5 14.  14.5]\n",
            " [15.  15.5 16.  16.5 17.  17.5 18.  18.5 19.  19.5]\n",
            " [20.  20.5 21.  21.5 22.  22.5 23.  23.5 24.  24.5]]\n"
          ],
          "name": "stdout"
        }
      ]
    },
    {
      "cell_type": "code",
      "metadata": {
        "id": "z8ZiZuAAacA7",
        "colab_type": "code",
        "colab": {}
      },
      "source": [
        "np.save('x.npy', x)"
      ],
      "execution_count": 0,
      "outputs": []
    },
    {
      "cell_type": "code",
      "metadata": {
        "id": "FMQElDB3ahFR",
        "colab_type": "code",
        "outputId": "957900dd-4892-41a2-db77-5411147a6764",
        "colab": {
          "base_uri": "https://localhost:8080/",
          "height": 105
        }
      },
      "source": [
        "x = np.load('x.npy')\n",
        "print(x)"
      ],
      "execution_count": 0,
      "outputs": [
        {
          "output_type": "stream",
          "text": [
            "[[ 0.   0.5  1.   1.5  2.   2.5  3.   3.5  4.   4.5]\n",
            " [ 5.   5.5  6.   6.5  7.   7.5  8.   8.5  9.   9.5]\n",
            " [10.  10.5 11.  11.5 12.  12.5 13.  13.5 14.  14.5]\n",
            " [15.  15.5 16.  16.5 17.  17.5 18.  18.5 19.  19.5]\n",
            " [20.  20.5 21.  21.5 22.  22.5 23.  23.5 24.  24.5]]\n"
          ],
          "name": "stdout"
        }
      ]
    },
    {
      "cell_type": "markdown",
      "metadata": {
        "id": "OGDa9Ei3rePu",
        "colab_type": "text"
      },
      "source": [
        "## Производительность numpy\n",
        "\n",
        "Посмотрим на простой пример --- сумма первых $10^{8}$ чисел."
      ]
    },
    {
      "cell_type": "code",
      "metadata": {
        "id": "GlNp4fJLrePw",
        "colab_type": "code",
        "colab": {
          "base_uri": "https://localhost:8080/",
          "height": 68
        },
        "outputId": "030907c5-ad46-4fcc-d99f-2b9edf28fc0f"
      },
      "source": [
        "%%time\n",
        "\n",
        "sum_value = 0\n",
        "for i in range(10 ** 8):\n",
        "    sum_value += i\n",
        "print(sum_value)"
      ],
      "execution_count": 3,
      "outputs": [
        {
          "output_type": "stream",
          "text": [
            "4999999950000000\n",
            "CPU times: user 10.4 s, sys: 4 ms, total: 10.4 s\n",
            "Wall time: 10.5 s\n"
          ],
          "name": "stdout"
        }
      ]
    },
    {
      "cell_type": "markdown",
      "metadata": {
        "id": "KgkOXSbSrePx",
        "colab_type": "text"
      },
      "source": [
        "Немного улучшеный код"
      ]
    },
    {
      "cell_type": "code",
      "metadata": {
        "id": "D7qR2jbarePx",
        "colab_type": "code",
        "outputId": "2d9c3174-0505-4e32-be31-3f12285e4d32",
        "colab": {
          "base_uri": "https://localhost:8080/",
          "height": 68
        }
      },
      "source": [
        "%%time\n",
        "\n",
        "sum_value = sum(range(10 ** 8))\n",
        "print(sum_value)"
      ],
      "execution_count": 4,
      "outputs": [
        {
          "output_type": "stream",
          "text": [
            "4999999950000000\n",
            "CPU times: user 1.76 s, sys: 2 ms, total: 1.76 s\n",
            "Wall time: 1.76 s\n"
          ],
          "name": "stdout"
        }
      ]
    },
    {
      "cell_type": "markdown",
      "metadata": {
        "id": "iZmCgLnVrePy",
        "colab_type": "text"
      },
      "source": [
        "Код с использованием функций библиотеки numpy"
      ]
    },
    {
      "cell_type": "code",
      "metadata": {
        "id": "c7k7a2hjreP0",
        "colab_type": "code",
        "colab": {
          "base_uri": "https://localhost:8080/",
          "height": 68
        },
        "outputId": "2aa3aafb-f073-4df8-e01b-42ceeb0b8dd3"
      },
      "source": [
        "%%time\n",
        "\n",
        "sum_value = np.arange(10 ** 8).sum()\n",
        "print(sum_value)"
      ],
      "execution_count": 5,
      "outputs": [
        {
          "output_type": "stream",
          "text": [
            "4999999950000000\n",
            "CPU times: user 223 ms, sys: 332 ms, total: 555 ms\n",
            "Wall time: 565 ms\n"
          ],
          "name": "stdout"
        }
      ]
    },
    {
      "cell_type": "markdown",
      "metadata": {
        "id": "wy1uFpJOreP1",
        "colab_type": "text"
      },
      "source": [
        "Простой и понятный код работает в $30$ раз быстрее!"
      ]
    }
  ]
}