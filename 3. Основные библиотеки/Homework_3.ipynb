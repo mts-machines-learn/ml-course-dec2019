{
  "nbformat": 4,
  "nbformat_minor": 0,
  "metadata": {
    "kernelspec": {
      "display_name": "Python 3",
      "language": "python",
      "name": "python3"
    },
    "language_info": {
      "codemirror_mode": {
        "name": "ipython",
        "version": 3
      },
      "file_extension": ".py",
      "mimetype": "text/x-python",
      "name": "python",
      "nbconvert_exporter": "python",
      "pygments_lexer": "ipython3",
      "version": "3.6.5"
    },
    "colab": {
      "name": "Homework_3.ipynb",
      "provenance": [],
      "collapsed_sections": []
    }
  },
  "cells": [
    {
      "cell_type": "markdown",
      "metadata": {
        "id": "uuX1yAb2q8qD",
        "colab_type": "text"
      },
      "source": [
        "# Практическое задание\n",
        "\n",
        "В данном задании предлагается решить несколько задач на использование функций библиотек `numpy` и `matplotlib`.\n",
        "Во всех заданиях предполагается, что все аргументы функций, которые нужно реализовать, имеют тип `numpy.array` либо являются числами. Возвращать нужно также либо `numpy.array`, либо число. Кроме того, предполагается, что все аргументы корректны, и проверять их на корректность не нужно.\n",
        "\n",
        "При реализации запрещается пользоваться любыми циклами, в том числе стандартными функциями языка, которые заменяют циклы. Можно использовать любые функции библиотек `numpy`."
      ]
    },
    {
      "cell_type": "code",
      "metadata": {
        "id": "JxwxYkHRq8qG",
        "colab_type": "code",
        "colab": {}
      },
      "source": [
        "import numpy as np\n",
        "import matplotlib.pyplot as plt\n",
        "\n",
        "%matplotlib inline"
      ],
      "execution_count": 0,
      "outputs": []
    },
    {
      "cell_type": "markdown",
      "metadata": {
        "id": "FeOZHAyLytZJ",
        "colab_type": "text"
      },
      "source": [
        "# Задача 1"
      ]
    },
    {
      "cell_type": "markdown",
      "metadata": {
        "id": "xKtknDXQwL76",
        "colab_type": "text"
      },
      "source": [
        "**Задача 1.** Индексация массивов. Необходимо написать функцию, которая создает матрицу размера NxN следующим образом: \n",
        "все крайние элементы равны 1, а все остальные (внутренние) равны 0.\n",
        "В данной задаче не требуется написать решение одной операцией или в одну строку, но требуется использовать функционал `numpy`\n",
        "\n",
        "Ожидаемый вывод при n=5:\n",
        "```\n",
        "array([[1., 1., 1., 1., 1.],\n",
        "       [1., 0., 0., 0., 1.],\n",
        "       [1., 0., 0., 0., 1.],\n",
        "       [1., 0., 0., 0., 1.],\n",
        "       [1., 1., 1., 1., 1.]])\n",
        "```\n",
        "\n",
        "Подсказка: попробуйте подобрать нужную индексацию, используя диапазоны индексов аналогично [лекции](https://colab.research.google.com/drive/1CUFXVWcwdXzjRY8ngxwa2Jy7FC_s3lsR#scrollTo=Lp76VmnjgXyL)"
      ]
    },
    {
      "cell_type": "code",
      "metadata": {
        "id": "bcq89oY5nAWy",
        "colab_type": "code",
        "colab": {}
      },
      "source": [
        "def create_boarded_array(n):\n",
        "    '''\n",
        "    Функция создает np.array, у которого крайние элементы = 1, остальные = 0.\n",
        "    '''\n",
        "    # ВАШ КОД ЗДЕСЬ\n",
        "    return res_arr\n",
        "\n",
        "create_boarded_array(5)"
      ],
      "execution_count": 0,
      "outputs": []
    },
    {
      "cell_type": "markdown",
      "metadata": {
        "id": "r5yqwnQ3y1xt",
        "colab_type": "text"
      },
      "source": [
        "# Задача 2"
      ]
    },
    {
      "cell_type": "markdown",
      "metadata": {
        "id": "ZsoipL9QyR48",
        "colab_type": "text"
      },
      "source": [
        "\n",
        "**Задача 2.** Создать массив \"шахматная доска\" - размер 8х8, где на месте белых клеток находятся нули, а на месте черных клеток - 1.\n",
        "\n",
        "Ожидаемый результат:\n",
        "```\n",
        "[[0 1 0 1 0 1 0 1]\n",
        " [1 0 1 0 1 0 1 0]\n",
        " [0 1 0 1 0 1 0 1]\n",
        " [1 0 1 0 1 0 1 0]\n",
        " [0 1 0 1 0 1 0 1]\n",
        " [1 0 1 0 1 0 1 0]\n",
        " [0 1 0 1 0 1 0 1]\n",
        " [1 0 1 0 1 0 1 0]]\n",
        " ```\n",
        "\n",
        " Подсказка: существует несколько способов, как можно решить эту задачу. Один из вариантов - использовать индексацию массива с шагом, отличным от единицы. [Пример из лекции](https://colab.research.google.com/drive/1CUFXVWcwdXzjRY8ngxwa2Jy7FC_s3lsR#scrollTo=syUL-HIbreNy&line=2&uniqifier=1)\n",
        " В лекции подобная индексация применяется для одномерного массива, но здесь можно применить подобный подход сразу для обоих измерений при обращении к матрице.\n",
        " Т.е. можно создать матрицу нулей нужного размера, а затем заполнить единицами только нужные места, используя диапазоны индексов с нужным шагом.\n",
        "\n",
        " Данную задачу также не требуется решить одним действием или в одну строку.\n"
      ]
    },
    {
      "cell_type": "code",
      "metadata": {
        "id": "mOKWF66Dna9D",
        "colab_type": "code",
        "colab": {}
      },
      "source": [
        "# Можно также сделать в виде функции, \n",
        "# но Задачи 2 и 3 примем и без оформления в виде функции:\n",
        "# частов при прототипировании решений в Jupyter некоторые вычисления \n",
        "# выполняются один раз, поэтому необязательно их оборачивать \n",
        "# в отдельную функцию\n",
        "\n",
        "# ВАШ КОД ЗДЕСЬ\n"
      ],
      "execution_count": 0,
      "outputs": []
    },
    {
      "cell_type": "markdown",
      "metadata": {
        "id": "wCkjEZLWjF2r",
        "colab_type": "text"
      },
      "source": [
        "# Задача 3"
      ]
    },
    {
      "cell_type": "markdown",
      "metadata": {
        "id": "G1wPmKK59f5K",
        "colab_type": "text"
      },
      "source": [
        "**Задача 3.** Создать массив 5х2, содержащий числа от 0 до 100 с шагом 10\n",
        "\n",
        "Ожидаемый результат:\n",
        "```\n",
        "array([[100, 110],\n",
        "       [120, 130],\n",
        "       [140, 150],\n",
        "       [160, 170],\n",
        "       [180, 190]])\n",
        "```\n",
        "Данную задачу также можно решить разными способами. Один из способов - создать одномерный массив с нужными значениями, а затем изменить форму массива."
      ]
    },
    {
      "cell_type": "code",
      "metadata": {
        "id": "mGu2ebgWobKK",
        "colab_type": "code",
        "colab": {}
      },
      "source": [
        "# ВАШ КОД ЗДЕСЬ\n"
      ],
      "execution_count": 0,
      "outputs": []
    },
    {
      "cell_type": "markdown",
      "metadata": {
        "id": "xWGRf33zw_ck",
        "colab_type": "text"
      },
      "source": [
        "# Задача по matplotlib"
      ]
    },
    {
      "cell_type": "code",
      "metadata": {
        "id": "49rK1-DeySil",
        "colab_type": "code",
        "colab": {}
      },
      "source": [
        "import matplotlib.pyplot as plt\n",
        "%matplotlib inline"
      ],
      "execution_count": 0,
      "outputs": []
    },
    {
      "cell_type": "markdown",
      "metadata": {
        "id": "fIsINCpzxL3c",
        "colab_type": "text"
      },
      "source": [
        "# Задача 4."
      ]
    },
    {
      "cell_type": "markdown",
      "metadata": {
        "id": "RnxMYMdbyJPt",
        "colab_type": "text"
      },
      "source": [
        "**Задача 4.** Даны массивы `x` и `y`. Исользуя `matplotlib`, постройте на одном координатном поле две линии: \n",
        "1. y(x) - сплошную синюю линию\n",
        "2. y1(x1) - красную пунктирную линию\n",
        "3. добавьте точки данных на линии в виде маркеров\n",
        "4. добавьте координатную сетку на график\n",
        "5. добавьте легенду на график\n",
        "6. добавьте названия осей\n",
        "7. добавьте название графика (title) "
      ]
    },
    {
      "cell_type": "code",
      "metadata": {
        "id": "ejO80fh0yKs1",
        "colab_type": "code",
        "outputId": "e7e05c08-1d3f-4d14-8469-1b855a5c411c",
        "colab": {
          "base_uri": "https://localhost:8080/",
          "height": 295
        }
      },
      "source": [
        "# Ожидаемый результат\n"
      ],
      "execution_count": 0,
      "outputs": [
        {
          "output_type": "display_data",
          "data": {
            "image/png": "[encoded data removed]",
            "text/plain": [
              "<Figure size 432x288 with 1 Axes>"
            ]
          },
          "metadata": {
            "tags": []
          }
        }
      ]
    },
    {
      "cell_type": "code",
      "metadata": {
        "id": "WMjW3Avs7BOO",
        "colab_type": "code",
        "colab": {}
      },
      "source": [
        "x = np.arange(1,111, 10)\n",
        "x1 = np.logspace(0.001, 2, num=10)\n",
        "y = 1/x\n",
        "y1 = 1/x1\n",
        "\n",
        "# ВАШ КОД ЗДЕСЬ"
      ],
      "execution_count": 0,
      "outputs": []
    },
    {
      "cell_type": "markdown",
      "metadata": {
        "id": "9nzTq3wJ9gnH",
        "colab_type": "text"
      },
      "source": [
        "# Теоретические вопросы"
      ]
    },
    {
      "cell_type": "markdown",
      "metadata": {
        "id": "Roy_rHlDq8qp",
        "colab_type": "text"
      },
      "source": [
        "**Вопрос:** За счет чего достигается такая эффективность методов `numpy`?\n",
        "\n",
        "**Ответ:** "
      ]
    },
    {
      "cell_type": "code",
      "metadata": {
        "id": "2oWujfRom947",
        "colab_type": "code",
        "colab": {}
      },
      "source": [
        ""
      ],
      "execution_count": 0,
      "outputs": []
    }
  ]
}