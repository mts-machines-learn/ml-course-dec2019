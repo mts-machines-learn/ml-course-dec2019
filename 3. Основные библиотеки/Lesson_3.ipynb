{
  "nbformat": 4,
  "nbformat_minor": 0,
  "metadata": {
    "kernelspec": {
      "display_name": "Python 3",
      "language": "python",
      "name": "python3"
    },
    "language_info": {
      "codemirror_mode": {
        "name": "ipython",
        "version": 3
      },
      "file_extension": ".py",
      "mimetype": "text/x-python",
      "name": "python",
      "nbconvert_exporter": "python",
      "pygments_lexer": "ipython3",
      "version": "3.6.5"
    },
    "colab": {
      "name": "Copy of HW.ipynb",
      "provenance": [],
      "include_colab_link": true
    }
  },
  "cells": [
    {
      "cell_type": "markdown",
      "metadata": {
        "id": "view-in-github",
        "colab_type": "text"
      },
      "source": [
        "<a href=\"https://colab.research.google.com/github/MikhailSam/ml-course-dec2019/blob/dev/3.%20%D0%9E%D1%81%D0%BD%D0%BE%D0%B2%D0%BD%D1%8B%D0%B5%20%D0%B1%D0%B8%D0%B1%D0%BB%D0%B8%D0%BE%D1%82%D0%B5%D0%BA%D0%B8/Copy_of_HW.ipynb\" target=\"_parent\"><img src=\"https://colab.research.google.com/assets/colab-badge.svg\" alt=\"Open In Colab\"/></a>"
      ]
    },
    {
      "cell_type": "markdown",
      "metadata": {
        "id": "uuX1yAb2q8qD",
        "colab_type": "text"
      },
      "source": [
        "# Практическое задание\n",
        "\n",
        "В данном задании предлагается решить 3 простых задачи на использование функций библиотеки `numpy`.\n",
        "Во всех заданиях предполагается, что все аргументы функций, которые нужно реализовать, имеют тип `numpy.array` либо являются числами. Возвращать нужно также либо `numpy.array`, либо число. Кроме того, предполагается, что все аргументы корректны, и проверять их на корректность не нужно.\n",
        "\n",
        "При реализации запрещается пользоваться любыми циклами, в том числе стандартными функциями языка, которые заменяют циклы. Можно использовать любые функции библиотек `numpy` или `scipy`, кроме функции `numpy.fromfunction` и декторатора `numpy.vectorize`."
      ]
    },
    {
      "cell_type": "code",
      "metadata": {
        "id": "JxwxYkHRq8qG",
        "colab_type": "code",
        "colab": {}
      },
      "source": [
        "import numpy as np\n",
        "import scipy.stats as sps\n",
        "import matplotlib.pyplot as plt\n",
        "\n",
        "%matplotlib inline"
      ],
      "execution_count": 0,
      "outputs": []
    },
    {
      "cell_type": "markdown",
      "metadata": {
        "id": "FeOZHAyLytZJ",
        "colab_type": "text"
      },
      "source": [
        "# Задача 1"
      ]
    },
    {
      "cell_type": "markdown",
      "metadata": {
        "id": "xKtknDXQwL76",
        "colab_type": "text"
      },
      "source": [
        "**Задача 1.** Индексация массивов. Необходимо написать функцию, которая создает матрицу размера NxN следующим образом: \n",
        "все крайние элементы равны 1, а все остальные (внутренние) равны 0.\n"
      ]
    },
    {
      "cell_type": "markdown",
      "metadata": {
        "id": "zXrsK81T6hrf",
        "colab_type": "text"
      },
      "source": [
        "### Подсказка"
      ]
    },
    {
      "cell_type": "markdown",
      "metadata": {
        "id": "Jn9ZM73r6wFd",
        "colab_type": "text"
      },
      "source": [
        "Подсказка: можно использовать диапазоны индексов 1:-1"
      ]
    },
    {
      "cell_type": "markdown",
      "metadata": {
        "id": "HvRnuI7R7Fdu",
        "colab_type": "text"
      },
      "source": [
        "### Решение"
      ]
    },
    {
      "cell_type": "code",
      "metadata": {
        "id": "_TpXQRney5Wy",
        "colab_type": "code",
        "colab": {}
      },
      "source": [
        ""
      ],
      "execution_count": 0,
      "outputs": []
    },
    {
      "cell_type": "markdown",
      "metadata": {
        "id": "r5yqwnQ3y1xt",
        "colab_type": "text"
      },
      "source": [
        "# Задача 2"
      ]
    },
    {
      "cell_type": "markdown",
      "metadata": {
        "id": "ZsoipL9QyR48",
        "colab_type": "text"
      },
      "source": [
        "\n",
        "**Задача 2.** Создать массив \"шахматная доска\" - размер 8х8, где на месте белых клеток находятся нули, а на месте черных клеток - 1."
      ]
    },
    {
      "cell_type": "markdown",
      "metadata": {
        "id": "JAwp1IGhqqfI",
        "colab_type": "text"
      },
      "source": [
        "# Задача 3"
      ]
    },
    {
      "cell_type": "markdown",
      "metadata": {
        "id": "G1wPmKK59f5K",
        "colab_type": "text"
      },
      "source": [
        "**Задача 3.** Создать массив 5х2, содержащий числа от 0 до 100 с шагом 10\n",
        "\n",
        "Ожидаемый результат:\n",
        "`\n",
        "array([[100, 110],\n",
        "       [120, 130],\n",
        "       [140, 150],\n",
        "       [160, 170],\n",
        "       [180, 190]])`"
      ]
    },
    {
      "cell_type": "code",
      "metadata": {
        "id": "TZwmao5PvjZz",
        "colab_type": "code",
        "colab": {}
      },
      "source": [
        ""
      ],
      "execution_count": 0,
      "outputs": []
    },
    {
      "cell_type": "markdown",
      "metadata": {
        "id": "B26iqVT-qwSh",
        "colab_type": "text"
      },
      "source": [
        "# Задача 4"
      ]
    },
    {
      "cell_type": "markdown",
      "metadata": {
        "id": "sGmhhokfq8qJ",
        "colab_type": "text"
      },
      "source": [
        "**Задача 4.** Напишите функцию, реализующую матричное умножение. При вычислении разрешается создавать объекты размерности три. Запрещается пользоваться функциями, реализующими матричное умножение (`numpy.dot`, операция `@`, операция умножения в классе `numpy.matrix`). *Авторское решение занимает одну строчку.*"
      ]
    },
    {
      "cell_type": "markdown",
      "metadata": {
        "id": "Uk9nHaWqrMqj",
        "colab_type": "text"
      },
      "source": [
        "# Задача 5"
      ]
    },
    {
      "cell_type": "markdown",
      "metadata": {
        "id": "snpAQNhGq8qj",
        "colab_type": "text"
      },
      "source": [
        "**Задача 5.** Дана матрица $A = (a_{ij})$ размера $n \\times m$. Вычислите величину $$\\frac{1}{m} \\sum_{j=1}^m \\min_{i=1, ..., n} a_{ij},$$ то есть средний минимум по столбцам. *Авторское решение занимает одну строчку.*"
      ]
    },
    {
      "cell_type": "code",
      "metadata": {
        "id": "UuXcSSpcrWXE",
        "colab_type": "code",
        "colab": {}
      },
      "source": [
        ""
      ],
      "execution_count": 0,
      "outputs": []
    },
    {
      "cell_type": "markdown",
      "metadata": {
        "id": "sf8CmP8grYmb",
        "colab_type": "text"
      },
      "source": [
        "# Вопросы на понимание"
      ]
    },
    {
      "cell_type": "markdown",
      "metadata": {
        "id": "Roy_rHlDq8qp",
        "colab_type": "text"
      },
      "source": [
        "**Вопрос:** За счет чего достигается такая эффективность методов `numpy`?\n"
      ]
    },
    {
      "cell_type": "code",
      "metadata": {
        "id": "YFPQcJphrdcr",
        "colab_type": "code",
        "colab": {}
      },
      "source": [
        ""
      ],
      "execution_count": 0,
      "outputs": []
    }
  ]
}
