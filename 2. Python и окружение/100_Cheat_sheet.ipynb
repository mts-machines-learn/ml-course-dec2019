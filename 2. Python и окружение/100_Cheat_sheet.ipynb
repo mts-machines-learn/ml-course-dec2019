{
 "cells": [
  {
   "cell_type": "markdown",
   "metadata": {},
   "source": [
    "<a href=\"https://colab.research.google.com/github/mts-machines-learn/ml-course-dec2019/blob/lesson2/2. Python и окружение/100_Cheat_sheet.ipynb\"><img src=\"https://colab.research.google.com/assets/colab-badge.svg\"/></a>"
   ]
  },
  {
   "cell_type": "markdown",
   "metadata": {},
   "source": [
    "## Actual cheat sheet :)"
   ]
  },
  {
   "cell_type": "markdown",
   "metadata": {},
   "source": [
    "Ноутбуки разрослись до формата мини-лекций, поэтому в этом файле соберу просто куски кода по категориям. Все эти вещи не нужно держать в голове: абсолютно нормально всегда держать у себя открытым этот файл и подглядывать."
   ]
  },
  {
   "cell_type": "markdown",
   "metadata": {},
   "source": [
    "### Переменные и выражения"
   ]
  },
  {
   "cell_type": "code",
   "execution_count": 2,
   "metadata": {},
   "outputs": [
    {
     "name": "stdout",
     "output_type": "stream",
     "text": [
      "foo\n",
      "foo 42\n",
      "foo foo\n"
     ]
    }
   ],
   "source": [
    "a = 'foo'   # Создали в памяти объект 'foo' и засунули в переменную\n",
    "b = 42      # Создали ещё один объект и засунули в другую переменную\n",
    "\n",
    "print(a)    # Напечатали одну переменную\n",
    "print(a, b) # Напечатали две.\n",
    "\n",
    "b = a       # Теперь переменная b указывает *на тот же* объект, что и a\n",
    "\n",
    "print(a, b)"
   ]
  },
  {
   "cell_type": "markdown",
   "metadata": {},
   "source": [
    "#### Математические операторы"
   ]
  },
  {
   "cell_type": "code",
   "execution_count": 1,
   "metadata": {},
   "outputs": [
    {
     "name": "stdout",
     "output_type": "stream",
     "text": [
      "15\n",
      "5.0\n",
      "50\n",
      "5\n"
     ]
    }
   ],
   "source": [
    "a = 10\n",
    "b = 5\n",
    "c = a + b     # Оператор + принял два объекта (через переменные)\n",
    "              # и создал новый объект с суммой.\n",
    "print(c)\n",
    "\n",
    "print(a / 2)  # Можно не использовать временную переменную, т. к.\n",
    "              # мат. операторы создают обычные объекты. Можно сразу\n",
    "              # передать объект в ф-цию.\n",
    "        \n",
    "print(a * b)\n",
    "print(10 - 5)"
   ]
  },
  {
   "cell_type": "markdown",
   "metadata": {},
   "source": [
    "#### Операторы сравнения"
   ]
  },
  {
   "cell_type": "markdown",
   "metadata": {},
   "source": [
    "Оператор сравнения `==` анализирует два объекта и создаёт новый булевский объект в качестве результата. `True` если содержимое проверяемых объектов равно, и `False`, если не равно. Есть также операторы «больше», «меньше», «больше или равно», «меньше или равно»: `>`, `<`, `>=`, `<=`."
   ]
  },
  {
   "cell_type": "code",
   "execution_count": 16,
   "metadata": {},
   "outputs": [
    {
     "name": "stdout",
     "output_type": "stream",
     "text": [
      "False\n",
      "True\n",
      "False\n",
      "True\n",
      "False\n",
      "True\n"
     ]
    }
   ],
   "source": [
    "a = 10\n",
    "b = 20\n",
    "c = 10\n",
    "\n",
    "print(a == b)\n",
    "print(a < b)\n",
    "print(a > b)\n",
    "\n",
    "print(a == c)\n",
    "print(a > c)\n",
    "print(a >= c)"
   ]
  },
  {
   "cell_type": "markdown",
   "metadata": {},
   "source": [
    "#### Логические операторы"
   ]
  },
  {
   "cell_type": "code",
   "execution_count": 4,
   "metadata": {},
   "outputs": [
    {
     "name": "stdout",
     "output_type": "stream",
     "text": [
      "False\n",
      "True\n",
      "False\n"
     ]
    }
   ],
   "source": [
    "a = True    # True и False называются булевскими значениями.\n",
    "b = False   # Их всего два, и одно — противоположность другого.\n",
    "            # Каждое такое значение — это *отдельный* новый объект в памяти.\n",
    "    \n",
    "print(a and b)\n",
    "print(a or b)\n",
    "print(not a)"
   ]
  },
  {
   "cell_type": "markdown",
   "metadata": {},
   "source": [
    "`and` возвращает `True` если оба объекта равны `True`. В остальных случаях — `False`.\n",
    "\n",
    "`or` возвращает `True` если хотя бы один объект (неважно, левый или правый) равен `True`.\n",
    "\n",
    "`not` просто возвращает противоположность: `True` для `False` и `False` для `True`."
   ]
  },
  {
   "cell_type": "markdown",
   "metadata": {},
   "source": [
    "### Строки"
   ]
  },
  {
   "cell_type": "code",
   "execution_count": 5,
   "metadata": {},
   "outputs": [
    {
     "name": "stdout",
     "output_type": "stream",
     "text": [
      "foobar\n",
      "f\n",
      "o\n",
      "o\n"
     ]
    }
   ],
   "source": [
    "a = 'foo'   # Строка — это последовательность символов.\n",
    "b = 'bar'\n",
    "\n",
    "print(a + b)  # строки можно склеивать оператором +\n",
    "\n",
    "for char in a:   # Занятный прикол: строка притворяется списком символов!\n",
    "    print(char)"
   ]
  },
  {
   "cell_type": "markdown",
   "metadata": {},
   "source": [
    "Длину строки можно получить встроенной в питон функцией `len()`"
   ]
  },
  {
   "cell_type": "code",
   "execution_count": 17,
   "metadata": {},
   "outputs": [
    {
     "name": "stdout",
     "output_type": "stream",
     "text": [
      "3\n",
      "3\n"
     ]
    }
   ],
   "source": [
    "a = 'foo'\n",
    "b = len(a)   # len возвращает нам число, которое мы можем записать в переменную\n",
    "\n",
    "print(b)\n",
    "print(len(a))  # Можно и без переменной."
   ]
  },
  {
   "cell_type": "markdown",
   "metadata": {},
   "source": [
    "#### Метод `format()`\n",
    "\n",
    "Если мы хотим напечатать значение какой-то переменной с пояснением, то можем сгенерировать новую строку по шаблону так, чтобы в эту строку оказалось «вшито» значение нужной нам переменной."
   ]
  },
  {
   "cell_type": "code",
   "execution_count": 8,
   "metadata": {},
   "outputs": [
    {
     "name": "stdout",
     "output_type": "stream",
     "text": [
      "The value is {0}\n",
      "The value is 42\n",
      "First value: 42, second value: [1, 2, 3]\n",
      "First value: 42, second value: [1, 2, 3]\n"
     ]
    }
   ],
   "source": [
    "template = 'The value is {0}'  # Шаблон — полноценная строка в памяти.\n",
    "\n",
    "print(template)   # Докажем, что нет магии. Просто печатаем шаблон.\n",
    "\n",
    "foo = 42\n",
    "bar = [1, 2, 3]\n",
    "\n",
    "new_string = template.format(foo)  # Зашьём значение переменной на место плейсхолдера.\n",
    "print(new_string)\n",
    "\n",
    "template = 'First value: {0}, second value: {1}'  # Шаблон с двумя плейсхолдерами\n",
    "print(template.format(foo, bar))  # Напечатаем без создания промежуточной переменной.\n",
    "                                  # Последовательность объектов, которую мы передали в format()\n",
    "                                  # встаёт на плейсхолдеры по порядку по их номерам.\n",
    "\n",
    "# Обойдёмся вообще без переменных и сделаем всё на лету:\n",
    "print('First value: {0}, second value: {1}'.format(42, [1, 2, 3]))"
   ]
  },
  {
   "cell_type": "markdown",
   "metadata": {},
   "source": [
    "В Python 3.6 появилась супер-фича: f-строки. Можно не вызывать метод `format` и встраивать значения переменных прямо в строку:"
   ]
  },
  {
   "cell_type": "code",
   "execution_count": 4,
   "metadata": {},
   "outputs": [
    {
     "name": "stdout",
     "output_type": "stream",
     "text": [
      "First value: 42, second value: [1, 2, 3]\n"
     ]
    }
   ],
   "source": [
    "first = 42\n",
    "print(f\"First value: {first}, second value: {[1, 2, 3]}\")"
   ]
  },
  {
   "cell_type": "markdown",
   "metadata": {},
   "source": [
    "### Оператор `if`"
   ]
  },
  {
   "cell_type": "markdown",
   "metadata": {},
   "source": [
    "Оператор if анализирует булевский объект, и если он `True`, выполняет одну ветку кода. Если объект `False`, и есть ветка `else`, выполнится она."
   ]
  },
  {
   "cell_type": "code",
   "execution_count": 9,
   "metadata": {},
   "outputs": [
    {
     "name": "stdout",
     "output_type": "stream",
     "text": [
      "Живите по правде!\n"
     ]
    }
   ],
   "source": [
    "if True:\n",
    "    print('Живите по правде!')\n",
    "else:\n",
    "    print('It\\'s lonely here')"
   ]
  },
  {
   "cell_type": "markdown",
   "metadata": {},
   "source": [
    "Если нужно проверить несколько вариантов с разными ветками кода, есть дополнение: `elif`. В одном блоке `if` всегда выполнится **максимум одна** ветка. А может и ни одной, если нет блока `else`."
   ]
  },
  {
   "cell_type": "code",
   "execution_count": 10,
   "metadata": {},
   "outputs": [
    {
     "name": "stdout",
     "output_type": "stream",
     "text": [
      "Small\n"
     ]
    }
   ],
   "source": [
    "a = 42\n",
    "\n",
    "if a > 100:\n",
    "    print('Large')\n",
    "elif a > 50:\n",
    "    print('Medium')\n",
    "elif a > 10:\n",
    "    print('Small')\n",
    "else:\n",
    "    print(\"Non-existent\")"
   ]
  },
  {
   "cell_type": "markdown",
   "metadata": {},
   "source": [
    "Так как [логические операторы](#Логические-операторы) выдают в качестве результата булевский объект, мы можем использовать их для сложных проверок в `if`:"
   ]
  },
  {
   "cell_type": "code",
   "execution_count": 11,
   "metadata": {},
   "outputs": [
    {
     "name": "stdout",
     "output_type": "stream",
     "text": [
      "Welcome to Mars!\n"
     ]
    }
   ],
   "source": [
    "age = 19\n",
    "\n",
    "if age > 18 and age < 90:\n",
    "    print('Welcome to Mars!')\n",
    "else:\n",
    "    print('You are no fit for this shit!')"
   ]
  },
  {
   "cell_type": "markdown",
   "metadata": {},
   "source": [
    "### Списки и словари"
   ]
  },
  {
   "cell_type": "markdown",
   "metadata": {},
   "source": [
    "Список — это последовательность ячеек в памяти, где каждая ячейка ссылается на любой объект в памяти."
   ]
  },
  {
   "cell_type": "code",
   "execution_count": 1,
   "metadata": {},
   "outputs": [
    {
     "name": "stdout",
     "output_type": "stream",
     "text": [
      "foo\n",
      "3.14\n"
     ]
    }
   ],
   "source": [
    "some_list = [42, 'foo', True]  # Создаём список\n",
    "\n",
    "print(some_list[1])  # Получаем объект из списка по индексу ячейки\n",
    "some_list[1] = 3.14  # А теперь записали по этому индексу новый объект\n",
    "print(some_list[1])  # Он изменился!"
   ]
  },
  {
   "cell_type": "markdown",
   "metadata": {},
   "source": [
    "Важно помнить, что переписать значение можно только в той ячейке, которая уже существует. Чтобы добавить новые объекты в список, не перезаписав старые, нужно исользовать функцию `append()`."
   ]
  },
  {
   "cell_type": "code",
   "execution_count": 3,
   "metadata": {},
   "outputs": [
    {
     "name": "stdout",
     "output_type": "stream",
     "text": [
      "[42, 'bar', True, 3.14]\n"
     ]
    }
   ],
   "source": [
    "some_list = [42, 'foo', True]\n",
    "\n",
    "some_list[1] = 'bar'  # Так можно, потому что ячейка с индексом 1 уже есть\n",
    "#some_list[3] = 3.14  # А так уже нельзя, т. к. длина списка — 3 ячейки, а тут\n",
    "                      # мы пытаемся обратиться к 4 (индексация с нуля).\n",
    "    \n",
    "some_list.append(3.14) # Вот так добавится.\n",
    "print(some_list)"
   ]
  },
  {
   "cell_type": "markdown",
   "metadata": {},
   "source": [
    "Словарь хранит связи между парами любых объектов в памяти. В паре есть ключ и есть значение. Словарь позволяет получить значение по ключу, но не наоборот."
   ]
  },
  {
   "cell_type": "code",
   "execution_count": 2,
   "metadata": {},
   "outputs": [
    {
     "name": "stdout",
     "output_type": "stream",
     "text": [
      "42\n",
      "bar\n",
      "True\n",
      "{'foo': True, False: 'bar', 'baz': 3.14}\n"
     ]
    }
   ],
   "source": [
    "some_dic = {'foo': 42, False: 'bar'}\n",
    "\n",
    "print(some_dic['foo'])  # Получаем значение по первому ключу\n",
    "print(some_dic[False])  # Получаем значение по второму ключу\n",
    "\n",
    "some_dic['foo'] = True  # Заменили значение по ключу\n",
    "print(some_dic['foo'])  # Оно изменилось!\n",
    "\n",
    "some_dic['baz'] = 3.14  # В отличие от списка, оператором []\n",
    "                        # можно добавлять новые пары в словарь\n",
    "print(some_dic)"
   ]
  },
  {
   "cell_type": "markdown",
   "metadata": {},
   "source": [
    "#### Длина списков и словарей"
   ]
  },
  {
   "cell_type": "code",
   "execution_count": 5,
   "metadata": {},
   "outputs": [
    {
     "name": "stdout",
     "output_type": "stream",
     "text": [
      "3 2\n"
     ]
    }
   ],
   "source": [
    "some_list = [42, 'foo', True]\n",
    "some_dic = {'foo': 42, False: 'bar'}\n",
    "\n",
    "print(len(some_list), len(some_dic))\n",
    "# Для списка len() вернёт количество ячеек, а для словаря — количество пар."
   ]
  }
 ],
 "metadata": {
  "kernelspec": {
   "display_name": "Python 3",
   "language": "python",
   "name": "python3"
  },
  "language_info": {
   "codemirror_mode": {
    "name": "ipython",
    "version": 3
   },
   "file_extension": ".py",
   "mimetype": "text/x-python",
   "name": "python",
   "nbconvert_exporter": "python",
   "pygments_lexer": "ipython3",
   "version": "3.7.3"
  }
 },
 "nbformat": 4,
 "nbformat_minor": 4
}
