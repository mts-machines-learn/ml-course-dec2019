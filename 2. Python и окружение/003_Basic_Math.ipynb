{
 "cells": [
  {
   "cell_type": "markdown",
   "metadata": {},
   "source": [
    "### Простые математические операции"
   ]
  },
  {
   "cell_type": "markdown",
   "metadata": {},
   "source": [
    "В предыдущем ноутбуке мы уже пробовали складывать и умножать числа. Разберёмся более подробно, какие базовые математические операторы есть в Питоне.\n",
    "\n",
    "|Оператор|Описание|Пример|\n",
    "|:---|:---|:---|\n",
    "|`+`|Сложение|`10 + 5` <br/> `3.14 + 2.43`|\n",
    "|`-`|Вычитание|`10 - 5` <br/> `4.54 - 2.1`|\n",
    "|`*`|Умножение|`2 * 2` <br/> `100 * 3`|\n",
    "|`/`|Деление|`5 / 2`|\n",
    "|`//`|Деление нацело|`5 // 2`|\n",
    "|`%`|Остаток от деления|`5 % 2`|\n",
    "\n",
    "Все операторы ведут себя совершенно так же, как в математике: сложение складывает, вычитание вычитает :)\n",
    "\n",
    "Разберёмся, что происходит с объектами и выражениями:"
   ]
  },
  {
   "cell_type": "markdown",
   "metadata": {},
   "source": [
    "![add_expression](img/add_expression.png)"
   ]
  },
  {
   "cell_type": "markdown",
   "metadata": {},
   "source": [
    "Разберём кусок кода:"
   ]
  },
  {
   "cell_type": "code",
   "execution_count": 2,
   "metadata": {},
   "outputs": [
    {
     "name": "stdout",
     "output_type": "stream",
     "text": [
      "15\n"
     ]
    }
   ],
   "source": [
    "summ = 10 + 5\n",
    "\n",
    "print(summ)"
   ]
  },
  {
   "cell_type": "markdown",
   "metadata": {},
   "source": [
    "Сначала питон обработал выражение `10` — он создал объект с целым числом, и «держит его в руках». Потом он обработал выражение `5` — тоже создал объект и тоже «держит его в руках».\n",
    "\n",
    "После этого обрабатывается выражение `+`: у Питона в руках уже заготовлены объекты, он подставляет их в оператор. Оператор `+` обрабатывает два объекта, и создаёт новый объект с результатом `15`. \n",
    "\n",
    "Питон держит в руках новый объект, и видит, что есть оператор присваивания `=`. Питон кладёт объект `15` в указанную переменную."
   ]
  },
  {
   "cell_type": "markdown",
   "metadata": {},
   "source": [
    "Разберём такой же пример, но с переменными:"
   ]
  },
  {
   "cell_type": "code",
   "execution_count": 3,
   "metadata": {},
   "outputs": [
    {
     "name": "stdout",
     "output_type": "stream",
     "text": [
      "15\n"
     ]
    }
   ],
   "source": [
    "a = 10\n",
    "b = 5\n",
    "summ = a + b\n",
    "\n",
    "print(summ)"
   ]
  },
  {
   "cell_type": "markdown",
   "metadata": {},
   "source": [
    "Этот код делает то же самое, но объекты для сложения мы создаём не «на лету», а достаём из пременных.\n",
    "\n",
    "Сначала Питон получил объект с числом `10` из переменной `a`, и держит его в руках. После этого он получил объект с числом `5` из переменной `b`, и держит его в руках.\n",
    "\n",
    "Потом Питон передаёт два объекта в оператор сложения `+`, получает в результате новый объект и кладёт его в переменную `summ`."
   ]
  },
  {
   "cell_type": "markdown",
   "metadata": {},
   "source": [
    "Все остальные математические операторы работают так же:"
   ]
  },
  {
   "cell_type": "code",
   "execution_count": 7,
   "metadata": {},
   "outputs": [
    {
     "name": "stdout",
     "output_type": "stream",
     "text": [
      "4\n",
      "50\n",
      "1\n",
      "10.0\n"
     ]
    }
   ],
   "source": [
    "print(2 + 2)\n",
    "print(10 * 5)\n",
    "print(4 - 3)\n",
    "print(100 / 10)"
   ]
  },
  {
   "cell_type": "markdown",
   "metadata": {},
   "source": [
    "Отдельно рассмотрим остаток от деления:"
   ]
  },
  {
   "cell_type": "code",
   "execution_count": 2,
   "metadata": {},
   "outputs": [
    {
     "name": "stdout",
     "output_type": "stream",
     "text": [
      "1\n"
     ]
    }
   ],
   "source": [
    "print(5 % 2)"
   ]
  },
  {
   "cell_type": "markdown",
   "metadata": {},
   "source": [
    "Если вычислять остаток от деления некоего числа на `2`, можно узнать, является ли оно чётным. У чётных чисел остаток будет равен `0`."
   ]
  },
  {
   "cell_type": "markdown",
   "metadata": {},
   "source": [
    "#### Приколы с делением"
   ]
  },
  {
   "cell_type": "markdown",
   "metadata": {},
   "source": [
    "В предыдущем примере можно заметить, что при делении `100 / 10` Питон почему-то написал в результате `10.0`, а не просто `10`.\n",
    "\n",
    "Так произошло, потому что в Python 3.x любое деление по умолчанию порождает объект типа `float`, а не `int`. Это означает, что результат дефолтного деления Питон представляет как дробное число (даже если числа деляться нацело, и дробная часть в результате равна `0`).\n",
    "\n",
    "Посмотрим на пример:"
   ]
  },
  {
   "cell_type": "code",
   "execution_count": 9,
   "metadata": {},
   "outputs": [
    {
     "name": "stdout",
     "output_type": "stream",
     "text": [
      "110\n",
      "<class 'int'>\n",
      "\n",
      "\n",
      "10.0\n",
      "<class 'float'>\n"
     ]
    }
   ],
   "source": [
    "a = 100\n",
    "b = 10\n",
    "\n",
    "summ = a + b\n",
    "div = a / b\n",
    "\n",
    "print(summ)\n",
    "print(type(summ))\n",
    "\n",
    "print('\\n')\n",
    "\n",
    "print(div)\n",
    "print(type(div))"
   ]
  },
  {
   "cell_type": "markdown",
   "metadata": {},
   "source": [
    "Мы создали две переменные типа `int`: `a` и `b`. Сначала мы их сложили, и в результате получили объект типа `int`. Мы проверили это с помощью функции `type()`.\n",
    "\n",
    "Потом мы разделили эти же два объекта, но в результате получили уже объект типа `float`.\n",
    "\n",
    "Нужно просто запомнить, что оператор деления `/` всегда порождает `float`.\n",
    "\n",
    "*Этим Python 3.x сильно отличается от 2.x: во втором Питоне оператор `/` возвращал `int`. Если при делении оставалась дробная часть, она отбрасывалась.*"
   ]
  },
  {
   "cell_type": "markdown",
   "metadata": {},
   "source": [
    "Но что если мы хотим разделить два числа нацело, и отбросить дробную часть, если она она возникнет? Для этого можно использовать оператор `//`. Рассмотрим пример:"
   ]
  },
  {
   "cell_type": "code",
   "execution_count": 10,
   "metadata": {},
   "outputs": [
    {
     "name": "stdout",
     "output_type": "stream",
     "text": [
      "2.5\n",
      "<class 'float'>\n",
      "\n",
      "\n",
      "2\n",
      "<class 'int'>\n"
     ]
    }
   ],
   "source": [
    "a = 5\n",
    "b = 2\n",
    "\n",
    "div_float = a / b\n",
    "div_int = a // b\n",
    "\n",
    "print(div_float)\n",
    "print(type(div_float))\n",
    "\n",
    "print('\\n')\n",
    "\n",
    "print(div_int)\n",
    "print(type(div_int))"
   ]
  },
  {
   "cell_type": "markdown",
   "metadata": {},
   "source": [
    "Мы видим, что в случае с оператором `/` у нас получилось дробное число типа `float`.\n",
    "\n",
    "В случае с оператором `//` Питон вернул нам целое число типа `int`, и для этого ему пришлось отбросить дробную часть.\n",
    "\n",
    "Важный момент: при преобразовании из `float` в `int` Питон **не округляет числа по школьным правилам**, а тупо **отбрасывает** дробную часть:"
   ]
  },
  {
   "cell_type": "code",
   "execution_count": 11,
   "metadata": {},
   "outputs": [
    {
     "name": "stdout",
     "output_type": "stream",
     "text": [
      "2\n"
     ]
    }
   ],
   "source": [
    "a = int(2.99999)\n",
    "\n",
    "print(a)"
   ]
  },
  {
   "cell_type": "markdown",
   "metadata": {},
   "source": [
    "##### Деление на ноль"
   ]
  },
  {
   "cell_type": "markdown",
   "metadata": {},
   "source": [
    "У нас остался ещё один кейс с делением, о котором нужно помнить. Как известно, в математике запрещено деление на `0`. Питон так же запрещает делить на ноль. Если мы попытаемся так сделать, то получим ошибку:"
   ]
  },
  {
   "cell_type": "code",
   "execution_count": 12,
   "metadata": {},
   "outputs": [
    {
     "ename": "ZeroDivisionError",
     "evalue": "division by zero",
     "output_type": "error",
     "traceback": [
      "\u001b[0;31m---------------------------------------------------------------------------\u001b[0m",
      "\u001b[0;31mZeroDivisionError\u001b[0m                         Traceback (most recent call last)",
      "\u001b[0;32m<ipython-input-12-cd759d3fcf39>\u001b[0m in \u001b[0;36m<module>\u001b[0;34m\u001b[0m\n\u001b[0;32m----> 1\u001b[0;31m \u001b[0;36m10\u001b[0m \u001b[0;34m/\u001b[0m \u001b[0;36m0\u001b[0m\u001b[0;34m\u001b[0m\u001b[0;34m\u001b[0m\u001b[0m\n\u001b[0m",
      "\u001b[0;31mZeroDivisionError\u001b[0m: division by zero"
     ]
    }
   ],
   "source": [
    "10 / 0"
   ]
  },
  {
   "cell_type": "markdown",
   "metadata": {},
   "source": [
    "Мы можем обрабатывать такую ошибку с помощью конструкции `try / except` (подробно рассмотрим в отдельном ноутбуке)."
   ]
  },
  {
   "cell_type": "code",
   "execution_count": 13,
   "metadata": {},
   "outputs": [
    {
     "name": "stdout",
     "output_type": "stream",
     "text": [
      "Division by zero!\n"
     ]
    }
   ],
   "source": [
    "try:\n",
    "    div = 10 / 0\n",
    "except ZeroDivisionError:\n",
    "    print('Division by zero!')"
   ]
  }
 ],
 "metadata": {
  "kernelspec": {
   "display_name": "Python 3",
   "language": "python",
   "name": "python3"
  },
  "language_info": {
   "codemirror_mode": {
    "name": "ipython",
    "version": 3
   },
   "file_extension": ".py",
   "mimetype": "text/x-python",
   "name": "python",
   "nbconvert_exporter": "python",
   "pygments_lexer": "ipython3",
   "version": "3.7.3"
  }
 },
 "nbformat": 4,
 "nbformat_minor": 2
}
