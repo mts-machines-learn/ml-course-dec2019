{
 "cells": [
  {
   "cell_type": "markdown",
   "metadata": {},
   "source": [
    "<a href=\"https://colab.research.google.com/github/mts-machines-learn/ml-course-dec2019/blob/lesson2/2. Python и окружение/Homework_2.ipynb\"><img src=\"https://colab.research.google.com/assets/colab-badge.svg\"/></a>"
   ]
  },
  {
   "cell_type": "markdown",
   "metadata": {},
   "source": [
    "# Домашка по Python"
   ]
  },
  {
   "cell_type": "markdown",
   "metadata": {},
   "source": [
    "В этой домашке вам нужно будет решить несколько простых алгоритмических задач."
   ]
  },
  {
   "cell_type": "markdown",
   "metadata": {},
   "source": [
    "### 1. Отфильтруйте список\n",
    "\n",
    "У вас есть список чисел. Напишите функцию, которая принимает список и число `n`. Функция должна распечатать элементы списка, которые меньше `n`."
   ]
  },
  {
   "cell_type": "code",
   "execution_count": 9,
   "metadata": {},
   "outputs": [],
   "source": [
    "number_list = [1, 1, 2, 3, 5, 8, 13, 21, 34, 55, 89, 3, 9389, 14, 0, 24, -4]\n",
    "\n",
    "def filter_list(numbers, n):\n",
    "    pass # Замените на свой код\n",
    "\n",
    "filter_list(number_list, 8)"
   ]
  },
  {
   "cell_type": "markdown",
   "metadata": {},
   "source": [
    "### 2. Нарисуйте паттерн\n",
    "Нарисуйте один под другим такие паттерны из звёздочек, где `n` — количество звёзвочек в самом длинном ряду:\n",
    "\n",
    "```\n",
    "draw_pattern1:\n",
    "\n",
    "*\n",
    "**\n",
    "***\n",
    "****\n",
    "*****\n",
    "******\n",
    "*******\n",
    "********\n",
    "*********\n",
    "**********\n",
    "\n",
    "draw_pattern2:\n",
    "\n",
    "**********\n",
    " *********\n",
    "  ********\n",
    "   *******\n",
    "    ******\n",
    "     *****\n",
    "      ****\n",
    "       ***\n",
    "        **\n",
    "         *\n",
    "```\n",
    "\n",
    "Подсказка: чтобы функция `print` не делала перенос строки, используйте такую запись:\n",
    "\n",
    "```python\n",
    "print(\"*\", end=\"\")\n",
    "```"
   ]
  },
  {
   "cell_type": "code",
   "execution_count": 7,
   "metadata": {},
   "outputs": [],
   "source": [
    "def draw_pattern1(n):\n",
    "    pass # Замените на свой код\n",
    "\n",
    "def draw_pattern2(n):\n",
    "    pass # Замените на свой код\n",
    "\n",
    "draw_pattern1(5)\n",
    "draw_pattern2(8)"
   ]
  },
  {
   "cell_type": "markdown",
   "metadata": {},
   "source": [
    "### 3. Ransom note"
   ]
  },
  {
   "cell_type": "markdown",
   "metadata": {},
   "source": [
    "Допустим, вы злобный похититель печенек. Сегодня утром вам удалось провернуть кражу века и угнать вагон с овсяным печеньем. Вы понимаете, что печенье испортится гораздо раньше, чем вы его съедите, и хотите получить за него выкуп. Вы собираетесь написать записку со своими требованиями диретору хлебобулочного комбината. Чтобы вас не опознали по почерку, вы вырезаете подходящие слова из газет и вклеиваете их в записку.\n",
    "\n",
    "Напишите функцию, которая принимает список всех слов, которые есть в газете, и список слов из записки. Пусть функция возвращает `True`, если из слов газеты можно составить записку, и `False`, если нельзя. В газете есть ровно то количество слов, которое пришло в списке `newspaper_words`. То есть, если в списке есть только одно слово `\"night\"`, то вы можете использовать его в записке только один раз."
   ]
  },
  {
   "cell_type": "code",
   "execution_count": 3,
   "metadata": {},
   "outputs": [
    {
     "data": {
      "text/plain": [
       "False"
      ]
     },
     "execution_count": 3,
     "metadata": {},
     "output_type": "execute_result"
    }
   ],
   "source": [
    "newspaper_words = [\"give\", \"me\", \"one\", \"grand\", \"today\", \"night\"]\n",
    "note_words = [\"give\", \"one\", \"grand\", \"today\"]\n",
    "\n",
    "def can_create_ransom_note(newspaper, note):\n",
    "    # Напишите свой код здесь\n",
    "    return False\n",
    "\n",
    "can_create_ransom_note(newspaper_words, note_words)"
   ]
  }
 ],
 "metadata": {
  "kernelspec": {
   "display_name": "Python 3",
   "language": "python",
   "name": "python3"
  },
  "language_info": {
   "codemirror_mode": {
    "name": "ipython",
    "version": 3
   },
   "file_extension": ".py",
   "mimetype": "text/x-python",
   "name": "python",
   "nbconvert_exporter": "python",
   "pygments_lexer": "ipython3",
   "version": "3.7.3"
  }
 },
 "nbformat": 4,
 "nbformat_minor": 4
}
