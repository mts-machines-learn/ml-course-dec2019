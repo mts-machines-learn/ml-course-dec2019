{
 "cells": [
  {
   "cell_type": "markdown",
   "metadata": {},
   "source": [
    "<a href=\"https://colab.research.google.com/github/mts-machines-learn/ml-course-dec2019/blob/lesson2/2. Python и окружение/006_Lists_dics_v2.ipynb\"><img src=\"https://colab.research.google.com/assets/colab-badge.svg\"/></a>"
   ]
  },
  {
   "cell_type": "markdown",
   "metadata": {},
   "source": [
    "### Списки"
   ]
  },
  {
   "cell_type": "markdown",
   "metadata": {},
   "source": [
    "Список — это объект, который содержит ссылки на другие объекты. Картинка вместо тысячи слов:"
   ]
  },
  {
   "cell_type": "markdown",
   "metadata": {},
   "source": [
    "![list](img/list.png)"
   ]
  },
  {
   "cell_type": "markdown",
   "metadata": {},
   "source": [
    "Список — это последовательность ячеек в памяти, где каждая ячейка просто ссылается на любой другой объект. Ячейки списка — это как такие переменные без имени, но с номерами (нумерация с нуля). Вся последовательность ячеек целиком — это целый объект, список. Как и любой другой объект, мы можем положить его в переменную."
   ]
  },
  {
   "cell_type": "markdown",
   "metadata": {},
   "source": [
    "Мы можем создать список в коде с помощью квадратных скобок `[]`. Элементы списка отделяются запятыми `,`. В список можно положить любой объект любого типа. Нет требования, чтобы в списке лежали объекты только одного типа."
   ]
  },
  {
   "cell_type": "code",
   "execution_count": 3,
   "metadata": {},
   "outputs": [
    {
     "name": "stdout",
     "output_type": "stream",
     "text": [
      "[1, 'Hello', 3.14, 'World']\n"
     ]
    }
   ],
   "source": [
    "some_list = [1, 'Hello', 3.14, 'World']\n",
    "\n",
    "print(some_list)"
   ]
  },
  {
   "cell_type": "markdown",
   "metadata": {},
   "source": [
    "Если мы напишем в коде `some_list`, мы получим сам объект списка. Если же мы после этого применим к этому объекту оператор `[]`, мы получим объект из той ячейки, индекс которой мы указали. Эта операция называется **индексирование**."
   ]
  },
  {
   "cell_type": "code",
   "execution_count": 4,
   "metadata": {},
   "outputs": [
    {
     "name": "stdout",
     "output_type": "stream",
     "text": [
      "1\n",
      "World\n"
     ]
    }
   ],
   "source": [
    "some_list = [1, 'Hello', 3.14, 'World']\n",
    "\n",
    "print(some_list[0])\n",
    "print(some_list[3])"
   ]
  },
  {
   "cell_type": "markdown",
   "metadata": {},
   "source": [
    "Важный момент: список гарантирует, что объекты в ячейках будут лежать в том же порядке, в котором мы их задали. Это станет важно чуть позже, когда мы будем смотреть на циклы.\n",
    "\n",
    "Итак, список — это объект, последовательность ячеек. Каждая ячейка указывает на любой другой объект в памяти.\n",
    "\n",
    "Кстати, с помощью скобок `[]` в ячейки можно и записывать любые другие объекты обчным оператором присваивания `=`."
   ]
  },
  {
   "cell_type": "code",
   "execution_count": 6,
   "metadata": {},
   "outputs": [
    {
     "name": "stdout",
     "output_type": "stream",
     "text": [
      "[1, 'Hello', 3.14, 'World']\n",
      "[1, 'waaaaaaat', 3.14, 'World']\n"
     ]
    }
   ],
   "source": [
    "some_list = [1, 'Hello', 3.14, 'World']\n",
    "\n",
    "print(some_list)\n",
    "\n",
    "some_list[1] = 'waaaaaaat'\n",
    "\n",
    "print(some_list)"
   ]
  },
  {
   "cell_type": "markdown",
   "metadata": {},
   "source": [
    "#### Длина списка, добавление и удаление элементов"
   ]
  },
  {
   "cell_type": "markdown",
   "metadata": {},
   "source": [
    "Важный момент: в каждый момент времени у списка есть фиксированная длина — это его количество ячеек. Количество ячеек мы задаём при создании списка, и потом это количество может увеличиваться или уменьшаться.\n",
    "\n",
    "Мы можем получить длину списка с помощью функции `len()`:"
   ]
  },
  {
   "cell_type": "code",
   "execution_count": 8,
   "metadata": {},
   "outputs": [
    {
     "name": "stdout",
     "output_type": "stream",
     "text": [
      "4\n"
     ]
    }
   ],
   "source": [
    "some_list = [1, 'Hello', 3.14, 'World']\n",
    "\n",
    "print(len(some_list))"
   ]
  },
  {
   "cell_type": "markdown",
   "metadata": {},
   "source": [
    "С помощью оператора индексирования мы можем обратиться только к существующей ячейке списка. То есть, мы не можем прочитать или записать ячейку с индексом, большим `len() - 1`, это вызовет ошибку"
   ]
  },
  {
   "cell_type": "code",
   "execution_count": 9,
   "metadata": {},
   "outputs": [
    {
     "ename": "IndexError",
     "evalue": "list index out of range",
     "output_type": "error",
     "traceback": [
      "\u001b[1;31m---------------------------------------------------------------------------\u001b[0m",
      "\u001b[1;31mIndexError\u001b[0m                                Traceback (most recent call last)",
      "\u001b[1;32m<ipython-input-9-0af190bf6529>\u001b[0m in \u001b[0;36m<module>\u001b[1;34m\u001b[0m\n\u001b[0;32m      1\u001b[0m \u001b[0msome_list\u001b[0m \u001b[1;33m=\u001b[0m \u001b[1;33m[\u001b[0m\u001b[1;36m1\u001b[0m\u001b[1;33m,\u001b[0m \u001b[1;34m'Hello'\u001b[0m\u001b[1;33m,\u001b[0m \u001b[1;36m3.14\u001b[0m\u001b[1;33m,\u001b[0m \u001b[1;34m'World'\u001b[0m\u001b[1;33m]\u001b[0m\u001b[1;33m\u001b[0m\u001b[1;33m\u001b[0m\u001b[0m\n\u001b[0;32m      2\u001b[0m \u001b[1;33m\u001b[0m\u001b[0m\n\u001b[1;32m----> 3\u001b[1;33m \u001b[0mprint\u001b[0m\u001b[1;33m(\u001b[0m\u001b[0msome_list\u001b[0m\u001b[1;33m[\u001b[0m\u001b[1;36m4\u001b[0m\u001b[1;33m]\u001b[0m\u001b[1;33m)\u001b[0m\u001b[1;33m\u001b[0m\u001b[1;33m\u001b[0m\u001b[0m\n\u001b[0m",
      "\u001b[1;31mIndexError\u001b[0m: list index out of range"
     ]
    }
   ],
   "source": [
    "some_list = [1, 'Hello', 3.14, 'World']\n",
    "\n",
    "print(some_list[4])"
   ]
  },
  {
   "cell_type": "code",
   "execution_count": 10,
   "metadata": {},
   "outputs": [
    {
     "ename": "IndexError",
     "evalue": "list assignment index out of range",
     "output_type": "error",
     "traceback": [
      "\u001b[1;31m---------------------------------------------------------------------------\u001b[0m",
      "\u001b[1;31mIndexError\u001b[0m                                Traceback (most recent call last)",
      "\u001b[1;32m<ipython-input-10-7994a51a0cc5>\u001b[0m in \u001b[0;36m<module>\u001b[1;34m\u001b[0m\n\u001b[1;32m----> 1\u001b[1;33m \u001b[0msome_list\u001b[0m\u001b[1;33m[\u001b[0m\u001b[1;36m4\u001b[0m\u001b[1;33m]\u001b[0m \u001b[1;33m=\u001b[0m \u001b[1;34m'new string'\u001b[0m\u001b[1;33m\u001b[0m\u001b[1;33m\u001b[0m\u001b[0m\n\u001b[0m",
      "\u001b[1;31mIndexError\u001b[0m: list assignment index out of range"
     ]
    }
   ],
   "source": [
    "some_list[4] = 'new string' "
   ]
  },
  {
   "cell_type": "markdown",
   "metadata": {},
   "source": [
    "Чтобы добавить новый элемент в список, вызовем у него метод `append()`:"
   ]
  },
  {
   "cell_type": "code",
   "execution_count": 12,
   "metadata": {},
   "outputs": [
    {
     "name": "stdout",
     "output_type": "stream",
     "text": [
      "[1, 'Hello', 3.14, 'World', 'new string']\n",
      "5\n"
     ]
    }
   ],
   "source": [
    "some_list = [1, 'Hello', 3.14, 'World']\n",
    "\n",
    "some_list.append('new string')\n",
    "\n",
    "print(some_list)\n",
    "print(len(some_list))"
   ]
  },
  {
   "cell_type": "markdown",
   "metadata": {},
   "source": [
    "Чтобы удалить элемент из списка, у нас есть два варианта. Мы можем удалить элемент по его значению с помощью метода `remove()`:"
   ]
  },
  {
   "cell_type": "code",
   "execution_count": 13,
   "metadata": {},
   "outputs": [
    {
     "name": "stdout",
     "output_type": "stream",
     "text": [
      "[1, 3.14, 'World']\n"
     ]
    }
   ],
   "source": [
    "some_list = [1, 'Hello', 3.14, 'World']\n",
    "\n",
    "some_list.remove('Hello')\n",
    "\n",
    "print(some_list)"
   ]
  },
  {
   "cell_type": "markdown",
   "metadata": {},
   "source": [
    "Мы также можем удалить элемент из списка по его индексу с помощью функции `pop()`. Другой вариант — использовать оператор `del`. Эти способы равнозначны."
   ]
  },
  {
   "cell_type": "code",
   "execution_count": 25,
   "metadata": {},
   "outputs": [
    {
     "name": "stdout",
     "output_type": "stream",
     "text": [
      "[1, 3.14, 'World']\n",
      "[3.14, 'World']\n"
     ]
    }
   ],
   "source": [
    "some_list = [1, 'Hello', 3.14, 'World']\n",
    "\n",
    "some_list.pop(1)\n",
    "\n",
    "print(some_list)\n",
    "\n",
    "del some_list[0]\n",
    "\n",
    "print(some_list)"
   ]
  },
  {
   "cell_type": "markdown",
   "metadata": {},
   "source": [
    "#### Проверка наличия элемента в списке с помощью `in`"
   ]
  },
  {
   "cell_type": "markdown",
   "metadata": {},
   "source": [
    "Зачастую нам нужно проверить, есть ли в списке какое-то значение. Мы можем проверить это с помощью оператора `in`. Этот оператор возвращает `True` или `False`, поэтому мы можем спокойно использовать его в условиях с `if`."
   ]
  },
  {
   "cell_type": "code",
   "execution_count": 15,
   "metadata": {},
   "outputs": [
    {
     "name": "stdout",
     "output_type": "stream",
     "text": [
      "True\n",
      "True\n",
      "False\n"
     ]
    }
   ],
   "source": [
    "some_list = [1, 'Hello', 3.14, 'World']\n",
    "a = 'Hello'\n",
    "\n",
    "print(a in some_list)\n",
    "print(3.14 in some_list)\n",
    "print('WTF' in some_list)"
   ]
  },
  {
   "cell_type": "markdown",
   "metadata": {},
   "source": [
    "Как мы и ожидаем, оператор `in` работает и с объектами, которые мы получаем из переменных, и с объектами, которые мы создаём «на лету»."
   ]
  },
  {
   "cell_type": "markdown",
   "metadata": {},
   "source": [
    "### Словари"
   ]
  },
  {
   "cell_type": "markdown",
   "metadata": {},
   "source": [
    "Словарь — это родственник списка. Это тоже контейнер, но он хранит не единичные объекты, а **пары объектов**."
   ]
  },
  {
   "cell_type": "markdown",
   "metadata": {},
   "source": [
    "![dic](img/dictionary.png)"
   ]
  },
  {
   "cell_type": "markdown",
   "metadata": {},
   "source": [
    "В паре всегда есть *«ключ»*, и есть *«значение»*. Задача словаря — хранить неограниченное количество таких пар и выдавать по ключу соответствующее ему значение."
   ]
  },
  {
   "cell_type": "markdown",
   "metadata": {},
   "source": [
    "В этом примере у нас две пары: `'foo' → 1` и `'bar' → 3.14`. Стрелки здесь направлены в одну сторону; это значит, что связь односторонняя: по `foo` мы можем получить `1`, но по `1` получить `foo` без ухищрений уже не удастся. В этих парах `foo` и `bar` называются **ключами**, а `1` и `3.14` — **значениями**. Ключами могут быть любые объекты, значения которых не изменяются. То есть, ключом в словарях могут быть строки, числа и кортежи, но не могут быть другие списки и словари. Значениями могут быть абсолютно любые объекты.\n",
    "\n",
    "Нужно понимать, что все эти объекты, на самом деле, разбросаны в рандомных местах памяти. Словарь только указывает на эти объекты и хранит связь между парами.\n",
    "\n",
    "Важное свойство словаря в том, что все ключи в нём **уникальны**. Мы не можем положить в словарь две пары с одинаковым ключом. Это свойство можно по-хитрому использовать в разных задачах, к этому мы ещё вернёмся.\n",
    "\n",
    "Словарь — точно такой же объект, как все остальные. Мы точно так же можем положить его в переменную. В коде словарь можно создать с помощью фигурных скобок `{}`. Каждая пара разделяется двоеточием `:`, где ключ стоит слева, а значение — справа. Пары разделяются запятыми `,`."
   ]
  },
  {
   "cell_type": "code",
   "execution_count": 1,
   "metadata": {},
   "outputs": [
    {
     "name": "stdout",
     "output_type": "stream",
     "text": [
      "{'Name': 'Alice', 'Age': 42}\n"
     ]
    }
   ],
   "source": [
    "some_dic = {'Name': 'Alice', 'Age': 42}\n",
    "\n",
    "print(some_dic)"
   ]
  },
  {
   "cell_type": "markdown",
   "metadata": {},
   "source": [
    "Мы получаем элементы из словаря по ключу с помощью оператора `[]` так же, как в списке. Но если в списке мы можем указать только целое число — индекс ячейки — то в словаре в качестве ключа может быть любой объект."
   ]
  },
  {
   "cell_type": "code",
   "execution_count": 2,
   "metadata": {},
   "outputs": [
    {
     "name": "stdout",
     "output_type": "stream",
     "text": [
      "Alice\n",
      "42\n"
     ]
    }
   ],
   "source": [
    "some_dic = {'Name': 'Alice', 'Age': 42}\n",
    "\n",
    "print(some_dic['Name'])\n",
    "print(some_dic['Age'])"
   ]
  },
  {
   "cell_type": "markdown",
   "metadata": {},
   "source": [
    "Можно записывать значения в словарь по ключу:"
   ]
  },
  {
   "cell_type": "code",
   "execution_count": 4,
   "metadata": {},
   "outputs": [
    {
     "name": "stdout",
     "output_type": "stream",
     "text": [
      "{'Name': 'Bob', 'Age': 42}\n"
     ]
    }
   ],
   "source": [
    "some_dic = {'Name': 'Alice', 'Age': 42}\n",
    "\n",
    "some_dic['Name'] = 'Bob'\n",
    "print(some_dic)"
   ]
  },
  {
   "cell_type": "markdown",
   "metadata": {},
   "source": [
    "#### Длина словаря, добавление и удаление элементов"
   ]
  },
  {
   "cell_type": "markdown",
   "metadata": {},
   "source": [
    "Функция `len()` работает и для словарей. Функция возвращает количество пар в словаре."
   ]
  },
  {
   "cell_type": "code",
   "execution_count": 5,
   "metadata": {},
   "outputs": [
    {
     "name": "stdout",
     "output_type": "stream",
     "text": [
      "2\n"
     ]
    }
   ],
   "source": [
    "some_dic = {'Name': 'Alice', 'Age': 42}\n",
    "\n",
    "print(len(some_dic))"
   ]
  },
  {
   "cell_type": "markdown",
   "metadata": {},
   "source": [
    "В отличие от списка, у словаря нет заданного количества ячеек, и мы можем без ограничений **добавлять** новые пары с помощью оператора `[]`."
   ]
  },
  {
   "cell_type": "code",
   "execution_count": 6,
   "metadata": {},
   "outputs": [
    {
     "name": "stdout",
     "output_type": "stream",
     "text": [
      "{'Name': 'Alice', 'Age': 42}\n",
      "{'Name': 'Alice', 'Age': 42, 'Pet': 'Dog'}\n"
     ]
    }
   ],
   "source": [
    "some_dic = {'Name': 'Alice', 'Age': 42}\n",
    "\n",
    "print(some_dic)\n",
    "\n",
    "some_dic['Pet'] = 'Dog'\n",
    "\n",
    "print(some_dic)"
   ]
  },
  {
   "cell_type": "markdown",
   "metadata": {},
   "source": [
    "Чтобы удалить пару из словаря по ключу, мы можем использовать метод `pop()`. Для словаря он принимает ключ, по которому нужно удалить пару. Также можно использовать оператор `del`:"
   ]
  },
  {
   "cell_type": "code",
   "execution_count": 7,
   "metadata": {},
   "outputs": [
    {
     "name": "stdout",
     "output_type": "stream",
     "text": [
      "{'Age': 42}\n",
      "{}\n"
     ]
    }
   ],
   "source": [
    "some_dic = {'Name': 'Alice', 'Age': 42}\n",
    "\n",
    "some_dic.pop('Name')\n",
    "\n",
    "print(some_dic)\n",
    "\n",
    "del some_dic['Age']\n",
    "\n",
    "print(some_dic)"
   ]
  },
  {
   "cell_type": "markdown",
   "metadata": {},
   "source": [
    "#### Проверка наличия пары по ключу с помощью оператора `in`"
   ]
  },
  {
   "cell_type": "markdown",
   "metadata": {},
   "source": [
    "Оператор `in` работает и со словарями. С помощью оператора можно проверить, есть ли в словаре заданный ключ:"
   ]
  },
  {
   "cell_type": "code",
   "execution_count": 24,
   "metadata": {},
   "outputs": [
    {
     "name": "stdout",
     "output_type": "stream",
     "text": [
      "True\n",
      "True\n",
      "False\n"
     ]
    }
   ],
   "source": [
    "some_dic = {'Name': 'Alice', 'Age': 42, 'Gender': False}\n",
    "key = 'Name'\n",
    "\n",
    "print(key in some_dic)\n",
    "print('Age' in some_dic)\n",
    "print('Company' in some_dic)"
   ]
  }
 ],
 "metadata": {
  "kernelspec": {
   "display_name": "Python 3",
   "language": "python",
   "name": "python3"
  },
  "language_info": {
   "codemirror_mode": {
    "name": "ipython",
    "version": 3
   },
   "file_extension": ".py",
   "mimetype": "text/x-python",
   "name": "python",
   "nbconvert_exporter": "python",
   "pygments_lexer": "ipython3",
   "version": "3.7.3"
  }
 },
 "nbformat": 4,
 "nbformat_minor": 4
}
