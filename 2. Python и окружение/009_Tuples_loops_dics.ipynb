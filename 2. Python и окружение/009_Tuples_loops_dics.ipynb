{
 "cells": [
  {
   "cell_type": "markdown",
   "metadata": {},
   "source": [
    "### Кортежи (tuples)"
   ]
  },
  {
   "cell_type": "markdown",
   "metadata": {},
   "source": [
    "Кортежи — это списки, которые нельзя изменить (immutable). Зачем они такие нужны? В Питоне на кортежи завязан некоторый специальный синтаксис.\n",
    "\n",
    "В общем случае, кортежи создаются как списки, но не с квадратными скобками `[]`, а с круглыми: `()`."
   ]
  },
  {
   "cell_type": "code",
   "execution_count": 2,
   "metadata": {},
   "outputs": [
    {
     "name": "stdout",
     "output_type": "stream",
     "text": [
      "[1, 2, 3]\n",
      "(1, 2, 3)\n"
     ]
    }
   ],
   "source": [
    "some_list = [1, 2, 3]   # Это список\n",
    "print(some_list)\n",
    "\n",
    "some_tuple = (1, 2, 3)  # Это кортеж\n",
    "print(some_tuple)"
   ]
  },
  {
   "cell_type": "markdown",
   "metadata": {},
   "source": [
    "Проверим, что элемент списка можно прочитать по индексу и изменить его по этому же индексу:"
   ]
  },
  {
   "cell_type": "code",
   "execution_count": 5,
   "metadata": {},
   "outputs": [
    {
     "name": "stdout",
     "output_type": "stream",
     "text": [
      "[1, 2, 3]\n",
      "2\n",
      "[1, 42, 3]\n"
     ]
    }
   ],
   "source": [
    "some_list = [1, 2, 3]\n",
    "print(some_list)\n",
    "\n",
    "print(some_list[1])\n",
    "\n",
    "some_list[1] = 42\n",
    "print(some_list)"
   ]
  },
  {
   "cell_type": "markdown",
   "metadata": {},
   "source": [
    "Элемент кортежа можно так же прочитать по индексу, но изменить нельзя, будет ошибка:"
   ]
  },
  {
   "cell_type": "code",
   "execution_count": 6,
   "metadata": {},
   "outputs": [
    {
     "name": "stdout",
     "output_type": "stream",
     "text": [
      "(1, 2, 3)\n",
      "2\n"
     ]
    },
    {
     "ename": "TypeError",
     "evalue": "'tuple' object does not support item assignment",
     "output_type": "error",
     "traceback": [
      "\u001b[0;31m---------------------------------------------------------------------------\u001b[0m",
      "\u001b[0;31mTypeError\u001b[0m                                 Traceback (most recent call last)",
      "\u001b[0;32m<ipython-input-6-85c977a1f500>\u001b[0m in \u001b[0;36m<module>\u001b[0;34m\u001b[0m\n\u001b[1;32m      4\u001b[0m \u001b[0mprint\u001b[0m\u001b[0;34m(\u001b[0m\u001b[0msome_tuple\u001b[0m\u001b[0;34m[\u001b[0m\u001b[0;36m1\u001b[0m\u001b[0;34m]\u001b[0m\u001b[0;34m)\u001b[0m\u001b[0;34m\u001b[0m\u001b[0;34m\u001b[0m\u001b[0m\n\u001b[1;32m      5\u001b[0m \u001b[0;34m\u001b[0m\u001b[0m\n\u001b[0;32m----> 6\u001b[0;31m \u001b[0msome_tuple\u001b[0m\u001b[0;34m[\u001b[0m\u001b[0;36m1\u001b[0m\u001b[0;34m]\u001b[0m \u001b[0;34m=\u001b[0m \u001b[0;36m42\u001b[0m\u001b[0;34m\u001b[0m\u001b[0;34m\u001b[0m\u001b[0m\n\u001b[0m",
      "\u001b[0;31mTypeError\u001b[0m: 'tuple' object does not support item assignment"
     ]
    }
   ],
   "source": [
    "some_tuple = (1, 2, 3)\n",
    "print(some_tuple)\n",
    "\n",
    "print(some_tuple[1])\n",
    "\n",
    "some_tuple[1] = 42"
   ]
  },
  {
   "cell_type": "markdown",
   "metadata": {},
   "source": [
    "Кортежи можно использовать в цикле `for` как обычную последовательность:"
   ]
  },
  {
   "cell_type": "code",
   "execution_count": 7,
   "metadata": {},
   "outputs": [
    {
     "name": "stdout",
     "output_type": "stream",
     "text": [
      "1\n",
      "2\n",
      "3\n"
     ]
    }
   ],
   "source": [
    "some_tuple = (1, 2, 3)\n",
    "\n",
    "for item in some_tuple:\n",
    "    print(item)"
   ]
  },
  {
   "cell_type": "markdown",
   "metadata": {},
   "source": [
    "Синтаксис Питона позволяет создавать кортежи без круглых скобок, но только там, где это не конфликтует с другим синтаксисом:"
   ]
  },
  {
   "cell_type": "code",
   "execution_count": 9,
   "metadata": {},
   "outputs": [
    {
     "name": "stdout",
     "output_type": "stream",
     "text": [
      "(1, 2, 3)\n"
     ]
    }
   ],
   "source": [
    "some_tuple = 1, 2, 3\n",
    "\n",
    "print(some_tuple)"
   ]
  },
  {
   "cell_type": "markdown",
   "metadata": {},
   "source": [
    "Если видишь где-то не очень понятные значения через запятую, то это, скорее всего, кортеж. \n",
    "\n",
    "Есть случаи, где это не работает, и элементы кортежа нужно передавать в круглых скобках. Забежим немного вперёд и посмотрим на функцию, которая принимает строго один аргумент:"
   ]
  },
  {
   "cell_type": "code",
   "execution_count": 12,
   "metadata": {},
   "outputs": [
    {
     "ename": "TypeError",
     "evalue": "tuple_func() takes 1 positional argument but 3 were given",
     "output_type": "error",
     "traceback": [
      "\u001b[0;31m---------------------------------------------------------------------------\u001b[0m",
      "\u001b[0;31mTypeError\u001b[0m                                 Traceback (most recent call last)",
      "\u001b[0;32m<ipython-input-12-07cbb6950e86>\u001b[0m in \u001b[0;36m<module>\u001b[0;34m\u001b[0m\n\u001b[1;32m      2\u001b[0m     \u001b[0mprint\u001b[0m\u001b[0;34m(\u001b[0m\u001b[0marg\u001b[0m\u001b[0;34m)\u001b[0m\u001b[0;34m\u001b[0m\u001b[0;34m\u001b[0m\u001b[0m\n\u001b[1;32m      3\u001b[0m \u001b[0;34m\u001b[0m\u001b[0m\n\u001b[0;32m----> 4\u001b[0;31m \u001b[0mtuple_func\u001b[0m\u001b[0;34m(\u001b[0m\u001b[0;36m1\u001b[0m\u001b[0;34m,\u001b[0m \u001b[0;36m2\u001b[0m\u001b[0;34m,\u001b[0m \u001b[0;36m3\u001b[0m\u001b[0;34m)\u001b[0m\u001b[0;34m\u001b[0m\u001b[0;34m\u001b[0m\u001b[0m\n\u001b[0m",
      "\u001b[0;31mTypeError\u001b[0m: tuple_func() takes 1 positional argument but 3 were given"
     ]
    }
   ],
   "source": [
    "def tuple_func(arg):\n",
    "    print(arg)\n",
    "    \n",
    "tuple_func(1, 2, 3)"
   ]
  },
  {
   "cell_type": "markdown",
   "metadata": {},
   "source": [
    "Мы хотели бы передать в эту функцию один аргумент — кортеж, но без дополнительных круглых скобок Питон не смог разобраться, что это кортеж: он подумал, что мы пытаемся передать в функцию три аргумента вместо одного. Напишем кортеж явно:"
   ]
  },
  {
   "cell_type": "code",
   "execution_count": 13,
   "metadata": {},
   "outputs": [
    {
     "name": "stdout",
     "output_type": "stream",
     "text": [
      "(1, 2, 3)\n"
     ]
    }
   ],
   "source": [
    "tuple_func((1, 2, 3))"
   ]
  },
  {
   "cell_type": "markdown",
   "metadata": {},
   "source": [
    "Теперь ошибки нет, т. к. круглые скобки явно указали, что мы создаём один кортеж из трёх элементов и передаём его в функцию в качестве одного аргумента.\n",
    "\n",
    "Учитывая такую неоднозначность, в своём коде лучше всегда создавать кортежи в круглых скобках `()`. Это сильно улучшит читаемость кода."
   ]
  },
  {
   "cell_type": "markdown",
   "metadata": {},
   "source": [
    "### Распаковка последовательностей"
   ]
  },
  {
   "cell_type": "markdown",
   "metadata": {},
   "source": [
    "Обычно мы записывали объекты в переменные по одному:"
   ]
  },
  {
   "cell_type": "code",
   "execution_count": 15,
   "metadata": {},
   "outputs": [
    {
     "name": "stdout",
     "output_type": "stream",
     "text": [
      "5\n",
      "10\n"
     ]
    }
   ],
   "source": [
    "a = 5\n",
    "b = 10\n",
    "\n",
    "print(a)\n",
    "print(b)"
   ]
  },
  {
   "cell_type": "markdown",
   "metadata": {},
   "source": [
    "Питон позволяет записывать элементы кортежей (вообще-то, любых последовательностей) в несколько переменных разом:"
   ]
  },
  {
   "cell_type": "code",
   "execution_count": 16,
   "metadata": {},
   "outputs": [
    {
     "name": "stdout",
     "output_type": "stream",
     "text": [
      "5\n",
      "10\n"
     ]
    }
   ],
   "source": [
    "a, b = (5, 10)\n",
    "\n",
    "print(a)\n",
    "print(b)"
   ]
  },
  {
   "cell_type": "markdown",
   "metadata": {},
   "source": [
    "Здесь `a` и `b` — такие же отдельные переменные, как и в первом примере. Просто мы записали в них значения с помощью одной операции присваивания.\n",
    "\n",
    "Такой же фокус можно проделать и со списком, например:"
   ]
  },
  {
   "cell_type": "code",
   "execution_count": 17,
   "metadata": {},
   "outputs": [
    {
     "name": "stdout",
     "output_type": "stream",
     "text": [
      "42\n",
      "Hello\n"
     ]
    }
   ],
   "source": [
    "a, b = [42, 'Hello']\n",
    "\n",
    "print(a)\n",
    "print(b)"
   ]
  },
  {
   "cell_type": "markdown",
   "metadata": {},
   "source": [
    "Важно знать, что в простом случае при таком присваивании количество переменных слева должно быть равно количеству элементов последовательности справа.\n",
    "\n",
    "Вот пример, когда мы не можем распаковать слишком длинный кортеж:"
   ]
  },
  {
   "cell_type": "code",
   "execution_count": 18,
   "metadata": {},
   "outputs": [
    {
     "ename": "ValueError",
     "evalue": "too many values to unpack (expected 2)",
     "output_type": "error",
     "traceback": [
      "\u001b[0;31m---------------------------------------------------------------------------\u001b[0m",
      "\u001b[0;31mValueError\u001b[0m                                Traceback (most recent call last)",
      "\u001b[0;32m<ipython-input-18-faee755feda6>\u001b[0m in \u001b[0;36m<module>\u001b[0;34m\u001b[0m\n\u001b[0;32m----> 1\u001b[0;31m \u001b[0ma\u001b[0m\u001b[0;34m,\u001b[0m \u001b[0mb\u001b[0m \u001b[0;34m=\u001b[0m \u001b[0;34m(\u001b[0m\u001b[0;36m1\u001b[0m\u001b[0;34m,\u001b[0m \u001b[0;36m2\u001b[0m\u001b[0;34m,\u001b[0m \u001b[0;36m3\u001b[0m\u001b[0;34m)\u001b[0m\u001b[0;34m\u001b[0m\u001b[0;34m\u001b[0m\u001b[0m\n\u001b[0m",
      "\u001b[0;31mValueError\u001b[0m: too many values to unpack (expected 2)"
     ]
    }
   ],
   "source": [
    "a, b = (1, 2, 3)"
   ]
  },
  {
   "cell_type": "markdown",
   "metadata": {},
   "source": [
    "### Кортежи в циклах"
   ]
  },
  {
   "cell_type": "markdown",
   "metadata": {},
   "source": [
    "Есть пара хороших примеров распаковки последовательностей в циклах.\n",
    "\n",
    "Например, в цикле нам нужно бежать по списку, и при этом знать не только текущий элемент, но и его индекс в списке. Для этого можно применить разные подходы. Например, самим вести счётчик:"
   ]
  },
  {
   "cell_type": "code",
   "execution_count": 19,
   "metadata": {},
   "outputs": [
    {
     "name": "stdout",
     "output_type": "stream",
     "text": [
      "Current item: Hello with index 0\n",
      "Current item: world with index 1\n",
      "Current item: ! with index 2\n"
     ]
    }
   ],
   "source": [
    "some_list = ['Hello', 'world', '!']\n",
    "\n",
    "idx = 0\n",
    "for item in some_list:\n",
    "    print(f'Current item: {item} with index {idx}')\n",
    "    idx += 1;"
   ]
  },
  {
   "cell_type": "markdown",
   "metadata": {},
   "source": [
    "Можно сгенерировать последовательность индексов с помощью `range()` и индексировать список внутри цикла:"
   ]
  },
  {
   "cell_type": "code",
   "execution_count": 22,
   "metadata": {},
   "outputs": [
    {
     "name": "stdout",
     "output_type": "stream",
     "text": [
      "Current item: Hello with index 0\n",
      "Current item: world with index 1\n",
      "Current item: ! with index 2\n"
     ]
    }
   ],
   "source": [
    "some_list = ['Hello', 'world', '!']\n",
    "\n",
    "for idx in range(0, len(some_list)):  # range даёт последовательность чисел от 0 до 2\n",
    "    item = some_list[idx]\n",
    "    print(f'Current item: {item} with index {idx}')"
   ]
  },
  {
   "cell_type": "markdown",
   "metadata": {},
   "source": [
    "А можно использовать функцию `enumerate()`. Эта функция оборачивает любую последовательность так, что при итерации по ней в цикл попадает не элемент последовательности, а **кортеж**: `(индекс, элемент)`. Функция `enumerate()` глобальная и встроена в Питон, это не метод, который нужно вызывать через точку `.`."
   ]
  },
  {
   "cell_type": "code",
   "execution_count": 23,
   "metadata": {},
   "outputs": [
    {
     "name": "stdout",
     "output_type": "stream",
     "text": [
      "Current item: Hello with index 0\n",
      "Current item: world with index 1\n",
      "Current item: ! with index 2\n"
     ]
    }
   ],
   "source": [
    "some_list = ['Hello', 'world', '!']\n",
    "\n",
    "for idx, item in enumerate(some_list):\n",
    "    print(f'Current item: {item} with index {idx}')"
   ]
  },
  {
   "cell_type": "markdown",
   "metadata": {},
   "source": [
    "На каждой итерации цикла функция `enumerate()` выдаёт кортеж из двух элементов: численный индекс элемента в последовательности и сам элемент. Мы уже видели, что Питон может распаковать такой кортеж в две переменные. Именно это и происходит в этом примере: в цикле мы объявляем сразу две переменные: `idx` и `item`. На каждой итерации в первую попадает индекс, а во вторую — элемент."
   ]
  },
  {
   "cell_type": "markdown",
   "metadata": {},
   "source": [
    "### Словари и циклы"
   ]
  },
  {
   "cell_type": "markdown",
   "metadata": {},
   "source": [
    "До этого мы бежали циклами по спискам, но что будет, если положить в цикл словарь? Мы помним, что словарь — это последовательность пар «ключ-значение».\n",
    "\n",
    "Если словарь передать в любую конструкцию, которая обрабатывает последовательности, то он по умолчанию будет себя вести просто как последовательность ключей. Чтобы получить значения, придётся написать дополнительный код."
   ]
  },
  {
   "cell_type": "code",
   "execution_count": 25,
   "metadata": {},
   "outputs": [
    {
     "name": "stdout",
     "output_type": "stream",
     "text": [
      "Name\n",
      "Age\n",
      "Gender\n"
     ]
    }
   ],
   "source": [
    "some_dic = {'Name': 'Alice', 'Age': 42, 'Gender': False}\n",
    "\n",
    "for key in some_dic:\n",
    "    print(key)"
   ]
  },
  {
   "cell_type": "markdown",
   "metadata": {},
   "source": [
    "Как мы видим, если положить словарь в цикл, нам будут доступны только его ключи. Мы можем достать значения, если будем вручную получать их по ключу:"
   ]
  },
  {
   "cell_type": "code",
   "execution_count": 27,
   "metadata": {},
   "outputs": [
    {
     "name": "stdout",
     "output_type": "stream",
     "text": [
      "Key: Name, value: Alice\n",
      "Key: Age, value: 42\n",
      "Key: Gender, value: False\n"
     ]
    }
   ],
   "source": [
    "some_dic = {'Name': 'Alice', 'Age': 42, 'Gender': False}\n",
    "\n",
    "for key in some_dic:\n",
    "    value = some_dic[key]\n",
    "    print(f'Key: {key}, value: {value}')"
   ]
  },
  {
   "cell_type": "markdown",
   "metadata": {},
   "source": [
    "Однако этот код можно записать проще. В словаре есть метод `items()`, который возвращает последовательность не ключей, а **кортежей** `(ключ, значение)`. И мы можем бежать циклом уже по этой последовательности, распаковывая кортеж в две переменные:"
   ]
  },
  {
   "cell_type": "code",
   "execution_count": 29,
   "metadata": {},
   "outputs": [
    {
     "name": "stdout",
     "output_type": "stream",
     "text": [
      "Key: Name, value: Alice\n",
      "Key: Age, value: 42\n",
      "Key: Gender, value: False\n"
     ]
    }
   ],
   "source": [
    "some_dic = {'Name': 'Alice', 'Age': 42, 'Gender': False}\n",
    "\n",
    "for key, value in some_dic.items():\n",
    "    print(f'Key: {key}, value: {value}')"
   ]
  },
  {
   "cell_type": "markdown",
   "metadata": {},
   "source": [
    "Здесь работает тот же механизм, что и с `enumerate()` в списке: кортеж с двумя элементами распаковывается в две переменные."
   ]
  },
  {
   "cell_type": "markdown",
   "metadata": {},
   "source": [
    "**Пример со звёздочкой.** А что если упороться, и применить к словарю и `enumerate()` и `items()`? Сначала объявим одну переменную, чтобы для наглядности в неё попал весь кортеж без распаковки."
   ]
  },
  {
   "cell_type": "code",
   "execution_count": 32,
   "metadata": {},
   "outputs": [
    {
     "name": "stdout",
     "output_type": "stream",
     "text": [
      "(0, ('Name', 'Alice'))\n",
      "(1, ('Age', 42))\n",
      "(2, ('Gender', False))\n"
     ]
    }
   ],
   "source": [
    "some_dic = {'Name': 'Alice', 'Age': 42, 'Gender': False}\n",
    "\n",
    "for tuple in enumerate(some_dic.items()):\n",
    "    print(tuple)"
   ]
  },
  {
   "cell_type": "markdown",
   "metadata": {},
   "source": [
    "Мы видим, что `enumerate()` возвращает нам кортеж, где первый элемент — это индекс, а второй — **вложенный кортеж**, который приходит от метода `items()`! Да, мы спокойно можем делать вложенные кортежи — так же, как вложенные списки и словари.\n",
    "\n",
    "А теперь возьмём и разложим этот кортеж на отдельные переменные. Чтобы подстроиться под структуру кортежей в последовательности, нам нужно переменные объявить в виде такого же вложенного кортежа:"
   ]
  },
  {
   "cell_type": "code",
   "execution_count": 33,
   "metadata": {},
   "outputs": [
    {
     "name": "stdout",
     "output_type": "stream",
     "text": [
      "Index: 0, key: Name, value: Alice\n",
      "Index: 1, key: Age, value: 42\n",
      "Index: 2, key: Gender, value: False\n"
     ]
    }
   ],
   "source": [
    "some_dic = {'Name': 'Alice', 'Age': 42, 'Gender': False}\n",
    "\n",
    "for idx, (key, value) in enumerate(some_dic.items()):\n",
    "    print(f'Index: {idx}, key: {key}, value: {value}')"
   ]
  },
  {
   "cell_type": "markdown",
   "metadata": {},
   "source": [
    "И это работает!"
   ]
  }
 ],
 "metadata": {
  "kernelspec": {
   "display_name": "Python 3",
   "language": "python",
   "name": "python3"
  },
  "language_info": {
   "codemirror_mode": {
    "name": "ipython",
    "version": 3
   },
   "file_extension": ".py",
   "mimetype": "text/x-python",
   "name": "python",
   "nbconvert_exporter": "python",
   "pygments_lexer": "ipython3",
   "version": "3.7.3"
  }
 },
 "nbformat": 4,
 "nbformat_minor": 4
}
