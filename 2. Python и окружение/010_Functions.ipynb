{
 "cells": [
  {
   "cell_type": "markdown",
   "metadata": {},
   "source": [
    "<a href=\"https://colab.research.google.com/github/mts-machines-learn/ml-course-dec2019/blob/master/2. Python и окружение/010_Functions.ipynb\"><img src=\"https://colab.research.google.com/assets/colab-badge.svg\"/></a>"
   ]
  },
  {
   "cell_type": "markdown",
   "metadata": {},
   "source": [
    "### Функции"
   ]
  },
  {
   "cell_type": "markdown",
   "metadata": {},
   "source": [
    "Как мы уже знаем, скрипт выполняется построчно, сверху вниз. Мы уже знаем про то, как сделать ход скрипта немного нелинейным с помощью операторов `if`, `for` и `while`. Как ещё мы можем разнообразить наш скрипт? Можем, например, запилить функцию."
   ]
  },
  {
   "cell_type": "code",
   "execution_count": 1,
   "metadata": {},
   "outputs": [
    {
     "name": "stdout",
     "output_type": "stream",
     "text": [
      "foo\n",
      "You have been taxed 1 dollar for this enhanced print function.\n"
     ]
    }
   ],
   "source": [
    "def print_with_tax(obj):\n",
    "    print(obj)\n",
    "    print('You have been taxed 1 dollar for this enhanced print function.')\n",
    "    \n",
    "print_with_tax('foo')"
   ]
  },
  {
   "cell_type": "markdown",
   "metadata": {},
   "source": [
    "Что произошло? Мы создали **функцию** — именованный блок кода, который мы можем **вызывать** из других мест в нашем скрипте. Разберёмся, из чего состоит функция."
   ]
  },
  {
   "cell_type": "markdown",
   "metadata": {},
   "source": [
    "![func_def](img/func_def.png)"
   ]
  },
  {
   "cell_type": "markdown",
   "metadata": {},
   "source": [
    "Синтаксис объявления функции такой: сначала пишем ключевое слово `def`, после него имя функции без пробелов, потом перечисляем имена аргументов в скобках (или просто ставим скобки, если не ожидаем аргументов).\n",
    "\n",
    "Что такое **аргумент функции**? Это наше требование передать в функцию один и более объектов.\n",
    "\n",
    "Когда мы написали `def print_with_tax(obj)`, мы сказали, что хотим, чтобы в нашу функцию передали ровно один объект. Нет объекта — нет мультиков. Два объекта — выбери какой-то один и передавай.\n",
    "\n",
    "При этом, в списке аргументов мы сразу говорим, как будут называться переменные, в которые попадут переданные нам объекты. В этом примере мы говорим питону: «Определи функцию `print_with_tax`, в которую должны передавать ровно один объект. Когда будешь выполнять тело функции, положи этот объект в новую переменную с именем `obj`». Другими словами, для данного метода, `obj` — это просто переменная, в которой будет содержаться переданный объект. Рассмотрим ещё примеры вызова функции:"
   ]
  },
  {
   "cell_type": "code",
   "execution_count": 3,
   "metadata": {},
   "outputs": [
    {
     "name": "stdout",
     "output_type": "stream",
     "text": [
      "1\n",
      "You have been taxed 1 dollar for this enhanced print function.\n",
      "foo\n",
      "You have been taxed 1 dollar for this enhanced print function.\n"
     ]
    }
   ],
   "source": [
    "def print_with_tax(obj):\n",
    "    print(obj)\n",
    "    print('You have been taxed 1 dollar for this enhanced print function.')\n",
    "    \n",
    "print_with_tax(1)      # Создали в памяти объект 1 и на лету передали в функцию\n",
    "print_with_tax('foo')  # Создали в памяти объект 'foo' и на лету передали в функцию"
   ]
  },
  {
   "cell_type": "markdown",
   "metadata": {},
   "source": [
    "Рассмотрим на картинке:"
   ]
  },
  {
   "cell_type": "markdown",
   "metadata": {},
   "source": [
    "![func_args](img/func_args.png)"
   ]
  },
  {
   "cell_type": "markdown",
   "metadata": {},
   "source": [
    "Теперь для разнообразия создадим функцию с требя аргументами:"
   ]
  },
  {
   "cell_type": "code",
   "execution_count": 6,
   "metadata": {},
   "outputs": [
    {
     "name": "stdout",
     "output_type": "stream",
     "text": [
      "8\n",
      "12\n"
     ]
    }
   ],
   "source": [
    "def add_and_multiply(a, b, c):\n",
    "    return a + b * c\n",
    "\n",
    "print(add_and_multiply(2, 2, 3))\n",
    "print(add_and_multiply(4, 2, 4))"
   ]
  },
  {
   "cell_type": "markdown",
   "metadata": {},
   "source": [
    "Здесь мы видим новую штуку: `return`. Оказывается, внутри функции мы можем не просто делать какие-то действия, но и возвращать новые объекты обратно в код, который вызвал функцию! Вспомним функцию `len()`, которую мы разбирали в разделе с выражениями. Мы видели, что сама функция создаёт новый объект:"
   ]
  },
  {
   "cell_type": "markdown",
   "metadata": {},
   "source": [
    "![len](img/expressions.png)"
   ]
  },
  {
   "cell_type": "markdown",
   "metadata": {},
   "source": [
    "Так вот, она создаёт объект 3 именно с помощью return внутри своего тела! Где-то в недрах стандартной библиотеки питона определена такая функция:"
   ]
  },
  {
   "cell_type": "code",
   "execution_count": 9,
   "metadata": {},
   "outputs": [],
   "source": [
    "def len(obj):\n",
    "    # Тут чёрная магия по определению длины\n",
    "    return 3      # Тут на самом деле не 3, а фактическая длина списка или строки"
   ]
  },
  {
   "cell_type": "markdown",
   "metadata": {},
   "source": [
    "Самое главное: в `return` снова нет никакой магии, все эти механизмы мы уже знаем. `return` получает любой объект, завершает выполнение функции и возращает объект в вызывающий кусок кода. Снаружи выглядит так, будто вызов функции сгенерил новый объект в памяти.\n",
    "\n",
    "Мы можем записать ту же функцию с использованием промежуточных переменных:"
   ]
  },
  {
   "cell_type": "code",
   "execution_count": 10,
   "metadata": {},
   "outputs": [
    {
     "name": "stdout",
     "output_type": "stream",
     "text": [
      "8\n",
      "12\n"
     ]
    }
   ],
   "source": [
    "def add_and_multiply(a, b, c):\n",
    "    mult = b * c\n",
    "    summ = a + mult\n",
    "    return summ\n",
    "\n",
    "print(add_and_multiply(2, 2, 3))\n",
    "print(add_and_multiply(4, 2, 4))"
   ]
  },
  {
   "cell_type": "markdown",
   "metadata": {},
   "source": [
    "Ничего не изменилось. Просто мы положили промежуточные объекты в отдельные переменные и в `return` тоже передали переменную. Так как переменная — это просто указатель на объект, мы фактически вернули из функции объект.\n",
    "\n",
    "В функции может быть сколько угодно операторов `return`, в совершенно любых ветках. Например, в `if`:"
   ]
  },
  {
   "cell_type": "code",
   "execution_count": 12,
   "metadata": {},
   "outputs": [
    {
     "name": "stdout",
     "output_type": "stream",
     "text": [
      "False\n",
      "True\n"
     ]
    }
   ],
   "source": [
    "def check_age(n):\n",
    "    if n < 18:\n",
    "        return False\n",
    "    else:\n",
    "        return True\n",
    "    \n",
    "print(check_age(16))\n",
    "print(check_age(21))"
   ]
  },
  {
   "cell_type": "markdown",
   "metadata": {},
   "source": [
    "Здесь мы сделали простенькую функцию для проверки возраста, которая возвращает `True` или `False` в зависимости от переданного числа."
   ]
  },
  {
   "cell_type": "markdown",
   "metadata": {},
   "source": [
    "Пока что это всё, что нам нужно знать про функции."
   ]
  }
 ],
 "metadata": {
  "kernelspec": {
   "display_name": "Python 3",
   "language": "python",
   "name": "python3"
  },
  "language_info": {
   "codemirror_mode": {
    "name": "ipython",
    "version": 3
   },
   "file_extension": ".py",
   "mimetype": "text/x-python",
   "name": "python",
   "nbconvert_exporter": "python",
   "pygments_lexer": "ipython3",
   "version": "3.7.3"
  }
 },
 "nbformat": 4,
 "nbformat_minor": 4
}
