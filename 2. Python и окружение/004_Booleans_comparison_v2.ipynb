{
 "cells": [
  {
   "cell_type": "markdown",
   "metadata": {},
   "source": [
    "<a href=\"https://colab.research.google.com/github/mts-machines-learn/ml-course-dec2019/blob/master/2. Python и окружение/004_Booleans_comparison_v2.ipynb\"><img src=\"https://colab.research.google.com/assets/colab-badge.svg\"/></a>"
   ]
  },
  {
   "cell_type": "markdown",
   "metadata": {},
   "source": [
    "### Истинность и ложность объектов"
   ]
  },
  {
   "cell_type": "markdown",
   "metadata": {},
   "source": [
    "Практически во всех языках программирования так или иначе есть концепция *истинности* и *ложности*. Наиболее понятна эта концепция становится на примере условного оператора `if`:"
   ]
  },
  {
   "cell_type": "code",
   "execution_count": 31,
   "metadata": {},
   "outputs": [
    {
     "name": "stdout",
     "output_type": "stream",
     "text": [
      "a is less than b\n"
     ]
    }
   ],
   "source": [
    "a = 5\n",
    "b = 10\n",
    "\n",
    "if a < b:                          # Если выржение 'a < b' истинно, то выполнится эта ветка\n",
    "    print('a is less than b')\n",
    "else:                              # Если выражение ложно, то выполнится эта ветка\n",
    "    print('a is greater than b')"
   ]
  },
  {
   "cell_type": "markdown",
   "metadata": {},
   "source": [
    "В некоторых старых языках типа C для истинности и ложности нет отдельного типа данных: *ложным* считается число `0`, а все остальные числа считаются *истинными*.\n",
    "\n",
    "В самом начале в Питоне тоже не было отдельного типа для обозначения истинности и ложности — Питон наследует конвенцию с `0` и `1` из C. В Питоне все числа, которые не равны `0`, будут *истинными*. Поэтому можно записать:"
   ]
  },
  {
   "cell_type": "code",
   "execution_count": 3,
   "metadata": {},
   "outputs": [
    {
     "name": "stdout",
     "output_type": "stream",
     "text": [
      "This is always true\n"
     ]
    }
   ],
   "source": [
    "if 1:\n",
    "    print('This is always true')"
   ]
  },
  {
   "cell_type": "markdown",
   "metadata": {},
   "source": [
    "Более того, в Питоне каждый объект — **неважно какого типа** — будет истинным или ложным. Общее правило такое: **если объект пустой, он ложный; если не пустой, то истинный**.\n",
    "\n",
    "|Тип объекта|Ложные|Истинные|\n",
    "|:---|:---|:---|\n",
    "|`int`|`0`|Все остальные числа|\n",
    "|`float`|`0.0`|Все остальные числа|\n",
    "|Строки|`''` (пустая строка)|Все остальные строки (не пустые)|\n",
    "|Списки|`[]` (пустой список)|Список с хотя бы одним элементом|\n",
    "|Словари|`{}` (пустой словарь)|Словарь с хотя бы одной парой|\n",
    "|`None`|Всегда ложный|`None` никогда не истинный|\n",
    "|`bool`|`False`|`True`|"
   ]
  },
  {
   "cell_type": "markdown",
   "metadata": {},
   "source": [
    "В Python 2.3 ввели новый тип данных: `bool`. У объектов типа `bool` может быть только два значения: `True` (истинное) или `False` (ложное).\n",
    "\n",
    "Этот новый тип никак не меняет правила проверки объектов на истинность: он просто добавляет в язык два удобных ключевых слова: `True` и `False`. Теперь мы можем переписать вырожденный пример:"
   ]
  },
  {
   "cell_type": "code",
   "execution_count": 5,
   "metadata": {},
   "outputs": [
    {
     "name": "stdout",
     "output_type": "stream",
     "text": [
      "This is always true\n"
     ]
    }
   ],
   "source": [
    "if True:\n",
    "    print('This is always true')"
   ]
  },
  {
   "cell_type": "markdown",
   "metadata": {},
   "source": [
    "Так же, как и с другими типами данных, `bool` можно использовать как функцию, чтобы получить `True` или `False` в зависимости от истинности или ложности объекта.\n",
    "\n",
    "Важное замечание: вызов `bool()` не требуется исользовать для проверки объекта на истинность. Каждый объект в Питоне сам по себе истинный или ложный. Вызов `bool()` лишь проверяет объект на истинность и выдаёт явный результат проверки в виде значений `True` или `False`.\n",
    "\n",
    "Попробуем применить `bool()`:"
   ]
  },
  {
   "cell_type": "code",
   "execution_count": 6,
   "metadata": {},
   "outputs": [
    {
     "name": "stdout",
     "output_type": "stream",
     "text": [
      "False\n",
      "True\n",
      "False\n",
      "True\n",
      "True\n"
     ]
    }
   ],
   "source": [
    "print(bool(0))\n",
    "print(bool(1))\n",
    "print(bool([])) # Пустой список\n",
    "print(bool([1, 2, 3]))\n",
    "print(bool('Hello world'))"
   ]
  },
  {
   "cell_type": "markdown",
   "metadata": {},
   "source": [
    "Отдельно рассмотрим не очень логичный пример. Если применить вызовы типа `int()` и `float()` к строкам, в которых записаны валидные числа, они сконвертируют строку в число.\n",
    "\n",
    "`bool()` так не работает. Этот вызов всегда только говорит, является ли переданный объект истинным или ложным. Для любой не пустой строки `bool()` выдаст `True`:"
   ]
  },
  {
   "cell_type": "code",
   "execution_count": 8,
   "metadata": {},
   "outputs": [
    {
     "name": "stdout",
     "output_type": "stream",
     "text": [
      "True\n"
     ]
    }
   ],
   "source": [
    "print(bool('False'))"
   ]
  },
  {
   "cell_type": "markdown",
   "metadata": {},
   "source": [
    "То есть, в отличие от вызовов `int()` и `float()`, вызов `bool()` **не конвертирует значения в строке**, а только проверяет саму строку на истинность."
   ]
  },
  {
   "cell_type": "markdown",
   "metadata": {},
   "source": [
    "#### Логические операторы"
   ]
  },
  {
   "cell_type": "markdown",
   "metadata": {},
   "source": [
    "Для истинных и ложных значений есть свои собственные операторы. Они похожи по смыслу на математические операторы для чисел, но ведут себя по-особенному за счёт того, что оперируют только двумя значениями: *истина* и *ложь*.\n",
    "\n",
    "*Здесь и далее будем применять значения `True` и `False` для удобства обозначения, но запомним, что вместо них может стоять любой объект, который может быть истинным или ложным*.\n",
    "\n",
    "Посмотрим, что это за операторы.\n",
    "\n",
    "|Оператор|Описание|Примеры|\n",
    "|:---|:---|:-----------|\n",
    "|and|**Логическое «и»**. <br/> Возвращает `True` только если оба объекта по обе стороны оператора тоже имеют значение `True`.|`True and False` → `False` <br/><br/> `True and True` → `True` <br/><br/> `False and False` → `False`| \n",
    "|or|**Логическое «или»**. <br/> Возвращает `True` если хотя бы один из объектов по обе стороны оператора имеет значение `True`.|`True or False` → `True` <br/><br/> `True or True` → `True` <br/><br/> `False or False` → `False`| \n",
    "|not|**Логическое отрицание**. <br/> Просто инвертирует значение.|`not True ` → `False` <br/><br/> `not False` → `True`| "
   ]
  },
  {
   "cell_type": "markdown",
   "metadata": {},
   "source": [
    "Рассмотрим простые примеры:"
   ]
  },
  {
   "cell_type": "markdown",
   "metadata": {},
   "source": [
    "#### and"
   ]
  },
  {
   "cell_type": "code",
   "execution_count": 9,
   "metadata": {},
   "outputs": [
    {
     "name": "stdout",
     "output_type": "stream",
     "text": [
      "False\n"
     ]
    }
   ],
   "source": [
    "print(True and False)"
   ]
  },
  {
   "cell_type": "code",
   "execution_count": 10,
   "metadata": {},
   "outputs": [
    {
     "name": "stdout",
     "output_type": "stream",
     "text": [
      "False\n"
     ]
    }
   ],
   "source": [
    "print(False and False)"
   ]
  },
  {
   "cell_type": "code",
   "execution_count": 11,
   "metadata": {},
   "outputs": [
    {
     "name": "stdout",
     "output_type": "stream",
     "text": [
      "True\n"
     ]
    }
   ],
   "source": [
    "print(True and True)"
   ]
  },
  {
   "cell_type": "markdown",
   "metadata": {},
   "source": [
    "#### or"
   ]
  },
  {
   "cell_type": "code",
   "execution_count": 12,
   "metadata": {},
   "outputs": [
    {
     "name": "stdout",
     "output_type": "stream",
     "text": [
      "True\n"
     ]
    }
   ],
   "source": [
    "print(True or False)"
   ]
  },
  {
   "cell_type": "code",
   "execution_count": 13,
   "metadata": {},
   "outputs": [
    {
     "name": "stdout",
     "output_type": "stream",
     "text": [
      "False\n"
     ]
    }
   ],
   "source": [
    "print(False or False)"
   ]
  },
  {
   "cell_type": "code",
   "execution_count": 14,
   "metadata": {},
   "outputs": [
    {
     "name": "stdout",
     "output_type": "stream",
     "text": [
      "True\n"
     ]
    }
   ],
   "source": [
    "print(True or True)"
   ]
  },
  {
   "cell_type": "markdown",
   "metadata": {},
   "source": [
    "#### not"
   ]
  },
  {
   "cell_type": "code",
   "execution_count": 15,
   "metadata": {},
   "outputs": [
    {
     "name": "stdout",
     "output_type": "stream",
     "text": [
      "False\n"
     ]
    }
   ],
   "source": [
    "print(not True)"
   ]
  },
  {
   "cell_type": "code",
   "execution_count": 16,
   "metadata": {},
   "outputs": [
    {
     "name": "stdout",
     "output_type": "stream",
     "text": [
      "True\n"
     ]
    }
   ],
   "source": [
    "print(not False)"
   ]
  },
  {
   "cell_type": "markdown",
   "metadata": {},
   "source": [
    "#### Для любых объектов"
   ]
  },
  {
   "cell_type": "markdown",
   "metadata": {},
   "source": [
    "Мы помним, что любой объект считается либо истинным, либо ложным. Это значит, что любой объект можно запихнуть в логические операторы:"
   ]
  },
  {
   "cell_type": "code",
   "execution_count": 27,
   "metadata": {},
   "outputs": [
    {
     "name": "stdout",
     "output_type": "stream",
     "text": [
      "True\n",
      "True\n"
     ]
    }
   ],
   "source": [
    "res = '' or True  # False or True\n",
    "print(res)\n",
    "print(bool(res))"
   ]
  },
  {
   "cell_type": "code",
   "execution_count": 28,
   "metadata": {},
   "outputs": [
    {
     "name": "stdout",
     "output_type": "stream",
     "text": [
      "0\n",
      "False\n"
     ]
    }
   ],
   "source": [
    "res = True and 0 # True and False\n",
    "print(res)\n",
    "print(bool(res))"
   ]
  },
  {
   "cell_type": "code",
   "execution_count": 29,
   "metadata": {},
   "outputs": [
    {
     "name": "stdout",
     "output_type": "stream",
     "text": [
      "foo\n",
      "True\n"
     ]
    }
   ],
   "source": [
    "res = [] or 'foo' # False or True\n",
    "print(res)\n",
    "print(bool(res))"
   ]
  },
  {
   "cell_type": "code",
   "execution_count": 26,
   "metadata": {},
   "outputs": [
    {
     "name": "stdout",
     "output_type": "stream",
     "text": [
      "False\n"
     ]
    }
   ],
   "source": [
    "print(not 'foo')  # not True"
   ]
  },
  {
   "cell_type": "markdown",
   "metadata": {},
   "source": [
    "В этих примерах можно заметить, что логические операторы `and` и `or` возвращают не строго `True` или `False`, а просто один из тех объектов, которые в них передали. `not` при этом всегда возвращает строго `True` или `False`.\n",
    "\n",
    "Разберёмся более подробно, как это работает."
   ]
  },
  {
   "cell_type": "markdown",
   "metadata": {},
   "source": [
    "#### and"
   ]
  },
  {
   "cell_type": "markdown",
   "metadata": {},
   "source": [
    "Когда Питон видит оператор `and`, он смотрит, что стоит по обе стороны от него:\n",
    "\n",
    "`__ and __`\n",
    "\n",
    "Сначала Питон анализирует объект слева от оператора. Если он *ложный*, Питон тут же возвращает его как результат. Это приведёт к тому, что результат работы всего оператора будет *ложным*.\n",
    "\n",
    "Если объект слева *истинный*, Питон больше ничего не проверяет и возвращает в качестве результата объект справа. Здесь может быть два варианта: объект справа будет *истинным*, и тогда результат всего оператора тоже будет *истиной*. Если объект справа *ложный*, то и результат будет *ложным*. Это полностью укладывается в заявленную логику работы оператора `and`."
   ]
  },
  {
   "cell_type": "markdown",
   "metadata": {},
   "source": [
    "#### or"
   ]
  },
  {
   "cell_type": "markdown",
   "metadata": {},
   "source": [
    "Когда Питон видит оператор `or`, он также смотрит, что стоит по обе стороны от него:\n",
    "\n",
    "`__ or __`\n",
    "\n",
    "Сначала Питон анализирует объект слева от оператора. Если он *истинный*, Питон тут же возвращает его как результат. Это приведёт к тому, что результат работы всего оператора будет *истинным*.\n",
    "\n",
    "Если объект слева *ложный*, Питон больше ничего не проверяет и возвращает в качестве результата объект справа. Здесь может быть два варианта: объект справа будет *истинным*, и тогда результат всего оператора тоже будет *истиной*. Если объект справа *ложный*, то и результат будет *ложным*. Это, в свою очередь, укладывается в заявленную логику работы оператора `or`."
   ]
  },
  {
   "cell_type": "markdown",
   "metadata": {},
   "source": [
    "#### Шта? оО"
   ]
  },
  {
   "cell_type": "markdown",
   "metadata": {},
   "source": [
    "Для простоты, лучше всегда думать о логических операторах, будто они оперируют только значениями `True` или `False`. Если мы видим в тексте скрипта операторы `and` или `or`, то просто приводим в голове значения слева и справа к `True` или `False`, и только потом думаем, что вернёт оператор.\n",
    "\n",
    "Например, мы видим код:\n",
    "\n",
    "```python\n",
    "'' or 'hello'\n",
    "```\n",
    "\n",
    "Так сразу и не понять, что здесь происходит. Мы помним о том, что любой объект в Питоне является истинным или ложным, и конвертируем в голове эти объекты к понятным значениям:\n",
    "\n",
    "```python\n",
    "False or True\n",
    "```\n",
    "\n",
    "И теперь мы можем посмотреть в табличку истинности для оператора `or`, и понять, что в данном случае всё выражение *истинно*."
   ]
  },
  {
   "cell_type": "markdown",
   "metadata": {},
   "source": [
    "Иногда тот факт, что операторы `and` и `or` возвращают один из объектов, которые в них передали, используют для написания сомнительного кода. Например, представим, что мы хотим получить некое значение из конфига, и, если его в конфиге нет, взять некое дефолтное значение:\n",
    "\n",
    "```python\n",
    "some_value = get_from_config('SomeValue') or '10'\n",
    "```\n",
    "\n",
    "Если предположить, что функция `get_from_config()` возвращает пустую строку `''` в случае, когда заданная настройка не определена в конфиге, это выражение превратится в:\n",
    "\n",
    "```python\n",
    "some_value = '' or '10'\n",
    "```\n",
    "\n",
    "Так как пустая строка `''` имеет значение *ложь*, оператор or вернёт тот объект, который ему передали справа — то есть, `'10'`. Если же настройка в конфиге есть (допустим, `'50'`), код будет такой:\n",
    "\n",
    "```python\n",
    "some_value = '50' or '10'\n",
    "```\n",
    "\n",
    "В этом случае оператор `or` вернёт `'50'`, т. к. эта строка расценивается как *истина*, и оператор `or` сначала анализирует то, что стоит слева от него.\n",
    "\n",
    "Это довольно сомнительная практика, которая опирается на *особенность реализации* операторов `and` и `or` в Питоне."
   ]
  },
  {
   "cell_type": "markdown",
   "metadata": {},
   "source": [
    "#### Логические операторы цепочкой"
   ]
  },
  {
   "cell_type": "markdown",
   "metadata": {},
   "source": [
    "По аналогии с математическими операторами, мы можем ставить несколько логических операторов подряд:"
   ]
  },
  {
   "cell_type": "code",
   "execution_count": 5,
   "metadata": {},
   "outputs": [
    {
     "name": "stdout",
     "output_type": "stream",
     "text": [
      "13\n",
      "True\n"
     ]
    }
   ],
   "source": [
    "print(10 + 5 - 2)\n",
    "print(True or False and not False)"
   ]
  },
  {
   "cell_type": "markdown",
   "metadata": {},
   "source": [
    "Для читаемости части сложных выражений лучше заключать в скобки. Лишние скобки никак не влияют на выполнение скрипта, если они правильно сбалансированы:"
   ]
  },
  {
   "cell_type": "code",
   "execution_count": 6,
   "metadata": {},
   "outputs": [
    {
     "data": {
      "text/plain": [
       "True"
      ]
     },
     "execution_count": 6,
     "metadata": {},
     "output_type": "execute_result"
    }
   ],
   "source": [
    "(True or False) and (not False)"
   ]
  },
  {
   "cell_type": "markdown",
   "metadata": {},
   "source": [
    "### Операторы сравнения"
   ]
  },
  {
   "cell_type": "markdown",
   "metadata": {},
   "source": [
    "Оператор сравнения `==` (не путать с оператором присваивания `=`) – это просто выражение, которое сравнивает два объекта и возвращает `True` или `False`."
   ]
  },
  {
   "cell_type": "code",
   "execution_count": 7,
   "metadata": {},
   "outputs": [
    {
     "name": "stdout",
     "output_type": "stream",
     "text": [
      "False\n"
     ]
    }
   ],
   "source": [
    "print('hello' == 'world')"
   ]
  },
  {
   "cell_type": "markdown",
   "metadata": {},
   "source": [
    "![comparison](img/comparison.png)"
   ]
  },
  {
   "cell_type": "markdown",
   "metadata": {},
   "source": [
    "В отличие от оператора `is`, оператор `==` сравнивает именно **содержимое** объектов. Если в памяти есть два объекта, и у них одинаковое содержимое, оператор `==` вернёт для них `True`.\n",
    "\n",
    "У оператора `==` есть антипод — оператор `!=`. Его смысл — «не равно». Он вернёт `True` если содержимое объектов **не равно**."
   ]
  },
  {
   "cell_type": "code",
   "execution_count": 8,
   "metadata": {},
   "outputs": [
    {
     "name": "stdout",
     "output_type": "stream",
     "text": [
      "True\n"
     ]
    }
   ],
   "source": [
    "print('hello' != 'world')"
   ]
  },
  {
   "cell_type": "markdown",
   "metadata": {},
   "source": [
    "#### Сравнение чисел"
   ]
  },
  {
   "cell_type": "markdown",
   "metadata": {},
   "source": [
    "Числа можно сравнивать привычными математическими операторами: `<`, `>`, `<=` (меньше или равно), `>=` (больше или равно)."
   ]
  },
  {
   "cell_type": "code",
   "execution_count": 11,
   "metadata": {},
   "outputs": [
    {
     "name": "stdout",
     "output_type": "stream",
     "text": [
      "True\n",
      "False\n",
      "True\n",
      "True\n"
     ]
    }
   ],
   "source": [
    "a = 10\n",
    "b = 5\n",
    "\n",
    "print(a > b)\n",
    "print(a < b)\n",
    "print(a >= 10)\n",
    "print(b <= 5)"
   ]
  },
  {
   "cell_type": "markdown",
   "metadata": {},
   "source": [
    "Как и оператор сравнения `==`, эти операторы порождают булевские объекты `True` или `False`."
   ]
  },
  {
   "cell_type": "markdown",
   "metadata": {},
   "source": [
    "#### Сложные проверки"
   ]
  },
  {
   "cell_type": "markdown",
   "metadata": {},
   "source": [
    "Так как операторы `==` и `!=` возращают булевские объекты, мы можем делать разные хитрые штуки. Например, мы можем записать оператор `!=` через `==` и `not`:"
   ]
  },
  {
   "cell_type": "code",
   "execution_count": 10,
   "metadata": {},
   "outputs": [
    {
     "name": "stdout",
     "output_type": "stream",
     "text": [
      "True\n",
      "True\n"
     ]
    }
   ],
   "source": [
    "print('hello' != 'world')\n",
    "print(not 'hello' == 'world')"
   ]
  },
  {
   "cell_type": "markdown",
   "metadata": {},
   "source": [
    "С помощью булевских операторов мы можем выстраивать сколь угодно сложные проверки:"
   ]
  },
  {
   "cell_type": "code",
   "execution_count": 12,
   "metadata": {},
   "outputs": [
    {
     "name": "stdout",
     "output_type": "stream",
     "text": [
      "True\n"
     ]
    }
   ],
   "source": [
    "a = 10\n",
    "b = 5\n",
    "c = 3\n",
    "\n",
    "check = ('hello' != 'world') and ((a > b) or (c > b))\n",
    "print(check)"
   ]
  },
  {
   "cell_type": "markdown",
   "metadata": {},
   "source": [
    "Как мы видим, скобки здесь работают как в математике: сначала выполняются самые вложенные скобки, потом внешние, потом — всё остальное. Результатом каждого кусочка становится объект `bool`. В результате всего выражения мы тоже получаем булевский объект `True` и кладём его в переменную как любой другой объект."
   ]
  }
 ],
 "metadata": {
  "kernelspec": {
   "display_name": "Python 3",
   "language": "python",
   "name": "python3"
  },
  "language_info": {
   "codemirror_mode": {
    "name": "ipython",
    "version": 3
   },
   "file_extension": ".py",
   "mimetype": "text/x-python",
   "name": "python",
   "nbconvert_exporter": "python",
   "pygments_lexer": "ipython3",
   "version": "3.7.3"
  }
 },
 "nbformat": 4,
 "nbformat_minor": 4
}
