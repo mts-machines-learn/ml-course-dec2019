{
 "cells": [
  {
   "cell_type": "markdown",
   "metadata": {},
   "source": [
    "<a href=\"https://colab.research.google.com/github/mts-machines-learn/ml-course-dec2019/blob/lesson2/2. Python и окружение/005_Blocks_Ifs.ipynb\"><img src=\"https://colab.research.google.com/assets/colab-badge.svg\"/></a>"
   ]
  },
  {
   "cell_type": "markdown",
   "metadata": {},
   "source": [
    "### Ветвление программы. Сравнение через `if`"
   ]
  },
  {
   "cell_type": "markdown",
   "metadata": {},
   "source": [
    "Питон выполняет скрипт построчно, сверху вниз. Мы можем сказать питону, чтобы он выполнял некоторые блоки кода только тогда, когда выполняются некоторые условия. Для этого нужен оператор `if`."
   ]
  },
  {
   "cell_type": "code",
   "execution_count": 1,
   "metadata": {},
   "outputs": [
    {
     "name": "stdout",
     "output_type": "stream",
     "text": [
      "This is a long word.\n"
     ]
    }
   ],
   "source": [
    "hello = 'hello'\n",
    "\n",
    "if len(hello) > 3:\n",
    "    print('This is a long word.')"
   ]
  },
  {
   "cell_type": "markdown",
   "metadata": {},
   "source": [
    "`if` оперирует понятиями *истинности* и *ложности* (см. предыдущий ноутбук). Если выражение между ключевым словом `if` и двоеточием `:` вычисляется в *истину*, то блок кода внутри `if` выполняется. Если в *ложь*, то не выполняется."
   ]
  },
  {
   "cell_type": "markdown",
   "metadata": {},
   "source": [
    "#### Немного про отступы"
   ]
  },
  {
   "cell_type": "markdown",
   "metadata": {},
   "source": [
    "В традиционных языках, типа C и Java, код можно объединять в блоки с помощью фигурных скобок `{}`:\n",
    "\n",
    "```c\n",
    "if (a < b)\n",
    "{\n",
    "    printf(\"Hey! This is some C code for a change!\");\n",
    "    printf(\"And more C code!\");\n",
    "}\n",
    "```\n",
    "\n",
    "В этом примере в фигурные скобки заключён код, который запустится при выполнении условия в операторе `if`. В языках C и Java есть фигурные скобки `{}` и точки с запятой `;`, поэтому весь этот кусок кода можно спокойно записать в одну строку. Компилятор всё равно всё поймёт, так как нужный для `if` кусок кода окружён фигурными скобками.\n",
    "\n",
    "В Питоне решили избавиться от «ненужных» элементов — в том числе, и от фигурных скобок для выделения блоков кода. Однако нам нужно как-то сказать Питону, какие строки принадлежат какому блоку. Для этого мы используем отступы. \n",
    "\n",
    "> Обычно, один уровень отступа — это один символ табуляции или 4 пробела. Во всех современных IDE можно спокойно жать клавишу `Tab` — они заменяют один таб на несколько пробелов. Просто запомним, что один таб — это один уровень вложенности кода.\n",
    "\n",
    "Отступы используются для выделения строк кода в *блочных конструкциях*. Примеры таких конструкций:\n",
    "\n",
    "|Конструкция|Ключевые слова|\n",
    "|:---|:---|\n",
    "|Условия|`if`, `elif`, `else`|\n",
    "|Циклы|`for`, `while`|\n",
    "|Функции|`def`|\n",
    "|Обработчики ошибок|`try`, `except`, `finally`|\n",
    "|Классы|`class`|\n",
    "\n",
    "Все конструкции такого вида выглядят похоже: у них есть ключевое слово, некие дополнительные элементы и двоеточие `:` в конце строки. Это важно: двоеточие `:` в конце строки — самый верный признак того, что дальше должен идти блок кода с отступами. И обратно: если хочешь сделать вложенный блок кода, не забудь поставить двоеточие на предыдущей строке.\n",
    "\n",
    "Примеры блоков с отступами:"
   ]
  },
  {
   "cell_type": "markdown",
   "metadata": {},
   "source": [
    "##### Условия с `if`"
   ]
  },
  {
   "cell_type": "code",
   "execution_count": 1,
   "metadata": {},
   "outputs": [
    {
     "name": "stdout",
     "output_type": "stream",
     "text": [
      "5 is greater than 3.\n"
     ]
    }
   ],
   "source": [
    "if (5 > 3):\n",
    "    print('5 is greater than 3.')    "
   ]
  },
  {
   "cell_type": "markdown",
   "metadata": {},
   "source": [
    "##### Определение и вызов функции с `def`"
   ]
  },
  {
   "cell_type": "code",
   "execution_count": 2,
   "metadata": {},
   "outputs": [
    {
     "name": "stdout",
     "output_type": "stream",
     "text": [
      "This is some func!\n"
     ]
    }
   ],
   "source": [
    "def some_func():\n",
    "    print('This is some func!')\n",
    "    \n",
    "some_func()"
   ]
  },
  {
   "cell_type": "markdown",
   "metadata": {},
   "source": [
    "##### Обработка ошибок с `try` / `except`"
   ]
  },
  {
   "cell_type": "code",
   "execution_count": 3,
   "metadata": {},
   "outputs": [
    {
     "name": "stdout",
     "output_type": "stream",
     "text": [
      "Can't divide by zero!\n"
     ]
    }
   ],
   "source": [
    "try:\n",
    "    5 / 0\n",
    "except ZeroDivisionError:\n",
    "    print('Can\\'t divide by zero!' )"
   ]
  },
  {
   "cell_type": "markdown",
   "metadata": {},
   "source": [
    "##### Циклы с `for`"
   ]
  },
  {
   "cell_type": "code",
   "execution_count": 4,
   "metadata": {},
   "outputs": [
    {
     "name": "stdout",
     "output_type": "stream",
     "text": [
      "0\n",
      "1\n",
      "2\n"
     ]
    }
   ],
   "source": [
    "for i in range(0, 3):\n",
    "    print(i)"
   ]
  },
  {
   "cell_type": "markdown",
   "metadata": {},
   "source": [
    "##### Классы с `class`"
   ]
  },
  {
   "cell_type": "code",
   "execution_count": 6,
   "metadata": {},
   "outputs": [
    {
     "name": "stdout",
     "output_type": "stream",
     "text": [
      "Meow!\n"
     ]
    }
   ],
   "source": [
    "class Cat:\n",
    "    def make_sound(self):\n",
    "        print('Meow!')\n",
    "        \n",
    "some_cat = Cat()\n",
    "some_cat.make_sound()"
   ]
  },
  {
   "cell_type": "markdown",
   "metadata": {},
   "source": [
    "Это пока просто примеры, каждую из этих конструкций мы рассмотрим подробнее позже."
   ]
  },
  {
   "cell_type": "markdown",
   "metadata": {},
   "source": [
    "#### Вернёмся к `if`"
   ]
  },
  {
   "cell_type": "markdown",
   "metadata": {},
   "source": [
    "Рассмотрим более подробно, из чего состоит самый простой блок с `if`:"
   ]
  },
  {
   "cell_type": "markdown",
   "metadata": {},
   "source": [
    "![if_simple](img/if_simple.png)"
   ]
  },
  {
   "cell_type": "markdown",
   "metadata": {},
   "source": [
    "Посмотрим на похожий пример, чтобы понять, когда выполняется какой код:"
   ]
  },
  {
   "cell_type": "code",
   "execution_count": 7,
   "metadata": {},
   "outputs": [
    {
     "name": "stdout",
     "output_type": "stream",
     "text": [
      "Outside IF block\n"
     ]
    }
   ],
   "source": [
    "hello = 'hello'\n",
    "\n",
    "if hello == 'world':\n",
    "    print('Inside IF block')\n",
    "    \n",
    "print('Outside IF block')"
   ]
  },
  {
   "cell_type": "markdown",
   "metadata": {},
   "source": [
    "В этом примере мы специально сделали так, чтобы условие в `if` не выполнялось. Заметим, что вызов `print('Inside IF block')` не выполнился, так как он находится **внутри блока `if`**. Выражение между `if` и двоеточием `:` вернуло `False`, поэтому Питон не стал выполнять код внутри блока.\n",
    "\n",
    "Однако вызов `print('Outside IF block')` написан без отступа. По-другому можно сказать, что он находится на одном уровне с блоком `if`. Это значит, что вызов `print('Outside IF block')` будет выполняться независимо от условия `if`. В данном случае, этот вызов не окружён другими условиями, поэтому будет выполняться всегда."
   ]
  },
  {
   "cell_type": "markdown",
   "metadata": {},
   "source": [
    "### Ветка `else`"
   ]
  },
  {
   "cell_type": "markdown",
   "metadata": {},
   "source": [
    "Мы используем оператор `if`, когда хотим проверить какое-то условие, и выполнить некий код, если это условие *истинно*. Но что если мы хотим также обработать и случай, когда проверка вернёт `False`? Для этого в блоке `if` предусмотрена ветка `else`:"
   ]
  },
  {
   "cell_type": "code",
   "execution_count": 10,
   "metadata": {},
   "outputs": [
    {
     "name": "stdout",
     "output_type": "stream",
     "text": [
      "This is a short word.\n",
      "Outside IF block\n"
     ]
    }
   ],
   "source": [
    "hello = 'hi'\n",
    "\n",
    "if len(hello) > 3:\n",
    "    print('This is a long word.')\n",
    "else:\n",
    "    print('This is a short word.')\n",
    "    \n",
    "print('Outside IF block')"
   ]
  },
  {
   "cell_type": "markdown",
   "metadata": {},
   "source": [
    "Ветка `else` работает как любой другой блок: после ключевого слова сразу идёт двоеточие `:`, и со следующей строки мы должны написать блок кода с отступами.\n",
    "\n",
    "Конструкция `else` не может стоять отдельно, она всегда идёт только в связке с `if` (и некоторыми другими операторами, но об этом позже).\n",
    "\n",
    "Код внутри ветки `else` выполняется в том случае, если проверка в блоке `if` вернула *ложь*. В блоке `else` не может быть своего дополнительного условия.\n",
    "\n",
    "Также обратим внимание на вызов `print('Outside IF block')`, который находится за пределами веток `if` и `else`. Он тоже выполняется всегда, так как находится на одном уровне с ключевыми словами `if` и `else`."
   ]
  },
  {
   "cell_type": "markdown",
   "metadata": {},
   "source": [
    "### Проверка нескольких вариантов в одном `if`"
   ]
  },
  {
   "cell_type": "markdown",
   "metadata": {},
   "source": [
    "Что если у нас в коде должно быть не два кейса «выполнилось / не выполнилось», а несколько взаимоисключающих? Например, мы хотим присвоить категорию товару в зависимости от его веса. Для таких задач у нас есть ключевое слово `elif`, которое можно использовать сколько угодно раз в связке с `if`:"
   ]
  },
  {
   "cell_type": "code",
   "execution_count": 12,
   "metadata": {},
   "outputs": [
    {
     "name": "stdout",
     "output_type": "stream",
     "text": [
      "Heavy\n"
     ]
    }
   ],
   "source": [
    "weight = 95\n",
    "\n",
    "if weight < 5:\n",
    "    print('Extra light')\n",
    "elif weight < 10:\n",
    "    print('Light')\n",
    "elif weight < 50:\n",
    "    print('Medium')\n",
    "elif weight < 100:\n",
    "    print('Heavy')\n",
    "else:\n",
    "    print('Defies gravity itself')"
   ]
  },
  {
   "cell_type": "markdown",
   "metadata": {},
   "source": [
    "Конструкция `elif` — это, по сути, комбинация `else` и `if`. Эти ветки проверяются, если условие в основной ветке `if` вернуло *ложь*."
   ]
  },
  {
   "cell_type": "markdown",
   "metadata": {},
   "source": [
    "Рассмотрим «полную формулу» блока `if`.\n",
    "\n",
    "1. Обязательно есть основная ветка `if` с условием. Если оно *истинно*, Питон запустит блок кода внутри этой ветки, и не будет смотреть на другие ветки.\n",
    "2. Если условие в основной ветке `if` вернуло *ложь*, Питон ищет ветки `elif`. Если они есть, он проверяет условие в каждой из них по очереди. Если хотя бы в одной условие вернуло *истину*, выполняется блок кода внутри этой ветки. На другие ветки Питон уже не смотрит.\n",
    "3. Если условия во всех ветках `elif` вернули *ложь*, Питон ищет ветку `else`. Если она есть, выполняется блок кода внутри этой ветки. Если её нет, не выполняется ни один блок кода."
   ]
  },
  {
   "cell_type": "markdown",
   "metadata": {},
   "source": [
    "Таким образом, в каждом блоке `if` всегда выполнится **максимум одна** ветка кода."
   ]
  },
  {
   "cell_type": "markdown",
   "metadata": {},
   "source": [
    "### Проверка составных условий"
   ]
  },
  {
   "cell_type": "markdown",
   "metadata": {},
   "source": [
    "В ноутбуке про логические операторы мы уже видели, как можно совмещать несколько операторов:"
   ]
  },
  {
   "cell_type": "code",
   "execution_count": 13,
   "metadata": {},
   "outputs": [
    {
     "data": {
      "text/plain": [
       "True"
      ]
     },
     "execution_count": 13,
     "metadata": {},
     "output_type": "execute_result"
    }
   ],
   "source": [
    "(True or False) and (not False)"
   ]
  },
  {
   "cell_type": "markdown",
   "metadata": {},
   "source": [
    "Эти длинные выражения можно подставлять в качестве условия в блок `if`:"
   ]
  },
  {
   "cell_type": "code",
   "execution_count": 30,
   "metadata": {},
   "outputs": [
    {
     "name": "stdout",
     "output_type": "stream",
     "text": [
      "Welcome to Mars!\n"
     ]
    }
   ],
   "source": [
    "age = 19\n",
    "\n",
    "if age > 18 and age < 90:\n",
    "    print('Welcome to Mars!')\n",
    "else:\n",
    "    print('You are no fit for this shit!')"
   ]
  },
  {
   "cell_type": "markdown",
   "metadata": {},
   "source": [
    "В данном куске одно большое выражение `age > 18 and age < 90` распалось на несколько:\n",
    "\n",
    "`age > 18` — вернуло `True`\n",
    "\n",
    "`age < 90` — тоже вернуло `True`\n",
    "\n",
    "Два объекта `True` попали в оператор `and`, и он тоже вернул `True`."
   ]
  }
 ],
 "metadata": {
  "kernelspec": {
   "display_name": "Python 3",
   "language": "python",
   "name": "python3"
  },
  "language_info": {
   "codemirror_mode": {
    "name": "ipython",
    "version": 3
   },
   "file_extension": ".py",
   "mimetype": "text/x-python",
   "name": "python",
   "nbconvert_exporter": "python",
   "pygments_lexer": "ipython3",
   "version": "3.7.3"
  }
 },
 "nbformat": 4,
 "nbformat_minor": 4
}
