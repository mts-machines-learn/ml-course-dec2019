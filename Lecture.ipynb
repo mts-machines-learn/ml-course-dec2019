{
  "nbformat": 4,
  "nbformat_minor": 0,
  "metadata": {
    "colab": {
      "name": "Untitled0.ipynb",
      "provenance": [],
      "collapsed_sections": [
        "O5IzmFSupnpw",
        "r6qgbOAdTyqn",
        "Xj_UrzGxAr0j",
        "fFIP27E0EMiz",
        "IB4Bng8udPLm",
        "sLsKTOGJgIA6",
        "Dc8BHMK7HWF4",
        "dvZNBdMYO8He",
        "Fx-ceHY0NmtC",
        "TkeNoFU_O1sQ",
        "Fiu7O2mCX7IX",
        "AwG2vjM1Xc2O"
      ],
      "toc_visible": true,
      "include_colab_link": true
    },
    "kernelspec": {
      "name": "python3",
      "display_name": "Python 3"
    }
  },
  "cells": [
    {
      "cell_type": "markdown",
      "metadata": {
        "id": "view-in-github",
        "colab_type": "text"
      },
      "source": [
        "<a href=\"https://colab.research.google.com/github/mts-machines-learn/ml-course-dec2019/blob/master/Lecture.ipynb\" target=\"_parent\"><img src=\"https://colab.research.google.com/assets/colab-badge.svg\" alt=\"Open In Colab\"/></a>"
      ]
    },
    {
      "cell_type": "markdown",
      "metadata": {
        "id": "T4mcLDeEIatk",
        "colab_type": "text"
      },
      "source": [
        "# План лекции:\n",
        "Библиотека **Numpy**:\n",
        "\n",
        "    Векторы\n",
        "\n",
        "    Матрицы\n",
        "\n",
        "    Функции\n",
        "\n",
        "Библиотека **Matplotlib**:\n",
        "\n",
        "    Графики\n",
        "    \n",
        "    Гистограммы\n",
        "\n"
      ]
    },
    {
      "cell_type": "code",
      "metadata": {
        "id": "2j3QJZ81dqbe",
        "colab_type": "code",
        "colab": {}
      },
      "source": [
        "import numpy as np"
      ],
      "execution_count": 0,
      "outputs": []
    },
    {
      "cell_type": "markdown",
      "metadata": {
        "id": "MDVuh2pJdz3C",
        "colab_type": "text"
      },
      "source": [
        "#### Задача 0. Вычислить сумму первых $10^8$ целых чисел."
      ]
    },
    {
      "cell_type": "code",
      "metadata": {
        "id": "h14j3v2ydnqu",
        "colab_type": "code",
        "outputId": "9996439a-987c-481a-a9c7-f219ef5a3aed",
        "colab": {
          "base_uri": "https://localhost:8080/",
          "height": 70
        }
      },
      "source": [
        "%%time\n",
        "\n",
        "sum_value = 0\n",
        "for i in range(10 ** 8):\n",
        "    sum_value += i\n",
        "print(sum_value)"
      ],
      "execution_count": 0,
      "outputs": [
        {
          "output_type": "stream",
          "text": [
            "4999999950000000\n",
            "CPU times: user 9.38 s, sys: 0 ns, total: 9.38 s\n",
            "Wall time: 9.39 s\n"
          ],
          "name": "stdout"
        }
      ]
    },
    {
      "cell_type": "code",
      "metadata": {
        "id": "yZhSmTpgdr6Q",
        "colab_type": "code",
        "outputId": "91a8aecb-3da0-4a2a-e5f2-fa83fd77c0db",
        "colab": {
          "base_uri": "https://localhost:8080/",
          "height": 70
        }
      },
      "source": [
        "%%time\n",
        "\n",
        "sum_value = np.arange(10 ** 8).sum()\n",
        "print(sum_value)"
      ],
      "execution_count": 0,
      "outputs": [
        {
          "output_type": "stream",
          "text": [
            "4999999950000000\n",
            "CPU times: user 241 ms, sys: 211 µs, total: 241 ms\n",
            "Wall time: 242 ms\n"
          ],
          "name": "stdout"
        }
      ]
    },
    {
      "cell_type": "markdown",
      "metadata": {
        "id": "nLXVxiHfKmOK",
        "colab_type": "text"
      },
      "source": [
        "# Вектор\n",
        "Вектором называется направленный отрезок, для которого указано его начало и конец. Направление принято указывать стрелкой.\n",
        "\n",
        "Рассмотрим пример вектора на плоскости. Координаты данного вектора: $(2, 3)$\n",
        "\n",
        "![](https://raw.githubusercontent.com/mts-machines-learn/ml-course-dec2019/master/3.%20%D0%9E%D1%81%D0%BD%D0%BE%D0%B2%D0%BD%D1%8B%D0%B5%20%D0%B1%D0%B8%D0%B1%D0%BB%D0%B8%D0%BE%D1%82%D0%B5%D0%BA%D0%B8/images/vector1.png)\n",
        "\n",
        "\n",
        "Тот же самый вектор $(2,3)$, который отложен не от начала координат, а от точки $(2,1)$\n",
        "\n",
        "![](https://raw.githubusercontent.com/mts-machines-learn/ml-course-dec2019/master/3.%20%D0%9E%D1%81%D0%BD%D0%BE%D0%B2%D0%BD%D1%8B%D0%B5%20%D0%B1%D0%B8%D0%B1%D0%BB%D0%B8%D0%BE%D1%82%D0%B5%D0%BA%D0%B8/images/vector2.png)\n",
        "\n",
        "Аналогично выглядят векторы в трехмерном пространстве. Единичные векторы принято обозночать буквами $i, j, k$.\n",
        "\n",
        "![](https://raw.githubusercontent.com/mts-machines-learn/ml-course-dec2019/master/3.%20%D0%9E%D1%81%D0%BD%D0%BE%D0%B2%D0%BD%D1%8B%D0%B5%20%D0%B1%D0%B8%D0%B1%D0%BB%D0%B8%D0%BE%D1%82%D0%B5%D0%BA%D0%B8/images/vector3.png)\n",
        "\n",
        "\n",
        "В общем виде вектор размерности $n$ записывается как \n",
        "$\\bar{x} = \\begin{pmatrix}\n",
        "  x_1 \\\\\n",
        "  x_2 \\\\\n",
        "  \\vdots \\\\\n",
        "  x_n \\end{pmatrix}$\n",
        "\n",
        "\n"
      ]
    },
    {
      "cell_type": "markdown",
      "metadata": {
        "id": "O5IzmFSupnpw",
        "colab_type": "text"
      },
      "source": [
        "## Операции над векторами\n",
        "\n"
      ]
    },
    {
      "cell_type": "markdown",
      "metadata": {
        "id": "QxfIGx8CRgE0",
        "colab_type": "text"
      },
      "source": [
        "### Сложение, умножение вектора и скаляра\n",
        "\n",
        "$\\begin{pmatrix}\n",
        "  1 \\\\\n",
        "  2 \\\\\n",
        "  3 \\end{pmatrix} + 4  = \\begin{pmatrix}\n",
        "  1 + 4 \\\\\n",
        "  2 + 4\\\\\n",
        "  3 + 4 \\end{pmatrix} = \\begin{pmatrix}\n",
        "  5 \\\\\n",
        "  6 \\\\\n",
        "  7 \\end{pmatrix}$\n",
        "\n",
        "\n",
        "$\\begin{pmatrix}\n",
        "  1 \\\\\n",
        "  2 \\\\\n",
        "  3 \\end{pmatrix} \\times 4  = \\begin{pmatrix}\n",
        "  1 \\times 4 \\\\\n",
        "  2 \\times 4\\\\\n",
        "  3 \\times 4 \\end{pmatrix} = \\begin{pmatrix}\n",
        "  4 \\\\\n",
        "  8 \\\\\n",
        "  12 \\end{pmatrix}$\n",
        "\n",
        "  Вычитание, умножение и деление производятся также поэлементно.\n",
        "\n"
      ]
    },
    {
      "cell_type": "markdown",
      "metadata": {
        "id": "NhfsJrtURk7U",
        "colab_type": "text"
      },
      "source": [
        "### Сложение вектора и вектора\n",
        "\n",
        "Векторы складываются по правилу \"параллелограмма\"\n",
        "\n",
        "![](https://raw.githubusercontent.com/mts-machines-learn/ml-course-dec2019/master/3.%20%D0%9E%D1%81%D0%BD%D0%BE%D0%B2%D0%BD%D1%8B%D0%B5%20%D0%B1%D0%B8%D0%B1%D0%BB%D0%B8%D0%BE%D1%82%D0%B5%D0%BA%D0%B8/images/vector4.png)\n",
        "\n",
        "\n",
        "$\\begin{pmatrix}\n",
        "  2 \\\\\n",
        "  1 \\end{pmatrix} + \n",
        "  \\begin{pmatrix}\n",
        "  1 \\\\\n",
        "  3 \\end{pmatrix} = \\begin{pmatrix}\n",
        "  3 \\\\\n",
        "  4 \\end{pmatrix}$\n"
      ]
    },
    {
      "cell_type": "markdown",
      "metadata": {
        "id": "Od3d0mCsRokW",
        "colab_type": "text"
      },
      "source": [
        "### Скалярное умножение двух векторов\n",
        "\n",
        "$\\bar{v} = \\begin{pmatrix}\n",
        "  1 \\\\\n",
        "  2 \\\\\n",
        "  3 \\end{pmatrix}$\n",
        "\n",
        "$\\bar{u} =  \n",
        "  \\begin{pmatrix}\n",
        "  3 \\\\\n",
        "  2 \\\\\n",
        "  1 \\end{pmatrix}$ \n",
        "  \n",
        "$(v, u) = v_1 \\times u_1 + v_2 \\times u_2 + v_3 \\times u_3 = 1 \\times 3 + 2 \\times 2 + 3 \\times 1 = 10$\n",
        "\n",
        "  Получили скаляр, а не вектор!\n"
      ]
    },
    {
      "cell_type": "markdown",
      "metadata": {
        "id": "ZCt6JKzwRtNh",
        "colab_type": "text"
      },
      "source": [
        "### Длина вектора\n",
        "\n",
        "Как найти длину вектора по графику?\n",
        "\n",
        "![](https://raw.githubusercontent.com/mts-machines-learn/ml-course-dec2019/master/3.%20%D0%9E%D1%81%D0%BD%D0%BE%D0%B2%D0%BD%D1%8B%D0%B5%20%D0%B1%D0%B8%D0%B1%D0%BB%D0%B8%D0%BE%D1%82%D0%B5%D0%BA%D0%B8/images/vector1.png)\n",
        "\n",
        "$\\bar{v} = \\begin{pmatrix}\n",
        "2 \\\\\n",
        "3 \\end{pmatrix}$\n",
        "\n",
        "\n",
        "$ \\left\\lVert \\bar{v} \\right\\rVert  = \\sqrt{(\\bar{v}, \\bar{v})} = \\sqrt{2^2 + 3^2} = \\sqrt{13}$\n",
        "\n",
        "В общем виде:\n",
        "\n",
        "$ \\left\\lVert \\bar{x} \\right\\rVert  = \\sqrt{(\\bar{x}, \\bar{x})} = \\sqrt{x_1^2 + x_2^2 + ... + x_n^2} = \\sqrt{\\sum_{i=1}^{n}{x_i^2}}$"
      ]
    },
    {
      "cell_type": "markdown",
      "metadata": {
        "id": "FmHa22APU65U",
        "colab_type": "text"
      },
      "source": [
        "## Практическая часть:"
      ]
    },
    {
      "cell_type": "markdown",
      "metadata": {
        "id": "T2WYhRwqTXwH",
        "colab_type": "text"
      },
      "source": [
        "#### Инициализация векторов, операции с векторами"
      ]
    },
    {
      "cell_type": "code",
      "metadata": {
        "id": "ro6Jq5FlolHW",
        "colab_type": "code",
        "colab": {}
      },
      "source": [
        "a = np.array([1,3,5])\n",
        "b = np.array([2,4,6])"
      ],
      "execution_count": 0,
      "outputs": []
    },
    {
      "cell_type": "code",
      "metadata": {
        "id": "7VL5c_3OEqCW",
        "colab_type": "code",
        "outputId": "b086ccec-1350-455e-8d17-963c1c9f0ac1",
        "colab": {
          "base_uri": "https://localhost:8080/",
          "height": 52
        }
      },
      "source": [
        "print(len(a))\n",
        "print(len(b))"
      ],
      "execution_count": 0,
      "outputs": [
        {
          "output_type": "stream",
          "text": [
            "3\n",
            "3\n"
          ],
          "name": "stdout"
        }
      ]
    },
    {
      "cell_type": "code",
      "metadata": {
        "id": "F9sy-KaeolFX",
        "colab_type": "code",
        "outputId": "799ef1da-242f-4ebd-b0b5-62fb186327e2",
        "colab": {
          "base_uri": "https://localhost:8080/",
          "height": 34
        }
      },
      "source": [
        "a + b"
      ],
      "execution_count": 0,
      "outputs": [
        {
          "output_type": "execute_result",
          "data": {
            "text/plain": [
              "array([ 3,  7, 11])"
            ]
          },
          "metadata": {
            "tags": []
          },
          "execution_count": 44
        }
      ]
    },
    {
      "cell_type": "code",
      "metadata": {
        "id": "80oMpZ7Q_UOr",
        "colab_type": "code",
        "outputId": "0d5ec867-9ae7-4aff-d828-6eddfc44619d",
        "colab": {
          "base_uri": "https://localhost:8080/",
          "height": 34
        }
      },
      "source": [
        "a @ b # 1*2 + 3*4 + 5*6 = 2 + 12 + 30 = 44"
      ],
      "execution_count": 0,
      "outputs": [
        {
          "output_type": "execute_result",
          "data": {
            "text/plain": [
              "44"
            ]
          },
          "metadata": {
            "tags": []
          },
          "execution_count": 45
        }
      ]
    },
    {
      "cell_type": "code",
      "metadata": {
        "id": "fnJwcKioolBN",
        "colab_type": "code",
        "outputId": "1159d77b-3dda-4b84-fd6d-926c42169984",
        "colab": {
          "base_uri": "https://localhost:8080/",
          "height": 34
        }
      },
      "source": [
        "a * b"
      ],
      "execution_count": 0,
      "outputs": [
        {
          "output_type": "execute_result",
          "data": {
            "text/plain": [
              "array([ 2, 12, 30])"
            ]
          },
          "metadata": {
            "tags": []
          },
          "execution_count": 46
        }
      ]
    },
    {
      "cell_type": "code",
      "metadata": {
        "id": "k_AEMPIt_w60",
        "colab_type": "code",
        "outputId": "c52b3002-9d72-4019-f07d-fc5cf40d8519",
        "colab": {
          "base_uri": "https://localhost:8080/",
          "height": 34
        }
      },
      "source": [
        "a + 2"
      ],
      "execution_count": 0,
      "outputs": [
        {
          "output_type": "execute_result",
          "data": {
            "text/plain": [
              "array([3, 5, 7])"
            ]
          },
          "metadata": {
            "tags": []
          },
          "execution_count": 47
        }
      ]
    },
    {
      "cell_type": "markdown",
      "metadata": {
        "id": "r6qgbOAdTyqn",
        "colab_type": "text"
      },
      "source": [
        "#### Индексация"
      ]
    },
    {
      "cell_type": "code",
      "metadata": {
        "id": "QRG9TKA4_g5M",
        "colab_type": "code",
        "colab": {}
      },
      "source": [
        "a = np.array([1,3,5])"
      ],
      "execution_count": 0,
      "outputs": []
    },
    {
      "cell_type": "code",
      "metadata": {
        "id": "yRBb5dN8_YHc",
        "colab_type": "code",
        "outputId": "ab993901-f28d-4e51-9407-4c84b07983ec",
        "colab": {
          "base_uri": "https://localhost:8080/",
          "height": 34
        }
      },
      "source": [
        "print(a[2])\n",
        "a[2] = 7"
      ],
      "execution_count": 0,
      "outputs": [
        {
          "output_type": "stream",
          "text": [
            "5\n"
          ],
          "name": "stdout"
        }
      ]
    },
    {
      "cell_type": "code",
      "metadata": {
        "id": "CXrOuEEZ_dbt",
        "colab_type": "code",
        "outputId": "b68404b0-8429-470b-88f6-18cbee4b92a7",
        "colab": {
          "base_uri": "https://localhost:8080/",
          "height": 34
        }
      },
      "source": [
        "print(a)"
      ],
      "execution_count": 0,
      "outputs": [
        {
          "output_type": "stream",
          "text": [
            "[1 3 7]\n"
          ],
          "name": "stdout"
        }
      ]
    },
    {
      "cell_type": "code",
      "metadata": {
        "id": "2XxnvGogADda",
        "colab_type": "code",
        "outputId": "06037132-5616-47b5-bb49-75f5ac8f8020",
        "colab": {
          "base_uri": "https://localhost:8080/",
          "height": 70
        }
      },
      "source": [
        "range_50 = np.arange(50)\n",
        "print(range_50)"
      ],
      "execution_count": 0,
      "outputs": [
        {
          "output_type": "stream",
          "text": [
            "[ 0  1  2  3  4  5  6  7  8  9 10 11 12 13 14 15 16 17 18 19 20 21 22 23\n",
            " 24 25 26 27 28 29 30 31 32 33 34 35 36 37 38 39 40 41 42 43 44 45 46 47\n",
            " 48 49]\n"
          ],
          "name": "stdout"
        }
      ]
    },
    {
      "cell_type": "code",
      "metadata": {
        "id": "BjYzElMiAGBX",
        "colab_type": "code",
        "outputId": "a11c2c8d-23c8-4f48-b4e3-6f9629855200",
        "colab": {
          "base_uri": "https://localhost:8080/",
          "height": 34
        }
      },
      "source": [
        "np.arange(1,10, 2)"
      ],
      "execution_count": 0,
      "outputs": [
        {
          "output_type": "execute_result",
          "data": {
            "text/plain": [
              "array([1, 3, 5, 7, 9])"
            ]
          },
          "metadata": {
            "tags": []
          },
          "execution_count": 52
        }
      ]
    },
    {
      "cell_type": "code",
      "metadata": {
        "id": "NWlpbVrDALcc",
        "colab_type": "code",
        "outputId": "ba2cbd23-2bd9-43a2-9350-6aa4ed2682b8",
        "colab": {
          "base_uri": "https://localhost:8080/",
          "height": 34
        }
      },
      "source": [
        "range_50[6]"
      ],
      "execution_count": 0,
      "outputs": [
        {
          "output_type": "execute_result",
          "data": {
            "text/plain": [
              "6"
            ]
          },
          "metadata": {
            "tags": []
          },
          "execution_count": 53
        }
      ]
    },
    {
      "cell_type": "code",
      "metadata": {
        "id": "7ZWltBu1AWlH",
        "colab_type": "code",
        "outputId": "419891b8-89bd-4178-8ff4-5cac4dceacc7",
        "colab": {
          "base_uri": "https://localhost:8080/",
          "height": 34
        }
      },
      "source": [
        "range_50[6:14]"
      ],
      "execution_count": 0,
      "outputs": [
        {
          "output_type": "execute_result",
          "data": {
            "text/plain": [
              "array([ 6,  7,  8,  9, 10, 11, 12, 13])"
            ]
          },
          "metadata": {
            "tags": []
          },
          "execution_count": 54
        }
      ]
    },
    {
      "cell_type": "code",
      "metadata": {
        "id": "0uOTVeCcAT3b",
        "colab_type": "code",
        "outputId": "779691db-90ba-492c-b3e2-4bd9d6e8e621",
        "colab": {
          "base_uri": "https://localhost:8080/",
          "height": 34
        }
      },
      "source": [
        "range_50[[6,8,10, 12]]"
      ],
      "execution_count": 0,
      "outputs": [
        {
          "output_type": "execute_result",
          "data": {
            "text/plain": [
              "array([ 6,  8, 10, 12])"
            ]
          },
          "metadata": {
            "tags": []
          },
          "execution_count": 55
        }
      ]
    },
    {
      "cell_type": "code",
      "metadata": {
        "id": "RYGdAEBvAZmf",
        "colab_type": "code",
        "outputId": "c9b2a64e-ed45-4634-ea0c-7eb7d0b993b7",
        "colab": {
          "base_uri": "https://localhost:8080/",
          "height": 34
        }
      },
      "source": [
        "range_50[6:14:2]"
      ],
      "execution_count": 0,
      "outputs": [
        {
          "output_type": "execute_result",
          "data": {
            "text/plain": [
              "array([ 6,  8, 10, 12])"
            ]
          },
          "metadata": {
            "tags": []
          },
          "execution_count": 56
        }
      ]
    },
    {
      "cell_type": "code",
      "metadata": {
        "id": "sB_gZ7hdAkDY",
        "colab_type": "code",
        "outputId": "0eaaffbf-1709-44c3-8250-ac6009c67040",
        "colab": {
          "base_uri": "https://localhost:8080/",
          "height": 70
        }
      },
      "source": [
        "range_50[::]"
      ],
      "execution_count": 0,
      "outputs": [
        {
          "output_type": "execute_result",
          "data": {
            "text/plain": [
              "array([ 0,  1,  2,  3,  4,  5,  6,  7,  8,  9, 10, 11, 12, 13, 14, 15, 16,\n",
              "       17, 18, 19, 20, 21, 22, 23, 24, 25, 26, 27, 28, 29, 30, 31, 32, 33,\n",
              "       34, 35, 36, 37, 38, 39, 40, 41, 42, 43, 44, 45, 46, 47, 48, 49])"
            ]
          },
          "metadata": {
            "tags": []
          },
          "execution_count": 57
        }
      ]
    },
    {
      "cell_type": "code",
      "metadata": {
        "id": "d9TKK17xAn-_",
        "colab_type": "code",
        "outputId": "84c27fe1-acf8-4d9c-d3b0-5748382f1c85",
        "colab": {
          "base_uri": "https://localhost:8080/",
          "height": 70
        }
      },
      "source": [
        "range_50[::-1]"
      ],
      "execution_count": 0,
      "outputs": [
        {
          "output_type": "execute_result",
          "data": {
            "text/plain": [
              "array([49, 48, 47, 46, 45, 44, 43, 42, 41, 40, 39, 38, 37, 36, 35, 34, 33,\n",
              "       32, 31, 30, 29, 28, 27, 26, 25, 24, 23, 22, 21, 20, 19, 18, 17, 16,\n",
              "       15, 14, 13, 12, 11, 10,  9,  8,  7,  6,  5,  4,  3,  2,  1,  0])"
            ]
          },
          "metadata": {
            "tags": []
          },
          "execution_count": 58
        }
      ]
    },
    {
      "cell_type": "markdown",
      "metadata": {
        "id": "Xj_UrzGxAr0j",
        "colab_type": "text"
      },
      "source": [
        "### Задача 1. Создать вектор длины n из чисел вида 0, 3, 6, 9, ..."
      ]
    },
    {
      "cell_type": "code",
      "metadata": {
        "id": "plYf9OqgArkU",
        "colab_type": "code",
        "colab": {}
      },
      "source": [
        "n = 100\n",
        "range_3k = np.arange(0,n,3) "
      ],
      "execution_count": 0,
      "outputs": []
    },
    {
      "cell_type": "code",
      "metadata": {
        "id": "QiYdBGQHBFiK",
        "colab_type": "code",
        "outputId": "581479ca-dfc8-4b03-e289-a9c2a0df6fba",
        "colab": {
          "base_uri": "https://localhost:8080/",
          "height": 52
        }
      },
      "source": [
        "range_3k"
      ],
      "execution_count": 0,
      "outputs": [
        {
          "output_type": "execute_result",
          "data": {
            "text/plain": [
              "array([ 0,  3,  6,  9, 12, 15, 18, 21, 24, 27, 30, 33, 36, 39, 42, 45, 48,\n",
              "       51, 54, 57, 60, 63, 66, 69, 72, 75, 78, 81, 84, 87, 90, 93, 96, 99])"
            ]
          },
          "metadata": {
            "tags": []
          },
          "execution_count": 60
        }
      ]
    },
    {
      "cell_type": "markdown",
      "metadata": {
        "id": "fFIP27E0EMiz",
        "colab_type": "text"
      },
      "source": [
        "### Задача 2. Заменить в массиве случайные k элементов на 0.\n"
      ]
    },
    {
      "cell_type": "code",
      "metadata": {
        "id": "Qf4IeztTBQFJ",
        "colab_type": "code",
        "colab": {}
      },
      "source": [
        "def random_zeros(array, k):\n",
        "  random_ind = np.random.randint(len(array), size=k)\n",
        "  array[random_ind] = 0\n",
        "  return array"
      ],
      "execution_count": 0,
      "outputs": []
    },
    {
      "cell_type": "code",
      "metadata": {
        "id": "Hf63kVW4E4GV",
        "colab_type": "code",
        "outputId": "e3ae37e8-dba1-4ca8-d9bb-0ba0c63c06f8",
        "colab": {
          "base_uri": "https://localhost:8080/",
          "height": 34
        }
      },
      "source": [
        "random_zeros(np.array([1,2,3,4,5,6,7,8,9,10]), 5)"
      ],
      "execution_count": 0,
      "outputs": [
        {
          "output_type": "execute_result",
          "data": {
            "text/plain": [
              "array([ 0,  2,  3,  4,  0,  0,  0,  8,  0, 10])"
            ]
          },
          "metadata": {
            "tags": []
          },
          "execution_count": 62
        }
      ]
    },
    {
      "cell_type": "markdown",
      "metadata": {
        "id": "IB4Bng8udPLm",
        "colab_type": "text"
      },
      "source": [
        "### Функции агрегирования для вектора"
      ]
    },
    {
      "cell_type": "code",
      "metadata": {
        "id": "KRN9vtmrdVxA",
        "colab_type": "code",
        "colab": {}
      },
      "source": [
        "inflation = np.array([8.02, 9.56, 4.16, 7.07, 6.05, 14.97, 9.77, 5.02, 2.21, 5.00])"
      ],
      "execution_count": 0,
      "outputs": []
    },
    {
      "cell_type": "code",
      "metadata": {
        "id": "YgkiATvFfYHD",
        "colab_type": "code",
        "outputId": "2ed9afda-d321-42c8-e50a-f9887147cc84",
        "colab": {
          "base_uri": "https://localhost:8080/",
          "height": 34
        }
      },
      "source": [
        "inflation.max()"
      ],
      "execution_count": 0,
      "outputs": [
        {
          "output_type": "execute_result",
          "data": {
            "text/plain": [
              "14.97"
            ]
          },
          "metadata": {
            "tags": []
          },
          "execution_count": 64
        }
      ]
    },
    {
      "cell_type": "code",
      "metadata": {
        "id": "Mf5fY7BZfal_",
        "colab_type": "code",
        "outputId": "d0c5375e-2f68-4767-cb6d-c74215e8e759",
        "colab": {
          "base_uri": "https://localhost:8080/",
          "height": 34
        }
      },
      "source": [
        "inflation.min()"
      ],
      "execution_count": 0,
      "outputs": [
        {
          "output_type": "execute_result",
          "data": {
            "text/plain": [
              "2.21"
            ]
          },
          "metadata": {
            "tags": []
          },
          "execution_count": 65
        }
      ]
    },
    {
      "cell_type": "code",
      "metadata": {
        "id": "XPF-iSLWfcwp",
        "colab_type": "code",
        "outputId": "d1bad7cc-c3fe-49c4-c580-9bd1135ec60d",
        "colab": {
          "base_uri": "https://localhost:8080/",
          "height": 34
        }
      },
      "source": [
        "inflation.mean()"
      ],
      "execution_count": 0,
      "outputs": [
        {
          "output_type": "execute_result",
          "data": {
            "text/plain": [
              "7.183"
            ]
          },
          "metadata": {
            "tags": []
          },
          "execution_count": 66
        }
      ]
    },
    {
      "cell_type": "code",
      "metadata": {
        "id": "PYSyobIifnYd",
        "colab_type": "code",
        "colab": {}
      },
      "source": [
        "marks = np.array([3,3,4,5,5,4,2,4,4,4,4,5])"
      ],
      "execution_count": 0,
      "outputs": []
    },
    {
      "cell_type": "code",
      "metadata": {
        "id": "yN69T3lGfrYJ",
        "colab_type": "code",
        "outputId": "dd4e1509-ae7a-4ca0-c655-75d8d0a352cb",
        "colab": {
          "base_uri": "https://localhost:8080/",
          "height": 34
        }
      },
      "source": [
        "marks.mean()"
      ],
      "execution_count": 0,
      "outputs": [
        {
          "output_type": "execute_result",
          "data": {
            "text/plain": [
              "3.9166666666666665"
            ]
          },
          "metadata": {
            "tags": []
          },
          "execution_count": 68
        }
      ]
    },
    {
      "cell_type": "code",
      "metadata": {
        "id": "2nrA7KhZftgY",
        "colab_type": "code",
        "outputId": "94d89b62-967c-4946-928a-f4288afa643b",
        "colab": {
          "base_uri": "https://localhost:8080/",
          "height": 34
        }
      },
      "source": [
        "marks.sum()"
      ],
      "execution_count": 0,
      "outputs": [
        {
          "output_type": "execute_result",
          "data": {
            "text/plain": [
              "47"
            ]
          },
          "metadata": {
            "tags": []
          },
          "execution_count": 69
        }
      ]
    },
    {
      "cell_type": "markdown",
      "metadata": {
        "id": "sLsKTOGJgIA6",
        "colab_type": "text"
      },
      "source": [
        "### Задача 3. Посчитать сумму первых k элементов вектора"
      ]
    },
    {
      "cell_type": "code",
      "metadata": {
        "id": "6B5ZMr3ff_w0",
        "colab_type": "code",
        "colab": {}
      },
      "source": [
        "def first_k_sum(array, k):\n",
        "  return array[:k].sum()"
      ],
      "execution_count": 0,
      "outputs": []
    },
    {
      "cell_type": "code",
      "metadata": {
        "id": "aqd58ikUgW2o",
        "colab_type": "code",
        "outputId": "63f93f1d-9dca-476e-cac1-687a4ac68690",
        "colab": {
          "base_uri": "https://localhost:8080/",
          "height": 34
        }
      },
      "source": [
        "first_k_sum(np.array([1,1,1,1,1,1,1,1,1,1]), 7)"
      ],
      "execution_count": 0,
      "outputs": [
        {
          "output_type": "execute_result",
          "data": {
            "text/plain": [
              "7"
            ]
          },
          "metadata": {
            "tags": []
          },
          "execution_count": 71
        }
      ]
    },
    {
      "cell_type": "markdown",
      "metadata": {
        "id": "LhOANgzsKmTs",
        "colab_type": "text"
      },
      "source": [
        "# Матрица\n",
        "\n",
        "Матрица - обычно это набор чисел, упорядоченных по строкам и столбцам.\n",
        "\n",
        "Примеры:\n",
        "\n",
        "$A_{3,3} =\n",
        " \\begin{pmatrix}\n",
        "  1 & 2 & 3 \\\\\n",
        "  4 & 5 & 6 \\\\\n",
        "  7 & 8 & 9  \\\\\n",
        "  \\end{pmatrix}$ , \n",
        "\n",
        "$A_{2,3} =\n",
        " \\begin{pmatrix}\n",
        "  1 & 2 & 3 \\\\\n",
        "  4 & 5 & 6 \\\\\n",
        "  \\end{pmatrix}$, \n",
        "\n",
        "$A_{3,2} =\n",
        " \\begin{pmatrix}\n",
        "  1 & 2 \\\\\n",
        "  4 & 5 \\\\\n",
        "  7 & 8  \\\\\n",
        "  \\end{pmatrix}$ , \n",
        "\n",
        "Общий вид: \n",
        "\n",
        "$A_{m,n} =\n",
        " \\begin{pmatrix}\n",
        "  a_{1,1} & a_{1,2} & \\cdots & a_{1,n} \\\\\n",
        "  a_{2,1} & a_{2,2} & \\cdots & a_{2,n} \\\\\n",
        "  \\vdots  & \\vdots  & \\ddots & \\vdots  \\\\\n",
        "  a_{m,1} & a_{m,2} & \\cdots & a_{m,n}\n",
        " \\end{pmatrix}$\n",
        "\n",
        " $m$ - количество строк матрицы\n",
        "\n",
        " $n$ - количество столбцов матрицы\n",
        "\n",
        " $a_{i,j}$ - элемент, стоящий на пересечении $i$-той строки и $j$-го столбца\n",
        "\n"
      ]
    },
    {
      "cell_type": "markdown",
      "metadata": {
        "id": "Dc8BHMK7HWF4",
        "colab_type": "text"
      },
      "source": [
        "## Операции над матрицами\n",
        "\n",
        "\n"
      ]
    },
    {
      "cell_type": "markdown",
      "metadata": {
        "id": "2Q2cF1gvR5Je",
        "colab_type": "text"
      },
      "source": [
        "### Сложение, умножение матрицы и скаляра:\n",
        "\n",
        "$\\begin{pmatrix}\n",
        "  1 & 2 & 3 \\\\\n",
        "  4 & 5 & 6 \\\\\n",
        "  7 & 8 & 9  \\\\\n",
        "  \\end{pmatrix} + 2 = \\begin{pmatrix}\n",
        "  1+2 & 2+2 & 3+2 \\\\\n",
        "  4+2 & 5+2 & 6+2 \\\\\n",
        "  7+2 & 8+2 & 9+2  \\\\\n",
        "  \\end{pmatrix} =\n",
        "  \\begin{pmatrix}\n",
        "  3 & 4 & 5 \\\\\n",
        "  6 & 7 & 8 \\\\\n",
        "  9 & 10 & 11  \\\\\n",
        "  \\end{pmatrix}$\n",
        "\n",
        "\n",
        "$\\begin{pmatrix}\n",
        "  1 & 2 & 3 \\\\\n",
        "  4 & 5 & 6 \\\\\n",
        "  7 & 8 & 9  \\\\\n",
        "  \\end{pmatrix} \\times 2 = \\begin{pmatrix}\n",
        "  1\\times2 & 2\\times2 & 3\\times2 \\\\\n",
        "  4\\times2 & 5\\times2 & 6\\times2 \\\\\n",
        "  7\\times2 & 8\\times2 & 9\\times2  \\\\\n",
        "  \\end{pmatrix} = \\begin{pmatrix}\n",
        "  2 & 4 & 6 \\\\\n",
        "  8 & 10 & 12 \\\\\n",
        "  14 & 16 & 18  \\\\\n",
        "  \\end{pmatrix}$\n",
        "\n",
        "\n"
      ]
    },
    {
      "cell_type": "markdown",
      "metadata": {
        "id": "ikgwcan-SM5X",
        "colab_type": "text"
      },
      "source": [
        "### Cложение матриц \n",
        "\n",
        "(складываем матрицы с одинаковыми размерами)\n",
        "\n",
        "$\\begin{pmatrix}\n",
        "  1 & 2 & 3 \\\\\n",
        "  4 & 5 & 6 \\\\\n",
        "  7 & 8 & 9  \\\\\n",
        "  \\end{pmatrix} +  \\begin{pmatrix}\n",
        "  3 & 3 & 3 \\\\\n",
        "  1 & 1 & 1 \\\\\n",
        "  2 & 2 & 2  \\\\\n",
        "  \\end{pmatrix} = \\begin{pmatrix}\n",
        "  1+3 & 2+3 & 3+3 \\\\\n",
        "  4+1 & 5+1 & 6+1 \\\\\n",
        "  7+2 & 8+2 & 9+2  \\\\\n",
        "  \\end{pmatrix} = \\begin{pmatrix}\n",
        "  4 & 5 & 6 \\\\\n",
        "  5 & 6 & 7 \\\\\n",
        "  9 & 10 & 11 \\\\\n",
        "  \\end{pmatrix}$"
      ]
    },
    {
      "cell_type": "markdown",
      "metadata": {
        "id": "ZH1nU5KBR9p1",
        "colab_type": "text"
      },
      "source": [
        " ### Умножение матрицы на вектор\n",
        "\n",
        "<img src=https://raw.githubusercontent.com/mts-machines-learn/ml-course-dec2019/master/3.%20%D0%9E%D1%81%D0%BD%D0%BE%D0%B2%D0%BD%D1%8B%D0%B5%20%D0%B1%D0%B8%D0%B1%D0%BB%D0%B8%D0%BE%D1%82%D0%B5%D0%BA%D0%B8/images/matrix_mul_1.PNG width=\"600\">\n",
        "<!-- \n",
        "\n",
        "$\\begin{pmatrix}\n",
        "  1 & 2 & 3 \\\\\n",
        "  4 & 5 & 6 \\\\\n",
        "  7 & 8 & 9  \\\\\n",
        "  \\end{pmatrix} \\times \\begin{pmatrix}\n",
        "  1  \\\\\n",
        "  2 \\\\\n",
        "  3 \\\\\n",
        "  \\end{pmatrix} = \\begin{pmatrix}\n",
        "  1\\times1+2\\times2+3\\times3 \\\\\n",
        "  4\\times1+5\\times2+6\\times3 \\\\\n",
        "  7\\times1+8\\times2+9\\times3\n",
        "  \\end{pmatrix} = \\begin{pmatrix}\n",
        "  14 \\\\\n",
        "  32 \\\\\n",
        "  50\n",
        "  \\end{pmatrix}$ -->\n",
        "\n",
        " \n"
      ]
    },
    {
      "cell_type": "markdown",
      "metadata": {
        "id": "AuLPqIbHSHiG",
        "colab_type": "text"
      },
      "source": [
        " ### Умножение матрицы на матрицу\n",
        "\n",
        "<img src=https://raw.githubusercontent.com/mts-machines-learn/ml-course-dec2019/master/3.%20%D0%9E%D1%81%D0%BD%D0%BE%D0%B2%D0%BD%D1%8B%D0%B5%20%D0%B1%D0%B8%D0%B1%D0%BB%D0%B8%D0%BE%D1%82%D0%B5%D0%BA%D0%B8/images/matrix_mul_2.PNG width=\"1000\">\n",
        "\n",
        " <!-- $\\begin{pmatrix}\n",
        "  1 & 2 & 3 \\\\\n",
        "  4 & 5 & 6 \\\\\n",
        "  7 & 8 & 9  \\\\\n",
        "  \\end{pmatrix} \\times \\begin{pmatrix}\n",
        "  1 & 2\\\\\n",
        "  2 & 0\\\\\n",
        "  3 & 1\\\\\n",
        "  \\end{pmatrix} = \\begin{pmatrix}\n",
        "  1\\times1+2\\times2+3\\times3 & 1\\times2 + 2\\times0 + 3\\times1 \\\\\n",
        "  4\\times1+5\\times2+6\\times3 & 4\\times2 + 5\\times0 + 6\\times1 \\\\\n",
        "  7\\times1+8\\times2+9\\times3 & 7\\times2 + 8\\times0 + 9\\times1 \\\\\n",
        "  \\end{pmatrix} = \\begin{pmatrix}\n",
        "  14 & 5 \\\\\n",
        "  32 & 14 \\\\\n",
        "  50 & 23 \\\\\n",
        "  \\end{pmatrix}$ -->\n",
        "\n",
        "Как изменяются размерности матриц?\n",
        "\n",
        "$A_{n,k} \\times B_{k,m} = C_{n,m}$ (количество столбцов в первой матрице равно количеству строк во второй матрице)\n",
        "\n",
        "Тогда элементы матрицы произведения определяются как:\n",
        "\n",
        "$C_{i,j} = \\sum_k{A_{i,k}B_{k,j}}$\n"
      ]
    },
    {
      "cell_type": "markdown",
      "metadata": {
        "id": "sDM7tfO8SCok",
        "colab_type": "text"
      },
      "source": [
        "### Транспонирование матрицы\n",
        "\n",
        "$A = \\begin{pmatrix}\n",
        "  1 & 2 & 3 \\\\\n",
        "  4 & 5 & 6 \\\\\n",
        "  7 & 8 & 9  \\\\\n",
        "  \\end{pmatrix} \n",
        "   A^T = \\begin{pmatrix}\n",
        "  1 & 4 & 7 \\\\\n",
        "  2 & 5 & 8 \\\\\n",
        "  3 & 6 & 9  \\\\\n",
        "  \\end{pmatrix}$\n",
        "\n",
        "\n",
        "  $B = \\begin{pmatrix}\n",
        "  1 & 2 \\\\\n",
        "  4 & 5 \\\\\n",
        "  7 & 8 \\\\\n",
        "  \\end{pmatrix} B^T = \\begin{pmatrix}\n",
        "  1 & 4 & 7 \\\\\n",
        "  2 & 5 & 8 \\\\\n",
        "  \\end{pmatrix}$\n",
        "\n",
        "Для элементов матриц $B$ и $B^T$ выполнено следующее: \n",
        "$B_{i,j} = B^T_{j.i}$\n",
        "\n",
        "  Если размерность матрицы $B = (m,n)$, то рамерность матрицы $B^T = (n,m)$"
      ]
    },
    {
      "cell_type": "markdown",
      "metadata": {
        "id": "uKmAgzBp6Klo",
        "colab_type": "text"
      },
      "source": [
        "## Практическая часть"
      ]
    },
    {
      "cell_type": "markdown",
      "metadata": {
        "id": "dvZNBdMYO8He",
        "colab_type": "text"
      },
      "source": [
        "##### Инициализация матриц, операции с матрицами"
      ]
    },
    {
      "cell_type": "code",
      "metadata": {
        "id": "OmC4WDZN7_nm",
        "colab_type": "code",
        "colab": {}
      },
      "source": [
        "A = np.array([[1,2,3],\n",
        "              [4,5,6],\n",
        "              [7,8,9]])\n",
        "\n",
        "B = np.array([[3,3,3],\n",
        "              [1,1,1],\n",
        "              [2,2,2]])"
      ],
      "execution_count": 0,
      "outputs": []
    },
    {
      "cell_type": "code",
      "metadata": {
        "id": "ZrmgyKyV8J-t",
        "colab_type": "code",
        "outputId": "d8fd36bd-2f7c-4b2c-c60f-08efb37cfaf1",
        "colab": {
          "base_uri": "https://localhost:8080/",
          "height": 70
        }
      },
      "source": [
        "A + B"
      ],
      "execution_count": 0,
      "outputs": [
        {
          "output_type": "execute_result",
          "data": {
            "text/plain": [
              "array([[ 4,  5,  6],\n",
              "       [ 5,  6,  7],\n",
              "       [ 9, 10, 11]])"
            ]
          },
          "metadata": {
            "tags": []
          },
          "execution_count": 73
        }
      ]
    },
    {
      "cell_type": "code",
      "metadata": {
        "id": "yhqsgF1N8RVG",
        "colab_type": "code",
        "outputId": "e6c038d2-095b-4519-a25a-f9723ca85c61",
        "colab": {
          "base_uri": "https://localhost:8080/",
          "height": 70
        }
      },
      "source": [
        "A + 2"
      ],
      "execution_count": 0,
      "outputs": [
        {
          "output_type": "execute_result",
          "data": {
            "text/plain": [
              "array([[ 3,  4,  5],\n",
              "       [ 6,  7,  8],\n",
              "       [ 9, 10, 11]])"
            ]
          },
          "metadata": {
            "tags": []
          },
          "execution_count": 74
        }
      ]
    },
    {
      "cell_type": "code",
      "metadata": {
        "id": "OtqQLkcC63CS",
        "colab_type": "code",
        "outputId": "6982df70-428c-4592-aba9-e528b1332543",
        "colab": {
          "base_uri": "https://localhost:8080/",
          "height": 70
        }
      },
      "source": [
        "A * 2"
      ],
      "execution_count": 0,
      "outputs": [
        {
          "output_type": "execute_result",
          "data": {
            "text/plain": [
              "array([[ 2,  4,  6],\n",
              "       [ 8, 10, 12],\n",
              "       [14, 16, 18]])"
            ]
          },
          "metadata": {
            "tags": []
          },
          "execution_count": 75
        }
      ]
    },
    {
      "cell_type": "code",
      "metadata": {
        "id": "9wiL-f7o6pUs",
        "colab_type": "code",
        "colab": {}
      },
      "source": [
        "A = np.array([[1,2,3],\n",
        "              [4,5,6],\n",
        "              [7,8,9]])\n",
        "\n",
        "v = np.array([1,2,3])"
      ],
      "execution_count": 0,
      "outputs": []
    },
    {
      "cell_type": "code",
      "metadata": {
        "id": "vc-w5Og96tMn",
        "colab_type": "code",
        "outputId": "74a91caf-7edf-4c97-df71-cbe25c34541f",
        "colab": {
          "base_uri": "https://localhost:8080/",
          "height": 34
        }
      },
      "source": [
        "A @ v"
      ],
      "execution_count": 0,
      "outputs": [
        {
          "output_type": "execute_result",
          "data": {
            "text/plain": [
              "array([14, 32, 50])"
            ]
          },
          "metadata": {
            "tags": []
          },
          "execution_count": 77
        }
      ]
    },
    {
      "cell_type": "code",
      "metadata": {
        "id": "KjmcG4TFHOuU",
        "colab_type": "code",
        "colab": {}
      },
      "source": [
        "A = np.array([[1,2,3],\n",
        "              [4,5,6],\n",
        "              [7,8,9]])\n",
        "\n",
        "B = np.array([[1,2],\n",
        "              [2,0],\n",
        "              [3,1]])"
      ],
      "execution_count": 0,
      "outputs": []
    },
    {
      "cell_type": "code",
      "metadata": {
        "id": "WJzYAu-06YvS",
        "colab_type": "code",
        "outputId": "efc437bd-68fd-4458-dc69-bcf619e7985e",
        "colab": {
          "base_uri": "https://localhost:8080/",
          "height": 70
        }
      },
      "source": [
        "A @ B"
      ],
      "execution_count": 0,
      "outputs": [
        {
          "output_type": "execute_result",
          "data": {
            "text/plain": [
              "array([[14,  5],\n",
              "       [32, 14],\n",
              "       [50, 23]])"
            ]
          },
          "metadata": {
            "tags": []
          },
          "execution_count": 79
        }
      ]
    },
    {
      "cell_type": "code",
      "metadata": {
        "id": "Ina-plJ76_qF",
        "colab_type": "code",
        "colab": {}
      },
      "source": [
        "A = np.array([[1,2],\n",
        "              [4,5],\n",
        "              [7,8]])"
      ],
      "execution_count": 0,
      "outputs": []
    },
    {
      "cell_type": "code",
      "metadata": {
        "id": "eKKe-gDt8faF",
        "colab_type": "code",
        "outputId": "b2148b08-a0b6-4fcf-c42b-ef36c9968f00",
        "colab": {
          "base_uri": "https://localhost:8080/",
          "height": 34
        }
      },
      "source": [
        "A.shape"
      ],
      "execution_count": 0,
      "outputs": [
        {
          "output_type": "execute_result",
          "data": {
            "text/plain": [
              "(3, 2)"
            ]
          },
          "metadata": {
            "tags": []
          },
          "execution_count": 81
        }
      ]
    },
    {
      "cell_type": "code",
      "metadata": {
        "id": "mUEIHqtv8fdm",
        "colab_type": "code",
        "outputId": "e614ea8f-b7dc-4565-b3d9-cc082e9e8074",
        "colab": {
          "base_uri": "https://localhost:8080/",
          "height": 34
        }
      },
      "source": [
        "A.reshape(6)"
      ],
      "execution_count": 0,
      "outputs": [
        {
          "output_type": "execute_result",
          "data": {
            "text/plain": [
              "array([1, 2, 4, 5, 7, 8])"
            ]
          },
          "metadata": {
            "tags": []
          },
          "execution_count": 82
        }
      ]
    },
    {
      "cell_type": "code",
      "metadata": {
        "id": "SV-kF2XY8q-Z",
        "colab_type": "code",
        "outputId": "694c8429-f7c1-49c8-a7fc-2e9974bcfc66",
        "colab": {
          "base_uri": "https://localhost:8080/",
          "height": 52
        }
      },
      "source": [
        "A.reshape(2, 3)"
      ],
      "execution_count": 0,
      "outputs": [
        {
          "output_type": "execute_result",
          "data": {
            "text/plain": [
              "array([[1, 2, 4],\n",
              "       [5, 7, 8]])"
            ]
          },
          "metadata": {
            "tags": []
          },
          "execution_count": 83
        }
      ]
    },
    {
      "cell_type": "code",
      "metadata": {
        "id": "eevmq8fv8fjn",
        "colab_type": "code",
        "outputId": "96d778f4-b439-40a3-ee0f-7c8edbef64a3",
        "colab": {
          "base_uri": "https://localhost:8080/",
          "height": 52
        }
      },
      "source": [
        "A.reshape(-1, 3)"
      ],
      "execution_count": 0,
      "outputs": [
        {
          "output_type": "execute_result",
          "data": {
            "text/plain": [
              "array([[1, 2, 4],\n",
              "       [5, 7, 8]])"
            ]
          },
          "metadata": {
            "tags": []
          },
          "execution_count": 84
        }
      ]
    },
    {
      "cell_type": "code",
      "metadata": {
        "id": "x2V5a9rN8fh4",
        "colab_type": "code",
        "outputId": "889911b0-2904-4878-8e7a-fd171d85ffd4",
        "colab": {
          "base_uri": "https://localhost:8080/",
          "height": 34
        }
      },
      "source": [
        "A.size"
      ],
      "execution_count": 0,
      "outputs": [
        {
          "output_type": "execute_result",
          "data": {
            "text/plain": [
              "6"
            ]
          },
          "metadata": {
            "tags": []
          },
          "execution_count": 85
        }
      ]
    },
    {
      "cell_type": "code",
      "metadata": {
        "id": "WXbXNQ1Z9n6i",
        "colab_type": "code",
        "outputId": "67fd54a2-da32-4819-c5b2-c890d7a6202a",
        "colab": {
          "base_uri": "https://localhost:8080/",
          "height": 34
        }
      },
      "source": [
        "A.shape[0] * A.shape[1]"
      ],
      "execution_count": 0,
      "outputs": [
        {
          "output_type": "execute_result",
          "data": {
            "text/plain": [
              "6"
            ]
          },
          "metadata": {
            "tags": []
          },
          "execution_count": 86
        }
      ]
    },
    {
      "cell_type": "code",
      "metadata": {
        "id": "3Wzuwa4U9pr8",
        "colab_type": "code",
        "colab": {}
      },
      "source": [
        "A = np.arange(1, 10)\n",
        "A = A.reshape(3, 3)"
      ],
      "execution_count": 0,
      "outputs": []
    },
    {
      "cell_type": "code",
      "metadata": {
        "id": "UhQjODV9AJ6V",
        "colab_type": "code",
        "outputId": "2cf0518b-b6fa-45d0-c019-847583e1f6bd",
        "colab": {
          "base_uri": "https://localhost:8080/",
          "height": 70
        }
      },
      "source": [
        "A"
      ],
      "execution_count": 0,
      "outputs": [
        {
          "output_type": "execute_result",
          "data": {
            "text/plain": [
              "array([[1, 2, 3],\n",
              "       [4, 5, 6],\n",
              "       [7, 8, 9]])"
            ]
          },
          "metadata": {
            "tags": []
          },
          "execution_count": 88
        }
      ]
    },
    {
      "cell_type": "markdown",
      "metadata": {
        "id": "zcHS6IdGM-aJ",
        "colab_type": "text"
      },
      "source": [
        "##### Размерности матриц"
      ]
    },
    {
      "cell_type": "markdown",
      "metadata": {
        "id": "FVTVG9fnl9ln",
        "colab_type": "text"
      },
      "source": [
        "![](https://raw.githubusercontent.com/mts-machines-learn/ml-course-dec2019/master/3.%20%D0%9E%D1%81%D0%BD%D0%BE%D0%B2%D0%BD%D1%8B%D0%B5%20%D0%B1%D0%B8%D0%B1%D0%BB%D0%B8%D0%BE%D1%82%D0%B5%D0%BA%D0%B8/images/axis.PNG)"
      ]
    },
    {
      "cell_type": "code",
      "metadata": {
        "id": "7e0Y0aSoNAbI",
        "colab_type": "code",
        "colab": {}
      },
      "source": [
        "A = np.array([[2,3,4,5],\n",
        "              [6,7,8,9]])"
      ],
      "execution_count": 0,
      "outputs": []
    },
    {
      "cell_type": "code",
      "metadata": {
        "id": "YoGW9Pynl7oW",
        "colab_type": "code",
        "outputId": "7964c051-72a7-4206-b509-2a8cc11f9a55",
        "colab": {
          "base_uri": "https://localhost:8080/",
          "height": 34
        }
      },
      "source": [
        "A.sum()"
      ],
      "execution_count": 0,
      "outputs": [
        {
          "output_type": "execute_result",
          "data": {
            "text/plain": [
              "44"
            ]
          },
          "metadata": {
            "tags": []
          },
          "execution_count": 90
        }
      ]
    },
    {
      "cell_type": "code",
      "metadata": {
        "id": "T2u6FmDRNETa",
        "colab_type": "code",
        "outputId": "d68d25cb-15ad-4a07-d338-b60c44638938",
        "colab": {
          "base_uri": "https://localhost:8080/",
          "height": 34
        }
      },
      "source": [
        "A.sum(axis=0)\n"
      ],
      "execution_count": 0,
      "outputs": [
        {
          "output_type": "execute_result",
          "data": {
            "text/plain": [
              "array([ 8, 10, 12, 14])"
            ]
          },
          "metadata": {
            "tags": []
          },
          "execution_count": 91
        }
      ]
    },
    {
      "cell_type": "code",
      "metadata": {
        "id": "_Tz1QkPpNJA6",
        "colab_type": "code",
        "outputId": "2daba6e4-ea52-4bf5-86b3-060483dd8516",
        "colab": {
          "base_uri": "https://localhost:8080/",
          "height": 34
        }
      },
      "source": [
        "A.sum(axis=1)"
      ],
      "execution_count": 0,
      "outputs": [
        {
          "output_type": "execute_result",
          "data": {
            "text/plain": [
              "array([14, 30])"
            ]
          },
          "metadata": {
            "tags": []
          },
          "execution_count": 92
        }
      ]
    },
    {
      "cell_type": "markdown",
      "metadata": {
        "id": "Fx-ceHY0NmtC",
        "colab_type": "text"
      },
      "source": [
        "##### Задача 4: Создать матрицу из четных чисел, размера m*n;"
      ]
    },
    {
      "cell_type": "code",
      "metadata": {
        "id": "usKMZRk7NlG_",
        "colab_type": "code",
        "colab": {}
      },
      "source": [
        "def create_odd_matrix_way1(m,n):\n",
        "  size = m*n\n",
        "  array = np.arange(0, 2*size, 2)\n",
        "  array = array.reshape(m, n)\n",
        "  return array"
      ],
      "execution_count": 0,
      "outputs": []
    },
    {
      "cell_type": "code",
      "metadata": {
        "id": "h-wHEH86OAXq",
        "colab_type": "code",
        "outputId": "90528109-f7cd-4f17-fd6d-a9b7e427bdda",
        "colab": {
          "base_uri": "https://localhost:8080/",
          "height": 87
        }
      },
      "source": [
        "create_odd_matrix_way1(4,3)"
      ],
      "execution_count": 0,
      "outputs": [
        {
          "output_type": "execute_result",
          "data": {
            "text/plain": [
              "array([[ 0,  2,  4],\n",
              "       [ 6,  8, 10],\n",
              "       [12, 14, 16],\n",
              "       [18, 20, 22]])"
            ]
          },
          "metadata": {
            "tags": []
          },
          "execution_count": 94
        }
      ]
    },
    {
      "cell_type": "code",
      "metadata": {
        "id": "qaJUNMqSOceY",
        "colab_type": "code",
        "colab": {}
      },
      "source": [
        "def create_odd_matrix_way2(m,n):\n",
        "  size = m*n\n",
        "  array = np.arange(0, size) * 2\n",
        "  array = array.reshape(m, n)\n",
        "  return array"
      ],
      "execution_count": 0,
      "outputs": []
    },
    {
      "cell_type": "code",
      "metadata": {
        "id": "GRkwgqUBOff8",
        "colab_type": "code",
        "outputId": "b4fa9b83-7cf6-4e15-ef80-3b2466f723bd",
        "colab": {
          "base_uri": "https://localhost:8080/",
          "height": 87
        }
      },
      "source": [
        "create_odd_matrix_way2(4,3)"
      ],
      "execution_count": 0,
      "outputs": [
        {
          "output_type": "execute_result",
          "data": {
            "text/plain": [
              "array([[ 0,  2,  4],\n",
              "       [ 6,  8, 10],\n",
              "       [12, 14, 16],\n",
              "       [18, 20, 22]])"
            ]
          },
          "metadata": {
            "tags": []
          },
          "execution_count": 96
        }
      ]
    },
    {
      "cell_type": "markdown",
      "metadata": {
        "id": "TkeNoFU_O1sQ",
        "colab_type": "text"
      },
      "source": [
        "#### Индексация"
      ]
    },
    {
      "cell_type": "code",
      "metadata": {
        "id": "RBkngvh2OwNj",
        "colab_type": "code",
        "colab": {}
      },
      "source": [
        "A = np.arange(0, 25)"
      ],
      "execution_count": 0,
      "outputs": []
    },
    {
      "cell_type": "code",
      "metadata": {
        "id": "Q0XqnwdcVXDR",
        "colab_type": "code",
        "outputId": "d39e0e03-9d39-4650-db35-279711812db2",
        "colab": {
          "base_uri": "https://localhost:8080/",
          "height": 105
        }
      },
      "source": [
        "A = A.reshape(5,5)\n",
        "A"
      ],
      "execution_count": 0,
      "outputs": [
        {
          "output_type": "execute_result",
          "data": {
            "text/plain": [
              "array([[ 0,  1,  2,  3,  4],\n",
              "       [ 5,  6,  7,  8,  9],\n",
              "       [10, 11, 12, 13, 14],\n",
              "       [15, 16, 17, 18, 19],\n",
              "       [20, 21, 22, 23, 24]])"
            ]
          },
          "metadata": {
            "tags": []
          },
          "execution_count": 98
        }
      ]
    },
    {
      "cell_type": "code",
      "metadata": {
        "id": "udW5T_1FVck4",
        "colab_type": "code",
        "outputId": "b19da0bc-fe90-41b1-a2f9-6bcfb752712a",
        "colab": {
          "base_uri": "https://localhost:8080/",
          "height": 34
        }
      },
      "source": [
        "A[2]"
      ],
      "execution_count": 0,
      "outputs": [
        {
          "output_type": "execute_result",
          "data": {
            "text/plain": [
              "array([10, 11, 12, 13, 14])"
            ]
          },
          "metadata": {
            "tags": []
          },
          "execution_count": 99
        }
      ]
    },
    {
      "cell_type": "code",
      "metadata": {
        "id": "PyVcUcCxVm9V",
        "colab_type": "code",
        "outputId": "d533a583-966d-413a-cc63-160cf3ab5ec8",
        "colab": {
          "base_uri": "https://localhost:8080/",
          "height": 34
        }
      },
      "source": [
        "A[:, 2]"
      ],
      "execution_count": 0,
      "outputs": [
        {
          "output_type": "execute_result",
          "data": {
            "text/plain": [
              "array([ 2,  7, 12, 17, 22])"
            ]
          },
          "metadata": {
            "tags": []
          },
          "execution_count": 100
        }
      ]
    },
    {
      "cell_type": "code",
      "metadata": {
        "id": "m9y07fJsVo4i",
        "colab_type": "code",
        "outputId": "7cb71668-784e-4242-f84a-9fa677d5df39",
        "colab": {
          "base_uri": "https://localhost:8080/",
          "height": 34
        }
      },
      "source": [
        "A[2, 2]"
      ],
      "execution_count": 0,
      "outputs": [
        {
          "output_type": "execute_result",
          "data": {
            "text/plain": [
              "12"
            ]
          },
          "metadata": {
            "tags": []
          },
          "execution_count": 101
        }
      ]
    },
    {
      "cell_type": "code",
      "metadata": {
        "id": "C0W7-DbyVrny",
        "colab_type": "code",
        "outputId": "54ab0e4c-d2bb-4046-c4d4-3952c4a6ba70",
        "colab": {
          "base_uri": "https://localhost:8080/",
          "height": 70
        }
      },
      "source": [
        "A[0:3, 0:3]"
      ],
      "execution_count": 0,
      "outputs": [
        {
          "output_type": "execute_result",
          "data": {
            "text/plain": [
              "array([[ 0,  1,  2],\n",
              "       [ 5,  6,  7],\n",
              "       [10, 11, 12]])"
            ]
          },
          "metadata": {
            "tags": []
          },
          "execution_count": 102
        }
      ]
    },
    {
      "cell_type": "code",
      "metadata": {
        "id": "DVPT3FgaV6A1",
        "colab_type": "code",
        "colab": {}
      },
      "source": [
        "A[0:3, 0:3] = 100"
      ],
      "execution_count": 0,
      "outputs": []
    },
    {
      "cell_type": "code",
      "metadata": {
        "id": "cYmFyJS2V9cS",
        "colab_type": "code",
        "outputId": "a9a0e1d8-ed11-4f78-c5e6-7bfc31bb25f4",
        "colab": {
          "base_uri": "https://localhost:8080/",
          "height": 105
        }
      },
      "source": [
        "A"
      ],
      "execution_count": 0,
      "outputs": [
        {
          "output_type": "execute_result",
          "data": {
            "text/plain": [
              "array([[100, 100, 100,   3,   4],\n",
              "       [100, 100, 100,   8,   9],\n",
              "       [100, 100, 100,  13,  14],\n",
              "       [ 15,  16,  17,  18,  19],\n",
              "       [ 20,  21,  22,  23,  24]])"
            ]
          },
          "metadata": {
            "tags": []
          },
          "execution_count": 104
        }
      ]
    },
    {
      "cell_type": "code",
      "metadata": {
        "id": "C8knsmBNV_RL",
        "colab_type": "code",
        "colab": {}
      },
      "source": [
        "A[2] = 50"
      ],
      "execution_count": 0,
      "outputs": []
    },
    {
      "cell_type": "code",
      "metadata": {
        "id": "7M3YCuoIWEJz",
        "colab_type": "code",
        "outputId": "b298dd8e-3539-4663-9146-f22023af1e6c",
        "colab": {
          "base_uri": "https://localhost:8080/",
          "height": 105
        }
      },
      "source": [
        "A"
      ],
      "execution_count": 0,
      "outputs": [
        {
          "output_type": "execute_result",
          "data": {
            "text/plain": [
              "array([[100, 100, 100,   3,   4],\n",
              "       [100, 100, 100,   8,   9],\n",
              "       [ 50,  50,  50,  50,  50],\n",
              "       [ 15,  16,  17,  18,  19],\n",
              "       [ 20,  21,  22,  23,  24]])"
            ]
          },
          "metadata": {
            "tags": []
          },
          "execution_count": 106
        }
      ]
    },
    {
      "cell_type": "code",
      "metadata": {
        "id": "Y7PPHJ-1XNqd",
        "colab_type": "code",
        "colab": {}
      },
      "source": [
        "A[1] = np.array([10, 20, 30, 40, 50])"
      ],
      "execution_count": 0,
      "outputs": []
    },
    {
      "cell_type": "code",
      "metadata": {
        "id": "ZhoQS3ODXaMJ",
        "colab_type": "code",
        "outputId": "4ed0a6ef-2721-4d5c-8f4b-04727c5da473",
        "colab": {
          "base_uri": "https://localhost:8080/",
          "height": 105
        }
      },
      "source": [
        "A"
      ],
      "execution_count": 0,
      "outputs": [
        {
          "output_type": "execute_result",
          "data": {
            "text/plain": [
              "array([[100, 100, 100,   3,   4],\n",
              "       [ 10,  20,  30,  40,  50],\n",
              "       [ 50,  50,  50,  50,  50],\n",
              "       [ 15,  16,  17,  18,  19],\n",
              "       [ 20,  21,  22,  23,  24]])"
            ]
          },
          "metadata": {
            "tags": []
          },
          "execution_count": 108
        }
      ]
    },
    {
      "cell_type": "markdown",
      "metadata": {
        "id": "Fiu7O2mCX7IX",
        "colab_type": "text"
      },
      "source": [
        "#### Матрицы из нулей, единиц"
      ]
    },
    {
      "cell_type": "code",
      "metadata": {
        "id": "rFi-KOOiXtb2",
        "colab_type": "code",
        "outputId": "66cb6797-a673-4681-e5f0-6a5771621393",
        "colab": {
          "base_uri": "https://localhost:8080/",
          "height": 87
        }
      },
      "source": [
        "np.ones((4,5))"
      ],
      "execution_count": 0,
      "outputs": [
        {
          "output_type": "execute_result",
          "data": {
            "text/plain": [
              "array([[1., 1., 1., 1., 1.],\n",
              "       [1., 1., 1., 1., 1.],\n",
              "       [1., 1., 1., 1., 1.],\n",
              "       [1., 1., 1., 1., 1.]])"
            ]
          },
          "metadata": {
            "tags": []
          },
          "execution_count": 109
        }
      ]
    },
    {
      "cell_type": "code",
      "metadata": {
        "id": "Xwj8qaI1X3uK",
        "colab_type": "code",
        "outputId": "d191a16d-78eb-4b5b-d278-ca39965c6488",
        "colab": {
          "base_uri": "https://localhost:8080/",
          "height": 87
        }
      },
      "source": [
        "np.zeros((4,5))"
      ],
      "execution_count": 0,
      "outputs": [
        {
          "output_type": "execute_result",
          "data": {
            "text/plain": [
              "array([[0., 0., 0., 0., 0.],\n",
              "       [0., 0., 0., 0., 0.],\n",
              "       [0., 0., 0., 0., 0.],\n",
              "       [0., 0., 0., 0., 0.]])"
            ]
          },
          "metadata": {
            "tags": []
          },
          "execution_count": 110
        }
      ]
    },
    {
      "cell_type": "markdown",
      "metadata": {
        "id": "AwG2vjM1Xc2O",
        "colab_type": "text"
      },
      "source": [
        "#### Задача 5. Создать матрицу с элементами вида $a_{i,j} = i$\n",
        "\n",
        "То есть все значения в строке одинаковы и равны номеру строки\n",
        "\n",
        "Вид матрицы размера $(4,4)$: \n",
        "\n",
        "$\\begin{pmatrix}\n",
        "0 & 0 & 0 & 0 \\\\\n",
        "1 & 1 & 1 & 1\\\\\n",
        "2&2&2&2\\\\\n",
        "3&3&3&3\n",
        "\\end{pmatrix}$"
      ]
    },
    {
      "cell_type": "code",
      "metadata": {
        "id": "EH56jE1lYE7i",
        "colab_type": "code",
        "colab": {}
      },
      "source": [
        "def create_rows_matrix(n,m):\n",
        "  array = np.zeros((n,m))\n",
        "  for i in range(n):\n",
        "    array[i] = i\n",
        "  return array"
      ],
      "execution_count": 0,
      "outputs": []
    },
    {
      "cell_type": "code",
      "metadata": {
        "id": "UB_Xc84RXcQE",
        "colab_type": "code",
        "outputId": "31ff2375-4885-4acd-9f31-46cb57bfc836",
        "colab": {
          "base_uri": "https://localhost:8080/",
          "height": 70
        }
      },
      "source": [
        "create_rows_matrix(3,5)"
      ],
      "execution_count": 0,
      "outputs": [
        {
          "output_type": "execute_result",
          "data": {
            "text/plain": [
              "array([[0., 0., 0., 0., 0.],\n",
              "       [1., 1., 1., 1., 1.],\n",
              "       [2., 2., 2., 2., 2.]])"
            ]
          },
          "metadata": {
            "tags": []
          },
          "execution_count": 118
        }
      ]
    },
    {
      "cell_type": "code",
      "metadata": {
        "id": "hbrQZnoSYnAC",
        "colab_type": "code",
        "colab": {}
      },
      "source": [
        "def create_columns_matrix(n,m):\n",
        "  array = np.zeros((n,m))\n",
        "  for j in range(m):\n",
        "    array[:, j] = j\n",
        "  return array"
      ],
      "execution_count": 0,
      "outputs": []
    },
    {
      "cell_type": "code",
      "metadata": {
        "id": "-j5odw3QYrwZ",
        "colab_type": "code",
        "outputId": "58b25d11-9342-4fc5-ea29-f37446be3708",
        "colab": {
          "base_uri": "https://localhost:8080/",
          "height": 70
        }
      },
      "source": [
        "create_columns_matrix(3,5)"
      ],
      "execution_count": 0,
      "outputs": [
        {
          "output_type": "execute_result",
          "data": {
            "text/plain": [
              "array([[0., 1., 2., 3., 4.],\n",
              "       [0., 1., 2., 3., 4.],\n",
              "       [0., 1., 2., 3., 4.]])"
            ]
          },
          "metadata": {
            "tags": []
          },
          "execution_count": 120
        }
      ]
    },
    {
      "cell_type": "markdown",
      "metadata": {
        "colab_type": "text",
        "id": "emKRAj6QcmKD"
      },
      "source": [
        "#### Задача 6. Создать матрицу $A_{n,m}$ со сдвигом в строках.\n",
        "\n",
        "Вид матрицы размера $(4,4)$: \n",
        "\n",
        "$\\begin{pmatrix}\n",
        "0 & 1 & 2 & 3 \\\\\n",
        "1 &2&3&4\\\\\n",
        "2&3&4&5\\\\\n",
        "3&4&5&6\n",
        "\\end{pmatrix}$"
      ]
    },
    {
      "cell_type": "code",
      "metadata": {
        "id": "u_a7E7B1cuA0",
        "colab_type": "code",
        "colab": {}
      },
      "source": [
        "def shift_matrix(n, m):\n",
        "  array = np.zeros((n,m))\n",
        "  for i in range(n):\n",
        "    array[i] = np.arange(i, m+i)\n",
        "  return array.reshape(n,m) "
      ],
      "execution_count": 0,
      "outputs": []
    },
    {
      "cell_type": "code",
      "metadata": {
        "id": "cq1BbvcZcvDN",
        "colab_type": "code",
        "outputId": "342c00fb-c1c6-4cef-a447-7abaf5c9d3d0",
        "colab": {
          "base_uri": "https://localhost:8080/",
          "height": 105
        }
      },
      "source": [
        "shift_matrix(5,6)"
      ],
      "execution_count": 0,
      "outputs": [
        {
          "output_type": "execute_result",
          "data": {
            "text/plain": [
              "array([[0., 1., 2., 3., 4., 5.],\n",
              "       [1., 2., 3., 4., 5., 6.],\n",
              "       [2., 3., 4., 5., 6., 7.],\n",
              "       [3., 4., 5., 6., 7., 8.],\n",
              "       [4., 5., 6., 7., 8., 9.]])"
            ]
          },
          "metadata": {
            "tags": []
          },
          "execution_count": 122
        }
      ]
    },
    {
      "cell_type": "markdown",
      "metadata": {
        "id": "ET7A7W7ahdMU",
        "colab_type": "text"
      },
      "source": [
        "#### Конкатенация матриц по строкам и столбцам"
      ]
    },
    {
      "cell_type": "code",
      "metadata": {
        "id": "yAtsfAg_htqM",
        "colab_type": "code",
        "colab": {}
      },
      "source": [
        "A = np.array([[1,2,3], \n",
        "              [4,5,6]])\n",
        "B = np.array([[7,8,9],\n",
        "               [10,11,12]])"
      ],
      "execution_count": 0,
      "outputs": []
    },
    {
      "cell_type": "code",
      "metadata": {
        "id": "rOPQEi9uh684",
        "colab_type": "code",
        "outputId": "b18ce1e3-d0d2-4104-bce1-bc47391a44c2",
        "colab": {
          "base_uri": "https://localhost:8080/",
          "height": 87
        }
      },
      "source": [
        "C = np.vstack((A, B))\n",
        "C"
      ],
      "execution_count": 0,
      "outputs": [
        {
          "output_type": "execute_result",
          "data": {
            "text/plain": [
              "array([[ 1,  2,  3],\n",
              "       [ 4,  5,  6],\n",
              "       [ 7,  8,  9],\n",
              "       [10, 11, 12]])"
            ]
          },
          "metadata": {
            "tags": []
          },
          "execution_count": 125
        }
      ]
    },
    {
      "cell_type": "code",
      "metadata": {
        "id": "fd0Vv-umiBQM",
        "colab_type": "code",
        "outputId": "d86a1990-f01d-4b07-9087-f92e46101498",
        "colab": {
          "base_uri": "https://localhost:8080/",
          "height": 52
        }
      },
      "source": [
        "D = np.hstack((A, B))\n",
        "D"
      ],
      "execution_count": 0,
      "outputs": [
        {
          "output_type": "execute_result",
          "data": {
            "text/plain": [
              "array([[ 1,  2,  3,  7,  8,  9],\n",
              "       [ 4,  5,  6, 10, 11, 12]])"
            ]
          },
          "metadata": {
            "tags": []
          },
          "execution_count": 126
        }
      ]
    },
    {
      "cell_type": "markdown",
      "metadata": {
        "id": "1gvm52UsikMK",
        "colab_type": "text"
      },
      "source": [
        "### Задача 7. Для квадратной матрицы $A$ создать блочную матрицу вида\n",
        " $\\begin{bmatrix}\n",
        "A & A^T\n",
        " \\end{bmatrix}$. (Конкатенация двух матриц)"
      ]
    },
    {
      "cell_type": "code",
      "metadata": {
        "id": "vvsxDsYFiGb3",
        "colab_type": "code",
        "colab": {}
      },
      "source": [
        "def concat_transpose(A):\n",
        "  assert A.shape[0] == A.shape[1]\n",
        "\n",
        "  return np.hstack((A, A.T))"
      ],
      "execution_count": 0,
      "outputs": []
    },
    {
      "cell_type": "code",
      "metadata": {
        "id": "6iy3xlSZjgy1",
        "colab_type": "code",
        "colab": {}
      },
      "source": [
        "A = np.array([[3,4,5],\n",
        "              [1,2,3],\n",
        "              [3,4,2]])"
      ],
      "execution_count": 0,
      "outputs": []
    },
    {
      "cell_type": "code",
      "metadata": {
        "id": "wGgaZ45IkLHf",
        "colab_type": "code",
        "outputId": "bcd98c4e-d28b-4264-fd90-0c043a4f05b1",
        "colab": {
          "base_uri": "https://localhost:8080/",
          "height": 70
        }
      },
      "source": [
        "concat_transpose(A)"
      ],
      "execution_count": 0,
      "outputs": [
        {
          "output_type": "execute_result",
          "data": {
            "text/plain": [
              "array([[3, 4, 5, 3, 1, 3],\n",
              "       [1, 2, 3, 4, 2, 4],\n",
              "       [3, 4, 2, 5, 3, 2]])"
            ]
          },
          "metadata": {
            "tags": []
          },
          "execution_count": 129
        }
      ]
    },
    {
      "cell_type": "markdown",
      "metadata": {
        "id": "wFLWgVjjKmY6",
        "colab_type": "text"
      },
      "source": [
        "# Функции"
      ]
    },
    {
      "cell_type": "code",
      "metadata": {
        "id": "BwkF_TLqlGJ1",
        "colab_type": "code",
        "colab": {}
      },
      "source": [
        "x = 4"
      ],
      "execution_count": 0,
      "outputs": []
    },
    {
      "cell_type": "code",
      "metadata": {
        "id": "dxlRmbP5k-J0",
        "colab_type": "code",
        "outputId": "7348ecf6-1098-4f34-85b5-a7df89889796",
        "colab": {
          "base_uri": "https://localhost:8080/",
          "height": 34
        }
      },
      "source": [
        "np.sqrt(x)"
      ],
      "execution_count": 0,
      "outputs": [
        {
          "output_type": "execute_result",
          "data": {
            "text/plain": [
              "2.0"
            ]
          },
          "metadata": {
            "tags": []
          },
          "execution_count": 131
        }
      ]
    },
    {
      "cell_type": "code",
      "metadata": {
        "id": "lwfTM5v2lCRv",
        "colab_type": "code",
        "colab": {}
      },
      "source": [
        "squares_vec = np.array([1,4,9,16,25])"
      ],
      "execution_count": 0,
      "outputs": []
    },
    {
      "cell_type": "code",
      "metadata": {
        "id": "i4auKil2lLo3",
        "colab_type": "code",
        "outputId": "8b4ce75e-4190-472b-cd17-98b73e46d2a5",
        "colab": {
          "base_uri": "https://localhost:8080/",
          "height": 34
        }
      },
      "source": [
        "np.sqrt(squares_vec)"
      ],
      "execution_count": 0,
      "outputs": [
        {
          "output_type": "execute_result",
          "data": {
            "text/plain": [
              "array([1., 2., 3., 4., 5.])"
            ]
          },
          "metadata": {
            "tags": []
          },
          "execution_count": 133
        }
      ]
    },
    {
      "cell_type": "code",
      "metadata": {
        "id": "RVtb0S15lSdw",
        "colab_type": "code",
        "outputId": "9b49b9ab-91dc-4d77-a00b-77ee3e903e90",
        "colab": {
          "base_uri": "https://localhost:8080/",
          "height": 34
        }
      },
      "source": [
        "x**2"
      ],
      "execution_count": 0,
      "outputs": [
        {
          "output_type": "execute_result",
          "data": {
            "text/plain": [
              "16"
            ]
          },
          "metadata": {
            "tags": []
          },
          "execution_count": 134
        }
      ]
    },
    {
      "cell_type": "code",
      "metadata": {
        "id": "Mikmm_CllVjh",
        "colab_type": "code",
        "outputId": "13c0c2c2-f04b-41b9-f224-0f836e76dc45",
        "colab": {
          "base_uri": "https://localhost:8080/",
          "height": 34
        }
      },
      "source": [
        "squares_vec**2"
      ],
      "execution_count": 0,
      "outputs": [
        {
          "output_type": "execute_result",
          "data": {
            "text/plain": [
              "array([  1,  16,  81, 256, 625])"
            ]
          },
          "metadata": {
            "tags": []
          },
          "execution_count": 135
        }
      ]
    },
    {
      "cell_type": "code",
      "metadata": {
        "id": "dpAkaMWflZmo",
        "colab_type": "code",
        "colab": {}
      },
      "source": [
        "def f(x):\n",
        "  return x*100\n"
      ],
      "execution_count": 0,
      "outputs": []
    },
    {
      "cell_type": "code",
      "metadata": {
        "id": "M4flF8d7le9C",
        "colab_type": "code",
        "outputId": "12425f9d-371d-45d3-c0bf-7a1d6a511a09",
        "colab": {
          "base_uri": "https://localhost:8080/",
          "height": 34
        }
      },
      "source": [
        "f(4.)"
      ],
      "execution_count": 0,
      "outputs": [
        {
          "output_type": "execute_result",
          "data": {
            "text/plain": [
              "400.0"
            ]
          },
          "metadata": {
            "tags": []
          },
          "execution_count": 137
        }
      ]
    },
    {
      "cell_type": "code",
      "metadata": {
        "id": "Ylflv5Q4lgIN",
        "colab_type": "code",
        "colab": {}
      },
      "source": [
        "vector = np.array([10,10,20,20])"
      ],
      "execution_count": 0,
      "outputs": []
    },
    {
      "cell_type": "code",
      "metadata": {
        "id": "sXKxGKfllnmd",
        "colab_type": "code",
        "outputId": "1aa0c8c2-ef08-406d-87c7-9964a697bb3e",
        "colab": {
          "base_uri": "https://localhost:8080/",
          "height": 34
        }
      },
      "source": [
        "f(vector)"
      ],
      "execution_count": 0,
      "outputs": [
        {
          "output_type": "execute_result",
          "data": {
            "text/plain": [
              "array([1000, 1000, 2000, 2000])"
            ]
          },
          "metadata": {
            "tags": []
          },
          "execution_count": 140
        }
      ]
    },
    {
      "cell_type": "code",
      "metadata": {
        "id": "bqm01qaKlp4w",
        "colab_type": "code",
        "colab": {}
      },
      "source": [
        "matrix = vector.reshape(2,2)"
      ],
      "execution_count": 0,
      "outputs": []
    },
    {
      "cell_type": "code",
      "metadata": {
        "id": "f7lc9d-3luOw",
        "colab_type": "code",
        "outputId": "7b2ce5b0-ffb6-45f0-ed89-adf01081d4b9",
        "colab": {
          "base_uri": "https://localhost:8080/",
          "height": 52
        }
      },
      "source": [
        "matrix"
      ],
      "execution_count": 0,
      "outputs": [
        {
          "output_type": "execute_result",
          "data": {
            "text/plain": [
              "array([[10, 10],\n",
              "       [20, 20]])"
            ]
          },
          "metadata": {
            "tags": []
          },
          "execution_count": 142
        }
      ]
    },
    {
      "cell_type": "code",
      "metadata": {
        "id": "TFNf9wzolvWJ",
        "colab_type": "code",
        "outputId": "a65014aa-0c2d-4f0f-b856-9372c189edfc",
        "colab": {
          "base_uri": "https://localhost:8080/",
          "height": 52
        }
      },
      "source": [
        "f(matrix)"
      ],
      "execution_count": 0,
      "outputs": [
        {
          "output_type": "execute_result",
          "data": {
            "text/plain": [
              "array([[1000, 1000],\n",
              "       [2000, 2000]])"
            ]
          },
          "metadata": {
            "tags": []
          },
          "execution_count": 143
        }
      ]
    },
    {
      "cell_type": "markdown",
      "metadata": {
        "id": "xFB7p8pYKmjO",
        "colab_type": "text"
      },
      "source": [
        "# Графики функций"
      ]
    },
    {
      "cell_type": "code",
      "metadata": {
        "id": "FqaoEc0mLe6u",
        "colab_type": "code",
        "colab": {}
      },
      "source": [
        "import matplotlib.pyplot as plt"
      ],
      "execution_count": 0,
      "outputs": []
    },
    {
      "cell_type": "code",
      "metadata": {
        "id": "B7uJaf3uLhMX",
        "colab_type": "code",
        "colab": {}
      },
      "source": [
        "inflation = np.array([8.02, 9.56, 4.16, 7.07, 6.05, 14.97, 9.77, 5.02, 2.21, 5.00])\n",
        "years = np.arange(2010, 2020)"
      ],
      "execution_count": 0,
      "outputs": []
    },
    {
      "cell_type": "code",
      "metadata": {
        "id": "JTMsT-u0ezl5",
        "colab_type": "code",
        "outputId": "e31ae69b-b409-4723-a215-2c28cbcea316",
        "colab": {
          "base_uri": "https://localhost:8080/",
          "height": 34
        }
      },
      "source": [
        "years"
      ],
      "execution_count": 0,
      "outputs": [
        {
          "output_type": "execute_result",
          "data": {
            "text/plain": [
              "array([2010, 2011, 2012, 2013, 2014, 2015, 2016, 2017, 2018, 2019])"
            ]
          },
          "metadata": {
            "tags": []
          },
          "execution_count": 159
        }
      ]
    },
    {
      "cell_type": "code",
      "metadata": {
        "id": "xH9Cs4yfa3MD",
        "colab_type": "code",
        "outputId": "89897f42-3267-45f9-a002-78cf59ff2b6e",
        "colab": {
          "base_uri": "https://localhost:8080/",
          "height": 482
        }
      },
      "source": [
        "plt.figure(figsize=(10, 8))\n",
        "plt.scatter(years, inflation, label='inflation', marker='o')\n",
        "plt.legend()\n",
        "plt.show()"
      ],
      "execution_count": 0,
      "outputs": [
        {
          "output_type": "display_data",
          "data": {
            "image/png": "[encoded data removed]",
            "text/plain": [
              "<Figure size 720x576 with 1 Axes>"
            ]
          },
          "metadata": {
            "tags": []
          }
        }
      ]
    },
    {
      "cell_type": "code",
      "metadata": {
        "id": "tK5MGQmqe6no",
        "colab_type": "code",
        "outputId": "74757655-c954-4aac-f449-54cfcb0d310c",
        "colab": {
          "base_uri": "https://localhost:8080/",
          "height": 482
        }
      },
      "source": [
        "plt.figure(figsize=(10, 8))\n",
        "plt.plot(years, inflation, marker='o')\n",
        "plt.show()"
      ],
      "execution_count": 0,
      "outputs": [
        {
          "output_type": "display_data",
          "data": {
            "image/png": "[encoded data removed]",
            "text/plain": [
              "<Figure size 720x576 with 1 Axes>"
            ]
          },
          "metadata": {
            "tags": []
          }
        }
      ]
    },
    {
      "cell_type": "code",
      "metadata": {
        "id": "0zYWHYGUfvSt",
        "colab_type": "code",
        "outputId": "790e8837-5bbc-4eeb-fec1-2775cf5717e5",
        "colab": {
          "base_uri": "https://localhost:8080/",
          "height": 496
        }
      },
      "source": [
        "plt.figure(figsize=(10, 8))\n",
        "plt.plot(years, inflation, marker='o', color='black')\n",
        "plt.xlabel('Год')\n",
        "plt.ylabel('Инфляция')\n",
        "plt.grid()\n",
        "plt.show()"
      ],
      "execution_count": 0,
      "outputs": [
        {
          "output_type": "display_data",
          "data": {
            "image/png": "[encoded data removed]",
            "text/plain": [
              "<Figure size 720x576 with 1 Axes>"
            ]
          },
          "metadata": {
            "tags": []
          }
        }
      ]
    },
    {
      "cell_type": "code",
      "metadata": {
        "id": "BK3IYmNzLpq3",
        "colab_type": "code",
        "colab": {}
      },
      "source": [
        "marks = np.array([3,3,4,5,5,4,2,4,4,4,4,5])"
      ],
      "execution_count": 0,
      "outputs": []
    },
    {
      "cell_type": "code",
      "metadata": {
        "id": "sezFQQq2g-Td",
        "colab_type": "code",
        "outputId": "6d37adad-d44a-4f65-b606-c39beecc1b75",
        "colab": {
          "base_uri": "https://localhost:8080/",
          "height": 482
        }
      },
      "source": [
        "plt.figure(figsize=(10, 8))\n",
        "plt.hist(marks, label='оценки Пети Иванова', alpha=0.5)\n",
        "plt.legend(loc='upper left')\n",
        "plt.show()"
      ],
      "execution_count": 0,
      "outputs": [
        {
          "output_type": "display_data",
          "data": {
            "image/png": "[encoded data removed]",
            "text/plain": [
              "<Figure size 720x576 with 1 Axes>"
            ]
          },
          "metadata": {
            "tags": []
          }
        }
      ]
    },
    {
      "cell_type": "code",
      "metadata": {
        "id": "S_eTfUHDj1rR",
        "colab_type": "code",
        "outputId": "ed40a632-bcfd-4a70-9959-ade560b37545",
        "colab": {
          "base_uri": "https://localhost:8080/",
          "height": 482
        }
      },
      "source": [
        "plt.figure(figsize=(10, 8))\n",
        "\n",
        "x = np.random.normal(1, 2, 5000)\n",
        "y = np.random.normal(-1, 3, 5000)\n",
        "bins = np.arange(-10, 10, 1)\n",
        "\n",
        "plt.hist([x, y], bins, label=['$N(1,2)$', '$N(-1,3)$'])\n",
        "plt.legend(loc='upper right')\n",
        "plt.show()"
      ],
      "execution_count": 0,
      "outputs": [
        {
          "output_type": "display_data",
          "data": {
            "image/png": "[encoded data removed]",
            "text/plain": [
              "<Figure size 720x576 with 1 Axes>"
            ]
          },
          "metadata": {
            "tags": []
          }
        }
      ]
    },
    {
      "cell_type": "code",
      "metadata": {
        "id": "gaDu6aCPjE4-",
        "colab_type": "code",
        "colab": {}
      },
      "source": [
        ""
      ],
      "execution_count": 0,
      "outputs": []
    }
  ]
}