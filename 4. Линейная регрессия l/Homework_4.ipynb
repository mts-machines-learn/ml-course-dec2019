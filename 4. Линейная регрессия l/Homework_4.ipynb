{
 "cells": [
  {
   "cell_type": "markdown",
   "metadata": {},
   "source": [
    "# Практическое задание\n",
    "\n",
    "В данном задании предлагается реализовать алгоритм градиентного спуска для линейной функции вида $f(X) = kX + b$.\n",
    "\n",
    "Задание состоит из 4-х частей.\n",
    "\n",
    "1. Реализация линейной функции;\n",
    "\n",
    "2. Реализация функции ошибки;\n",
    "\n",
    "3. Реализация градиента от функции ошибки;\n",
    "\n",
    "4. Реализация градиентного спуска.\n",
    "\n",
    "\n",
    "При реализации запрещается пользоваться готовыми решениями. Можно использовать любые функции библиотек `numpy`."
   ]
  },
  {
   "cell_type": "markdown",
   "metadata": {},
   "source": [
    "Для корректной работы перед выполнение задания запустите ячейку ниже."
   ]
  },
  {
   "cell_type": "code",
   "execution_count": null,
   "metadata": {
    "collapsed": true
   },
   "outputs": [],
   "source": [
    "from regression_helper import * # Подгружаем функции для визуализации\n",
    "import numpy as np              # Подгруджаем библиотеку NumPy\n",
    "\n",
    "X, y = get_data()               # Загружаем данные в X и y"
   ]
  },
  {
   "cell_type": "markdown",
   "metadata": {},
   "source": [
    "## 1. Реализация линейной функции"
   ]
  },
  {
   "cell_type": "markdown",
   "metadata": {},
   "source": [
    "Для каждого элемента $X_i$ массива $X$ реализовать функцию $f(X_i) = kX_i + b$.\n",
    "\n",
    "Входные параметры:\n",
    "\n",
    "* Массив $X$: тип numpy.ndarray\n",
    "\n",
    "* Значение коэффициента $k$: тип float\n",
    "\n",
    "* Значение коэффициента $b$: тип float\n",
    "\n",
    "Выходное значение:\n",
    "\n",
    "* На выходе массив со значениями $f(X_i) = kX_i + b$:  numpy.ndarray\n"
   ]
  },
  {
   "cell_type": "code",
   "execution_count": null,
   "metadata": {
    "collapsed": true
   },
   "outputs": [],
   "source": [
    "def f(X, k, b):\n",
    "    pass # Замените на свой код\n",
    "\n",
    "\n",
    "k = 10\n",
    "b = -10\n",
    "print(f(X, k, b))"
   ]
  },
  {
   "cell_type": "markdown",
   "metadata": {},
   "source": [
    "## 2.  Реализация функции ошибки"
   ]
  },
  {
   "cell_type": "markdown",
   "metadata": {},
   "source": [
    "Для входных данных массива $X$, реального выходного значения $y$ и параметров $k$ и $b$ необходимо реализовать функцию ошибки. \n",
    "\n",
    "Входные параметры:\n",
    "\n",
    "* Массив $X$: тип numpy.ndarray\n",
    "\n",
    "* Массив реальных выходных значений $y$: тип numpy.ndarray\n",
    "\n",
    "* Значение коэффициента $k$: тип float\n",
    "\n",
    "* Значение коэффициента $b$: тип float\n",
    "\n",
    "Выходное значение:\n",
    "\n",
    "* На выходе значение функции ошибки $Loss(k, b)$: тип float\n",
    "\n",
    "Формула функции ошибки:\n",
    "\n",
    "$Loss(k, b) = \\dfrac{1}{N} \\sum_{i=0}^{N}{((kX_i + b)- y_i)^2} $\n"
   ]
  },
  {
   "cell_type": "code",
   "execution_count": null,
   "metadata": {
    "collapsed": true
   },
   "outputs": [],
   "source": [
    "def linearn_loss_function(X, y, k, b):\n",
    "    pass # Замените на свой код\n",
    "\n",
    "k = 10\n",
    "b = -10\n",
    "print(linearn_loss_function(X, y, k, b))"
   ]
  },
  {
   "cell_type": "markdown",
   "metadata": {},
   "source": [
    "## 3. Реализация градиента от функции ошибки"
   ]
  },
  {
   "cell_type": "markdown",
   "metadata": {},
   "source": [
    "Для входных данных массива $X$, реального выходного значения $y$ и параметров $k$ и $b$ необходимо реализовать подсчет градиента функции ошибки. \n",
    "\n",
    "Входные параметры:\n",
    "\n",
    "* Массив $X$: тип numpy.ndarray\n",
    "\n",
    "* Массив реальных выходных значений $y$: тип numpy.ndarray\n",
    "\n",
    "* Значение коэффициента $k$: тип float\n",
    "\n",
    "* Значение коэффициента $b$: тип float\n",
    "\n",
    "Выходное значение:\n",
    "\n",
    "* На выходе массив значений градиента функции ошибки $\\nabla Loss(k, b)$: тип numpy.ndarray.\n",
    "\n",
    "Нулевой элемент выходного массива - это частная производная по $k$, первый элемент частная производная по $b$.\n",
    "\n",
    "Формула градиента функции ошибки:\n",
    "\n",
    "\n",
    "$\\nabla Loss(k, b) = \\left[\\dfrac{\\delta Loss(k, b)}{\\delta k} ; \\dfrac{\\delta Loss(k, b)}{\\delta b} \\right]$\n",
    "\n",
    "$\\nabla Loss(k, b) = \\left[\\dfrac{2}{N} \\sum_{i=1}^{N} ((k X_i + b)  - y_i)X_i ; \\dfrac{2}{N}\\sum_{i=1}^{N} ((k X_i + b)  - y_i) \\right]$"
   ]
  },
  {
   "cell_type": "code",
   "execution_count": null,
   "metadata": {
    "collapsed": true
   },
   "outputs": [],
   "source": [
    "def gradient_function(X, y, k, b):\n",
    "    pass # Замените на свой код\n",
    "    \n",
    "\n",
    "k = 10\n",
    "b = -10\n",
    "grad = gradient_function(X, y, k, b)\n",
    "print(grad)"
   ]
  },
  {
   "cell_type": "markdown",
   "metadata": {},
   "source": [
    "## 4. Реализация градиентного спуска"
   ]
  },
  {
   "cell_type": "markdown",
   "metadata": {},
   "source": [
    "Для входных данных массива $X$, реального выходного значения $y$, начальных значений $k_{init}$ и $b_{init}$, значения параметра $\\alpha$ необходимо реализовать градиентный спуск. \n",
    "\n",
    "На входе:\n",
    "\n",
    "* Массив $X$: тип numpy.ndarray\n",
    "\n",
    "* Массив реальных выходных значений $y$: тип numpy.ndarray\n",
    "\n",
    "* Начальный коэффициент функции $k_{init}$: тип float\n",
    "\n",
    "* Начальный коэффициент функции $b_{init}$: тип float\n",
    "\n",
    "* Коэффициент обучения $\\alpha$: тип float\n",
    "\n",
    "* Количество итераций алгоритма $iter$: тип int\n",
    "\n",
    "Выходное значение:\n",
    "\n",
    "* На выходе кортеж со значениями коэффициентов $k$ и $b$ после градиентного спуска.\n",
    "\n",
    "Алгоритм градиентного спуска: \n",
    "\n",
    "* Выбираем начальное значение для $k$ и $b$\n",
    "* Повторяем $iter$ раз:\n",
    "\n",
    "    &nbsp;&nbsp;&nbsp;&nbsp;&nbsp;&nbsp; $b_{new} = b  - \\alpha \\cdot \\dfrac{\\delta J(k, b)}{\\delta b} $ \n",
    "    \n",
    "    &nbsp;&nbsp;&nbsp;&nbsp;&nbsp;&nbsp; $k_{new} = k - \\alpha \\cdot \\dfrac{\\delta J(k, b)}{\\delta k} $ \n",
    "    \n",
    "    &nbsp;&nbsp;&nbsp;&nbsp;&nbsp;&nbsp; $b = b_{new}$, \n",
    "    \n",
    "    &nbsp;&nbsp;&nbsp;&nbsp;&nbsp;&nbsp;  $k = k_{new}$\n",
    "   \n",
    "**Важно!** Сперва должны быть посчитаны частные производные для каждого параметра и только после этого их можно обновлять"
   ]
  },
  {
   "cell_type": "code",
   "execution_count": null,
   "metadata": {
    "collapsed": true
   },
   "outputs": [],
   "source": [
    "def gradient_descent(X, y, k_init, b_init, alpha, iters):\n",
    "    pass # Замените на свой код\n",
    "\n",
    "\n",
    "k_init = 5\n",
    "b_init = -1\n",
    "alpha = 0.75\n",
    "iters = 500\n",
    "\n",
    "k_gd, b_gd = gradient_descent(X, y, k_init, b_init, alpha, iters)\n",
    "print(f\"Значения коэффициентов k={k_gd} и b={b_gd}\")\n",
    "print(f\"Ошибка на полученых коэффицинтах: {linearn_loss_function(X, y, k_gd, b_gd)}\")"
   ]
  },
  {
   "cell_type": "markdown",
   "metadata": {},
   "source": [
    "## 5. Насладимся результатом"
   ]
  },
  {
   "cell_type": "markdown",
   "metadata": {},
   "source": [
    "В следующей ячейке можно посмотреть на полученный результат после завершения градиентного спуска."
   ]
  },
  {
   "cell_type": "code",
   "execution_count": null,
   "metadata": {
    "collapsed": true
   },
   "outputs": [],
   "source": [
    "plot_data_and_hyp_with_bias(X, y, k_gd, b_gd)"
   ]
  }
 ],
 "metadata": {
  "kernelspec": {
   "display_name": "Python 3",
   "language": "python",
   "name": "python3"
  },
  "language_info": {
   "codemirror_mode": {
    "name": "ipython",
    "version": 3
   },
   "file_extension": ".py",
   "mimetype": "text/x-python",
   "name": "python",
   "nbconvert_exporter": "python",
   "pygments_lexer": "ipython3",
   "version": "3.6.3"
  }
 },
 "nbformat": 4,
 "nbformat_minor": 2
}
