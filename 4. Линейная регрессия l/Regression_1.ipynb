{
 "cells": [
  {
   "cell_type": "markdown",
   "metadata": {},
   "source": [
    "** убрать все внешние картинки **\n",
    "\n",
    "** для всего кода прямо над клеткой ставить формулы**"
   ]
  },
  {
   "cell_type": "markdown",
   "metadata": {},
   "source": [
    "# Линейная регрессия\n",
    "\n",
    "## Почему мы изучаем ее, а не глубокие нейронные сети?\n",
    "\n",
    "В данном уроке мы изучим основные концепции и идеи, которые широко применяются в машинном обучении. Линейная регрессия достаточно простая для понимания, и она до сих пор применяется во многих задачах.\n",
    "\n",
    "** Добавить больше зачем они нужны и где применяеются сейчас. Хотя бы эксель и ClickHouse.**\n",
    "\n",
    "** Рассказать что есть из коробки. Но важно понимать инструмент. **\n",
    "\n",
    "** Расказать про sklearn **"
   ]
  },
  {
   "cell_type": "markdown",
   "metadata": {},
   "source": [
    "## Постановка задачи\n",
    "\n",
    "Представим, что мы хотим определить цену в одном доме квартиры на основании площади квартиры. \n",
    "У нас есть база данных полученная от риэлтерской компании. \n",
    "В данном случае нам нужно найти зависимость между площадью квартиры и ценой квартиры. \n",
    "\n",
    "То есть, нужно найти функцию $f(X) = y$, где $X$ это площадь квартиры, а $y$ это цена на квартиру. Это и есть задача регрессии.\n"
   ]
  },
  {
   "cell_type": "markdown",
   "metadata": {},
   "source": [
    "Пример: \n",
    "*Нам говорят, у квартиры площадь 45 квадратных метров. Мы берем это значение, помещаем в нашу функцию и получаем значение.* \n",
    "\n",
    "$f(45) = 10 000 000$\n",
    "\n",
    "*И мы говорим в ответ: она будет стоит 10 млн рублей.*\n",
    "\n",
    "** Больше про функции **"
   ]
  },
  {
   "cell_type": "markdown",
   "metadata": {},
   "source": [
    "**Другой пример регрессии.** У нас есть интернет сайт и мы хотим предсказать сколько посититлей у нас будет в в определенное время, при этом у нас есть статистика посещений сайта от времени. Наша задача - используя имеющиеся данные о загруженности в прошлом, предсказать количество поситителей в интересующиее нас время. То есть по имеющимся данным построить зависимость интересующией нас переменной от каких то других параметров."
   ]
  },
  {
   "cell_type": "markdown",
   "metadata": {},
   "source": [
    "В общем случае задача регрессии - это по входным данным найти число в каком-то *непрерывном* диапазоне. Например: $(-1, 1)$ или же $R$."
   ]
  },
  {
   "cell_type": "markdown",
   "metadata": {},
   "source": [
    "Рассмотрим подробнее пример с ценами на квартиру.\n",
    "Давайте загрузим. После этого в вектре $X$ у нас будет площадь квартиры в $м^2$, а в вектре $y$ цена на квартиру. "
   ]
  },
  {
   "cell_type": "markdown",
   "metadata": {},
   "source": [
    "** Добавить bias к данным и уменьшить таргет на миллион, что бы уменшить числа **"
   ]
  },
  {
   "cell_type": "code",
   "execution_count": 1,
   "metadata": {
    "collapsed": true
   },
   "outputs": [],
   "source": [
    "%load_ext autoreload\n",
    "%autoreload 2"
   ]
  },
  {
   "cell_type": "code",
   "execution_count": 2,
   "metadata": {
    "collapsed": true
   },
   "outputs": [],
   "source": [
    "from regression_helper import * # Подгружаем функции для визуализации\n",
    "import numpy as np              # Подгруджаем библиотеку NumPy\n",
    "\n",
    "X, y = get_data()               # Загружаем данные в X и y"
   ]
  },
  {
   "cell_type": "markdown",
   "metadata": {},
   "source": [
    "** Чуть больше показать данные **"
   ]
  },
  {
   "cell_type": "code",
   "execution_count": 3,
   "metadata": {},
   "outputs": [
    {
     "name": "stdout",
     "output_type": "stream",
     "text": [
      "   Площадь квартиры\n",
      "0                27\n",
      "1                34\n",
      "2                36\n",
      "3                42\n",
      "4                50\n",
      "5                51\n",
      "6                53\n",
      "7                66\n"
     ]
    }
   ],
   "source": [
    "visualize_X(X)    "
   ]
  },
  {
   "cell_type": "code",
   "execution_count": 4,
   "metadata": {},
   "outputs": [
    {
     "name": "stdout",
     "output_type": "stream",
     "text": [
      "   Цена квартиры\n",
      "0      5000000.0\n",
      "1      7500000.0\n",
      "2      5500000.0\n",
      "3      6600000.0\n",
      "4     10500000.0\n",
      "5      9500000.0\n",
      "6      9900000.0\n",
      "7     12000000.0\n"
     ]
    }
   ],
   "source": [
    "visualize_y(y)"
   ]
  },
  {
   "cell_type": "markdown",
   "metadata": {},
   "source": [
    "Давайте посмотрим на данные"
   ]
  },
  {
   "cell_type": "code",
   "execution_count": 5,
   "metadata": {},
   "outputs": [
    {
     "name": "stdout",
     "output_type": "stream",
     "text": [
      "[27 34 36 42 50 51 53 66]\n"
     ]
    }
   ],
   "source": [
    "print(X)"
   ]
  },
  {
   "cell_type": "markdown",
   "metadata": {},
   "source": [
    "$X_i$ в тексте - это ***X[i]*** в коде."
   ]
  },
  {
   "cell_type": "code",
   "execution_count": 6,
   "metadata": {},
   "outputs": [
    {
     "name": "stdout",
     "output_type": "stream",
     "text": [
      "27\n"
     ]
    }
   ],
   "source": [
    "print(X[0])"
   ]
  },
  {
   "cell_type": "code",
   "execution_count": 7,
   "metadata": {},
   "outputs": [
    {
     "name": "stdout",
     "output_type": "stream",
     "text": [
      "[ 6000000.  8500000.  6500000.  7600000. 11500000. 10500000. 10900000.\n",
      " 13000000.]\n"
     ]
    }
   ],
   "source": [
    "print(y)"
   ]
  },
  {
   "cell_type": "markdown",
   "metadata": {},
   "source": [
    "Отобразим эти точки на графике"
   ]
  },
  {
   "cell_type": "code",
   "execution_count": 8,
   "metadata": {},
   "outputs": [
    {
     "data": {
      "image/png": "[encoded data removed]",
      "text/plain": [
       "<Figure size 720x360 with 1 Axes>"
      ]
     },
     "metadata": {
      "needs_background": "light"
     },
     "output_type": "display_data"
    }
   ],
   "source": [
    "plot_data(X, y)      # Строим диаграму с точками"
   ]
  },
  {
   "cell_type": "markdown",
   "metadata": {},
   "source": [
    "Видим, что чем больше площадь квартиры, тем выше ее цена. Можно сделать вывод, что между этими данными есть зависимость."
   ]
  },
  {
   "cell_type": "markdown",
   "metadata": {},
   "source": [
    "Допустим мы предполагаем, что данная зависимость может описаться линейной функцией вида $y = kX$, где $X$ это площадь квартиры, а $y$ ее цена, $k$ - коэффициент который мы попытаемся подобрать."
   ]
  },
  {
   "cell_type": "markdown",
   "metadata": {},
   "source": [
    "Мы предполагаем, что данную зависимость можно описать такой функцией, это наша гипотеза. \n",
    "Давайте нанесем на график несколько линейных функций с разным коэффициентом что бы убедится, что такой вид функции подходит."
   ]
  },
  {
   "cell_type": "code",
   "execution_count": 12,
   "metadata": {},
   "outputs": [
    {
     "data": {
      "application/vnd.jupyter.widget-view+json": {
       "model_id": "bea01315e0e449329f498659f09fa569",
       "version_major": 2,
       "version_minor": 0
      },
      "text/plain": [
       "interactive(children=(IntSlider(value=170000, description='k', max=220000, min=150000, step=2000), Output()), …"
      ]
     },
     "metadata": {},
     "output_type": "display_data"
    }
   ],
   "source": [
    "choose_slope(X, y)"
   ]
  },
  {
   "cell_type": "markdown",
   "metadata": {},
   "source": [
    "Реализуем эту функцию."
   ]
  },
  {
   "cell_type": "markdown",
   "metadata": {},
   "source": [
    "** Начать с реализации с фором.**"
   ]
  },
  {
   "cell_type": "code",
   "execution_count": 13,
   "metadata": {},
   "outputs": [
    {
     "name": "stdout",
     "output_type": "stream",
     "text": [
      "[2700000 3400000 3600000 4200000 5000000 5100000 5300000 6600000]\n"
     ]
    }
   ],
   "source": [
    "def f(X, k):\n",
    "    return k*X\n",
    "\n",
    "print(f(X=X, k=100000))"
   ]
  },
  {
   "cell_type": "markdown",
   "metadata": {},
   "source": [
    "## Функция ошибки\n",
    "\n",
    "У нас есть гипотезы. Но как численно определить какая из них лучшая?"
   ]
  },
  {
   "cell_type": "markdown",
   "metadata": {},
   "source": [
    "Для это введем функцию ошибку, также известную как функцию потерь. Функция ошибки - численное значение того, как наша гипотеза хорошо моделирует функцию. Обозначается функция потерь как $Loss$, $L$ или $J$. \n",
    "\n",
    "** Объяснить что L - это правдоподобие и лучше не занимать что есть **"
   ]
  },
  {
   "cell_type": "markdown",
   "metadata": {},
   "source": [
    "** Каждая формула на отдельной строке **\n",
    "\n",
    "Пусть у нас есть функция (наша модель)  $\\hat{y} = f(X) = kX$. То есть, $\\hat{y}$ является предсказанными нами значениями для $X$. А настоящие значения будут равны $y$. Тогда ошибку нашего предсказания на $i$-ом примере можно посчитать, как: $\\hat{y_i} - y_i$. Если нам не важно в большую или в меньшую сторону мы ошибаемся, можем избавиться от знака, взяв либо модуль либо квадрат ошибки. Для начала давайте возьмем квадрат. Тогда ошибка $j(k)$ на i-ом примере будет равна $j(k) = (\\hat{y_i} - y_i)^2 = (kX_i - y_i)^2$"
   ]
  },
  {
   "cell_type": "code",
   "execution_count": 15,
   "metadata": {},
   "outputs": [
    {
     "data": {
      "application/vnd.jupyter.widget-view+json": {
       "model_id": "30c940e3a5c44f578a239f0654fccf27",
       "version_major": 2,
       "version_minor": 0
      },
      "text/plain": [
       "interactive(children=(IntSlider(value=170000, description='k', max=220000, min=150000, step=2000), Output()), …"
      ]
     },
     "metadata": {},
     "output_type": "display_data"
    }
   ],
   "source": [
    "plot_data_and_error(X, y)"
   ]
  },
  {
   "cell_type": "code",
   "execution_count": 16,
   "metadata": {},
   "outputs": [
    {
     "name": "stdout",
     "output_type": "stream",
     "text": [
      "Разница на сэмпле 0 равна -600000.0\n",
      "Разница на сэмпле 1 равна -1700000.0\n",
      "Разница на сэмпле 2 равна 700000.0\n",
      "Разница на сэмпле 3 равна 800000.0\n",
      "Разница на сэмпле 4 равна -1500000.0\n",
      "Разница на сэмпле 5 равна -300000.0\n",
      "Разница на сэмпле 6 равна -300000.0\n",
      "Разница на сэмпле 7 равна 200000.0\n"
     ]
    }
   ],
   "source": [
    "k = 200000\n",
    "for i in range(X.shape[0]): \n",
    "    diff = f(X[i], k) - y[i]\n",
    "    print(f\"Разница на сэмпле {i} равна {diff}\")"
   ]
  },
  {
   "cell_type": "code",
   "execution_count": 17,
   "metadata": {},
   "outputs": [
    {
     "name": "stdout",
     "output_type": "stream",
     "text": [
      "Квадрат разницы на сэмпле 0 равен 360000000000.0\n",
      "Квадрат разницы на сэмпле 1 равен 2890000000000.0\n",
      "Квадрат разницы на сэмпле 2 равен 490000000000.0\n",
      "Квадрат разницы на сэмпле 3 равен 640000000000.0\n",
      "Квадрат разницы на сэмпле 4 равен 2250000000000.0\n",
      "Квадрат разницы на сэмпле 5 равен 90000000000.0\n",
      "Квадрат разницы на сэмпле 6 равен 90000000000.0\n",
      "Квадрат разницы на сэмпле 7 равен 40000000000.0\n"
     ]
    }
   ],
   "source": [
    "k = 200000\n",
    "for i in range(X.shape[0]): \n",
    "    diff_quad = (f(X[i], k) - y[i])**2\n",
    "    print(f\"Квадрат разницы на сэмпле {i} равен {diff_quad}\")"
   ]
  },
  {
   "cell_type": "markdown",
   "metadata": {},
   "source": [
    "Но это на одном примере. А на всех?"
   ]
  },
  {
   "cell_type": "markdown",
   "metadata": {},
   "source": [
    "**Разбить формулы **\n",
    "\n",
    "Тогда мы можем посчитать суммарную ошибку $J(k)$ на всех примерах:\n",
    "\n",
    "$J(k) = \\frac{1}{N}\\sum_{i=0}^{N}{(\\hat{y_i} - y_i)^2}= \\frac{1}{N} \\sum_{i=0}^{N}{(f(X_i) - y_i)^2} = \\frac{1}{N} \\sum_{i=0}^{N}{(kX_i - y_i)^2} $\n",
    "\n",
    "Где $N$ - это количество квартир, $X_i$ - это площадь i-oй квартиры, $y_i$ - цена для i-oй квартиры, $\\hat{y_i}$ - предсказанная цена для i-oй квартиры."
   ]
  },
  {
   "cell_type": "markdown",
   "metadata": {},
   "source": [
    "***Немного про нотацию*** \n",
    "\n",
    "Функция потерь формально зависит от входных данных, реальных выходных данных, вида функции и параметров этой функции. \n",
    "\n",
    "То есть, $J(X, y, f, k)$. Но обычно, для краткости, мы предполагаем, что мы используем текущие X, y и f и пишем, что функция потерь зависит только от параметров функции."
   ]
  },
  {
   "cell_type": "markdown",
   "metadata": {},
   "source": [
    "Давайте визуализируем ошибки для наших гипотез."
   ]
  },
  {
   "cell_type": "markdown",
   "metadata": {},
   "source": [
    "** Подробнее по строчкам **"
   ]
  },
  {
   "cell_type": "code",
   "execution_count": 18,
   "metadata": {},
   "outputs": [
    {
     "name": "stdout",
     "output_type": "stream",
     "text": [
      "3.6039875\n"
     ]
    }
   ],
   "source": [
    "# реализация функции ошибки\n",
    "\n",
    "def loss_function(k, X, y):\n",
    "    \n",
    "    N = X.shape[0]       # получаем размер вектора столбца\n",
    "    # или N = len(X)\n",
    "   \n",
    "    J = np.sum((k*X - y)**2)/N\n",
    "    # или J = np.mean((k*X - y)**2)\n",
    "    return J\n",
    "\n",
    "k = 170000\n",
    "print(loss_function(k, X, y) / 1e12)"
   ]
  },
  {
   "cell_type": "code",
   "execution_count": 19,
   "metadata": {},
   "outputs": [
    {
     "data": {
      "application/vnd.jupyter.widget-view+json": {
       "model_id": "08646472ef954a3b87b6039229a08c13",
       "version_major": 2,
       "version_minor": 0
      },
      "text/plain": [
       "interactive(children=(IntSlider(value=170000, description='k', max=220000, min=150000, step=2000), Output()), …"
      ]
     },
     "metadata": {},
     "output_type": "display_data"
    }
   ],
   "source": [
    "plot_data_and_J(X, y)"
   ]
  },
  {
   "cell_type": "markdown",
   "metadata": {
    "collapsed": true
   },
   "source": [
    "Давайте теперь визуализируем всю функцию ошибки для всех функция значений $k$."
   ]
  },
  {
   "cell_type": "markdown",
   "metadata": {},
   "source": [
    "**Объяснить что это не аналитическая форма. Расказать что это  создано фором и можно сделать только для данного случая **"
   ]
  },
  {
   "cell_type": "code",
   "execution_count": 20,
   "metadata": {},
   "outputs": [
    {
     "data": {
      "image/png": "[encoded data removed]",
      "text/plain": [
       "<Figure size 720x360 with 1 Axes>"
      ]
     },
     "metadata": {
      "needs_background": "light"
     },
     "output_type": "display_data"
    }
   ],
   "source": [
    "plot_all_J(X, y)"
   ]
  },
  {
   "cell_type": "markdown",
   "metadata": {},
   "source": [
    "## Производная\n",
    "\n",
    "Наша задачи - это минимизации функции ошибки. \n",
    "Я думаю, что вы знаете как можно найти значение минимума для данной функции. Нужно взять производную функции ошибки и приравнять ее к нулю. $J'(k) = \\frac{dJ(k)}{dk} = 0$.\n",
    "\n",
    "** Доходчиво разъяснить почему это невозможно сделать всегда**"
   ]
  },
  {
   "cell_type": "markdown",
   "metadata": {
    "collapsed": true
   },
   "source": [
    "** Сделать либо гифку либо по слайдеру**"
   ]
  },
  {
   "cell_type": "markdown",
   "metadata": {
    "collapsed": true
   },
   "source": [
    "В данном случае для какой-то точки $x_0$ производную можно рассматривать $f'(x_0) = \\frac{d f(x_0)}{dx} = \\frac{f(x_0+\\Delta x) - f(x_0)}{\\Delta x}, \\Delta x \\rightarrow 0$ \n",
    "\n",
    "<img src=\"img/der.png\" alt=\"Drawing\" style=\"width: 500px;\"/>"
   ]
  },
  {
   "cell_type": "markdown",
   "metadata": {},
   "source": [
    "Можно считать, что производная в точке показывает \"скорость\" изменения функции. Она положительна если функция растет и отрицательно, когда убывает.\n",
    "\n",
    "Еще ее можно интерпретировать как угол наклона $\\alpha$ касательной.\n",
    "\n",
    "Обычно пишут что $f'(x) = tg(\\alpha)$.\n",
    "\n",
    "Точках перегиба, производная равна 0. А точки перегиба - это когда функция принимает максимальные и минимальные значения."
   ]
  },
  {
   "cell_type": "markdown",
   "metadata": {},
   "source": [
    "При взятии производной сложной функции использоваться chain rule:\n",
    "\n",
    "**Chain рул нужно расписать до интуции **\n",
    "\n",
    "$u = \\phi(x)$\n",
    "\n",
    "$y= f(u)$\n",
    "\n",
    "$\\frac{dy}{dx} = \\frac{df(u)}{du} \\cdot \\frac{du(x)}{dx}$\n",
    "\n",
    "Производная суммы/разности равна сумме/разности производных:\n",
    "\n",
    "** Расписать все правила и добавить примеры произоводных для этих правил  **\n",
    "\n",
    "$(f_1(x) + f_2(x))' = f_1'(x) + f_2'(x)$"
   ]
  },
  {
   "cell_type": "markdown",
   "metadata": {},
   "source": [
    "### Пример 1 ###\n",
    "\n",
    "$y = sin(3x - 5)$\n",
    "\n",
    "$u = 3x - 5$\n",
    "\n",
    "$y = sin(u)$\n",
    "\n",
    "$\\frac{dy}{dx} = \\frac{d sin(u)}{du} \\cdot \\frac{d(3x - 5)}{dx}$ \n",
    "\n",
    "\n",
    "$\\frac{d sin(u)}{du} = cos(u)$\n",
    "\n",
    "$\\frac{d(3x - 5)}{dx} = 3$\n",
    "\n",
    "\n",
    "$\\frac{dy}{dx} = 3cos(3x - 5)$"
   ]
  },
  {
   "cell_type": "markdown",
   "metadata": {},
   "source": [
    "### Пример 2 ###\n",
    "\n",
    "$y = (10x^2 + x)^3$\n",
    "\n",
    "$u = 10x^2 + x$\n",
    "\n",
    "$y = u^3$\n",
    "\n",
    "$\\frac{dy}{dx} = \\frac{d  u^3}{du} \\cdot \\frac{d(10x^2 + x)}{dx}$ \n",
    "\n",
    "\n",
    "$\\frac{d  u^3}{du} = 3u^2$\n",
    "\n",
    "$\\frac{d(10x^2 + x)}{dx} = 20x + 1$\n",
    "\n",
    "$\\frac{dy}{dx} = 3u^2 \\cdot(20x + 1) = 3(10x^2 + x)^2 \\cdot(20x + 1) $"
   ]
  },
  {
   "cell_type": "markdown",
   "metadata": {
    "collapsed": true
   },
   "source": [
    "Таким образом, в нашем случае:\n",
    "\n",
    "$ J'(k) = \\frac{dJ(k)}{dk} = \\frac{d}{dk}(\\frac{1}{N}\\sum_{i=1}^{N}{(y_i - \\hat{y_i})^2}) \n",
    "= 2 \\cdot \\frac{1}{N}\\sum_{i=1}^{N} (kX_i - y_i)\\frac{d}{dk}(kX_i - y_i) =\n",
    "          \\frac{1}{N} \\sum_{i=1}^{N} (kX_i - y_i)X_i$ \n",
    "          \n",
    "И для нахождения минимума нужно приравнять производную к нулю и решаем уравнение относительно k. \n",
    "\n",
    "$ \\frac{dJ(k)}{dk} = 0$\n",
    "\n",
    "Решив уравнение, мы получим значение для $k=185072.4$"
   ]
  },
  {
   "cell_type": "code",
   "execution_count": null,
   "metadata": {
    "collapsed": true
   },
   "outputs": [],
   "source": [
    "plot_data_and_hyp(X, y, 185072.4)"
   ]
  },
  {
   "cell_type": "markdown",
   "metadata": {
    "collapsed": true
   },
   "source": [
    "Но в реальных приложениях не всегда возможно решить это уравнение (далее я расскажу поподробнее о таких ситуациях). \n",
    "\n",
    "Поэтому, познакомимся с таким алгоритмом как градиентный спуск. \n",
    "\n",
    "Данный алгоритм является одним самых распространенных алгоритмов в машинном обучении."
   ]
  },
  {
   "cell_type": "markdown",
   "metadata": {},
   "source": [
    "** показать значение производной в точках со слайдером **\n",
    "\n",
    "** Полный график производной **\n",
    "\n",
    "** Показать что производная слишком большая и нельзя так прыгать используя только ее ** \n",
    "\n",
    "** Показать что чем больше ошибка, тем больше производная, для MSE **"
   ]
  },
  {
   "cell_type": "code",
   "execution_count": null,
   "metadata": {
    "collapsed": true
   },
   "outputs": [],
   "source": [
    "plot_all_J_with_der(X, y)"
   ]
  },
  {
   "cell_type": "markdown",
   "metadata": {},
   "source": [
    "## Градиентный спуск\n",
    "\n",
    "** переписать менее математично **\n",
    "\n",
    "** объяснить альфу **\n",
    "\n",
    "Как вызнаете, значение производной в точке равно значению тангенса угла наклона касательной в данной точке или же показывает растет ли функция или убывает.\n",
    "\n",
    "Использую эту информацию мы можем понять где находится минимум и изменить значение $k$ в сторону минимума. \n",
    "\n",
    "* Если производная положительная (как касательная в точке 190000), то нам нужно уменьшать значение $k$. \n",
    "* Если производная отрицательная (как касательная в точке 180000), то нам нужно увеличить значение $k$.  \n",
    "\n",
    "Таким образом сам алгоритм градиентного спуска можно описать следующим образом.\n",
    "\n",
    "* Выбираем случайное значение для $k$\n",
    "* Повторить пока не сойдется:\n",
    "\n",
    "&nbsp;&nbsp;&nbsp;&nbsp;&nbsp;&nbsp; $k_{new} = k - \\alpha \\cdot \\frac{d}{dk} J(k)$\n",
    "\n",
    "&nbsp;&nbsp;&nbsp;&nbsp;&nbsp;&nbsp; $k = k_{new}$\n",
    "\n",
    "Где $\\alpha$ это коэффициент, который мы выбреем. "
   ]
  },
  {
   "cell_type": "code",
   "execution_count": null,
   "metadata": {
    "collapsed": true
   },
   "outputs": [],
   "source": [
    "def gradient_function(k, X, y):\n",
    "    N = X.shape[0]       \n",
    "    grad = 2*np.sum((k * X - y) * X) / N                       \n",
    "    return grad   \n",
    "\n",
    "k = 170000\n",
    "print(gradient_function(k, X, y))"
   ]
  },
  {
   "cell_type": "code",
   "execution_count": null,
   "metadata": {
    "collapsed": true
   },
   "outputs": [],
   "source": [
    "def gradient_descent(k_init, X, y, alpha, iters):\n",
    "    k = k_init\n",
    "    for i in range (0, iters):\n",
    "        k = k - (alpha * gradient_function(k, X, y))\n",
    "    return k\n",
    "\n",
    "k_init = 170000 \n",
    "alpha = 0.0001\n",
    "iters = 10\n",
    "gradient_descent(k_init, X, y, alpha, iters)"
   ]
  },
  {
   "cell_type": "markdown",
   "metadata": {},
   "source": [
    "Аналитически подсчитаный k = 185072.4"
   ]
  },
  {
   "cell_type": "markdown",
   "metadata": {},
   "source": [
    "Рассмотрим как ведет себя алгоритм с различными $\\alpha$"
   ]
  },
  {
   "cell_type": "markdown",
   "metadata": {},
   "source": [
    "** гифка или слйдер с лучшей визулизацией **"
   ]
  },
  {
   "cell_type": "code",
   "execution_count": null,
   "metadata": {
    "collapsed": true
   },
   "outputs": [],
   "source": [
    "Traice(X, y)"
   ]
  },
  {
   "cell_type": "markdown",
   "metadata": {},
   "source": [
    "# Немного усложним пример"
   ]
  },
  {
   "cell_type": "markdown",
   "metadata": {},
   "source": [
    "В качестве гипотезы мы использовали функцияю вида $f(X) = kX$.\n",
    "\n",
    "Многие из вас могли заметить, что это не совсем линейная функция. Линейная фунция на самом деле выглядит так:\n",
    "\n",
    "$f(X) = kX + b$.\n",
    "\n",
    "Давайте изменим гипотезу и теперь будем использовать \"настоящую\" линейную функцию.\n",
    "\n",
    "Но давайте немного изменим обозначения."
   ]
  },
  {
   "cell_type": "code",
   "execution_count": 49,
   "metadata": {
    "collapsed": true
   },
   "outputs": [],
   "source": [
    "import regression_helper\n",
    "\n",
    "X, y = get_data()"
   ]
  },
  {
   "cell_type": "code",
   "execution_count": 50,
   "metadata": {},
   "outputs": [
    {
     "name": "stdout",
     "output_type": "stream",
     "text": [
      "[260 330 350 410 490 500 520 650]\n"
     ]
    }
   ],
   "source": [
    "def f(X, k, b):\n",
    "    return k*X + b\n",
    "\n",
    "print(f(X=X, k=10, b=-10))"
   ]
  },
  {
   "cell_type": "markdown",
   "metadata": {},
   "source": [
    "Перепишем функцию ошибки:\n",
    "\n",
    "$\\hat{y} = f(X) = kX + b$. То есть, $\\hat{y}$ является предсказанными нами значениями для $X$. \n",
    "А настоящие значения будут равны $y$. \n",
    "\n",
    "Тогда ошибка на одном примере равна $j(k, b)$ на i-ом примере будет равна $j(k, b) = (\\hat{y_i} - y_i)^2 = ((kX_i + b) - y_i)^2$\n",
    "\n",
    "$J(k, b) = \\frac{1}{N}\\sum_{i=0}^{N}{(\\hat{y_i} - y_i)^2}= \\frac{1}{N} \\sum_{i=0}^{N}{((kX_i + b) - y_i)^2} $\n",
    "\n",
    "То есть теперь у нас ошибка зависит не только от $k$, но и от $b$."
   ]
  },
  {
   "cell_type": "code",
   "execution_count": 51,
   "metadata": {},
   "outputs": [
    {
     "name": "stdout",
     "output_type": "stream",
     "text": [
      "1.235121\n"
     ]
    }
   ],
   "source": [
    "def linearn_loss_function(k, b, X, y):\n",
    "    \n",
    "    N = X.shape[0]       # получаем размер вектора столбца\n",
    "    # или N = len(X)\n",
    "   \n",
    "    J = np.sum(((k*X + b) - y)**2)/N\n",
    "    # или J = np.mean((k*X - y)**2)/N\n",
    "    return J\n",
    "\n",
    "k = 170000\n",
    "print(linearn_loss_function(k=k, b=1000, X=X, y=y) / 1e12)"
   ]
  },
  {
   "cell_type": "code",
   "execution_count": 54,
   "metadata": {},
   "outputs": [
    {
     "data": {
      "application/vnd.jupyter.widget-view+json": {
       "model_id": "bd6cb6f3ebf5490abd65de5c8129c182",
       "version_major": 2,
       "version_minor": 0
      },
      "text/plain": [
       "interactive(children=(IntSlider(value=0, description='Вертикальное', max=180), IntSlider(value=45, description…"
      ]
     },
     "metadata": {},
     "output_type": "display_data"
    }
   ],
   "source": [
    "plot_linear_loss_in_3d(X, y)"
   ]
  },
  {
   "cell_type": "markdown",
   "metadata": {},
   "source": [
    "## Градиент"
   ]
  },
  {
   "cell_type": "markdown",
   "metadata": {},
   "source": [
    "Давайте введем понятие градиента.\n",
    "\n",
    "Градиент фунцкии $\\phi(x_0, x_1, \\ldots x_N)$ от N переменных это \n",
    "\n",
    "N значений: $\\frac{\\delta \\phi(x_0, x_1, \\ldots x_N)}{\\delta x_0}, \\frac{\\delta \\phi(x_0, x_1, \\ldots x_N)}{\\delta x_1}, \\ldots \\frac{\\delta \\phi(x_0, x_1, \\ldots x_N)}{\\delta x_N}$\n",
    "\n",
    "По сути - это координаты вектора, со значениями производных по разным осям. \n",
    "\n",
    "\n",
    "$\\phi(x, y) = z$ \n",
    "\n",
    "$grad = \\frac{\\delta \\phi(x, y)}{\\delta x} \\cdot \\overleftarrow{i} + \\frac{\\delta \\phi(x, y)}{\\delta y} \\cdot \\overleftarrow{j}$\n",
    "\n",
    "\n",
    "<img src=\"img/grad.png\" alt=\"Drawing\" style=\"width: 700px;\"/>\n",
    "\n",
    "** добавить рисунок вида сверху и прямо показать стрелки с градинтами для точки**"
   ]
  },
  {
   "cell_type": "markdown",
   "metadata": {},
   "source": [
    "**Пример градиента от функции двух переменых**"
   ]
  },
  {
   "cell_type": "markdown",
   "metadata": {},
   "source": [
    "Тогда определим нашу функцию ошибки от параметров $k, b$:\n",
    "\n",
    "$J(k, b) = \\frac{1}{N}\\sum_{i=1}^{N}{(\\hat{y_i} - y_i)^2}= \\frac{1}{N} \\sum_{i=1}^{N}{( (k X + b)  - y_i)^2}$\n",
    "\n",
    "Для нахождения этих коэффициентов также используем градиентный спуск. Но теперь нам необходимо найти производную от функции ошибки для каждого параметра.\n",
    "\n",
    "$\\frac{\\delta  J(k, b)}{\\delta b} = \\frac{2}{N}\\sum_{i=1}^{N} ((k X_i + b)  - y_i)$ \n",
    "\n",
    "$\\frac{\\delta J(k, b)}{\\delta k} = \\frac{2}{N}\\sum_{i=1}^{N} ((k X_i + b)  - y_i)X_i$ \n"
   ]
  },
  {
   "cell_type": "markdown",
   "metadata": {},
   "source": [
    "Тогда алгоритм градиентного спуска можно описать следующим образом:\n",
    "\n",
    "* Выбираем случайное значение для $k$ и $b$\n",
    "* Повторить пока не сойдется:\n",
    "\n",
    "    &nbsp;&nbsp;&nbsp;&nbsp;&nbsp;&nbsp; $b_{new} = b  - \\alpha \\cdot \\frac{\\delta }{\\delta b} J(k, b)$ \n",
    "    \n",
    "    &nbsp;&nbsp;&nbsp;&nbsp;&nbsp;&nbsp; $k_{new} = k - \\alpha \\cdot \\frac{\\delta }{\\delta k} J(k, b)$ \n",
    "    \n",
    "    &nbsp;&nbsp;&nbsp;&nbsp;&nbsp;&nbsp; $b = b_{new}$, \n",
    "    \n",
    "    &nbsp;&nbsp;&nbsp;&nbsp;&nbsp;&nbsp;  $k = k_{new}$\n",
    "    \n",
    "\n",
    "Где $\\alpha$ это коэффициент, который мы выбираем. "
   ]
  },
  {
   "cell_type": "code",
   "execution_count": 86,
   "metadata": {},
   "outputs": [
    {
     "name": "stdout",
     "output_type": "stream",
     "text": [
      "[-57407500.  -1167500.]\n"
     ]
    }
   ],
   "source": [
    "def gradient_function(k, b, X, y):\n",
    "    N = X.shape[0]       \n",
    "    grad_b = 2*np.sum(((k * X + b) - y)) / N                       \n",
    "    grad_k = 2*np.sum(((k * X + b) - y) * X) / N                       \n",
    "    return np.array([grad_k, grad_b])\n",
    "\n",
    "k = 170000\n",
    "b = 100000\n",
    "print(gradient_function(k, b, X, y))"
   ]
  },
  {
   "cell_type": "code",
   "execution_count": 87,
   "metadata": {},
   "outputs": [
    {
     "data": {
      "text/plain": [
       "(185366.1109139422, 303.331098831608)"
      ]
     },
     "execution_count": 87,
     "metadata": {},
     "output_type": "execute_result"
    }
   ],
   "source": [
    "def gradient_descent(k_init, b_init, X, y, alpha, iters):\n",
    "    k = k_init\n",
    "    b = b_init\n",
    "    for i in range (0, iters):\n",
    "        gradients = gradient_function(k, b, X, y)\n",
    "        k = k - (alpha * gradients[0])\n",
    "        b = b - (alpha * gradients[1])\n",
    "    return k, b\n",
    "\n",
    "k_init = 170000 \n",
    "b_init = 0\n",
    "alpha = 0.0001\n",
    "iters = 10\n",
    "gradient_descent(k_init, b_init, X, y, alpha, iters)"
   ]
  },
  {
   "cell_type": "code",
   "execution_count": 98,
   "metadata": {},
   "outputs": [
    {
     "data": {
      "application/vnd.jupyter.widget-view+json": {
       "model_id": "65fff74b945d47e995b17b3dad603882",
       "version_major": 2,
       "version_minor": 0
      },
      "text/plain": [
       "interactive(children=(IntSlider(value=0, description='Вертикальное', max=90), IntSlider(value=0, description='…"
      ]
     },
     "metadata": {},
     "output_type": "display_data"
    },
    {
     "data": {
      "text/plain": [
       "(214065.49560396338, -70722.90807289406)"
      ]
     },
     "execution_count": 98,
     "metadata": {},
     "output_type": "execute_result"
    }
   ],
   "source": [
    "a=0.00001\n",
    "lin_grad_linear(X, y, alpha=a, iters=50, k_init=500000, b_init=-100)"
   ]
  }
 ],
 "metadata": {
  "anaconda-cloud": {},
  "kernelspec": {
   "display_name": "Python 3",
   "language": "python",
   "name": "python3"
  },
  "language_info": {
   "codemirror_mode": {
    "name": "ipython",
    "version": 3
   },
   "file_extension": ".py",
   "mimetype": "text/x-python",
   "name": "python",
   "nbconvert_exporter": "python",
   "pygments_lexer": "ipython3",
   "version": "3.6.3"
  },
  "widgets": {
   "state": {
    "03fc38044a514408b9de41fa70bf122f": {
     "views": [
      {
       "cell_index": 17
      }
     ]
    },
    "19b7b5447a594ae1a20b764ac13118cc": {
     "views": [
      {
       "cell_index": 15
      }
     ]
    },
    "28304c0dfbab44f5a851af84bf5947d3": {
     "views": [
      {
       "cell_index": 21
      }
     ]
    },
    "3f700e837fd046ddb14ee8776ac8bc04": {
     "views": [
      {
       "cell_index": 31
      }
     ]
    },
    "50d7c06a111e43c1860a5b10a576bfd3": {
     "views": [
      {
       "cell_index": 23
      }
     ]
    },
    "a74e340d7bb24d9bb020ad7dd982e764": {
     "views": [
      {
       "cell_index": 19
      }
     ]
    },
    "d5593dc80c0445c7ae64c7da2d37f72f": {
     "views": [
      {
       "cell_index": 5
      }
     ]
    },
    "d644b9b546b849c6b17acb3be1f1952b": {
     "views": [
      {
       "cell_index": 3
      }
     ]
    },
    "eac5158d5b6c45c4afa73b58b8b0e58a": {
     "views": [
      {
       "cell_index": 7
      }
     ]
    },
    "f4cec2743faf43ad9b8e7c828c6ee76a": {
     "views": [
      {
       "cell_index": 27
      }
     ]
    }
   },
   "version": "1.2.0"
  }
 },
 "nbformat": 4,
 "nbformat_minor": 1
}
