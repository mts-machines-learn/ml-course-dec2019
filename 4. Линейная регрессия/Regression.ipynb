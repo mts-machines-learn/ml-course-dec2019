{
 "cells": [
  {
   "cell_type": "markdown",
   "metadata": {},
   "source": [
    "# Линейная регрессия\n",
    "\n",
    "## Постановка задачи\n",
    "\n",
    "Представим, что мы хотим определить цену в одном доме квартиры на основании площади квартиры. У нас есть база данных полученная от риэлтерской компании. В данном случае нам нужно найти зависимость между площадью квартиры и ценой квартиры. То есть, нужно найти функцию $f(X) = y$, где $X$ это площадь квартиры, а $y$ это цена на квартиру. Это и есть задача регрессии.\n",
    "\n",
    "Другой пример. У нас есть интернет сайт и мы хотим предсказать сколько посититлей у нас будет в в определенное время, при этом у нас есть статистика посещений сайта от времени. Наша задача - используя имеющиеся данные о загруженности в прошлом, предсказать количество поситителей в интересующиее нас время. Тоесть по имеющимся данным построить зависимость интересующией нас переменной от каких то других параметров.\n",
    "\n",
    "Рассмотрим подробнее пример с ценами на квартиру.\n",
    "Давайте загрузим и визуализируем данные. Для этого нажмите *Ctrl+Enter* на следующей ячейке. После этого в вектре $X$ у нас будет площадь квартиры в $м^2$, а в вектре $y$ цена на квартиру. А внизу ячейки у нас будет диаграмму с точками."
   ]
  },
  {
   "cell_type": "markdown",
   "metadata": {},
   "source": [
    "Допустим мы знаем площадь и цены некоторых квартир в похожих домах"
   ]
  },
  {
   "cell_type": "code",
   "execution_count": 2,
   "metadata": {},
   "outputs": [],
   "source": [
    "from regression_helper import * # не обращайте внимание на эту строчку\n",
    "X, y = get_data()    # Загружаем данные в X и y"
   ]
  },
  {
   "cell_type": "code",
   "execution_count": 3,
   "metadata": {},
   "outputs": [
    {
     "data": {
      "text/html": [
       "<div>\n",
       "<style scoped>\n",
       "    .dataframe tbody tr th:only-of-type {\n",
       "        vertical-align: middle;\n",
       "    }\n",
       "\n",
       "    .dataframe tbody tr th {\n",
       "        vertical-align: top;\n",
       "    }\n",
       "\n",
       "    .dataframe thead th {\n",
       "        text-align: right;\n",
       "    }\n",
       "</style>\n",
       "<table border=\"1\" class=\"dataframe\">\n",
       "  <thead>\n",
       "    <tr style=\"text-align: right;\">\n",
       "      <th></th>\n",
       "      <th>Площадь квартиры</th>\n",
       "    </tr>\n",
       "  </thead>\n",
       "  <tbody>\n",
       "    <tr>\n",
       "      <th>0</th>\n",
       "      <td>27</td>\n",
       "    </tr>\n",
       "    <tr>\n",
       "      <th>1</th>\n",
       "      <td>34</td>\n",
       "    </tr>\n",
       "    <tr>\n",
       "      <th>2</th>\n",
       "      <td>36</td>\n",
       "    </tr>\n",
       "    <tr>\n",
       "      <th>3</th>\n",
       "      <td>42</td>\n",
       "    </tr>\n",
       "    <tr>\n",
       "      <th>4</th>\n",
       "      <td>50</td>\n",
       "    </tr>\n",
       "    <tr>\n",
       "      <th>5</th>\n",
       "      <td>51</td>\n",
       "    </tr>\n",
       "    <tr>\n",
       "      <th>6</th>\n",
       "      <td>53</td>\n",
       "    </tr>\n",
       "    <tr>\n",
       "      <th>7</th>\n",
       "      <td>66</td>\n",
       "    </tr>\n",
       "  </tbody>\n",
       "</table>\n",
       "</div>"
      ],
      "text/plain": [
       "   Площадь квартиры\n",
       "0                27\n",
       "1                34\n",
       "2                36\n",
       "3                42\n",
       "4                50\n",
       "5                51\n",
       "6                53\n",
       "7                66"
      ]
     },
     "execution_count": 3,
     "metadata": {},
     "output_type": "execute_result"
    }
   ],
   "source": [
    "pd.DataFrame(X, columns=['Площадь квартиры'])"
   ]
  },
  {
   "cell_type": "code",
   "execution_count": 4,
   "metadata": {},
   "outputs": [
    {
     "data": {
      "text/html": [
       "<div>\n",
       "<style scoped>\n",
       "    .dataframe tbody tr th:only-of-type {\n",
       "        vertical-align: middle;\n",
       "    }\n",
       "\n",
       "    .dataframe tbody tr th {\n",
       "        vertical-align: top;\n",
       "    }\n",
       "\n",
       "    .dataframe thead th {\n",
       "        text-align: right;\n",
       "    }\n",
       "</style>\n",
       "<table border=\"1\" class=\"dataframe\">\n",
       "  <thead>\n",
       "    <tr style=\"text-align: right;\">\n",
       "      <th></th>\n",
       "      <th>Цена квартиры</th>\n",
       "    </tr>\n",
       "  </thead>\n",
       "  <tbody>\n",
       "    <tr>\n",
       "      <th>0</th>\n",
       "      <td>27</td>\n",
       "    </tr>\n",
       "    <tr>\n",
       "      <th>1</th>\n",
       "      <td>34</td>\n",
       "    </tr>\n",
       "    <tr>\n",
       "      <th>2</th>\n",
       "      <td>36</td>\n",
       "    </tr>\n",
       "    <tr>\n",
       "      <th>3</th>\n",
       "      <td>42</td>\n",
       "    </tr>\n",
       "    <tr>\n",
       "      <th>4</th>\n",
       "      <td>50</td>\n",
       "    </tr>\n",
       "    <tr>\n",
       "      <th>5</th>\n",
       "      <td>51</td>\n",
       "    </tr>\n",
       "    <tr>\n",
       "      <th>6</th>\n",
       "      <td>53</td>\n",
       "    </tr>\n",
       "    <tr>\n",
       "      <th>7</th>\n",
       "      <td>66</td>\n",
       "    </tr>\n",
       "  </tbody>\n",
       "</table>\n",
       "</div>"
      ],
      "text/plain": [
       "   Цена квартиры\n",
       "0             27\n",
       "1             34\n",
       "2             36\n",
       "3             42\n",
       "4             50\n",
       "5             51\n",
       "6             53\n",
       "7             66"
      ]
     },
     "execution_count": 4,
     "metadata": {},
     "output_type": "execute_result"
    }
   ],
   "source": [
    "pd.DataFrame(X, columns=['Цена квартиры'])"
   ]
  },
  {
   "cell_type": "markdown",
   "metadata": {},
   "source": [
    "Отобразим эти точки на графике"
   ]
  },
  {
   "cell_type": "code",
   "execution_count": 5,
   "metadata": {},
   "outputs": [
    {
     "data": {
      "image/png": "[encoded data removed]",
      "text/plain": [
       "<Figure size 432x288 with 1 Axes>"
      ]
     },
     "metadata": {},
     "output_type": "display_data"
    }
   ],
   "source": [
    "plot_data(X, y)      # Строим диаграму с точками"
   ]
  },
  {
   "cell_type": "markdown",
   "metadata": {},
   "source": [
    "Видим, что чем больше площадь квартиры, тем выше ее цена. Можно сделать вывод, что между этими данными есть зависимость. Что если мы хотим расчитать стоимость квартиры с площадью 45, 60, и 25 ${м^2}$. Для данной задачи потребуется найти такую зависимость."
   ]
  },
  {
   "cell_type": "markdown",
   "metadata": {},
   "source": [
    "Допустим мы предполагаем, что данная зависимость может описаться линейной функцией вида $y = kX$, где $X$ это площадь квартиры, а $y$ ее цена, $k$ - коэффициент который мы попытаемся подобрать. Данную зависимость мы предлполагаем, это наша гипотеза. Давайте нанесем на график несколько линейных функций с разным коэффициентом."
   ]
  },
  {
   "cell_type": "code",
   "execution_count": 6,
   "metadata": {},
   "outputs": [
    {
     "data": {
      "application/vnd.jupyter.widget-view+json": {
       "model_id": "07a814c45d894dee915a87a90ecea2ae",
       "version_major": 2,
       "version_minor": 0
      },
      "text/plain": [
       "interactive(children=(IntSlider(value=170000, description='k', max=220000, min=150000, step=2000), Output()), …"
      ]
     },
     "metadata": {},
     "output_type": "display_data"
    }
   ],
   "source": [
    "choose_slope(X, y)"
   ]
  },
  {
   "cell_type": "markdown",
   "metadata": {},
   "source": [
    "## Функция ошибки\n",
    "\n",
    "У нас есть гипотезы. Но как численно определить какая из них лучшая?\n",
    "\n",
    "Для это введем функцию ошибку, также известную как функцию потерь. Функция ошибки - численное значение того, как наша гипотеза хорошо моделирует функцию.\n",
    "\n",
    "Пусть у нас есть функция (наша модель)  $f(X) = kX = \\hat{y}$. То есть, $\\hat{y}$ является предсказанными нами значениями для X. А настоящие значения будут равны $y$. Тогда ошибку нашего предсказания на $i$-ом примере можно посчитать, как: $\\hat{y_i} - y_i$. Если нам не важно в большую или в меньшую сторону мы ошибаемся, можем избавиться от знака, взяв либо модуль либо квадрат ошибки. Для начала давайте возьмем квадрат. Тогда ошибка $j(k)$ на i-ом примере будет равна $j(k) = (\\hat{y_i} - y_i)^2 = (kX_i - y_i)^2$\n",
    "\n",
    "Тогда мы можем посчитать суммарную ошибку $J(k)$ на всех примерах:\n",
    "\n",
    "$J(k) = \\frac{1}{N}\\sum_{i=0}^{N}{(\\hat{y_i} - y_i)^2}= \\frac{1}{N} \\sum_{i=0}^{N}{(f(X_i) - y_i)^2} = \\frac{1}{N} \\sum_{i=0}^{N}{(kX_i - y_i)^2} $\n",
    "\n",
    "Где $N$ - это количество квартир, $X_i$ - это площадь i-oй квартиры, $y_i$ - цена для i-oй квартиры, $\\hat{y_i}$ - предсказанная цена для i-oй квартиры.\n",
    "      \n",
    "Например, $X_2=36$, $y_3=5500000.0$\n",
    "\n",
    "$\\sum_{i=0}^{N}$  - это знак суммирования.\n",
    "Например, у нас есть $a_0, a_2, a_3, \\cdots a_N$. Тогда $\\sum_{i=0}^{N}{a_i} = a_0 + a_2 + a_3 + \\cdots + a_N$\n",
    "\n",
    "Ниже у нас есть пример с визуализацией ошибки для одной из гипотез.\n"
   ]
  },
  {
   "cell_type": "code",
   "execution_count": 7,
   "metadata": {},
   "outputs": [
    {
     "data": {
      "application/vnd.jupyter.widget-view+json": {
       "model_id": "0a990987c2bc4ea282aba648167f06c0",
       "version_major": 2,
       "version_minor": 0
      },
      "text/plain": [
       "interactive(children=(IntSlider(value=170000, description='k', max=220000, min=150000, step=2000), Output()), …"
      ]
     },
     "metadata": {},
     "output_type": "display_data"
    }
   ],
   "source": [
    "plot_data_and_error(X, y)"
   ]
  },
  {
   "cell_type": "markdown",
   "metadata": {},
   "source": [
    "Давайте визуализируем ошибки для наших гипотез."
   ]
  },
  {
   "cell_type": "code",
   "execution_count": 8,
   "metadata": {},
   "outputs": [
    {
     "data": {
      "application/vnd.jupyter.widget-view+json": {
       "model_id": "56d84820ab844d139e7cf7b9aa9a0ade",
       "version_major": 2,
       "version_minor": 0
      },
      "text/plain": [
       "interactive(children=(IntSlider(value=170000, description='k', max=220000, min=150000, step=2000), Output()), …"
      ]
     },
     "metadata": {},
     "output_type": "display_data"
    }
   ],
   "source": [
    "plot_data_and_J(X, y)"
   ]
  },
  {
   "cell_type": "markdown",
   "metadata": {
    "collapsed": true
   },
   "source": [
    "Давайте теперь визуализируем всю функцию ошибки."
   ]
  },
  {
   "cell_type": "code",
   "execution_count": 9,
   "metadata": {},
   "outputs": [
    {
     "data": {
      "image/png": "[encoded data removed]",
      "text/plain": [
       "<Figure size 432x288 with 1 Axes>"
      ]
     },
     "metadata": {},
     "output_type": "display_data"
    }
   ],
   "source": [
    "plot_all_J(X, y)"
   ]
  },
  {
   "cell_type": "markdown",
   "metadata": {
    "collapsed": true
   },
   "source": [
    "## Производная\n",
    "\n",
    "Наша задачи - это минимизации функции ошибки. \n",
    "Я думаю, что вы знаете как можно найти значение минимума для данной функции. Нужно взять производную функции ошибки и приравнять ее к нулю. $J'(k) = \\frac{dJ(k)}{dk} = 0$.\n",
    "\n",
    "В данном случае производную можно рассматривать $f'(x_0) = \\frac{f(x_0+\\epsilon) - f(x_0)}{\\epsilon}, \\epsilon \\rightarrow 0$ \n",
    "\n",
    "![alt](img\\der.jpg) \n",
    "\n",
    "Например, для функции $f(x) = x^2$, $f'(x) = \\frac{(x+\\epsilon)^2 - x^2}{\\epsilon} = \\frac{x^2+ 2x\\epsilon + \\epsilon^2 - x^2}{\\epsilon}= \\frac{2x\\epsilon + \\epsilon^2}{\\epsilon} = 2x + \\epsilon = 2x$\n",
    "\n",
    "$\\epsilon \\rightarrow 0$\n",
    "\n",
    "Таким образом, в нашем случае:\n",
    "\n",
    "$ J'(k) = \\frac{dJ(k)}{dk} = \\frac{d}{dk}(\\frac{1}{2N}\\sum_{i=1}^{N}{(y_i - \\hat{y_i})^2}) \n",
    "= 2 \\cdot \\frac{1}{2N}\\sum_{i=1}^{N} (kX_i - y_i)\\frac{d}{dk}(kX_i - y_i) =\n",
    "          \\frac{1}{N} \\sum_{i=1}^{N} (kX_i - y_i)X_i$ \n",
    "          \n",
    "И для нахождения минимума нужно приравнять производную к нулю. $ \\frac{dJ(k)}{dk} = 0$\n",
    "\n",
    "Решив уравнение, мы получим значение для $k=185072.4$\n",
    "\n",
    "**Если будет время, заменить эпсилон на дельта икс**\n"
   ]
  },
  {
   "cell_type": "code",
   "execution_count": 10,
   "metadata": {},
   "outputs": [
    {
     "data": {
      "image/png": "[encoded data removed]",
      "text/plain": [
       "<Figure size 432x288 with 1 Axes>"
      ]
     },
     "metadata": {},
     "output_type": "display_data"
    }
   ],
   "source": [
    "plot_data_and_hyp(X, y, 185072.4)"
   ]
  },
  {
   "cell_type": "markdown",
   "metadata": {
    "collapsed": true
   },
   "source": [
    "Но в реальных приложениях не всегда возможно решить это уравнение (далее я расскажу поподробнее о таких ситуациях). Поэтому, познакомимся с такой техникой как градиентный спуск. Как вызнаете, значение производной в точке равно значению тангенса угла наклона касательной в данной точке."
   ]
  },
  {
   "cell_type": "code",
   "execution_count": 11,
   "metadata": {},
   "outputs": [
    {
     "data": {
      "image/png": "[encoded data removed]",
      "text/plain": [
       "<Figure size 432x288 with 1 Axes>"
      ]
     },
     "metadata": {},
     "output_type": "display_data"
    }
   ],
   "source": [
    "plot_all_J_with_der(X, y)"
   ]
  },
  {
   "cell_type": "markdown",
   "metadata": {},
   "source": [
    "## Градиентный спуск\n",
    "\n",
    "Использую эту информацию мы можем понять где находится минимум и изменить значение $k$ в сторону минимума. Если производная положительная (как касательная в точке 190000), то нам нужно уменьшать значение $k$. Если производная отрицательная (как касательная в точке 180000), то нам нужно увеличить значение $k$.  \n",
    "\n",
    "Таким образом сам алгоритм градиентного спуска можно описать следующим образом.\n",
    "\n",
    "* Выбираем случайное значение для $k$\n",
    "* Повторить пока не сойдется:\n",
    "\n",
    "&nbsp;&nbsp;&nbsp;&nbsp;&nbsp;&nbsp; $k_{new} = k - \\alpha \\cdot \\frac{d}{dk} J(k)$\n",
    "\n",
    "&nbsp;&nbsp;&nbsp;&nbsp;&nbsp;&nbsp; $k = k_{new}$\n",
    "\n",
    "Где $\\alpha$ это коэффициент, который мы выбреем. Теперь поэкспериментируем со значением $\\alpha$ и начальным значением коэффициента."
   ]
  },
  {
   "cell_type": "code",
   "execution_count": 12,
   "metadata": {},
   "outputs": [
    {
     "data": {
      "application/vnd.jupyter.widget-view+json": {
       "model_id": "6e5404157d074403a171103702dff58e",
       "version_major": 2,
       "version_minor": 0
      },
      "text/plain": [
       "interactive(children=(IntSlider(value=176000, description='K init:', max=196000, min=176000, step=2000), Float…"
      ]
     },
     "metadata": {},
     "output_type": "display_data"
    }
   ],
   "source": [
    "Traice(X, y)"
   ]
  },
  {
   "cell_type": "markdown",
   "metadata": {},
   "source": [
    "**Тут введено понятия МНК, думаю надо рассказать, \n",
    "что можно делать не только МНК, еще есть например МАЕ, где лучше использовать, почему, на одном графике построить МНК и МАЕ.\n",
    "Можно добавить, что МНК это мат ожидание, МАЕ медиана**"
   ]
  },
  {
   "cell_type": "markdown",
   "metadata": {},
   "source": [
    "# Цена квартиры в зависимости от площади и дальности квплощадьартиры от центра Москвы\n",
    "Допустим теперь нам требуется определить цену квартиры в зависимости от квартиры и дальности квартиры от центра Москвы. То есть, теперь у нас есть 2 параметра. И наша функция, которую мы хотим найти будет выглядеть вот так $y = F(X^{площадь}, X^{дальность})$, где $X^{площадь}$ площадь квартиры в $м^2$, $X^{дальность}$ дальность квартиры от центра в км, а $y$ цена на квартиру.\n",
    "\n",
    "**Взять реальный пример. Усложнить формулы сделав их более общими**"
   ]
  },
  {
   "cell_type": "code",
   "execution_count": 9,
   "metadata": {
    "scrolled": false
   },
   "outputs": [
    {
     "name": "stdout",
     "output_type": "stream",
     "text": [
      "    Площадь квартиры  Расстояние до центра  Цена квартиры\n",
      "0                 40                    95      7400000.0\n",
      "1                 27                    64      6600000.0\n",
      "2                 47                    68     10200000.0\n",
      "3                 20                    41      6400000.0\n",
      "4                 42                    71      9200000.0\n",
      "5                 56                    20     14400000.0\n",
      "6                 54                    85     10700000.0\n",
      "7                 33                    93      6000000.0\n",
      "8                 44                    42     10700000.0\n",
      "9                 74                    44     16900000.0\n",
      "10                53                    50     12400000.0\n",
      "11                33                    72      7500000.0\n",
      "12                51                    29     13000000.0\n",
      "13                58                    68     12200000.0\n",
      "14                59                     3     16000000.0\n",
      "15                20                    93      3500000.0\n",
      "16                31                     8     10300000.0\n",
      "17                44                    79      9300000.0\n",
      "18                39                    85      8000000.0\n",
      "19                51                    58     11400000.0\n"
     ]
    },
    {
     "data": {
      "application/vnd.jupyter.widget-view+json": {
       "model_id": "4c99fd28e74c4e769736c86ddaa4d6a2",
       "version_major": 2,
       "version_minor": 0
      },
      "text/plain": [
       "interactive(children=(IntSlider(value=0, description='Вертикальное', max=180), IntSlider(value=0, description=…"
      ]
     },
     "metadata": {},
     "output_type": "display_data"
    }
   ],
   "source": [
    "X_square, X_distance, y = get_new_data()\n",
    "print_3d_table_with_data(X_square, X_distance, y)\n",
    "plot_new_3d_data(X_square, X_distance, y)"
   ]
  },
  {
   "cell_type": "markdown",
   "metadata": {},
   "source": [
    "Для решения данной проблемы введем нашу гипотезу: $f(X^{площадь}, X^{дальность}) = k_0 + k_1 X^{площадь} + k_2 X^{дальность} = \\hat{y}$. Это линейная функция для двух входных параметров.\n",
    "\n",
    "Тогда определим нашу функцию ошибки от параметров $k_0, k_1, k_2$:\n",
    "\n",
    "$J(k) = \\frac{1}{2N}\\sum_{i=1}^{N}{(\\hat{y_i} - y_i)^2}= \\frac{1}{2N} \\sum_{i=1}^{N}{(k_0 + k_1 X^{площадь}_i + k_2 X^{дальность}_i  - y_i)^2}$\n",
    "\n",
    "Где $N$ - это количество квартир, $X^{площадь}_i$ - это площадь i-oй квартиры, $X^{дальность}_i$ - это расстояние квартиры до центра Москвы, а $y_i$ - цена для i-oй квартиры, $\\hat{y_i}$ - предсказанная цена для i-oй квартиры.\n",
    "\n",
    "Для нахождения этих коэффициентов также используем градиентный спуск. Но теперь нам необходимо найти производную от функции ошибки для каждого коэффициента.\n",
    "\n",
    "$\\frac{\\delta  J(k_0, k_1, k_2)}{\\delta k_0} = \\frac{1}{N}\\sum_{i=1}^{N} (k_0 + k_1 X^{площадь}_i + k_2 X^{дальность}_i  - y_i)$ \n",
    "\n",
    "$\\frac{\\delta J(k_0, k_1, k_2)}{\\delta k_1} = \\frac{1}{N}\\sum_{i=1}^{N} (k_0 + k_1 X^{площадь}_i + k_2 X^{дальность}_i  - y_i)X^{площадь}_i$ \n",
    "\n",
    "$\\frac{\\delta J(k_0, k_1, k_2)}{\\delta k_2} = \\frac{1}{N}\\sum_{i=1}^{N} (k_0 + k_1 X^{площадь}_i + k_2 X^{дальность}_i - y_i)X^{дальность}_i$ \n",
    "\n",
    "Мы также можем приравнять каждую производную к нулю и найти решение системы уравнений. Но делать это не целесообразно. Для решения данной системы в компьютере потребуется построить матричное уравнение. А в процессе решения потребуется найти обратную матрицу. Данная операция является очень медленной, даже на современных компьютерах. В данном примере у нас всего 2 входных параметра и 20 значений $X$. Вычисления обратной матрицы для нашего примера займет микросекунды. Но в реальных приложениях обычно бывает и по десяткам тысяч входных параметров и сотни миллионов значений. Нахождения обратной матриц для таких задач займет несравнимо много времени по сравнению с градиентным спуском. Поэтому в промышленности применяется именно градиентный спуск. \n",
    "\n",
    "Полный алгоритм градиентного спуска c $M$ коэффициентами можно описать следующим образом.\n",
    "\n",
    "* Выбираем случайное значение для $k_0, k_1, ... k_M$\n",
    "* Повторить пока не сойдется:\n",
    "\n",
    "    &nbsp;&nbsp;&nbsp;&nbsp;&nbsp;&nbsp; $k_{0_{new}} = k_0 - \\alpha \\cdot \\frac{\\delta }{\\delta k_0} J(k_0, k_1, ... , k_M)$ \n",
    "    \n",
    "    &nbsp;&nbsp;&nbsp;&nbsp;&nbsp;&nbsp; $k_{1_{new}} = k_1 - \\alpha \\cdot \\frac{\\delta }{\\delta k_1} J(k_0, k_1, ... , k_M)$ \n",
    "    \n",
    "    &nbsp;&nbsp;&nbsp;&nbsp;&nbsp;&nbsp; $ \\cdots $ \n",
    "    \n",
    "    &nbsp;&nbsp;&nbsp;&nbsp;&nbsp;&nbsp; $k_{M_{new}} = k_M - \\alpha \\cdot \\frac{\\delta }{\\delta k_M} J(k_0, k_1, ... , k_M)$ \n",
    "    \n",
    "    &nbsp;&nbsp;&nbsp;&nbsp;&nbsp;&nbsp; $k_0 = k_{0_{new}}, k_1 = k_{1_{new}} \\cdots k_M = k_{M_{new}}$\n",
    "    \n",
    "\n",
    "Где $\\alpha$ это коэффициент, который мы выбираем. \n",
    "\n",
    "Давайте теперь визуализируем ошибку.\n"
   ]
  },
  {
   "cell_type": "code",
   "execution_count": 10,
   "metadata": {},
   "outputs": [
    {
     "data": {
      "application/vnd.jupyter.widget-view+json": {
       "model_id": "7ce1b9c1f0e04e3aa524d18930e33e1a",
       "version_major": 2,
       "version_minor": 0
      },
      "text/plain": [
       "interactive(children=(IntSlider(value=0, description='Вертикальное', max=180), IntSlider(value=0, description=…"
      ]
     },
     "metadata": {},
     "output_type": "display_data"
    }
   ],
   "source": [
    "plot_loss_in_3d(X_square, X_distance, y)"
   ]
  },
  {
   "cell_type": "markdown",
   "metadata": {},
   "source": [
    "Тогда если мы используем формулы выше, то мы увидим следующую картину."
   ]
  },
  {
   "cell_type": "code",
   "execution_count": 11,
   "metadata": {},
   "outputs": [
    {
     "data": {
      "application/vnd.jupyter.widget-view+json": {
       "model_id": "03fda39e76aa445eb324a1cb957ef8ed",
       "version_major": 2,
       "version_minor": 0
      },
      "text/plain": [
       "interactive(children=(IntSlider(value=0, description='Вертикальное', max=180), IntSlider(value=0, description=…"
      ]
     },
     "metadata": {},
     "output_type": "display_data"
    }
   ],
   "source": [
    "a=0.0001\n",
    "k1, k2 = lin_grad_full(X_square, X_distance, y, alpha=a, iters=50, k0_init=5000000, k1_init=500000, k2_init=-200000)"
   ]
  },
  {
   "cell_type": "markdown",
   "metadata": {},
   "source": [
    "А теперь визуализируеим полученный результат."
   ]
  },
  {
   "cell_type": "code",
   "execution_count": 12,
   "metadata": {},
   "outputs": [
    {
     "data": {
      "application/vnd.jupyter.widget-view+json": {
       "model_id": "a4472661e3f94cfc9fbd8ea85e04fd15",
       "version_major": 2,
       "version_minor": 0
      },
      "text/plain": [
       "interactive(children=(IntSlider(value=0, description='Вертикальное', max=180), IntSlider(value=0, description=…"
      ]
     },
     "metadata": {},
     "output_type": "display_data"
    }
   ],
   "source": [
    "plot_new_data_and_hyp(X_square, X_distance, y, 5000000, k1, k2)"
   ]
  },
  {
   "cell_type": "markdown",
   "metadata": {},
   "source": [
    "# Переобучение и слишком простая модель\n",
    "\n",
    "Как вы понимаете линейные функции не всегда могут быть использована для все данных. Например, допустим у нас есть следующий набор данных:\n",
    "\n",
    "![alt](img\\new_data.png)\n",
    "\n",
    "Линейная регрессия может предсказать только прямую линию, но тут такое не пойдет. Нам нужно что-то по сложнее. То есть, наша модель слишком простая.\n",
    "\n",
    "## Полиномы\n",
    "\n",
    "Полиномом степени n называется функция $poly(X) = k_n X^n + k_{n-1} X^{n-1}  \\ldots + k_1 X + k_0$. Известное вам квадратное уравнение — это полином второй степени. $quadratic(X) = k_2 X^2 + k_1 X + k_0$, или как вы привыкли его видеть: $quadratic(X) = a X^2 + b X + c$.\n",
    "\n",
    "**Заменить картинку и рассказать прмиеры**\n",
    "\n",
    "![alt](img\\polynomes.png)\n",
    "\n",
    "В дальнейшем мы будем использовать полиномиальную регрессию. Ее можно простым образом получить из линейной регрессии. \n",
    "Как вы уже догадались формула линейной регрессии от M параметров можно записать следующим образом:\n",
    "$ f(X^{\\textrm{(1-ый параметр)}}, \n",
    "    X^{\\textrm{(2-ой параметр)}}, \n",
    "    \\cdots, \n",
    "    X^{\\textrm{(M-1-ый параметр)}}, \n",
    "    X^{\\textrm{(M-ый параметр)}}) \n",
    "    = \n",
    "    k_0 + \n",
    "    k_1 X^{\\textrm{(1-ый параметр)}} + \n",
    "    k_2 X^{\\textrm{(2-ой параметр)}} + \n",
    "    \\cdots + \n",
    "    k_{M - 1} X^{\\textrm{(M-1-ый параметр)}} + \n",
    "    k_M X^{\\textrm{(M-ый параметр)}}$.\n",
    "\n",
    "Но заменив $X^{\\textrm{(i-ый параметр)}}$ на $X^{i}$. Мы получим формулу для полинома от $X$. Напоминаю, что $X^{i}$ значит значение $X$ в степени i. То есть, мы передаем в формулу линейной регрессии $X^i$, вместо i-го параметра.\n",
    "\n",
    "$ f(X, \n",
    "    X^2, \n",
    "    \\cdots, \n",
    "    X^{M-1}, \n",
    "    X^M) = k_0 + k_1 X + k_2 X^2 + \\cdots + k_{M - 1} X^{M - 1} + k_M X^{M} = poly(X)$.\n",
    "\n",
    "\n",
    "Давайте получим и визуализируем новые данные.\n",
    "\n",
    "** Картинки с переобучение. Недообучние и норм**"
   ]
  },
  {
   "cell_type": "code",
   "execution_count": 13,
   "metadata": {},
   "outputs": [
    {
     "data": {
      "image/png": "[encoded data removed]",
      "text/plain": [
       "<Figure size 432x288 with 1 Axes>"
      ]
     },
     "metadata": {},
     "output_type": "display_data"
    }
   ],
   "source": [
    "X, y = get_poly_data()\n",
    "plot_more_poly_data(X, y)"
   ]
  },
  {
   "cell_type": "markdown",
   "metadata": {},
   "source": [
    "Теперь посмотрим, как различные полиномы могут репрезентировать данные."
   ]
  },
  {
   "cell_type": "code",
   "execution_count": 18,
   "metadata": {},
   "outputs": [
    {
     "data": {
      "application/vnd.jupyter.widget-view+json": {
       "model_id": "2123b239f2e04bbaae12305f360a6170",
       "version_major": 2,
       "version_minor": 0
      },
      "text/plain": [
       "interactive(children=(IntSlider(value=1, description='Степень полинома', max=19, min=1), Output()), _dom_class…"
      ]
     },
     "metadata": {},
     "output_type": "display_data"
    }
   ],
   "source": [
    "plot_poly_data(X, y)"
   ]
  },
  {
   "cell_type": "markdown",
   "metadata": {},
   "source": [
    "Но нужно помнить, что не всегда у нас может быть хороший набор данных. Допустим после того как мы обучили нашу модель мы собрали еще данных.  "
   ]
  },
  {
   "cell_type": "code",
   "execution_count": 15,
   "metadata": {
    "scrolled": true
   },
   "outputs": [
    {
     "data": {
      "image/png": "[encoded data removed]",
      "text/plain": [
       "<Figure size 432x288 with 1 Axes>"
      ]
     },
     "metadata": {},
     "output_type": "display_data"
    }
   ],
   "source": [
    "X1, y1 = get_more_poly_data()\n",
    "plot_more_poly_data(X, y, X1, y1)"
   ]
  },
  {
   "cell_type": "markdown",
   "metadata": {},
   "source": [
    "Теперь посмотрим на ошибку также на новых данных."
   ]
  },
  {
   "cell_type": "code",
   "execution_count": 16,
   "metadata": {},
   "outputs": [
    {
     "data": {
      "application/vnd.jupyter.widget-view+json": {
       "model_id": "b4cdd60431204e0ca402cda26302f6e7",
       "version_major": 2,
       "version_minor": 0
      },
      "text/plain": [
       "interactive(children=(IntSlider(value=1, description='Степень полинома', max=19, min=1), Output()), _dom_class…"
      ]
     },
     "metadata": {},
     "output_type": "display_data"
    }
   ],
   "source": [
    "plot_poly_data(X, y, X1, y1)"
   ]
  },
  {
   "cell_type": "markdown",
   "metadata": {},
   "source": [
    "То есть, слишком сложная модель переобучается на данных. \n",
    "\n",
    "Для решения этой проблемы мы делим наши данные на обучающий набор и тестовый набор. Модель обучается на тестовом наборе, но окончательная оценка производится по тестовому набору. \n"
   ]
  },
  {
   "cell_type": "markdown",
   "metadata": {},
   "source": [
    "**Не очень наглядные картинки, надо добавить попроще и привести в противовес переобучения - недоообучение**"
   ]
  },
  {
   "cell_type": "markdown",
   "metadata": {},
   "source": [
    "**Не рассказзано про метрики качества регрессии, R2, smape, MAE...,\n",
    "где когда лучше применять, например если предсказываем выручку, то MSE покажет что? квадратные рубли? надо смотреть что то еще**"
   ]
  },
  {
   "cell_type": "markdown",
   "metadata": {},
   "source": [
    "**Рассказать про регуляризацию, например начать с того, что при переобучении у линейной модели будут очень большие веса, \n",
    "поймем что большие веса это плохо, как сделать их меньше? Ввести регуляризацию, можно привести пример аналитического решения с ней, получить регуляризацию по Тихонову.\n",
    "Можно привести пример с ошибками(бывает большой разброс и бывает смещение, что делает регуляризация? оставляет смещение и убирает разброс на сколько я помню)\n",
    "Нарисовать картинки с регуляризацией (кружочек для L2, ромбик для L1, покажем что L1 еще и фичи зануляет)**"
   ]
  },
  {
   "cell_type": "markdown",
   "metadata": {},
   "source": [
    "**Ничего не сказали про нормировку данных, если в модель засунуть фичи которые отличаются на порядки, хорошо это будет?**"
   ]
  },
  {
   "cell_type": "markdown",
   "metadata": {},
   "source": [
    "**обучить модельку из scikit-learn**"
   ]
  },
  {
   "cell_type": "markdown",
   "metadata": {},
   "source": [
    "**Повторить все что мы сделали (рассказать про пайплайн)**"
   ]
  },
  {
   "cell_type": "code",
   "execution_count": null,
   "metadata": {},
   "outputs": [],
   "source": []
  },
  {
   "cell_type": "markdown",
   "metadata": {},
   "source": [
    "# Задание\n",
    "\n",
    "1. Сделать линейную функцию\n",
    "2. Сделать функцию ошибки\n",
    "3. Рассчитать градиент\n",
    "4. Реализовать градиентный спуск\n",
    "Задания следует делать одно за другим.\n",
    "\n",
    "Для начала запустим следующую ячейку, которая визуализирует наши данные."
   ]
  },
  {
   "cell_type": "code",
   "execution_count": 19,
   "metadata": {},
   "outputs": [
    {
     "data": {
      "image/png": "[encoded data removed]",
      "text/plain": [
       "<Figure size 720x576 with 1 Axes>"
      ]
     },
     "metadata": {},
     "output_type": "display_data"
    }
   ],
   "source": [
    "import numpy as np # подгружаем дополнительную библиотеку\n",
    "from regression_task import *\n",
    "\n",
    "plot_data()"
   ]
  },
  {
   "cell_type": "markdown",
   "metadata": {},
   "source": [
    "##### Реализовать линейную функцию вида $y = kx$. \n",
    "   На вход функции передается значение коэффициента $\\mathbf{k}$ (действительное число), и вектор-столбец $\\mathbf{X}$ размера Nx1. Функция должна  возвращать вектор-столбец $\\mathbf{y}$ размера Nx1. \n",
    "   То есть, вектор столбец y можно записать как:\n",
    "   \n",
    "   \\begin{equation*}\n",
    "    \\mathbf{y} = \\begin{pmatrix}\n",
    "    y_0 \\\\\n",
    "    y_1 \\\\\n",
    "    \\cdots \\\\\n",
    "    y_N \\\\\n",
    "    \\end{pmatrix} = \n",
    "    \\begin{pmatrix}\n",
    "    k x_1 \\\\\n",
    "    k x_2 \\\\\n",
    "    \\cdots \\\\\n",
    "    k x_N \\\\\n",
    "    \\end{pmatrix}\n",
    "    \\end{equation*}"
   ]
  },
  {
   "cell_type": "code",
   "execution_count": null,
   "metadata": {},
   "outputs": [],
   "source": [
    "def linear_function(k, X):\n",
    "    # Напоминаю, что код нужно писать в области между звездочками. \n",
    "    # Вы можете решить данную задачу с помощью цикла, но \n",
    "    # постарайтесь решить ее с помощью векторизации.\n",
    "\n",
    "    y = np.zeros_like(X) # создаем переменную y и заполняем ее нулями\n",
    "    N = X.shape[0]       # получаем размер вектора столбца\n",
    "\n",
    "    #***********************************************************************\n",
    "    y = k * X\n",
    "   \n",
    "    \n",
    "    #***********************************************************************\n",
    "\n",
    "    return y\n",
    " \n",
    "check_linear_function(linear_function)\n"
   ]
  },
  {
   "cell_type": "markdown",
   "metadata": {},
   "source": [
    "##### Реализовать функцию потерь $J(k) = \\frac{1}{2N}\\sum_{i=0}^{N}{(\\hat{y_i} - y_i)^2}= \\frac{1}{2N} \\sum_{i=0}^{N}{(f(X_i) - y_i)^2}$\n",
    "\n",
    "На вход функции передается значение коэффициента $\\mathbf{k}$ (действительное число), и вектор-столбец $\\mathbf{X}$ размера Nx1 и вектор-столбец $\\mathbf{y}$ c с реальными значениями размера Nx1. Функция должна возвращать действительное число равное $J(k)$.\n"
   ]
  },
  {
   "cell_type": "code",
   "execution_count": null,
   "metadata": {},
   "outputs": [],
   "source": [
    "def loss_function(k, X, y):\n",
    "    # Ты можешь использовать функцию linear_function из предыдущего задания\n",
    "    # Для того, что бы найти значение f(X)\n",
    "    # Не бойся создавать новые переменные. \n",
    "    # Помни что ты можешь вычитать один вектор из другого, а также помни что,\n",
    "    # ты можешь почленно вводить в степень вектор. \n",
    "    \n",
    "    # Результат функции потерь должен быть записан в переменную J\n",
    "   \n",
    "    \n",
    "    N = X.shape[0]       # получаем размер вектора столбца\n",
    "    \n",
    "    J = 0\n",
    "\n",
    "    #***********************************************************************\n",
    "    J = sum((k*X - y)**2)/(2*N)\n",
    "\n",
    "    #***********************************************************************\n",
    "\n",
    "    return J\n",
    "   \n",
    "check_loss_function(loss_function)\n"
   ]
  },
  {
   "cell_type": "markdown",
   "metadata": {},
   "source": [
    "##### Реализовать градиент(произвоодную) $J'(k) = \\frac{dJ(k)}{dk} = \\frac{1}{N} \\sum_{i=1}^{N} (f(X_i) - y_i) X_i  = \\frac{1}{N} \\sum_{i=1}^{N} (kX_i - y_i) X_i$ \n",
    "          \n",
    "          \n",
    "На вход функции передается значение коэффициента $\\mathbf{k}$ (действительное число), и вектор-столбец $\\mathbf{X}$ размера Nx1 и вектор-столбец $\\mathbf{y}$ c с реальными значениями размера Nx1. Функция должна возвращать градиент равный $J'(k)$.\n"
   ]
  },
  {
   "cell_type": "code",
   "execution_count": null,
   "metadata": {},
   "outputs": [],
   "source": [
    "def gradient_function(k, X, y):\n",
    "    # Ты можешь использовать функцию linear_function из предыдущего задания\n",
    "    # Для того, что бы найти значение f(X)\n",
    "    # Не бойся создавать новые переменные. \n",
    "    # Помни что ты можешь вычитать один из другого, а также помни что,\n",
    "    # ты можешь почленно перемножать вектора вектор. \n",
    "    \n",
    "    # Результат функции потерь должен быть записан в переменную grad\n",
    "        \n",
    "    N = X.shape[0]       # получаем размер вектора столбца\n",
    "    \n",
    "    grad = 0\n",
    "\n",
    "    #***********************************************************************\n",
    "\n",
    "    grad = sum((k * X - y) * X) / (len(X))\n",
    "                       \n",
    "    #***********************************************************************\n",
    "\n",
    "    return grad\n",
    "   \n",
    "check_gradient_function(gradient_function)"
   ]
  },
  {
   "cell_type": "markdown",
   "metadata": {},
   "source": [
    "##### Финишная прямая. Пора реализовать алгоритм градиентного спуска. \n",
    "На вход функции передается начальное значение коэффициента $\\mathbf{k}$ (действительное число), и вектор-столбец $\\mathbf{X}$ размера Nx1 и вектор-столбец $\\mathbf{y}$ c реальными значениями размера Nx1, значение коэффициента альфа $\\alpha$ и число $iters$ равное количеству итераций в алгоритме. \n",
    "Сам алгоритм мы будем использовать в следующем виде\n",
    "* Повторить $iters$ раз:\n",
    "&nbsp;&nbsp;&nbsp;&nbsp;&nbsp;&nbsp; $k = k - \\alpha \\cdot J'(k)$\n"
   ]
  },
  {
   "cell_type": "code",
   "execution_count": null,
   "metadata": {},
   "outputs": [],
   "source": [
    "def gradient_descent(k_init, X, y, alpha, iters):\n",
    "    # Лучше всего использовать функцию gradient_function для \n",
    "    # нахождения градиента, чем пересчитывать его еще раз\n",
    "    \n",
    "    # И еше я прошу перед тем как изменить значение k в массиве \n",
    "    # k_old.\n",
    "    # Например, i это счетчик цикла.\n",
    "    # Тогда значение k можно сохранить как k_old[i] = k\n",
    "        \n",
    "    k = k_init\n",
    "    k_old = np.array([0.0]*iters)\n",
    "\n",
    "\n",
    "    #***********************************************************************\n",
    "\n",
    "    for i in range (0, iters):\n",
    "        k_old[i] = k\n",
    "        k = k - (alpha * gradient_function(k, X, y))\n",
    "        \n",
    "\n",
    "    #***********************************************************************\n",
    "\n",
    "    return k, k_old\n",
    "    \n",
    "check_gradient_descent(gradient_descent)\n"
   ]
  }
 ],
 "metadata": {
  "anaconda-cloud": {},
  "kernelspec": {
   "display_name": "Python 3",
   "language": "python",
   "name": "python3"
  },
  "language_info": {
   "codemirror_mode": {
    "name": "ipython",
    "version": 3
   },
   "file_extension": ".py",
   "mimetype": "text/x-python",
   "name": "python",
   "nbconvert_exporter": "python",
   "pygments_lexer": "ipython3",
   "version": "3.6.5"
  },
  "widgets": {
   "state": {
    "03fc38044a514408b9de41fa70bf122f": {
     "views": [
      {
       "cell_index": 17
      }
     ]
    },
    "19b7b5447a594ae1a20b764ac13118cc": {
     "views": [
      {
       "cell_index": 15
      }
     ]
    },
    "28304c0dfbab44f5a851af84bf5947d3": {
     "views": [
      {
       "cell_index": 21
      }
     ]
    },
    "3f700e837fd046ddb14ee8776ac8bc04": {
     "views": [
      {
       "cell_index": 31
      }
     ]
    },
    "50d7c06a111e43c1860a5b10a576bfd3": {
     "views": [
      {
       "cell_index": 23
      }
     ]
    },
    "a74e340d7bb24d9bb020ad7dd982e764": {
     "views": [
      {
       "cell_index": 19
      }
     ]
    },
    "d5593dc80c0445c7ae64c7da2d37f72f": {
     "views": [
      {
       "cell_index": 5
      }
     ]
    },
    "d644b9b546b849c6b17acb3be1f1952b": {
     "views": [
      {
       "cell_index": 3
      }
     ]
    },
    "eac5158d5b6c45c4afa73b58b8b0e58a": {
     "views": [
      {
       "cell_index": 7
      }
     ]
    },
    "f4cec2743faf43ad9b8e7c828c6ee76a": {
     "views": [
      {
       "cell_index": 27
      }
     ]
    }
   },
   "version": "1.2.0"
  }
 },
 "nbformat": 4,
 "nbformat_minor": 1
}
