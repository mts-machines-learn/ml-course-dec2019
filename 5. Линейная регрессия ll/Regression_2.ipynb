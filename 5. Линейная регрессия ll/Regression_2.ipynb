{
 "cells": [
  {
   "cell_type": "markdown",
   "metadata": {},
   "source": [
    "# Пример линейной регрессии на реальных данных\n",
    "\n",
    "Рассмотрим реальны датасет содержащий данные о домах в Бостоне.\n"
   ]
  },
  {
   "cell_type": "code",
   "execution_count": null,
   "metadata": {
    "collapsed": true
   },
   "outputs": [],
   "source": [
    "from sklearn.datasets import load_boston\n",
    "boston_dataset = load_boston()\n",
    "\n",
    "y = boston_dataset['target']\n",
    "X = boston_dataset['data'][:, [5, -2]]\n"
   ]
  },
  {
   "cell_type": "code",
   "execution_count": 2,
   "metadata": {
    "collapsed": true
   },
   "outputs": [],
   "source": [
    "from regression_helper import * # Подгружаем функции для визуализации\n",
    "import numpy as np              # Подгруджаем библиотеку NumPy"
   ]
  },
  {
   "cell_type": "code",
   "execution_count": null,
   "metadata": {
    "collapsed": true
   },
   "outputs": [],
   "source": []
  },
  {
   "cell_type": "code",
   "execution_count": 4,
   "metadata": {},
   "outputs": [
    {
     "name": "stdout",
     "output_type": "stream",
     "text": [
      "    Площадь квартиры  Расстояние до центра  Цена квартиры\n",
      "0                 40                    95      7400000.0\n",
      "1                 27                    64      6600000.0\n",
      "2                 47                    68     10200000.0\n",
      "3                 20                    41      6400000.0\n",
      "4                 42                    71      9200000.0\n",
      "5                 56                    20     14400000.0\n",
      "6                 54                    85     10700000.0\n",
      "7                 33                    93      6000000.0\n",
      "8                 44                    42     10700000.0\n",
      "9                 74                    44     16900000.0\n",
      "10                53                    50     12400000.0\n",
      "11                33                    72      7500000.0\n",
      "12                51                    29     13000000.0\n",
      "13                58                    68     12200000.0\n",
      "14                59                     3     16000000.0\n",
      "15                20                    93      3500000.0\n",
      "16                31                     8     10300000.0\n",
      "17                44                    79      9300000.0\n",
      "18                39                    85      8000000.0\n",
      "19                51                    58     11400000.0\n"
     ]
    },
    {
     "data": {
      "application/vnd.jupyter.widget-view+json": {
       "model_id": "e95ff9d682c54d958a011767d0577c11",
       "version_major": 2,
       "version_minor": 0
      },
      "text/plain": [
       "A Jupyter Widget"
      ]
     },
     "metadata": {},
     "output_type": "display_data"
    }
   ],
   "source": [
    "X_square, X_distance, y = get_new_data()\n",
    "print_3d_table_with_data(X_square, X_distance, y)\n",
    "plot_new_3d_data(X_square, X_distance, y)"
   ]
  },
  {
   "cell_type": "code",
   "execution_count": 27,
   "metadata": {},
   "outputs": [
    {
     "data": {
      "application/vnd.jupyter.widget-view+json": {
       "model_id": "4bcc67919a634dbc8a22cc12140772b5",
       "version_major": 2,
       "version_minor": 0
      },
      "text/plain": [
       "A Jupyter Widget"
      ]
     },
     "metadata": {},
     "output_type": "display_data"
    }
   ],
   "source": [
    "def plot_loss_in_3d(X1, X2, y):    \n",
    "    angles1 = IntSlider(min=0, max=180, step=1, value=0, description='Вертикальное')\n",
    "    angles2 = IntSlider(min=0, max=180, step=1, value=0, description='Горизонтальное')\n",
    "\n",
    "    @interact(angle1=angles1, angle2=angles2)\n",
    "    def plot_loss(angle1, angle2):\n",
    "        fig = plt.figure(figsize=(10, 5))\n",
    "        ax = fig.gca(projection='3d')\n",
    "\n",
    "        # Make data.\n",
    "        X = np.linspace(-500000, 500000, 20)\n",
    "        Y = np.linspace(-200000, 0, 20)\n",
    "        X, Y = np.meshgrid(X, Y)\n",
    "\n",
    "        Z = np.zeros_like(X)\n",
    "        for i in range(len(X)):\n",
    "            for j in range(len(X)):\n",
    "                Z[i, j] = J_full(5000000, X[i, j], Y[i, j], X1, X2, y)\n",
    "\n",
    "        ax.set_xlabel('Площадь квартиры, квадратные метры')\n",
    "        ax.set_ylabel('Растояние до центра Москвы, км')\n",
    "        ax.set_zlabel('Цена квартиры, млн рублей')\n",
    "        \n",
    "        surf = ax.plot_surface(X, Y, Z,   linewidth=0, antialiased=False, cmap=cm.coolwarm)\n",
    "        ax.view_init(angle1, angle2)\n",
    "        plt.show()\n",
    "\n",
    "plot_loss_in_3d(X_square, X_distance, y)"
   ]
  },
  {
   "cell_type": "code",
   "execution_count": 28,
   "metadata": {},
   "outputs": [
    {
     "data": {
      "application/vnd.jupyter.widget-view+json": {
       "model_id": "27b67e3d7c884523863cbe4be57d369a",
       "version_major": 2,
       "version_minor": 0
      },
      "text/plain": [
       "A Jupyter Widget"
      ]
     },
     "metadata": {},
     "output_type": "display_data"
    }
   ],
   "source": [
    "a=0.0001\n",
    "k1, k2 = lin_grad_full(X_square, X_distance, y, alpha=a, iters=50, k0_init=5000000, k1_init=500000, k2_init=-200000)"
   ]
  },
  {
   "cell_type": "code",
   "execution_count": 29,
   "metadata": {},
   "outputs": [
    {
     "data": {
      "application/vnd.jupyter.widget-view+json": {
       "model_id": "05c2709d6bfe41da842a7e9d63b2c6aa",
       "version_major": 2,
       "version_minor": 0
      },
      "text/plain": [
       "A Jupyter Widget"
      ]
     },
     "metadata": {},
     "output_type": "display_data"
    }
   ],
   "source": [
    "plot_new_data_and_hyp(X_square, X_distance, y, 5000000, k1, k2)"
   ]
  },
  {
   "cell_type": "code",
   "execution_count": null,
   "metadata": {
    "collapsed": true
   },
   "outputs": [],
   "source": []
  },
  {
   "cell_type": "code",
   "execution_count": null,
   "metadata": {
    "collapsed": true
   },
   "outputs": [],
   "source": []
  },
  {
   "cell_type": "markdown",
   "metadata": {},
   "source": [
    "Посмотрим на X и на y."
   ]
  },
  {
   "cell_type": "code",
   "execution_count": null,
   "metadata": {
    "collapsed": true
   },
   "outputs": [],
   "source": [
    "print(X)"
   ]
  },
  {
   "cell_type": "code",
   "execution_count": null,
   "metadata": {
    "collapsed": true
   },
   "outputs": [],
   "source": [
    "print(X.shape)"
   ]
  },
  {
   "cell_type": "code",
   "execution_count": null,
   "metadata": {
    "collapsed": true
   },
   "outputs": [],
   "source": [
    "print(y)"
   ]
  },
  {
   "cell_type": "code",
   "execution_count": null,
   "metadata": {
    "collapsed": true
   },
   "outputs": [],
   "source": [
    "print(y)"
   ]
  },
  {
   "cell_type": "markdown",
   "metadata": {},
   "source": [
    "X содержит две колонки. \n",
    "\n",
    "1. В первой колонке содержится среднее колличесво комнат в жилище.\n",
    "2. Во второй колонке содержится процент населения с более низким статусом чем у жильца.\n",
    "\n",
    "y - это медианая цена за дом с такими параметрами в 1000$"
   ]
  },
  {
   "cell_type": "code",
   "execution_count": null,
   "metadata": {
    "collapsed": true
   },
   "outputs": [],
   "source": [
    "def visualize_X(X):\n",
    "    print(pd.DataFrame(X, columns=['Cреднее колличесво комнат', 'Процент населения с более низким статусом']))\n",
    "    \n",
    "def visualize_y(y):\n",
    "    print(pd.DataFrame(y, columns=['Медианая цена за дом с такими параметрами в 1000$']))\n",
    "    \n",
    "print(visualize_X(X))"
   ]
  },
  {
   "cell_type": "code",
   "execution_count": null,
   "metadata": {
    "collapsed": true
   },
   "outputs": [],
   "source": [
    "X_square, X_distance, y = get_new_data()\n",
    "print_3d_table_with_data(X_square, X_distance, y)\n",
    "plot_new_3d_data(X_square, X_distance, y)"
   ]
  },
  {
   "cell_type": "markdown",
   "metadata": {},
   "source": [
    "Для решения данной проблемы введем нашу гипотезу: $f(X^{площадь}, X^{дальность}) = k_0 + k_1 X^{площадь} + k_2 X^{дальность} = \\hat{y}$. Это линейная функция для двух входных параметров.\n",
    "\n",
    "Тогда определим нашу функцию ошибки от параметров $k_0, k_1, k_2$:\n",
    "\n",
    "$J(k) = \\frac{1}{2N}\\sum_{i=1}^{N}{(\\hat{y_i} - y_i)^2}= \\frac{1}{2N} \\sum_{i=1}^{N}{(k_0 + k_1 X^{площадь}_i + k_2 X^{дальность}_i  - y_i)^2}$\n",
    "\n",
    "Где $N$ - это количество квартир, $X^{площадь}_i$ - это площадь i-oй квартиры, $X^{дальность}_i$ - это расстояние квартиры до центра Москвы, а $y_i$ - цена для i-oй квартиры, $\\hat{y_i}$ - предсказанная цена для i-oй квартиры.\n",
    "\n",
    "Для нахождения этих коэффициентов также используем градиентный спуск. Но теперь нам необходимо найти производную от функции ошибки для каждого коэффициента.\n",
    "\n",
    "$\\frac{\\delta  J(k_0, k_1, k_2)}{\\delta k_0} = \\frac{1}{N}\\sum_{i=1}^{N} (k_0 + k_1 X^{площадь}_i + k_2 X^{дальность}_i  - y_i)$ \n",
    "\n",
    "$\\frac{\\delta J(k_0, k_1, k_2)}{\\delta k_1} = \\frac{1}{N}\\sum_{i=1}^{N} (k_0 + k_1 X^{площадь}_i + k_2 X^{дальность}_i  - y_i)X^{площадь}_i$ \n",
    "\n",
    "$\\frac{\\delta J(k_0, k_1, k_2)}{\\delta k_2} = \\frac{1}{N}\\sum_{i=1}^{N} (k_0 + k_1 X^{площадь}_i + k_2 X^{дальность}_i - y_i)X^{дальность}_i$ \n",
    "\n",
    "Мы также можем приравнять каждую производную к нулю и найти решение системы уравнений. Но делать это не целесообразно. Для решения данной системы в компьютере потребуется построить матричное уравнение. А в процессе решения потребуется найти обратную матрицу. Данная операция является очень медленной, даже на современных компьютерах. В данном примере у нас всего 2 входных параметра и 20 значений $X$. Вычисления обратной матрицы для нашего примера займет микросекунды. Но в реальных приложениях обычно бывает и по десяткам тысяч входных параметров и сотни миллионов значений. Нахождения обратной матриц для таких задач займет несравнимо много времени по сравнению с градиентным спуском. Поэтому в промышленности применяется именно градиентный спуск. \n",
    "\n",
    "Полный алгоритм градиентного спуска c $M$ коэффициентами можно описать следующим образом.\n",
    "\n",
    "* Выбираем случайное значение для $k_0, k_1, ... k_M$\n",
    "* Повторить пока не сойдется:\n",
    "\n",
    "    &nbsp;&nbsp;&nbsp;&nbsp;&nbsp;&nbsp; $k_{0_{new}} = k_0 - \\alpha \\cdot \\frac{\\delta }{\\delta k_0} J(k_0, k_1, ... , k_M)$ \n",
    "    \n",
    "    &nbsp;&nbsp;&nbsp;&nbsp;&nbsp;&nbsp; $k_{1_{new}} = k_1 - \\alpha \\cdot \\frac{\\delta }{\\delta k_1} J(k_0, k_1, ... , k_M)$ \n",
    "    \n",
    "    &nbsp;&nbsp;&nbsp;&nbsp;&nbsp;&nbsp; $ \\cdots $ \n",
    "    \n",
    "    &nbsp;&nbsp;&nbsp;&nbsp;&nbsp;&nbsp; $k_{M_{new}} = k_M - \\alpha \\cdot \\frac{\\delta }{\\delta k_M} J(k_0, k_1, ... , k_M)$ \n",
    "    \n",
    "    &nbsp;&nbsp;&nbsp;&nbsp;&nbsp;&nbsp; $k_0 = k_{0_{new}}, k_1 = k_{1_{new}} \\cdots k_M = k_{M_{new}}$\n",
    "    \n",
    "\n",
    "Где $\\alpha$ это коэффициент, который мы выбираем. \n",
    "\n",
    "Давайте теперь визуализируем ошибку.\n"
   ]
  },
  {
   "cell_type": "code",
   "execution_count": null,
   "metadata": {
    "collapsed": true
   },
   "outputs": [],
   "source": [
    "plot_loss_in_3d(X_square, X_distance, y)"
   ]
  },
  {
   "cell_type": "markdown",
   "metadata": {},
   "source": [
    "Тогда если мы используем формулы выше, то мы увидим следующую картину."
   ]
  },
  {
   "cell_type": "code",
   "execution_count": null,
   "metadata": {
    "collapsed": true
   },
   "outputs": [],
   "source": [
    "a=0.0001\n",
    "k1, k2 = lin_grad_full(X_square, X_distance, y, alpha=a, iters=50, k0_init=5000000, k1_init=500000, k2_init=-200000)"
   ]
  },
  {
   "cell_type": "markdown",
   "metadata": {},
   "source": [
    "А теперь визуализируеим полученный результат."
   ]
  },
  {
   "cell_type": "code",
   "execution_count": null,
   "metadata": {
    "collapsed": true
   },
   "outputs": [],
   "source": [
    "plot_new_data_and_hyp(X_square, X_distance, y, 5000000, k1, k2)"
   ]
  },
  {
   "cell_type": "markdown",
   "metadata": {},
   "source": [
    "# Переобучение и слишком простая модель\n",
    "\n",
    "Линейная регрессия может предсказать только прямую линию, но тут такое не пойдет. Нам нужно что-то по сложнее. То есть, наша модель слишком простая.\n",
    "\n",
    "## Полиномы\n",
    "\n",
    "Полиномом степени n называется функция $poly(X) = k_n X^n + k_{n-1} X^{n-1}  \\ldots + k_1 X + k_0$. Известное вам квадратное уравнение — это полином второй степени. $quadratic(X) = k_2 X^2 + k_1 X + k_0$, или как вы привыкли его видеть: $quadratic(X) = a X^2 + b X + c$.\n",
    "\n",
    "**Заменить картинку и рассказать прмиеры**\n",
    "\n",
    "![alt](img\\polynomes.png)\n",
    "\n",
    "В дальнейшем мы будем использовать полиномиальную регрессию. Ее можно простым образом получить из линейной регрессии. \n",
    "Как вы уже догадались формула линейной регрессии от M параметров можно записать следующим образом:\n",
    "$ f(X^{\\textrm{(1-ый параметр)}}, \n",
    "    X^{\\textrm{(2-ой параметр)}}, \n",
    "    \\cdots, \n",
    "    X^{\\textrm{(M-1-ый параметр)}}, \n",
    "    X^{\\textrm{(M-ый параметр)}}) \n",
    "    = \n",
    "    k_0 + \n",
    "    k_1 X^{\\textrm{(1-ый параметр)}} + \n",
    "    k_2 X^{\\textrm{(2-ой параметр)}} + \n",
    "    \\cdots + \n",
    "    k_{M - 1} X^{\\textrm{(M-1-ый параметр)}} + \n",
    "    k_M X^{\\textrm{(M-ый параметр)}}$.\n",
    "\n",
    "Но заменив $X^{\\textrm{(i-ый параметр)}}$ на $X^{i}$. Мы получим формулу для полинома от $X$. Напоминаю, что $X^{i}$ значит значение $X$ в степени i. То есть, мы передаем в формулу линейной регрессии $X^i$, вместо i-го параметра.\n",
    "\n",
    "$ f(X, \n",
    "    X^2, \n",
    "    \\cdots, \n",
    "    X^{M-1}, \n",
    "    X^M) = k_0 + k_1 X + k_2 X^2 + \\cdots + k_{M - 1} X^{M - 1} + k_M X^{M} = poly(X)$.\n",
    "\n",
    "\n",
    "Давайте получим и визуализируем новые данные."
   ]
  },
  {
   "cell_type": "code",
   "execution_count": 3,
   "metadata": {},
   "outputs": [
    {
     "data": {
      "image/png": "[encoded data removed]",
      "text/plain": [
       "<Figure size 432x288 with 1 Axes>"
      ]
     },
     "metadata": {},
     "output_type": "display_data"
    }
   ],
   "source": [
    "X, y = get_poly_data()\n",
    "plot_more_poly_data(X, y)"
   ]
  },
  {
   "cell_type": "markdown",
   "metadata": {},
   "source": [
    "Теперь посмотрим, как различные полиномы могут репрезентировать данные."
   ]
  },
  {
   "cell_type": "code",
   "execution_count": null,
   "metadata": {
    "collapsed": true
   },
   "outputs": [],
   "source": [
    "plot_poly_data(X, y)"
   ]
  },
  {
   "cell_type": "markdown",
   "metadata": {},
   "source": [
    "Но нужно помнить, что не всегда у нас может быть хороший набор данных. Допустим после того как мы обучили нашу модель мы собрали еще данных.  "
   ]
  },
  {
   "cell_type": "code",
   "execution_count": null,
   "metadata": {
    "collapsed": true
   },
   "outputs": [],
   "source": [
    "X1, y1 = get_more_poly_data()\n",
    "plot_more_poly_data(X, y, X1, y1)"
   ]
  },
  {
   "cell_type": "markdown",
   "metadata": {},
   "source": [
    "Теперь посмотрим на ошибку также на новых данных."
   ]
  },
  {
   "cell_type": "markdown",
   "metadata": {},
   "source": [
    "То есть, слишком сложная модель переобучается на данных. \n",
    "\n",
    "Для решения этой проблемы мы делим наши данные на обучающий набор и тестовый набор. Модель обучается на тестовом наборе, но окончательная оценка производится по тестовому набору. \n"
   ]
  },
  {
   "cell_type": "markdown",
   "metadata": {},
   "source": [
    "**Не очень наглядные картинки, надо добавить попроще и привести в противовес переобучения - недоообучение**\n",
    "\n",
    "\n",
    "**Не рассказзано про метрики качества регрессии, R2, smape, MAE...,\n",
    "где когда лучше применять, например если предсказываем выручку, то MSE покажет что? квадратные рубли? надо смотреть что то еще**\n",
    "\n",
    "**Рассказать про регуляризацию, например начать с того, что при переобучении у линейной модели будут очень большие веса, \n",
    "поймем что большие веса это плохо, как сделать их меньше? Ввести регуляризацию, можно привести пример аналитического решения с ней, получить регуляризацию по Тихонову.\n",
    "Можно привести пример с ошибками(бывает большой разброс и бывает смещение, что делает регуляризация? оставляет смещение и убирает разброс на сколько я помню)\n",
    "Нарисовать картинки с регуляризацией (кружочек для L2, ромбик для L1, покажем что L1 еще и фичи зануляет)**\n",
    "\n",
    "**Ничего не сказали про нормировку данных, если в модель засунуть фичи которые отличаются на порядки, хорошо это будет?**\n",
    "\n",
    "\n",
    "**обучить модельку из scikit-learn**\n",
    "\n",
    "**Повторить все что мы сделали (рассказать про пайплайн)**"
   ]
  },
  {
   "cell_type": "code",
   "execution_count": null,
   "metadata": {
    "collapsed": true
   },
   "outputs": [],
   "source": []
  },
  {
   "cell_type": "markdown",
   "metadata": {},
   "source": [
    "# Переобучение и слишком простая модель\n",
    "\n",
    "Как вы понимаете линейные функции не всегда могут быть использована для все данных. Например, допустим у нас есть следующий набор данных:\n",
    "\n",
    "![alt](img\\new_data.png)\n",
    "\n",
    "Линейная регрессия может предсказать только прямую линию, но тут такое не пойдет. Нам нужно что-то по сложнее. То есть, наша модель слишком простая.\n",
    "\n",
    "## Полиномы\n",
    "\n",
    "Полиномом степени n называется функция $poly(X) = k_n X^n + k_{n-1} X^{n-1}  \\ldots + k_1 X + k_0$. Известное вам квадратное уравнение — это полином второй степени. $quadratic(X) = k_2 X^2 + k_1 X + k_0$, или как вы привыкли его видеть: $quadratic(X) = a X^2 + b X + c$.\n",
    "\n",
    "**Заменить картинку и рассказать прмиеры**\n",
    "\n",
    "![alt](img\\polynomes.png)\n",
    "\n",
    "В дальнейшем мы будем использовать полиномиальную регрессию. Ее можно простым образом получить из линейной регрессии. \n",
    "Как вы уже догадались формула линейной регрессии от M параметров можно записать следующим образом:\n",
    "$ f(X^{\\textrm{(1-ый параметр)}}, \n",
    "    X^{\\textrm{(2-ой параметр)}}, \n",
    "    \\cdots, \n",
    "    X^{\\textrm{(M-1-ый параметр)}}, \n",
    "    X^{\\textrm{(M-ый параметр)}}) \n",
    "    = \n",
    "    k_0 + \n",
    "    k_1 X^{\\textrm{(1-ый параметр)}} + \n",
    "    k_2 X^{\\textrm{(2-ой параметр)}} + \n",
    "    \\cdots + \n",
    "    k_{M - 1} X^{\\textrm{(M-1-ый параметр)}} + \n",
    "    k_M X^{\\textrm{(M-ый параметр)}}$.\n",
    "\n",
    "Но заменив $X^{\\textrm{(i-ый параметр)}}$ на $X^{i}$. Мы получим формулу для полинома от $X$. Напоминаю, что $X^{i}$ значит значение $X$ в степени i. То есть, мы передаем в формулу линейной регрессии $X^i$, вместо i-го параметра.\n",
    "\n",
    "$ f(X, \n",
    "    X^2, \n",
    "    \\cdots, \n",
    "    X^{M-1}, \n",
    "    X^M) = k_0 + k_1 X + k_2 X^2 + \\cdots + k_{M - 1} X^{M - 1} + k_M X^{M} = poly(X)$.\n",
    "\n",
    "\n",
    "Давайте получим и визуализируем новые данные.\n",
    "\n",
    "** Картинки с переобучение. Недообучние и норм**"
   ]
  },
  {
   "cell_type": "code",
   "execution_count": 13,
   "metadata": {},
   "outputs": [
    {
     "data": {
      "image/png": "[encoded data removed]",
      "text/plain": [
       "<Figure size 432x288 with 1 Axes>"
      ]
     },
     "metadata": {},
     "output_type": "display_data"
    }
   ],
   "source": [
    "X, y = get_poly_data()\n",
    "plot_more_poly_data(X, y)"
   ]
  },
  {
   "cell_type": "markdown",
   "metadata": {},
   "source": [
    "Теперь посмотрим, как различные полиномы могут репрезентировать данные."
   ]
  },
  {
   "cell_type": "code",
   "execution_count": 18,
   "metadata": {},
   "outputs": [
    {
     "data": {
      "application/vnd.jupyter.widget-view+json": {
       "model_id": "2123b239f2e04bbaae12305f360a6170",
       "version_major": 2,
       "version_minor": 0
      },
      "text/plain": [
       "interactive(children=(IntSlider(value=1, description='Степень полинома', max=19, min=1), Output()), _dom_class…"
      ]
     },
     "metadata": {},
     "output_type": "display_data"
    }
   ],
   "source": [
    "plot_poly_data(X, y)"
   ]
  },
  {
   "cell_type": "markdown",
   "metadata": {},
   "source": [
    "Но нужно помнить, что не всегда у нас может быть хороший набор данных. Допустим после того как мы обучили нашу модель мы собрали еще данных.  "
   ]
  },
  {
   "cell_type": "code",
   "execution_count": 15,
   "metadata": {
    "scrolled": true
   },
   "outputs": [
    {
     "data": {
      "image/png": "[encoded data removed]",
      "text/plain": [
       "<Figure size 432x288 with 1 Axes>"
      ]
     },
     "metadata": {},
     "output_type": "display_data"
    }
   ],
   "source": [
    "X1, y1 = get_more_poly_data()\n",
    "plot_more_poly_data(X, y, X1, y1)"
   ]
  },
  {
   "cell_type": "markdown",
   "metadata": {},
   "source": [
    "Теперь посмотрим на ошибку также на новых данных."
   ]
  },
  {
   "cell_type": "code",
   "execution_count": 16,
   "metadata": {},
   "outputs": [
    {
     "data": {
      "application/vnd.jupyter.widget-view+json": {
       "model_id": "b4cdd60431204e0ca402cda26302f6e7",
       "version_major": 2,
       "version_minor": 0
      },
      "text/plain": [
       "interactive(children=(IntSlider(value=1, description='Степень полинома', max=19, min=1), Output()), _dom_class…"
      ]
     },
     "metadata": {},
     "output_type": "display_data"
    }
   ],
   "source": [
    "plot_poly_data(X, y, X1, y1)"
   ]
  },
  {
   "cell_type": "markdown",
   "metadata": {},
   "source": [
    "То есть, слишком сложная модель переобучается на данных. \n",
    "\n",
    "Для решения этой проблемы мы делим наши данные на обучающий набор и тестовый набор. Модель обучается на тестовом наборе, но окончательная оценка производится по тестовому набору. \n"
   ]
  },
  {
   "cell_type": "markdown",
   "metadata": {},
   "source": [
    "**Не очень наглядные картинки, надо добавить попроще и привести в противовес переобучения - недоообучение**"
   ]
  },
  {
   "cell_type": "markdown",
   "metadata": {},
   "source": [
    "**Не рассказзано про метрики качества регрессии, R2, smape, MAE...,\n",
    "где когда лучше применять, например если предсказываем выручку, то MSE покажет что? квадратные рубли? надо смотреть что то еще**"
   ]
  },
  {
   "cell_type": "markdown",
   "metadata": {},
   "source": [
    "**Рассказать про регуляризацию, например начать с того, что при переобучении у линейной модели будут очень большие веса, \n",
    "поймем что большие веса это плохо, как сделать их меньше? Ввести регуляризацию, можно привести пример аналитического решения с ней, получить регуляризацию по Тихонову.\n",
    "Можно привести пример с ошибками(бывает большой разброс и бывает смещение, что делает регуляризация? оставляет смещение и убирает разброс на сколько я помню)\n",
    "Нарисовать картинки с регуляризацией (кружочек для L2, ромбик для L1, покажем что L1 еще и фичи зануляет)**"
   ]
  },
  {
   "cell_type": "markdown",
   "metadata": {},
   "source": [
    "**Ничего не сказали про нормировку данных, если в модель засунуть фичи которые отличаются на порядки, хорошо это будет?**"
   ]
  },
  {
   "cell_type": "markdown",
   "metadata": {},
   "source": [
    "**обучить модельку из scikit-learn**"
   ]
  },
  {
   "cell_type": "markdown",
   "metadata": {},
   "source": [
    "**Повторить все что мы сделали (рассказать про пайплайн)**"
   ]
  },
  {
   "cell_type": "markdown",
   "metadata": {},
   "source": [
    "# Задание\n",
    "\n",
    "1. Создать полиномиальные признаки\n",
    "1. Сделать полиномиальную функцию\n",
    "2. Сделать функцию ошибки\n",
    "3. Рассчитать градиент\n",
    "4. Реализовать градиентный спуск\n",
    "Задания следует делать одно за другим.\n",
    "\n",
    "Для начала запустим следующую ячейку, которая визуализирует наши данные."
   ]
  },
  {
   "cell_type": "code",
   "execution_count": 228,
   "metadata": {
    "collapsed": true
   },
   "outputs": [],
   "source": [
    "X, y = get_data()    # Загружаем данные в X и y"
   ]
  },
  {
   "cell_type": "markdown",
   "metadata": {},
   "source": [
    "##### Создать квадратичные признаки \n",
    "На вход функции передается вектор значений признаков X размера Nx1. Функция должна возвращать матрицу  размера N x m+1 c полиномиальными признаками из вектора X следуюзего вида:\n",
    "   \\begin{equation*}\n",
    "    \\mathbf{X} = \\begin{pmatrix}\n",
    "    1 & x_1 & x_1^2 &\\dots & x_1^m\\\\\n",
    "    1 & x_2 & x_2^2 &\\dots & x_2^m \\\\\n",
    "    \\cdots \\\\\n",
    "    1& x_N & x_N^2 &\\dots & x_n^m\n",
    "    \\end{pmatrix}\n",
    "    \\end{equation*}\n",
    "    \n",
    "Подсказка: использовать функцию hstack из библиотеки numpy."
   ]
  },
  {
   "cell_type": "code",
   "execution_count": 229,
   "metadata": {
    "collapsed": true
   },
   "outputs": [],
   "source": [
    "def creat_polinom_features(X, m):\n",
    "    X_m = np.ones_like(X)\n",
    "    # Напоминаю, что код нужно писать в области между звездочками. \n",
    "    #***********************************************************************\n",
    "    for i in range(1, m+1):\n",
    "        X_m = np.hstack((X_m, X**i))\n",
    "    #***********************************************************************\n",
    "    return X_m\n",
    "\n",
    "m=3\n",
    "X_m = creat_polinom_features(X.reshape(-1,1), m)"
   ]
  },
  {
   "cell_type": "markdown",
   "metadata": {},
   "source": [
    "##### Реализовать линейную функцию вида $y = \\theta_0 + \\theta_1 x + \\theta_2 x^2 +... + \\theta_m x^m$ в матричном виде. \n",
    "   На вход функции передается вектор значений коэффициента $\\Theta$ размера m+1x1, и матрица  $\\mathbf{X}$ размера Nxm+1 с квадратичными признаками полученная предыдущей функцией. Ваша задача  вернуть вектор-столбец предсказаний $\\mathbf{y}$ размера Nx1 полученный перемножением матрицы $X$ и $\\Theta$:\n",
    "\\begin{equation*}\n",
    "y = X\\Theta\n",
    "\\end{equation*}\n"
   ]
  },
  {
   "cell_type": "code",
   "execution_count": 230,
   "metadata": {
    "collapsed": true
   },
   "outputs": [],
   "source": [
    "def polinom_function(theta, X_m):\n",
    "    y = np.zeros(X.shape[0])\n",
    "\n",
    "    #***********************************************************************  \n",
    "    y = np.dot(X_m, theta)\n",
    "    #***********************************************************************\n",
    "\n",
    "    return y"
   ]
  },
  {
   "cell_type": "markdown",
   "metadata": {},
   "source": [
    "##### Реализовать функцию потерь  MAE $J(\\Theta) = \\frac{1}{N}\\sum_{i=0}^{N}{|\\hat{y_i} - y_i|}= \\frac{1}{N} \\sum_{i=0}^{N}{|f(X_i, \\Theta) - y_i|}$\n",
    "\n",
    "На вход функции передается вектор коэффициентов $\\Theta$, и матрица признаков $\\mathbf{X}$ размера Nxm+1 и вектор-столбец $\\mathbf{y}$ c реальными значениями, размера Nx1. Функция должна возвращать действительное число равное $J(\\Theta)$.  В библиотеки numpy есть функция модуля absolute, она тебе поможет."
   ]
  },
  {
   "cell_type": "code",
   "execution_count": 231,
   "metadata": {
    "collapsed": true
   },
   "outputs": [],
   "source": [
    "def loss_function(theta, X_m, y):\n",
    "    # Ты можешь использовать функцию polinon_function из предыдущего задания\n",
    "    # Для того, что бы найти значение f(X)\n",
    "    # Не бойся создавать новые переменные. \n",
    "    # Помни что ты можешь вычитать один вектор из другого, а также помни что,\n",
    "    # ты можешь почленно вводить в степень вектор. \n",
    "    \n",
    "    # Результат функции потерь должен быть записан в переменную J\n",
    "   \n",
    "    \n",
    "    N = X.shape[0]       # получаем размер вектора столбца\n",
    "    J = 0\n",
    "\n",
    "    #***********************************************************************\n",
    "    y_pred = polinom_function(theta, X_m)\n",
    "    J = sum(np.absolute(y_pred - y))/N\n",
    "\n",
    "    #***********************************************************************\n",
    "\n",
    "    return J"
   ]
  },
  {
   "cell_type": "markdown",
   "metadata": {},
   "source": [
    "##### Реализовать подсчет градиента  $J'(\\Theta)$.\n",
    "На вход функции передается вектор коэффициентов $\\Theta$, и матрица признаков $\\mathbf{X}$ размера Nxm+1 и вектор-столбец $\\mathbf{y}$ c реальными значениями размера Nx1. Функция должна возвращать вектор градиент функции потерь MAE $J'(\\Theta)$ в точке $\\theta_0 ... \\theta_m$.   В общем случае производная от $|x|$ не определена в точке 0, во всех остальных случаях ее можно определть, как $|x|/x$.\n",
    "В нашем случае мы можем доопределить производную от |x| в нуле значением 0. Тогда она совпадет с функцией знака:\n",
    "\\begin{equation*}\n",
    " sign(x) = \n",
    " \\begin{cases}\n",
    "   1 &\\text{x > 0}\\\\\n",
    "   0 &\\text{x = 0}\\\\\n",
    "   -1 &\\text{x < 0}\n",
    " \\end{cases}\n",
    "\\end{equation*}\n",
    "\n",
    "Теперь мы можем посчитать градиент функции потерь:  \n",
    "\\begin{equation*}\n",
    "\\frac{\\partial J(\\Theta)}{\\partial \\theta_j} = \\frac{1}{N} \\sum_{i=1}^{N} sign(f_i(X_i, \\Theta) - y_i) X_{ij}  = \\frac{1}{N} \\sum_{i=1}^{N} sign(X\\Theta_i - y_i) X_{ij}\n",
    "\\end{equation*}\n",
    "\n",
    "\\begin{equation*}\n",
    "J'(\\Theta) = \n",
    " \\begin{cases}\n",
    "   \\frac{1}{N} \\sum_{i=1}^{N} sign(X\\Theta_i - y_i)X_{i0}\\\\\n",
    "   \\frac{1}{N} \\sum_{i=1}^{N} sign(X\\Theta_i - y_i)X_{i1}\\\\\n",
    "   \\cdots\\\\\n",
    "   \\frac{1}{N} \\sum_{i=1}^{N} sign(X\\Theta_i - y_i)X_{im}\\\\\n",
    " \\end{cases}\n",
    "\\end{equation*}\n",
    "\n",
    "В библиотеке numpy есть функция sign, которя считает функцию знака для всех элементолв вектора."
   ]
  },
  {
   "cell_type": "code",
   "execution_count": 232,
   "metadata": {
    "collapsed": true
   },
   "outputs": [],
   "source": [
    "def gradient_function(theta, X_m, y):\n",
    "    # Ты можешь использовать функцию polinom_function из предыдущего задания\n",
    "    # Для того, что бы найти значение f(X)\n",
    "    # Не бойся создавать новые переменные. \n",
    "    # Помни что ты можешь вычитать один из другого, а также помни что,\n",
    "    # ты можешь почленно перемножать вектора вектор. \n",
    "    \n",
    "    # Результат функции потерь должен быть записан в вектор grad\n",
    "    N, m = X_m.shape       # получаем размер вектора столбца\n",
    "    grad = np.zeros(m)\n",
    "    \n",
    "    #***********************************************************************\n",
    "    y_pred = polinom_function(theta, X_m)\n",
    "    for j in range(m):\n",
    "        grad[j] = np.dot(np.sign(y_pred - y),X_m[:,j])/N\n",
    "                       \n",
    "    #***********************************************************************\n",
    "    return grad\n",
    "   \n",
    "#check_gradient_function(gradient_function)"
   ]
  },
  {
   "cell_type": "markdown",
   "metadata": {},
   "source": [
    "##### Финишная прямая. Пора реализовать алгоритм градиентного спуска. \n",
    "На вход функции передается начальный вектор $\\mathbf{\\Theta}$ размера m+1x1, матрица признаков $\\mathbf{X}$ размера Nxm+1 и вектор-столбец $\\mathbf{y}$ c реальными значениями размера Nx1, значение коэффициента альфа $\\alpha$ и число $iters$ равное количеству итераций в алгоритме. \n",
    "Сам алгоритм мы будем использовать в следующем виде\n",
    "* Повторить $iters$ раз:\n",
    "&nbsp;&nbsp;&nbsp;&nbsp;&nbsp;&nbsp; $\\Theta = \\Theta - \\alpha \\cdot J'(\\Theta)$"
   ]
  },
  {
   "cell_type": "code",
   "execution_count": 233,
   "metadata": {
    "collapsed": true
   },
   "outputs": [],
   "source": [
    "def gradient_descent(theta_init, X_m, y, alpha, iters):\n",
    "    # Лучше всего использовать функцию gradient_function для \n",
    "    # нахождения градиента, чем пересчитывать его еще раз\n",
    "    \n",
    "    # И еше я прошу перед тем как изменить значение theta, сохранять в массиве theta_old.\n",
    "    #предыдущий вектор\n",
    "    # Например, i это счетчик цикла.\n",
    "    # Тогда вектор theta можно сохранить как theta_old[i,:] = theta\n",
    "        \n",
    "    theta = theta_init\n",
    "    N, m = X_m.shape\n",
    "    theta_old = np.zeros((iters, m))\n",
    "\n",
    "    #***********************************************************************\n",
    "\n",
    "    for i in range (0, iters):\n",
    "        theta_old[i, :] = theta\n",
    "        theta = theta - (alpha * gradient_function(theta, X_m, y))\n",
    "        \n",
    "\n",
    "    #***********************************************************************\n",
    "\n",
    "    return theta, theta_old\n",
    "    \n",
    "#check_gradient_descent(gradient_descent)\n"
   ]
  }
 ],
 "metadata": {
  "anaconda-cloud": {},
  "kernelspec": {
   "display_name": "Python 3",
   "language": "python",
   "name": "python3"
  },
  "language_info": {
   "codemirror_mode": {
    "name": "ipython",
    "version": 3
   },
   "file_extension": ".py",
   "mimetype": "text/x-python",
   "name": "python",
   "nbconvert_exporter": "python",
   "pygments_lexer": "ipython3",
   "version": "3.6.3"
  },
  "widgets": {
   "state": {
    "03fc38044a514408b9de41fa70bf122f": {
     "views": [
      {
       "cell_index": 17
      }
     ]
    },
    "19b7b5447a594ae1a20b764ac13118cc": {
     "views": [
      {
       "cell_index": 15
      }
     ]
    },
    "28304c0dfbab44f5a851af84bf5947d3": {
     "views": [
      {
       "cell_index": 21
      }
     ]
    },
    "3f700e837fd046ddb14ee8776ac8bc04": {
     "views": [
      {
       "cell_index": 31
      }
     ]
    },
    "50d7c06a111e43c1860a5b10a576bfd3": {
     "views": [
      {
       "cell_index": 23
      }
     ]
    },
    "a74e340d7bb24d9bb020ad7dd982e764": {
     "views": [
      {
       "cell_index": 19
      }
     ]
    },
    "d5593dc80c0445c7ae64c7da2d37f72f": {
     "views": [
      {
       "cell_index": 5
      }
     ]
    },
    "d644b9b546b849c6b17acb3be1f1952b": {
     "views": [
      {
       "cell_index": 3
      }
     ]
    },
    "eac5158d5b6c45c4afa73b58b8b0e58a": {
     "views": [
      {
       "cell_index": 7
      }
     ]
    },
    "f4cec2743faf43ad9b8e7c828c6ee76a": {
     "views": [
      {
       "cell_index": 27
      }
     ]
    }
   },
   "version": "1.2.0"
  }
 },
 "nbformat": 4,
 "nbformat_minor": 1
}
