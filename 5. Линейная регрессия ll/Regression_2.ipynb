{
 "cells": [
  {
   "cell_type": "markdown",
   "metadata": {},
   "source": [
    "# Линейная регрессия II"
   ]
  },
  {
   "cell_type": "markdown",
   "metadata": {},
   "source": [
    "## План занятия:\n",
    "    1. Применение линейной регрессии на реальных данных\n",
    "    2. Нормализация данных\n",
    "    3. Переобучение и недообучение\n",
    "    4. Полиномиальная регрессия"
   ]
  },
  {
   "cell_type": "code",
   "execution_count": 1,
   "metadata": {},
   "outputs": [],
   "source": [
    "%load_ext autoreload\n",
    "%autoreload 2"
   ]
  },
  {
   "cell_type": "code",
   "execution_count": 2,
   "metadata": {
    "collapsed": true
   },
   "outputs": [],
   "source": [
    "from regression2_helper import * # Подгружаем функции для визуализации\n",
    "import numpy as np              # Подгруджаем библиотеку NumPy\n",
    "np.set_printoptions(formatter={'float': lambda x: format(x, '6.3f')}) # настройка вывода для матриц"
   ]
  },
  {
   "cell_type": "markdown",
   "metadata": {},
   "source": [
    "# Применение линейной регрессии на реальных данных\n",
    "\n",
    "Рассмотрим реальный датасет содержащий данные о стоимости жилья в Бостоне.  \n",
    "Данные были собраны в 1978 году и содержат 506 записей, представляющие собой 14 агрегированных характеристик домов из пригородов Бостона, штат Массачусетс."
   ]
  },
  {
   "cell_type": "markdown",
   "metadata": {},
   "source": [
    "1. CRIM: Уровень преступности  \n",
    "2. ZN: Доля жилой земли, отведенной под участки более 25000 кв. Футов  \n",
    "3. INDUS: Доля неторговых площадей на город  \n",
    "4. CHAS: Фиктивная переменная реки Чарльз (= 1, если путь ограничивает реку; 0 в противном случае)  \n",
    "5. NOX: Концентрация оксида азота  \n",
    "6. RM: Среднее количество комнат в доме  \n",
    "7. AGE: Доля домов, построенных до 1940 года  \n",
    "8. DIS: Взвешенные расстояния до пяти бостонских центров занятости  \n",
    "9. RAD: Индекс доступности к радиальным магистралям  \n",
    "10. TAX: Ставка налога на полную стоимость имущества за 10000 долларов США  \n",
    "11. PTRATIO: Соотношение учеников и учителей по городам   \n",
    "12. B: $1000(Bk - 0,63)^2$, где $Bk$ - это доля людей афроамериканского происхождения по городам  \n",
    "13. LSTAT: процент населения с более низким статусом чем у жильца  \n",
    "14. MEDV: медианая цена за дом с такими параметрами в 1000$"
   ]
  },
  {
   "cell_type": "markdown",
   "metadata": {},
   "source": [
    "Наша задача будет предсказать цену домов (MEDV) используя данные характеристики"
   ]
  },
  {
   "cell_type": "markdown",
   "metadata": {},
   "source": [
    "Для начала  построим модель линейной регрессии для предсказания медианной цены домов,   \n",
    "используюя всего два признака: RM и LSTAT"
   ]
  },
  {
   "cell_type": "code",
   "execution_count": 3,
   "metadata": {
    "collapsed": true
   },
   "outputs": [],
   "source": [
    "#загрузим данные\n",
    "X_room, X_lstat, y = load_small_data()"
   ]
  },
  {
   "cell_type": "code",
   "execution_count": 4,
   "metadata": {},
   "outputs": [
    {
     "name": "stdout",
     "output_type": "stream",
     "text": [
      "    Cреднее количество комнат  LSTAT %  Цена квартиры, $1000$\n",
      "0                       6.575     4.98                   24.0\n",
      "1                       6.421     9.14                   21.6\n",
      "2                       7.185     4.03                   34.7\n",
      "3                       6.998     2.94                   33.4\n",
      "4                       7.147     5.33                   36.2\n",
      "5                       6.430     5.21                   28.7\n",
      "6                       6.012    12.43                   22.9\n",
      "7                       6.172    19.15                   27.1\n",
      "8                       5.631    29.93                   16.5\n",
      "9                       6.004    17.10                   18.9\n",
      "10                      6.377    20.45                   15.0\n",
      "11                      6.009    13.27                   18.9\n",
      "12                      5.889    15.71                   21.7\n",
      "13                      5.949     8.26                   20.4\n",
      "14                      6.096    10.26                   18.2\n",
      "15                      5.834     8.47                   19.9\n",
      "16                      5.935     6.58                   23.1\n"
     ]
    }
   ],
   "source": [
    "print_3d_table_with_data(X_room, X_lstat, y)"
   ]
  },
  {
   "cell_type": "markdown",
   "metadata": {},
   "source": [
    "Рассмотрим зависимости каждого из признаков с ценой."
   ]
  },
  {
   "cell_type": "code",
   "execution_count": 5,
   "metadata": {},
   "outputs": [
    {
     "data": {
      "image/png": "[encoded data removed]",
      "text/plain": [
       "<Figure size 1080x648 with 1 Axes>"
      ]
     },
     "metadata": {},
     "output_type": "display_data"
    }
   ],
   "source": [
    "plot_rm(X_room, y)"
   ]
  },
  {
   "cell_type": "code",
   "execution_count": 6,
   "metadata": {},
   "outputs": [
    {
     "data": {
      "image/png": "[encoded data removed]",
      "text/plain": [
       "<Figure size 1080x648 with 1 Axes>"
      ]
     },
     "metadata": {},
     "output_type": "display_data"
    }
   ],
   "source": [
    "plot_lstat(X_lstat, y)"
   ]
  },
  {
   "cell_type": "markdown",
   "metadata": {},
   "source": [
    "Рассмотрим теперь зависимость от двух признаков."
   ]
  },
  {
   "cell_type": "code",
   "execution_count": 7,
   "metadata": {},
   "outputs": [
    {
     "data": {
      "application/vnd.jupyter.widget-view+json": {
       "model_id": "4281947126f04075baa1029e65d80e0b",
       "version_major": 2,
       "version_minor": 0
      },
      "text/plain": [
       "A Jupyter Widget"
      ]
     },
     "metadata": {},
     "output_type": "display_data"
    }
   ],
   "source": [
    "plot_new_3d_data(X_room, X_lstat, y)"
   ]
  },
  {
   "cell_type": "markdown",
   "metadata": {},
   "source": [
    "## Функция от двух параметров"
   ]
  },
  {
   "cell_type": "markdown",
   "metadata": {},
   "source": [
    "Для предсказания цен квартир в бостоне по данной паре признаков, рассмотрим модель линейной регрессию вида:\n",
    "\\begin{equation*}\n",
    "\\tilde{y} = \\theta_0 + \\theta_1 x_1 + \\theta_2 x_2.\n",
    "\\end{equation*}\n",
    "$\\tilde{y}$ - предсказанная цена  \n",
    "$x_1$ - Cреднее количество комнат  \n",
    "$x_2$ - LSTAT %  \n",
    "$\\theta_0, \\theta_1, \\theta_2$ - параметры модели (веса)"
   ]
  },
  {
   "cell_type": "code",
   "execution_count": 8,
   "metadata": {},
   "outputs": [
    {
     "data": {
      "application/vnd.jupyter.widget-view+json": {
       "model_id": "9b0638c4f067456c8e8dc07ce3282f81",
       "version_major": 2,
       "version_minor": 0
      },
      "text/plain": [
       "A Jupyter Widget"
      ]
     },
     "metadata": {},
     "output_type": "display_data"
    }
   ],
   "source": [
    "plot_new_3d_data_and_hyp(X_room, X_lstat, y)"
   ]
  },
  {
   "cell_type": "markdown",
   "metadata": {},
   "source": [
    "Давайте объединим признаки для $i$-того примера в вектор стоку $x_i = [x_{i, 1}, x_{i, 2}]$.\n",
    "\n",
    "$x_{i, 1}$ - это среднее количество комнат $i$-го примера.\n",
    "\n",
    "$x_{i, 2}$ - LSTAT $i$-го примера.\n",
    "\n",
    "Давайте также объединим коэфициенты в вектор столбец $\\theta = \\begin{pmatrix}\n",
    "    \\theta_1\\\\\n",
    "    \\theta_2\\\\\n",
    "  \\end{pmatrix} = \n",
    "[\\theta_1, \\theta_2]^T$"
   ]
  },
  {
   "cell_type": "markdown",
   "metadata": {},
   "source": [
    "Объеденив признаки и коэфициенты в вектора можем переписать предсказание $i$-того примера в матричном виде:\n",
    "  \\begin{equation*}\n",
    "\\tilde{y_i}= \\theta_0 + [x_{i, 1}, x_{i, 2}] \\begin{pmatrix}\n",
    "    \\theta_1\\\\\n",
    "    \\theta_2\\\\\n",
    "  \\end{pmatrix} = \\theta_0 + \\theta_1 x_{i, 1} + \\theta_2 x_{i, 2}.\n",
    "\\end{equation*}\n",
    " "
   ]
  },
  {
   "cell_type": "markdown",
   "metadata": {},
   "source": [
    "Или переписав использовав матричное умножение:\n",
    "$\\tilde{y}= \\theta_0 + x_i \\theta.$"
   ]
  },
  {
   "cell_type": "markdown",
   "metadata": {},
   "source": [
    "Чтобы избавиться от свобдного члена $\\theta_0$  и записать выражение полностью в матричном виде, сделаем следующий трюк: добавим к вектору $x_i$  единицу:\n",
    "\n",
    "${X}_i = [1, x_{i, 1}, x_{i, 2}].$\n",
    "\n",
    "Тогда $\\theta_0$ можно добавить в вектор столбец $\\theta$ первым элементом:\n",
    "\\begin{equation*}\n",
    "\\Theta = [\\theta_0, \\theta_1, \\theta_2]^T,\n",
    "\\end{equation*}\n",
    "\n",
    "а вычисление предсказанной цены $\\tilde{y}_i$ сведется всего лишь к матричному произведению:\n",
    "  \\begin{equation*}\n",
    "\\tilde{y}_i= [1, x_{i, 1}, x_{i, 1}] \\begin{pmatrix}\n",
    "    \\theta_0\\\\\n",
    "    \\theta_1\\\\\n",
    "    \\theta_2\\\\\n",
    "  \\end{pmatrix} =  1 \\cdot \\theta_0 + \\theta_1 x^{(R)}_i + \\theta_2 x^{(L)}_i.\n",
    "\\end{equation*}\n",
    "\n",
    "\\begin{equation*}\n",
    "\\tilde{y}_i = X_i\\Theta.\n",
    "\\end{equation*}"
   ]
  },
  {
   "cell_type": "markdown",
   "metadata": {},
   "source": [
    "Эта формула позволяет вычислить предсказание для одного конкретного жилья в Бостоне.\n",
    "\n",
    "Плюсом матричного произведение является то, что мы можем вычислить предсказание стоимости жилья сразу для всех квартир."
   ]
  },
  {
   "cell_type": "markdown",
   "metadata": {},
   "source": [
    "Допустим у нас есть $N$ примеров в обучающей выборке. $x_{i,0} = 1$. Тогда всесь набор можно записать как:\n",
    "\n",
    "\\begin{equation*}\n",
    "X= \\begin{pmatrix}\n",
    "1& x_{1,1}& x_{1,2} \\\\\n",
    "1& x_{2,1}& x_{2,2} \\\\\n",
    "    \\cdot\\\\\n",
    "    \\cdot\\\\\n",
    "1& x_{i,1}& x_{i,2} \\\\\n",
    "    \\cdot\\\\\n",
    "    \\cdot\\\\\n",
    "    \\cdot\\\\\n",
    "1& x_{N,1}& x_{N,2} \\\\\n",
    "\\end{pmatrix}=\n",
    "\\begin{pmatrix}\n",
    "x_{1,0}& x_{1,1}& x_{1,2} \\\\\n",
    "x_{2,0}& x_{2,1}& x_{2,2} \\\\\n",
    "    \\cdot\\\\\n",
    "    \\cdot\\\\\n",
    "x_{i,0}& x_{i,1}& x_{i,2} \\\\\n",
    "    \\cdot\\\\\n",
    "    \\cdot\\\\\n",
    "    \\cdot\\\\\n",
    "x_{N,0}& x_{N,1}& x_{N,2} \\\\\n",
    "\\end{pmatrix}\n",
    "\\end{equation*}\n",
    "\n",
    "или\n",
    "\n",
    "\\begin{equation*}\n",
    "X= \\begin{pmatrix}\n",
    "X_0 \\\\\n",
    "X_1 \\\\\n",
    "    \\cdot\\\\\n",
    "    \\cdot\\\\\n",
    "X_i \\\\\n",
    "    \\cdot\\\\\n",
    "    \\cdot\\\\\n",
    "    \\cdot\\\\\n",
    "X_N \\\\\n",
    "\\end{pmatrix}\n",
    "\\end{equation*}\n",
    "\n",
    "Или в самом коротком виде: $X = [X_1, X_2, ...X_N]^T$, где  $X_i = [x_{i,0}, x_{i,1}, x_{i,2}]$."
   ]
  },
  {
   "cell_type": "markdown",
   "metadata": {},
   "source": [
    "\n",
    "Тогда для предсказания стоимости жилья всех квартир, запишим $N$ выражений:\n",
    "\n",
    "\n",
    "\\begin{cases}\n",
    "\\tilde{y}_1 = 1\\cdot \\theta_0 + \\theta_1 x_{1,1} + \\theta_2 x_{1,2}\\\\\n",
    "\\tilde{y}_2 = 1\\cdot \\theta_0 + \\theta_1 x_{2,1} + \\theta_2 x_{2,2}\\\\\n",
    "\\cdot\\\\\n",
    "\\cdot\\\\\n",
    "\\tilde{y}_i = 1\\cdot \\theta_0 + \\theta_1 x_{i,1} + \\theta_2 x_{i,2}\\\\\n",
    "\\cdot\\\\\n",
    "\\cdot\\\\\n",
    "\\cdot\\\\\n",
    "\\tilde{y}_N = 1\\cdot \\theta_0 + \\theta_1 x_{N,1} + \\theta_2 x_{N,2}\\\\\n",
    "\\end{cases}\n",
    "\n",
    " \\begin{cases}\n",
    "\\tilde{y}_1 = x_{0,1}\\theta_0 + \\theta_1 x_{1,1} + \\theta_2 x_{1,2}\\\\\n",
    "\\tilde{y}_2 = x_{1,1}\\theta_0 + \\theta_1 x_{2,1} + \\theta_2 x_{2,2}\\\\\n",
    "\\cdot\\\\\n",
    "\\cdot\\\\\n",
    "\\tilde{y}_i = x_{i,1}\\theta_0 + \\theta_1 x_{i,1} + \\theta_2 x_{i,2}\\\\\n",
    "\\cdot\\\\\n",
    "\\cdot\\\\\n",
    "\\cdot\\\\\n",
    "\\tilde{y}_N = x_{N,1}\\theta_0 + \\theta_1 x_{N,1} + \\theta_2 x_{N,2}\\\\\n",
    "\\end{cases}\n",
    "\n",
    "Или тоже самое можно записать в матричном виде:  \n",
    "\\begin{equation*}\n",
    " \\begin{pmatrix}\n",
    "x_{1,0}& x_{1,1}& x_{1,2} \\\\\n",
    "x_{2,0}& x_{2,1}& x_{2,2} \\\\\n",
    "    \\cdot\\\\\n",
    "    \\cdot\\\\\n",
    "x_{i,0}& x_{i,1}& x_{i,2} \\\\\n",
    "    \\cdot\\\\\n",
    "    \\cdot\\\\\n",
    "    \\cdot\\\\\n",
    "x_{N,0}& x_{N,1}& x_{N,2} \\\\\n",
    "\\end{pmatrix}\\cdot\n",
    "\\begin{pmatrix}\n",
    "    \\theta_0\\\\\n",
    "    \\theta_1\\\\\n",
    "    \\theta_2\n",
    "  \\end{pmatrix}=\\begin{pmatrix}\n",
    "x_{0,1}\\theta_0 + \\theta_1 x_{1,1} + \\theta_2 x_{1,2}\\\\\n",
    "x_{1,1}\\theta_0 + \\theta_1 x_{2,1} + \\theta_2 x_{2,2}\\\\\n",
    "\\cdot\\\\\n",
    "\\cdot\\\\\n",
    "x_{i,1}\\theta_0 + \\theta_1 x_{i,1} + \\theta_2 x_{i,2}\\\\\n",
    "\\cdot\\\\\n",
    "\\cdot\\\\\n",
    "\\cdot\\\\\n",
    "x_{N,1}\\theta_0 + \\theta_1 x_{N,1} + \\theta_2 x_{N,2}\\\\\n",
    "  \\end{pmatrix}=\n",
    "  \\begin{pmatrix}\n",
    "    \\tilde{y}_1\\\\\n",
    "    \\tilde{y}_2\\\\\n",
    "    \\cdot\\\\\n",
    "    \\cdot\\\\\n",
    "    \\tilde{y}_i\\\\\n",
    "    \\cdot\\\\\n",
    "    \\cdot\\\\\n",
    "    \\cdot\\\\\n",
    "    \\tilde{y}_N\\\\\n",
    "  \\end{pmatrix}\n",
    "\\end{equation*}\n",
    "\n",
    "\n",
    "\\begin{equation*}\n",
    "\\tilde{y} = X\\Theta.\n",
    "\\end{equation*}\n",
    "\n",
    "$x_{i, 0} = 1$  "
   ]
  },
  {
   "cell_type": "markdown",
   "metadata": {},
   "source": [
    "Для начала составим матрицу $X$ из нашихх признаков."
   ]
  },
  {
   "cell_type": "code",
   "execution_count": 9,
   "metadata": {},
   "outputs": [
    {
     "name": "stdout",
     "output_type": "stream",
     "text": [
      "[[ 1.000  6.575  4.980]\n",
      " [ 1.000  6.421  9.140]\n",
      " [ 1.000  7.185  4.030]\n",
      " ...\n",
      " [ 1.000  6.976  5.640]\n",
      " [ 1.000  6.794  6.480]\n",
      " [ 1.000  6.030  7.880]]\n"
     ]
    }
   ],
   "source": [
    "def create_data(X1, X2):\n",
    "    X_ones = np.ones_like(X1)\n",
    "    return np.column_stack([X_ones, X1, X2])\n",
    "\n",
    "X = create_data(X_room, X_lstat)\n",
    "print(X)"
   ]
  },
  {
   "cell_type": "markdown",
   "metadata": {},
   "source": [
    "Зададим начальеые параметры весов случайными числами от -10 до 10:"
   ]
  },
  {
   "cell_type": "code",
   "execution_count": 10,
   "metadata": {},
   "outputs": [
    {
     "name": "stdout",
     "output_type": "stream",
     "text": [
      "[ 0.153  0.656  0.451]\n"
     ]
    }
   ],
   "source": [
    "Theta = np.random.random_sample(size=(3,))\n",
    "print(Theta)"
   ]
  },
  {
   "cell_type": "markdown",
   "metadata": {},
   "source": [
    "Реализуем линейную функцию от наших параметров и данных (функция делает N предсказаний по параметрам $\\Theta$)."
   ]
  },
  {
   "cell_type": "code",
   "execution_count": 11,
   "metadata": {},
   "outputs": [],
   "source": [
    "def linear_function(X, Theta):\n",
    "    return np.dot(X, Theta) #X @ Theta\n",
    "\n",
    "y_pred = linear_function(X, Theta)"
   ]
  },
  {
   "cell_type": "code",
   "execution_count": 12,
   "metadata": {},
   "outputs": [
    {
     "data": {
      "text/plain": [
       "((506, 3), (3,))"
      ]
     },
     "execution_count": 12,
     "metadata": {},
     "output_type": "execute_result"
    }
   ],
   "source": [
    "X.shape, Theta.shape"
   ]
  },
  {
   "cell_type": "code",
   "execution_count": 13,
   "metadata": {},
   "outputs": [
    {
     "data": {
      "text/plain": [
       "(506,)"
      ]
     },
     "execution_count": 13,
     "metadata": {},
     "output_type": "execute_result"
    }
   ],
   "source": [
    "y_pred.shape"
   ]
  },
  {
   "cell_type": "markdown",
   "metadata": {},
   "source": [
    "# Функция ошибки"
   ]
  },
  {
   "cell_type": "markdown",
   "metadata": {},
   "source": [
    "Теперь, когда мы можем сделать предсказание для всех квартир из выборки, определим функцию ошибки от параметров $\\Theta$ :\n",
    "\n",
    "\\begin{equation*}\n",
    "Loss(\\Theta) = \\dfrac{1}{N}\\sum_{i=1}^{N}{(\\tilde{y_i} - y_i)^2}= \\dfrac{1}{N} \\sum_{i=1}^{N}{(X_i\\Theta - y_i)^2}\n",
    "\\end{equation*}\n",
    "\n",
    "Где $N$ - это количество квартир, $y_i$ - реальная цена квартиры, $\\tilde{y_i}$ - предсказанная цена для $i$-oй квартиры.   "
   ]
  },
  {
   "cell_type": "markdown",
   "metadata": {},
   "source": [
    "Реализуем функцию ошибку наших предсказаний."
   ]
  },
  {
   "cell_type": "code",
   "execution_count": 14,
   "metadata": {},
   "outputs": [
    {
     "name": "stdout",
     "output_type": "stream",
     "text": [
      "288.44101035048527\n"
     ]
    }
   ],
   "source": [
    "def MSE_Loss(X, Theta, y_true):\n",
    "    y_pred = linear_function(X, Theta)\n",
    "    return np.mean((y_pred - y_true)**2)\n",
    "\n",
    "print(MSE_Loss(X, Theta, y))"
   ]
  },
  {
   "cell_type": "markdown",
   "metadata": {},
   "source": [
    "Мы хотим минимизировать данную ошибку, для этого нам надо правильно подобрать параметры $\\Theta$.  \n",
    "\n",
    "Для нахождения параметров $\\Theta$, также используем градиентный спуск."
   ]
  },
  {
   "cell_type": "markdown",
   "metadata": {},
   "source": [
    "# Градиент"
   ]
  },
  {
   "cell_type": "markdown",
   "metadata": {},
   "source": [
    "Так как у нас 3 параметра $\\theta_1, \\theta_2, \\theta_3$, которые мы хотим найти, надо брать частную производную по каждому из них.  \n",
    "Посчитаем частную производную по каждому параметру от нашей функции ошибки:\n",
    "\n",
    "\\begin{equation*}\n",
    "\\dfrac{\\partial Loss(\\Theta)}{\\partial \\theta_j} = \\dfrac{\\partial}{\\partial \\theta_j}(\\dfrac{1}{N} \\sum_{i=1}^{N}{(X_i\\Theta - y_i)^2})\n",
    "\\end{equation*}\n",
    "\n",
    "\\begin{equation*}\n",
    "\\dfrac{\\partial Loss(\\Theta)}{\\partial \\theta_j} = \\dfrac{2}{N} \\sum_{i=1}^{N}(X_i\\Theta - y_i)\\dfrac{\\partial (X_i\\Theta  - y_i)}{\\partial \\theta_j}\n",
    "\\end{equation*}\n",
    "\n",
    "\\begin{equation*}\n",
    "\\dfrac{\\partial Loss(\\Theta)}{\\partial \\theta_j} = \\dfrac{2}{N} \\sum_{i=1}^{N}(X_i\\Theta - y_i)\\dfrac{\\partial (x_{i,1}\\theta_0 + \\theta_1 x_{i,1} \\ldots \\theta_j x_{i,j} + \\ldots \\theta_m x_{i, m}  - y_i)}{\\partial \\theta_j}\n",
    "\\end{equation*}\n",
    "\n",
    "\\begin{equation*}\n",
    "\\dfrac{\\partial Loss(\\Theta)}{\\partial \\theta_j} = \\dfrac{2}{N} \\sum_{i=1}^{N}(X_i\\Theta - y_i) x_{ij}\n",
    "\\end{equation*}\n",
    "  \n",
    "$j = 0,1,2$.  \n",
    "$y_i$ - это реальная цена на квартиру, она константа, производная от константы равна нулю.  \n",
    "\n",
    "\n",
    "$\\tilde{y_i} = X_i\\Theta = \\theta_0x_{i,0} + \\theta_1x_{i,1} +  \\theta_2x_{i,2}$ - наше предсказание.   \n",
    "\n",
    "\n",
    "Частная производная\n",
    "$\\dfrac{\\partial \\tilde{y_i}}{\\partial \\theta_j} = x_{i,j}$.  \n",
    "$x_{i,0} = 1$.  \n",
    "\n",
    "Взяв частную произодную по каждому параметру  $\\theta_j$, получим вектор градиент функции ошибки:\n",
    "\n",
    "\\begin{equation*}\n",
    "\\nabla Loss(\\Theta) =\n",
    "   \\begin{bmatrix}\n",
    "   \\dfrac{2}{N} \\sum_{i=1}^{N} (X_i\\Theta - y_i)x_{i,0}\\\\\n",
    "   \\dfrac{2}{N} \\sum_{i=1}^{N} (X_i\\Theta - y_i)x_{i,1}\\\\\n",
    "   \\dfrac{2}{N} \\sum_{i=1}^{N} (X_i\\Theta - y_i)x_{i,2}\\\\\n",
    "   \\end{bmatrix}\n",
    "\\end{equation*}"
   ]
  },
  {
   "cell_type": "markdown",
   "metadata": {},
   "source": [
    "Приравняв каждую частную производную (элемент вектора градиента) к нулю и решив систему уравнений, сможем найти наилучшие параметры $\\Theta$.\n",
    "   \n",
    " \\begin{cases}\n",
    "   \\dfrac{2}{N} \\sum_{i=1}^{N} (X_i\\Theta - y_i)x_{i,0} = 0\\\\\n",
    "   \\dfrac{2}{N} \\sum_{i=1}^{N} (X_i\\Theta - y_i)x_{i,1} = 0\\\\\n",
    "   \\dfrac{2}{N} \\sum_{i=1}^{N} (X_i\\Theta - y_i)x_{i,2} = 0\\\\\n",
    " \\end{cases}\n",
    "\n",
    "   Но делать это не целесообразно. Для решения данной системы в компьютере потребуется построить матричное уравнение. А в процессе решения потребуется найти обратную матрицу (сложность $O(n^3)$). Данная операция является очень медленной, даже на современных компьютерах. В данном примере у нас всего 2 входных параметра (RM и LSTAT) и $N=506$ значений $X$. Вычисления обратной матрицы для нашего примера займет микросекунды. Но в реальных приложениях обычно бывает и по десяткам тысяч входных параметров и сотни миллионов значений. Нахождения обратной матриц для таких задач займет несравнимо много времени по сравнению с градиентным спуском. Поэтому в промышленности применяется именно градиентный спуск. "
   ]
  },
  {
   "cell_type": "markdown",
   "metadata": {},
   "source": [
    "Реализуем подсчет градиента."
   ]
  },
  {
   "cell_type": "code",
   "execution_count": 15,
   "metadata": {},
   "outputs": [
    {
     "name": "stdout",
     "output_type": "stream",
     "text": [
      "[-25.103 -168.860 -179.053]\n"
     ]
    }
   ],
   "source": [
    "def gradient_function(Theta, X, y_true):\n",
    "    grad = np.zeros_like(Theta)\n",
    "    y_pred = linear_function(X, Theta)\n",
    "    for j in range(Theta.shape[0]):       \n",
    "        grad[j] = 2*np.mean((y_pred - y_true)* X[:,j])\n",
    "    return grad\n",
    "\n",
    "gard = gradient_function(Theta, X, y)\n",
    "print(gard)"
   ]
  },
  {
   "cell_type": "markdown",
   "metadata": {},
   "source": [
    "## Градиентный спуск"
   ]
  },
  {
   "cell_type": "markdown",
   "metadata": {},
   "source": [
    "Для нашего примера с 3 коэффициентами, алгоритм градиентного спуска будет выглядить следующим образом:  \n",
    "$\\theta_{j_{new}} = \\theta_j - \\alpha \\dfrac{\\partial J(\\Theta)}{\\partial \\theta_j}$  \n",
    "$\\theta_{j_{new}} = \\theta_j - \\alpha  \\dfrac{2}{N} \\sum_{i=1}^{N} (X_i\\Theta - y_i)x_{i,j}$\n",
    "\n",
    "Тогда обновление вектора $\\Theta$ будет выглядить следующим образом:\n",
    " \n",
    "\\begin{equation*}\n",
    "   \\theta_{0_{new}} = \\theta_0 - \\alpha  \\dfrac{2}{N}\\sum_{i=1}^{N} (X_i\\Theta - y_i)x_{i,0}\\\\\n",
    "   \\theta_{1_{new}} = \\theta_1 - \\alpha  \\dfrac{2}{N}\\sum_{i=1}^{N} (X_i\\Theta - y_i)x_{i,1}\\\\\n",
    "   \\theta_{2_{new}} = \\theta_2 - \\alpha  \\dfrac{2}{N}\\sum_{i=1}^{N} (X_i\\Theta - y_i)x_{i,2}\n",
    "\\end{equation*}\n",
    "\n",
    "Выполняем данную процедуру в цикле заданное число раз, либо пока наши параметры не перестанут изменяться на величину меньшую, чем некоторая нами заданная величина."
   ]
  },
  {
   "cell_type": "markdown",
   "metadata": {},
   "source": [
    "А лгоритм градиентного спуска c 3 коэффициентами можно описать следующим образом.\n",
    "\n",
    "* Выбираем случайное значение для $\\theta_0, \\theta_1, \\theta_3 $\n",
    "* Повторить пока не сойдется:\n",
    "\n",
    "    &nbsp;&nbsp;&nbsp;&nbsp;&nbsp;&nbsp; $\\theta_{j_{new}} = \\theta_j - \\alpha \\dfrac{\\partial J(\\Theta)}{\\partial \\theta_j},\n",
    "    j = 1, 2, 3$\n",
    "\n",
    "Где $\\alpha$ это коэффициент, который мы выбираем."
   ]
  },
  {
   "cell_type": "markdown",
   "metadata": {},
   "source": [
    "Наконец реализуем градиентный спуск."
   ]
  },
  {
   "cell_type": "code",
   "execution_count": 16,
   "metadata": {
    "collapsed": true
   },
   "outputs": [],
   "source": [
    "def gradient_descent(Theta, X, y, alpha, iters):        \n",
    "    theta = Theta\n",
    "    for i in range (iters):\n",
    "        theta = theta - alpha * gradient_function(theta, X, y)\n",
    "\n",
    "    return theta"
   ]
  },
  {
   "cell_type": "code",
   "execution_count": 17,
   "metadata": {},
   "outputs": [
    {
     "data": {
      "text/plain": [
       "30.53779324839481"
      ]
     },
     "execution_count": 17,
     "metadata": {},
     "output_type": "execute_result"
    }
   ],
   "source": [
    "theta_opt = gradient_descent(Theta, X, y, 0.0001, 10000)\n",
    "MSE_Loss(X, theta_opt, y)"
   ]
  },
  {
   "cell_type": "markdown",
   "metadata": {},
   "source": [
    "А теперь визуализируеим полученный результат."
   ]
  },
  {
   "cell_type": "code",
   "execution_count": 18,
   "metadata": {},
   "outputs": [
    {
     "data": {
      "application/vnd.jupyter.widget-view+json": {
       "model_id": "9da3deb21cdb40c59d60f591afc3a56e",
       "version_major": 2,
       "version_minor": 0
      },
      "text/plain": [
       "A Jupyter Widget"
      ]
     },
     "metadata": {},
     "output_type": "display_data"
    }
   ],
   "source": [
    "plot_new_3d_data_and_hyp_grad_des(X_room, X_lstat, y, theta_opt[0], theta_opt[1], theta_opt[2])"
   ]
  },
  {
   "cell_type": "markdown",
   "metadata": {},
   "source": [
    "# Предсказание на всех данных"
   ]
  },
  {
   "cell_type": "markdown",
   "metadata": {},
   "source": [
    "Мы использовали всего два признака RM и LSTAT для предсказания цен на недвижимость.  "
   ]
  },
  {
   "cell_type": "markdown",
   "metadata": {},
   "source": [
    "Давайте попробуем использовать все."
   ]
  },
  {
   "cell_type": "code",
   "execution_count": 19,
   "metadata": {
    "collapsed": true
   },
   "outputs": [],
   "source": [
    "X_all, y = load_all_data()"
   ]
  },
  {
   "cell_type": "code",
   "execution_count": 20,
   "metadata": {},
   "outputs": [
    {
     "data": {
      "text/plain": [
       "(506, 13)"
      ]
     },
     "execution_count": 20,
     "metadata": {},
     "output_type": "execute_result"
    }
   ],
   "source": [
    "X_all.shape"
   ]
  },
  {
   "cell_type": "markdown",
   "metadata": {},
   "source": [
    "${X}_i = [1, x_{i, 1}, x_{i, 2}, x_{i, 3}, \\ldots, x_{i, 13}].$\n",
    "\n",
    "\n",
    "$\\Theta = [\\theta_0, \\theta_1, \\theta_2, \\theta_3, \\ldots, \\theta_{13}]^T$"
   ]
  },
  {
   "cell_type": "markdown",
   "metadata": {},
   "source": [
    "\\begin{equation*}\n",
    "\\tilde{y}_i= [1, x_{i, 1}, x_{i, 2}, \\ldots, x_{i, 13}] \\begin{pmatrix}\n",
    "    \\theta_0\\\\\n",
    "    \\theta_1\\\\\n",
    "    \\theta_2\\\\\n",
    "    \\cdots\\\\\n",
    "    \\theta_{13}\\\\\n",
    "  \\end{pmatrix} =  \\sum_{j=0}^m \\theta_j x_{i, j} = X_i\\Theta.\n",
    "\\end{equation*}\n",
    "\n",
    " $x_{i, 0} = 1$"
   ]
  },
  {
   "cell_type": "code",
   "execution_count": 21,
   "metadata": {
    "collapsed": true
   },
   "outputs": [],
   "source": [
    "def add_ones(X):\n",
    "    return np.hstack([np.ones(len(X)).reshape(-1,1), X])\n",
    "\n",
    "X_all_wo = add_ones(X_all)"
   ]
  },
  {
   "cell_type": "code",
   "execution_count": 22,
   "metadata": {},
   "outputs": [
    {
     "data": {
      "text/plain": [
       "(506, 14)"
      ]
     },
     "execution_count": 22,
     "metadata": {},
     "output_type": "execute_result"
    }
   ],
   "source": [
    "X_all_wo.shape"
   ]
  },
  {
   "cell_type": "code",
   "execution_count": 23,
   "metadata": {},
   "outputs": [
    {
     "data": {
      "text/plain": [
       "array([[ 1.000,  0.006, 18.000, ..., 15.300, 396.900,  4.980],\n",
       "       [ 1.000,  0.027,  0.000, ..., 17.800, 396.900,  9.140],\n",
       "       [ 1.000,  0.027,  0.000, ..., 17.800, 392.830,  4.030],\n",
       "       ...,\n",
       "       [ 1.000,  0.061,  0.000, ..., 21.000, 396.900,  5.640],\n",
       "       [ 1.000,  0.110,  0.000, ..., 21.000, 393.450,  6.480],\n",
       "       [ 1.000,  0.047,  0.000, ..., 21.000, 396.900,  7.880]])"
      ]
     },
     "execution_count": 23,
     "metadata": {},
     "output_type": "execute_result"
    }
   ],
   "source": [
    "X_all_wo"
   ]
  },
  {
   "cell_type": "markdown",
   "metadata": {},
   "source": [
    "## Функция ошикбки"
   ]
  },
  {
   "cell_type": "markdown",
   "metadata": {},
   "source": [
    "Определим функцию ошибки от параметров $\\Theta$ :\n",
    "\n",
    "\\begin{equation*}\n",
    "Loss(\\Theta) = \\dfrac{1}{N}\\sum_{i=1}^{N}{(\\tilde{y_i} - y_i)^2}= \\dfrac{1}{N} \\sum_{i=1}^{N}{(X_i\\Theta - y_i)^2}\n",
    "\\end{equation*}\n",
    "\n",
    "Где $N$ - это количество квартир, $y_i$ - реальная цена квартиры, $\\tilde{y_i}$ - предсказанная цена для $i$-oй квартиры.   "
   ]
  },
  {
   "cell_type": "markdown",
   "metadata": {},
   "source": [
    "## Градиент"
   ]
  },
  {
   "cell_type": "markdown",
   "metadata": {},
   "source": [
    "\\begin{equation*}\n",
    "   \\theta_{0_{new}} = \\theta_0 - \\alpha  \\dfrac{2}{N}\\sum_{i=1}^{N} (X_i\\Theta - y_i)x_{i,0}\\\\\n",
    "   \\theta_{1_{new}} = \\theta_1 - \\alpha  \\dfrac{2}{N}\\sum_{i=1}^{N} (X_i\\Theta - y_i)x_{i,1}\\\\\n",
    "   \\cdots\\\\\n",
    "   \\theta_{j_{new}} = \\theta_j - \\alpha  \\dfrac{2}{N}\\sum_{i=1}^{N} (X_i\\Theta - y_i)x_{i,j}\\\\\n",
    "   \\cdots\\\\\n",
    "   \\theta_{m_{new}} = \\theta_m - \\alpha  \\dfrac{2}{N}\\sum_{i=1}^{N} (X_i\\Theta - y_i)x_{i,m}\\\\\n",
    "\\end{equation*}"
   ]
  },
  {
   "cell_type": "markdown",
   "metadata": {},
   "source": [
    "## Градиентный спуск"
   ]
  },
  {
   "cell_type": "markdown",
   "metadata": {},
   "source": [
    "Полный алгоритм градиентного спуска c $m$ коэффициентами можно описать следующим образом.\n",
    "\n",
    "* Выбираем случайное значение для $\\theta_0, \\theta_1,...,\\theta_m $\n",
    "* Повторить пока не сойдется:\n",
    "\n",
    "    &nbsp;&nbsp;&nbsp;&nbsp;&nbsp;&nbsp; $\\theta_{j_{new}} = \\theta_j - \\alpha \\dfrac{\\partial J(\\Theta)}{\\partial \\theta_j},\n",
    "    j = 1, ..., m$\n",
    "\n",
    "Где $\\alpha$ это коэффициент, который мы выбираем."
   ]
  },
  {
   "cell_type": "code",
   "execution_count": 24,
   "metadata": {
    "collapsed": true
   },
   "outputs": [],
   "source": [
    "def gradient_function(Theta, X, y_true):\n",
    "    grad = np.zeros_like(Theta)\n",
    "    y_pred = linear_function(X, Theta)\n",
    "    for j in range(Theta.shape[0]):       \n",
    "        grad[j] = 2*np.mean((y_pred - y_true)* X[:,j])\n",
    "    return grad"
   ]
  },
  {
   "cell_type": "code",
   "execution_count": 25,
   "metadata": {
    "collapsed": true
   },
   "outputs": [],
   "source": [
    "Theta_all = np.random.random_sample((X_all.shape[1],))"
   ]
  },
  {
   "cell_type": "code",
   "execution_count": 26,
   "metadata": {},
   "outputs": [
    {
     "data": {
      "text/plain": [
       "340131.1113668846"
      ]
     },
     "execution_count": 26,
     "metadata": {},
     "output_type": "execute_result"
    }
   ],
   "source": [
    "MSE_Loss(X_all, Theta_all, y)"
   ]
  },
  {
   "cell_type": "code",
   "execution_count": 27,
   "metadata": {},
   "outputs": [],
   "source": [
    "theta_opt = gradient_descent(Theta_all, X_all, y, 0.000001, 300)"
   ]
  },
  {
   "cell_type": "code",
   "execution_count": 28,
   "metadata": {},
   "outputs": [
    {
     "name": "stdout",
     "output_type": "stream",
     "text": [
      "311.5754737242993\n"
     ]
    }
   ],
   "source": [
    "print(MSE_Loss(X_all, theta_opt, y))"
   ]
  },
  {
   "cell_type": "markdown",
   "metadata": {},
   "source": [
    "# Нормализация данных"
   ]
  },
  {
   "cell_type": "markdown",
   "metadata": {},
   "source": [
    "В прошлом примере у нас не получилось обучть наш пример методом градиентного спуска. Давайте попробуем понять почему."
   ]
  },
  {
   "cell_type": "markdown",
   "metadata": {},
   "source": [
    "Пусть у нас есть данные, которые были сгенерированы функцией ниже."
   ]
  },
  {
   "cell_type": "markdown",
   "metadata": {},
   "source": [
    "$y = x_1 + 2x_2 - 10$"
   ]
  },
  {
   "cell_type": "markdown",
   "metadata": {},
   "source": [
    "$y = \\theta_1x_1 + \\theta_2x_2 + \\theta_0 $ "
   ]
  },
  {
   "cell_type": "code",
   "execution_count": 29,
   "metadata": {
    "collapsed": true
   },
   "outputs": [],
   "source": [
    "X1 = np.random.uniform(1, 10, 1000)\n",
    "X2 = np.random.uniform(0, 1, 1000)\n",
    "X = np.column_stack([X1, X2])\n",
    "X = add_ones(X)"
   ]
  },
  {
   "cell_type": "markdown",
   "metadata": {},
   "source": [
    "У $X1$ диапозон от 1 до 10, а у $X2$ в десять раз меньше - от 0 до 1."
   ]
  },
  {
   "cell_type": "code",
   "execution_count": 30,
   "metadata": {},
   "outputs": [
    {
     "name": "stdout",
     "output_type": "stream",
     "text": [
      "[[ 1.000  5.391  0.788]\n",
      " [ 1.000  2.848  0.370]\n",
      " [ 1.000  5.888  0.910]\n",
      " ...\n",
      " [ 1.000  3.118  0.232]\n",
      " [ 1.000  5.210  0.651]\n",
      " [ 1.000  7.389  0.292]]\n"
     ]
    }
   ],
   "source": [
    "print(X)"
   ]
  },
  {
   "cell_type": "code",
   "execution_count": 31,
   "metadata": {
    "collapsed": true
   },
   "outputs": [],
   "source": [
    "real_theta = np.array([-10, 1, 2])\n",
    "y = linear_function(X, real_theta)"
   ]
  },
  {
   "cell_type": "code",
   "execution_count": 32,
   "metadata": {},
   "outputs": [
    {
     "data": {
      "application/vnd.jupyter.widget-view+json": {
       "model_id": "eaded9f2162e4026bd80797f8cc98101",
       "version_major": 2,
       "version_minor": 0
      },
      "text/plain": [
       "A Jupyter Widget"
      ]
     },
     "metadata": {},
     "output_type": "display_data"
    }
   ],
   "source": [
    "plot_new_3d_data(X[:, 1], X[:, 2], y)"
   ]
  },
  {
   "cell_type": "code",
   "execution_count": 33,
   "metadata": {},
   "outputs": [
    {
     "name": "stdout",
     "output_type": "stream",
     "text": [
      "0.0\n"
     ]
    }
   ],
   "source": [
    "print(MSE_Loss(X, real_theta, y))"
   ]
  },
  {
   "cell_type": "markdown",
   "metadata": {},
   "source": [
    "У $X1$ диапозон от 1 до 10, а у $X2$ в десять раз меньше - от 0 до 1."
   ]
  },
  {
   "cell_type": "code",
   "execution_count": 34,
   "metadata": {},
   "outputs": [
    {
     "data": {
      "application/vnd.jupyter.widget-view+json": {
       "model_id": "92314c896a7545ed9cb077811149e4c1",
       "version_major": 2,
       "version_minor": 0
      },
      "text/plain": [
       "A Jupyter Widget"
      ]
     },
     "metadata": {},
     "output_type": "display_data"
    }
   ],
   "source": [
    "theta_init = np.array([-10, 0.5, 0.5])\n",
    "plot_grad(X, theta_init, y, a=0.01)"
   ]
  },
  {
   "cell_type": "markdown",
   "metadata": {},
   "source": [
    "Что бы решить эту проблему нужно привести данные к одному диапозону. \n",
    "\n",
    "Это можно решить с помощью стандартизации.\n",
    "\n",
    "Для каждой колонки (часто ее называют фича) нужно посчитать ее среднее и стандартное отклонение. Затем нужно из каждого элемента колонки вечесть среднее и поделить это на стандартное отклонение."
   ]
  },
  {
   "cell_type": "markdown",
   "metadata": {},
   "source": [
    "$X = \\dfrac{X - E(X)}{\\sqrt{D(X)}} = \\dfrac{X - E(X)}{\\sigma_X}$"
   ]
  },
  {
   "cell_type": "code",
   "execution_count": 35,
   "metadata": {
    "collapsed": true
   },
   "outputs": [],
   "source": [
    "means = X.mean(axis=0)\n",
    "stds = X.std(axis=0)"
   ]
  },
  {
   "cell_type": "code",
   "execution_count": 36,
   "metadata": {},
   "outputs": [
    {
     "name": "stdout",
     "output_type": "stream",
     "text": [
      "[ 1.000  5.518  0.496] [ 0.000  2.615  0.287]\n"
     ]
    }
   ],
   "source": [
    "print(means, stds)"
   ]
  },
  {
   "cell_type": "code",
   "execution_count": 37,
   "metadata": {
    "collapsed": true
   },
   "outputs": [],
   "source": [
    "X_n = X.copy()"
   ]
  },
  {
   "cell_type": "code",
   "execution_count": 38,
   "metadata": {},
   "outputs": [
    {
     "name": "stdout",
     "output_type": "stream",
     "text": [
      "[[ 1.000 -0.048  1.017]\n",
      " [ 1.000 -1.021 -0.437]\n",
      " [ 1.000  0.142  1.444]\n",
      " ...\n",
      " [ 1.000 -0.918 -0.919]\n",
      " [ 1.000 -0.118  0.541]\n",
      " [ 1.000  0.716 -0.711]]\n"
     ]
    }
   ],
   "source": [
    "for i in range(1, X_n.shape[1]):\n",
    "    X_n[:, i] = (X_n[:, i] - means[i]) / stds[i]\n",
    "print(X_n)"
   ]
  },
  {
   "cell_type": "code",
   "execution_count": 39,
   "metadata": {},
   "outputs": [
    {
     "data": {
      "application/vnd.jupyter.widget-view+json": {
       "model_id": "8d61e061e4e34086afbb9b1200e12b4f",
       "version_major": 2,
       "version_minor": 0
      },
      "text/plain": [
       "A Jupyter Widget"
      ]
     },
     "metadata": {},
     "output_type": "display_data"
    }
   ],
   "source": [
    "plot_grad(X_n, theta_init, y, a=0.25, k_min=-3, k_max=6)"
   ]
  },
  {
   "cell_type": "markdown",
   "metadata": {},
   "source": [
    "# StandardScaler"
   ]
  },
  {
   "cell_type": "code",
   "execution_count": 40,
   "metadata": {},
   "outputs": [
    {
     "name": "stdout",
     "output_type": "stream",
     "text": [
      "[ 1.000  5.518  0.496] [ 1.000  5.518  0.496]\n",
      "[ 1.000  2.615  0.287] [ 0.000  2.615  0.287]\n"
     ]
    }
   ],
   "source": [
    "from sklearn.preprocessing import StandardScaler\n",
    "\n",
    "scaler = StandardScaler()\n",
    "scaler.fit(X)\n",
    "print(scaler.mean_, means)\n",
    "print(scaler.scale_, stds)"
   ]
  },
  {
   "cell_type": "code",
   "execution_count": 41,
   "metadata": {
    "collapsed": true
   },
   "outputs": [],
   "source": [
    "X_all, y = load_all_data()"
   ]
  },
  {
   "cell_type": "code",
   "execution_count": 42,
   "metadata": {
    "collapsed": true
   },
   "outputs": [],
   "source": [
    "scaler = StandardScaler()\n",
    "X_all_normalize = scaler.fit_transform(X_all)"
   ]
  },
  {
   "cell_type": "code",
   "execution_count": 43,
   "metadata": {
    "collapsed": true
   },
   "outputs": [],
   "source": [
    "X_all_normalize_with_one = add_ones(X_all_normalize)"
   ]
  },
  {
   "cell_type": "code",
   "execution_count": 44,
   "metadata": {},
   "outputs": [
    {
     "name": "stdout",
     "output_type": "stream",
     "text": [
      "[22.533 -0.922  1.084  0.153  0.681 -2.062  2.669  0.023 -3.104  2.685\n",
      " -2.106 -2.063  0.857 -3.750]\n"
     ]
    }
   ],
   "source": [
    "Theta = 20 * np.random.random_sample((X_all_normalize_with_one.shape[1])) - 10\n",
    "theta_opt = gradient_descent(Theta, X_all_normalize_with_one, y, 0.1, 300)\n",
    "print(theta_opt)"
   ]
  },
  {
   "cell_type": "code",
   "execution_count": 45,
   "metadata": {},
   "outputs": [
    {
     "data": {
      "text/plain": [
       "21.897888114363603"
      ]
     },
     "execution_count": 45,
     "metadata": {},
     "output_type": "execute_result"
    }
   ],
   "source": [
    "MSE_Loss(X_all_normalize_with_one, theta_opt, y)"
   ]
  },
  {
   "cell_type": "markdown",
   "metadata": {},
   "source": [
    "1. Получить данные\n",
    "2. Стандартизировать их\n",
    "3. Добавить единицу\n",
    "4. Обучить модель\n",
    "5. Оценить результаты"
   ]
  },
  {
   "cell_type": "markdown",
   "metadata": {
    "collapsed": true
   },
   "source": [
    "# Полиномиальная регрессия"
   ]
  },
  {
   "cell_type": "markdown",
   "metadata": {},
   "source": [
    "Постановка задачи - предсказание расхода топлива в зависимости от скорости.\n",
    "\n",
    "Данные для первой ступени ракеты, но задача может быть актуальна и для автомобилистов."
   ]
  },
  {
   "cell_type": "code",
   "execution_count": 49,
   "metadata": {
    "collapsed": true
   },
   "outputs": [],
   "source": [
    "X_train, y_train = get_data_for_polynom()"
   ]
  },
  {
   "cell_type": "code",
   "execution_count": 50,
   "metadata": {},
   "outputs": [
    {
     "data": {
      "image/png": "[encoded data removed]",
      "text/plain": [
       "<Figure size 720x576 with 1 Axes>"
      ]
     },
     "metadata": {},
     "output_type": "display_data"
    }
   ],
   "source": [
    "plot_poly_data(X_train, y_train)"
   ]
  },
  {
   "cell_type": "code",
   "execution_count": 51,
   "metadata": {},
   "outputs": [],
   "source": [
    "lin_theta = np.array([0.0, 0.0])\n",
    "\n",
    "alpha = 0.001\n",
    "iters = 10000\n",
    "X_wo = np.column_stack([np.ones_like(X_train), X_train])\n",
    "lin_theta_opt = gradient_descent(lin_theta, X_wo, y_train, alpha, iters)"
   ]
  },
  {
   "cell_type": "code",
   "execution_count": 52,
   "metadata": {},
   "outputs": [
    {
     "data": {
      "image/png": "[encoded data removed]",
      "text/plain": [
       "<Figure size 720x720 with 1 Axes>"
      ]
     },
     "metadata": {},
     "output_type": "display_data"
    }
   ],
   "source": [
    "visualize_prediction(X_train, y_train, linear_function(X_wo, lin_theta_opt))"
   ]
  },
  {
   "cell_type": "markdown",
   "metadata": {},
   "source": [
    "# Полиномиальная регрессия"
   ]
  },
  {
   "cell_type": "markdown",
   "metadata": {},
   "source": [
    "Линейная регрессия хорошо работает в тех случаях, когда имеется линейная зависимость между . Но что делать, если данные распределены нелинейно, если зависимость более сложная, как в нашем примере?\n",
    "В данном случае линейная регрессия слишком грубо описывает данные, что приводит к большим ошибкам.\n",
    "\n",
    "\n",
    "## Полиномы\n",
    "\n",
    "Полиномом степени n называется функция:\n",
    "\n",
    "$poly(X) = k_n X^n + k_{n-1} X^{n-1}  \\ldots + k_1 X + k_0$. \n",
    "\n",
    "Известное вам квадратное уравнение — это полином второй степени. \n",
    "\n",
    "$quadratic(X) = k_2 X^2 + k_1 X + k_0$, или как вы привыкли его видеть: \n",
    "\n",
    "$quadratic(X) = a X^2 + b X + c$."
   ]
  },
  {
   "cell_type": "markdown",
   "metadata": {},
   "source": [
    "### Пример параболы"
   ]
  },
  {
   "cell_type": "code",
   "execution_count": 55,
   "metadata": {},
   "outputs": [
    {
     "data": {
      "application/vnd.jupyter.widget-view+json": {
       "model_id": "9a870a625fe044a88f216e5d43a93289",
       "version_major": 2,
       "version_minor": 0
      },
      "text/plain": [
       "A Jupyter Widget"
      ]
     },
     "metadata": {},
     "output_type": "display_data"
    }
   ],
   "source": [
    "plot_parabola()"
   ]
  },
  {
   "cell_type": "markdown",
   "metadata": {},
   "source": [
    "### Пример полиномов больших степеней"
   ]
  },
  {
   "cell_type": "code",
   "execution_count": 54,
   "metadata": {},
   "outputs": [
    {
     "data": {
      "image/png": "[encoded data removed]",
      "text/plain": [
       "<Figure size 1152x720 with 1 Axes>"
      ]
     },
     "metadata": {},
     "output_type": "display_data"
    }
   ],
   "source": [
    "plot_polynoms()"
   ]
  },
  {
   "cell_type": "markdown",
   "metadata": {},
   "source": [
    "В общем случае полином $n$-ой степени может иметь до $n$ корней, а значит пересекает ось $Х$ в $n$ точках (если $n$ корней). Для того, чтобы это было возможно он должен \"колебаться\" вверх-вниз. Т.е. чем выше степень полинома, тем больше таких \"волн\" в нем может быть.\n",
    "\n",
    "Соответственно, такие функции могут описать более сложные зависимости данных."
   ]
  },
  {
   "cell_type": "markdown",
   "metadata": {},
   "source": [
    "Начнем опять с простого примера - возьмем один признак, чтобы показать, как работает полиномиальная регрессия."
   ]
  },
  {
   "cell_type": "markdown",
   "metadata": {},
   "source": [
    "Очевидно, ошибка очень большая! **Попробуем полиномы!**\n",
    "Т.е. если мы используем, например, многочлен второй степени, мы можем получить результаты лучше."
   ]
  },
  {
   "cell_type": "markdown",
   "metadata": {},
   "source": [
    "## Полиномы для линейной регрессии"
   ]
  },
  {
   "cell_type": "markdown",
   "metadata": {},
   "source": [
    "Давайте рассмотрим решение задачи на примере многочлена степени 5. Напомним, наша задача - нахождение расхода топлива 1-ой ступени  в зависимости от скорости. Предположим что решение будет иметь сследующий вид:\n",
    "\n",
    "$y = \\theta_0 + \\theta_1 x + \\theta_2 x^2 + \\theta_3 x^3 + \\theta_4 x^4 + \\theta_5 x^5$\n",
    "\n",
    "Такая модель по прежнему называется линейной, поскольку все коэффициенты (а т.е. веса модели) линейны. Квадраты и прочие степени появились только у $x$, т.е. у признаков модели. Получение таких признаков достигается просто возведением в нужную степень. Т.е. теперь мы будем передавать в модель не один признак $x$, a набор признаков $[x, x^2, x^3, x^4, x^5]$."
   ]
  },
  {
   "cell_type": "markdown",
   "metadata": {},
   "source": [
    "Пример:\n",
    "у нас имеется набор данных:\n",
    "одна строка - один пример данных\n",
    "\n",
    "| Признак | Целевые метки |\n",
    "|---------|---------------|\n",
    "| $x$       | $y$             |\n",
    "| 4.09    | 24            |\n",
    "| 4.96    | 21.6          |\n",
    "| ...     | ...           |\n",
    "\n",
    "\n",
    "Что будет теперь:\n",
    "\n",
    "| Признаки |   -   |  -  |  -  |  -   | Целевые метки |\n",
    "|----------|-------|-----|-----|------|---------------|\n",
    "| $x$      | $x^2$ | $x^3$ | $x^4$ | $x^5$  | $y$            |\n",
    "| 4.09     | 16.73 | 68.42  | 279.83 | 1144.5 | 24            |\n",
    "| 4.96     | 24.6 | 122.02 | 605.24 | 3001.98 | 21.6          |\n",
    "| ...      | ...   | ... | ... | ...  | ...           |"
   ]
  },
  {
   "cell_type": "markdown",
   "metadata": {},
   "source": [
    "Это до сих пор линейая регрессия потому что:\n",
    "\n",
    "$y = \\theta_0 + \\theta_1 x + \\theta_2 x_2 + \\theta_3 x_3 + \\theta_4 x_4 + \\theta_5 x_5$,\n",
    "\n",
    "где \n",
    "\n",
    "\n",
    "$x_2 = x^2$\n",
    "\n",
    "$x_3 = x^3$\n",
    "\n",
    "$x_4 = x^4$\n",
    "\n",
    "$x_5 = x^5$."
   ]
  },
  {
   "cell_type": "code",
   "execution_count": 63,
   "metadata": {
    "collapsed": true
   },
   "outputs": [],
   "source": [
    "from sklearn.linear_model import LinearRegression\n",
    "from sklearn.preprocessing import PolynomialFeatures, StandardScaler\n",
    "from sklearn.metrics import mean_squared_error\n",
    "\n",
    "poly_transformer = PolynomialFeatures(5)\n",
    "X_poly = poly_transformer.fit_transform(X_train.reshape(-1,1))"
   ]
  },
  {
   "cell_type": "code",
   "execution_count": 64,
   "metadata": {},
   "outputs": [
    {
     "name": "stdout",
     "output_type": "stream",
     "text": [
      "[[ 1.000  5.000 25.000 125.000 625.000 3125.000]\n",
      " [ 1.000 16.600 275.560 4574.296 75933.314 1260493.006]\n",
      " [ 1.000  8.000 64.000 512.000 4096.000 32768.000]\n",
      " [ 1.000 26.150 683.822 17881.958 467613.212 12228085.481]\n",
      " [ 1.000 14.600 213.160 3112.136 45437.186 663382.910]\n",
      " [ 1.000 40.400 1632.160 65939.264 2663946.266 107623429.130]\n",
      " [ 1.000 21.200 449.440 9528.128 201996.314 4282321.848]\n",
      " [ 1.000 23.500 552.250 12977.875 304980.062 7167031.469]\n",
      " [ 1.000 38.200 1459.240 55742.968 2129381.378 81342368.624]\n",
      " [ 1.000 25.050 627.503 15718.938 393759.388 9863672.657]\n",
      " [ 1.000 29.350 861.423 25282.750 742048.724 21779130.035]\n",
      " [ 1.000 28.200 795.240 22425.768 632406.658 17833867.744]\n",
      " [ 1.000 11.050 122.103 1349.233 14909.021 164744.677]\n",
      " [ 1.000  4.850 23.522 114.084 553.308 2683.544]\n",
      " [ 1.000  4.850 23.522 114.084 553.308 2683.544]\n",
      " [ 1.000  3.850 14.823 57.067 219.707 845.870]\n",
      " [ 1.000 27.850 775.623 21601.087 601590.263 16754288.811]\n",
      " [ 1.000 29.550 873.202 25803.134 762482.606 22531361.007]\n",
      " [ 1.000 29.150 849.722 24769.411 722028.327 21047125.732]\n",
      " [ 1.000 15.400 237.160 3652.264 56244.866 866170.930]\n",
      " [ 1.000 38.900 1513.210 58863.869 2289804.504 89073395.209]\n",
      " [ 1.000  4.550 20.702 94.196 428.594 1950.100]\n",
      " [ 1.000 14.950 223.502 3341.362 49953.368 746802.844]\n",
      " [ 1.000 30.150 909.022 27407.028 826321.906 24913605.451]\n",
      " [ 1.000 23.500 552.250 12977.875 304980.062 7167031.469]\n",
      " [ 1.000 31.150 970.322 30225.546 941525.754 29328527.237]\n",
      " [ 1.000 32.500 1056.250 34328.125 1115664.062 36259082.031]\n",
      " [ 1.000  5.200 27.040 140.608 731.162 3802.040]\n",
      " [ 1.000 33.050 1092.302 36100.598 1193124.752 39432773.037]\n",
      " [ 1.000 12.950 167.702 2171.747 28124.129 364207.464]\n",
      " [ 1.000 23.550 554.603 13060.889 307583.933 7243601.622]\n",
      " [ 1.000 35.800 1281.640 45882.712 1642601.090 58805119.008]\n",
      " [ 1.000 39.650 1572.122 62334.657 2471569.155 97997716.996]\n",
      " [ 1.000 19.900 396.010 7880.599 156823.920 3120796.010]\n",
      " [ 1.000  6.650 44.223 294.080 1955.630 13004.936]\n",
      " [ 1.000 16.700 278.890 4657.463 77779.632 1298919.856]\n",
      " [ 1.000  3.550 12.602 44.739 158.823 563.822]\n",
      " [ 1.000 34.450 1186.803 40885.346 1408500.174 48522830.995]\n",
      " [ 1.000  2.600  6.760 17.576 45.698 118.814]\n",
      " [ 1.000 27.800 772.840 21484.952 597281.666 16604430.304]]\n"
     ]
    }
   ],
   "source": [
    "print(X_poly)"
   ]
  },
  {
   "cell_type": "code",
   "execution_count": 58,
   "metadata": {
    "collapsed": true
   },
   "outputs": [],
   "source": [
    "scaler = StandardScaler()\n",
    "X_poly_scaled = scaler.fit_transform(X_poly)\n",
    "X_poly_scaled[:, 0] = 1"
   ]
  },
  {
   "cell_type": "code",
   "execution_count": 59,
   "metadata": {},
   "outputs": [
    {
     "data": {
      "text/plain": [
       "array([[ 1.000, -1.360, -1.122, -0.925, -0.784, -0.682],\n",
       "       [ 1.000, -0.375, -0.615, -0.693, -0.682, -0.639],\n",
       "       [ 1.000, -1.105, -1.043, -0.905, -0.779, -0.681],\n",
       "       [ 1.000,  0.437,  0.210,  0.002, -0.153, -0.258],\n",
       "       [ 1.000, -0.544, -0.742, -0.769, -0.723, -0.660],\n",
       "       [ 1.000,  1.647,  2.128,  2.512,  2.814,  3.054],\n",
       "       [ 1.000,  0.016, -0.264, -0.434, -0.512, -0.534],\n",
       "       [ 1.000,  0.212, -0.056, -0.254, -0.373, -0.434],\n",
       "       [ 1.000,  1.460,  1.778,  1.980,  2.092,  2.142],\n",
       "       [ 1.000,  0.343,  0.096, -0.111, -0.253, -0.340],\n",
       "       [ 1.000,  0.709,  0.569,  0.389,  0.218,  0.074],\n",
       "       [ 1.000,  0.611,  0.435,  0.240,  0.070, -0.063],\n",
       "       [ 1.000, -0.846, -0.926, -0.861, -0.765, -0.677],\n",
       "       [ 1.000, -1.373, -1.125, -0.926, -0.784, -0.683],\n",
       "       [ 1.000, -1.373, -1.125, -0.926, -0.784, -0.683],\n",
       "       [ 1.000, -1.458, -1.143, -0.929, -0.784, -0.683],\n",
       "       [ 1.000,  0.581,  0.396,  0.197,  0.028, -0.101],\n",
       "       [ 1.000,  0.726,  0.593,  0.416,  0.245,  0.100],\n",
       "       [ 1.000,  0.692,  0.546,  0.362,  0.191,  0.048],\n",
       "       [ 1.000, -0.476, -0.693, -0.741, -0.709, -0.653],\n",
       "       [ 1.000,  1.520,  1.887,  2.143,  2.309,  2.410],\n",
       "       [ 1.000, -1.398, -1.131, -0.927, -0.784, -0.683],\n",
       "       [ 1.000, -0.515, -0.721, -0.757, -0.717, -0.657],\n",
       "       [ 1.000,  0.777,  0.665,  0.500,  0.332,  0.182],\n",
       "       [ 1.000,  0.212, -0.056, -0.254, -0.373, -0.434],\n",
       "       [ 1.000,  0.862,  0.789,  0.647,  0.487,  0.336],\n",
       "       [ 1.000,  0.976,  0.963,  0.861,  0.722,  0.576],\n",
       "       [ 1.000, -1.343, -1.118, -0.924, -0.784, -0.682],\n",
       "       [ 1.000,  1.023,  1.036,  0.954,  0.827,  0.687],\n",
       "       [ 1.000, -0.685, -0.834, -0.818, -0.747, -0.670],\n",
       "       [ 1.000,  0.216, -0.051, -0.249, -0.369, -0.431],\n",
       "       [ 1.000,  1.257,  1.419,  1.465,  1.434,  1.359],\n",
       "       [ 1.000,  1.584,  2.006,  2.324,  2.554,  2.720],\n",
       "       [ 1.000, -0.094, -0.372, -0.520, -0.573, -0.574],\n",
       "       [ 1.000, -1.220, -1.083, -0.916, -0.782, -0.682],\n",
       "       [ 1.000, -0.366, -0.609, -0.688, -0.680, -0.638],\n",
       "       [ 1.000, -1.483, -1.147, -0.929, -0.785, -0.683],\n",
       "       [ 1.000,  1.142,  1.227,  1.204,  1.118,  1.002],\n",
       "       [ 1.000, -1.564, -1.159, -0.931, -0.785, -0.683],\n",
       "       [ 1.000,  0.577,  0.390,  0.191,  0.022, -0.106]])"
      ]
     },
     "execution_count": 59,
     "metadata": {},
     "output_type": "execute_result"
    }
   ],
   "source": [
    "X_poly_scaled"
   ]
  },
  {
   "cell_type": "code",
   "execution_count": 65,
   "metadata": {},
   "outputs": [
    {
     "data": {
      "text/plain": [
       "5.9775678497589375"
      ]
     },
     "execution_count": 65,
     "metadata": {},
     "output_type": "execute_result"
    }
   ],
   "source": [
    "regressor = LinearRegression().fit(X_poly_scaled, y_train)\n",
    "y_pred = regressor.predict(X_poly_scaled)\n",
    "mean_squared_error(y_train, y_pred)"
   ]
  },
  {
   "cell_type": "code",
   "execution_count": 68,
   "metadata": {},
   "outputs": [
    {
     "data": {
      "image/png": "[encoded data removed]",
      "text/plain": [
       "<Figure size 720x720 with 1 Axes>"
      ]
     },
     "metadata": {},
     "output_type": "display_data"
    }
   ],
   "source": [
    "plot_poly_results(X_poly_scaled, y_train, poly_transformer, scaler, regressor)"
   ]
  },
  {
   "cell_type": "markdown",
   "metadata": {},
   "source": [
    "Алгоритм для полиномиальной регресии\n",
    "\n",
    "1. Сгенерировать полиномиальные фичи\n",
    "2. Стандартизировать параметры (кроме единочной колонки)\n",
    "3. Обучиить линейную регресию\n",
    "4. Оценить результат"
   ]
  },
  {
   "cell_type": "code",
   "execution_count": 72,
   "metadata": {},
   "outputs": [
    {
     "data": {
      "application/vnd.jupyter.widget-view+json": {
       "model_id": "71534cb54ec4452ea5c6affac7d0acef",
       "version_major": 2,
       "version_minor": 0
      },
      "text/plain": [
       "A Jupyter Widget"
      ]
     },
     "metadata": {},
     "output_type": "display_data"
    }
   ],
   "source": [
    "interactive_polynom(X_train, y_train)"
   ]
  },
  {
   "cell_type": "code",
   "execution_count": 73,
   "metadata": {
    "collapsed": true
   },
   "outputs": [],
   "source": [
    "X_test, y_test = get_more_data_for_polynom()"
   ]
  },
  {
   "cell_type": "code",
   "execution_count": 78,
   "metadata": {},
   "outputs": [
    {
     "data": {
      "image/png": "[encoded data removed]",
      "text/plain": [
       "<Figure size 720x576 with 1 Axes>"
      ]
     },
     "metadata": {},
     "output_type": "display_data"
    }
   ],
   "source": [
    "plot_poly_data(X_train, y_train, X_test, y_test)"
   ]
  },
  {
   "cell_type": "code",
   "execution_count": 75,
   "metadata": {},
   "outputs": [
    {
     "data": {
      "application/vnd.jupyter.widget-view+json": {
       "model_id": "636990fe18d34acfafe0d256730e87ea",
       "version_major": 2,
       "version_minor": 0
      },
      "text/plain": [
       "A Jupyter Widget"
      ]
     },
     "metadata": {},
     "output_type": "display_data"
    }
   ],
   "source": [
    "interactive_polynom(X_train, y_train, X_test, y_test)"
   ]
  },
  {
   "cell_type": "markdown",
   "metadata": {},
   "source": [
    "# Оценка результа"
   ]
  },
  {
   "cell_type": "markdown",
   "metadata": {},
   "source": [
    "## MAE\n",
    "\n",
    "$MAE = \\frac{1}{N}\\sum_{i=0}^{N}{|\\hat{y_i} - y_i|}= \\frac{1}{N} \\sum_{i=0}^{N}{|X_i\\Theta - y_i|}$"
   ]
  },
  {
   "cell_type": "markdown",
   "metadata": {},
   "source": [
    "Это то, насколько в среднем ошибается наша модель."
   ]
  },
  {
   "cell_type": "code",
   "execution_count": 87,
   "metadata": {
    "collapsed": true
   },
   "outputs": [],
   "source": [
    "from sklearn.metrics import mean_absolute_error"
   ]
  },
  {
   "cell_type": "code",
   "execution_count": 89,
   "metadata": {},
   "outputs": [
    {
     "name": "stdout",
     "output_type": "stream",
     "text": [
      "1.6505537594274506\n"
     ]
    }
   ],
   "source": [
    "print(mean_absolute_error(y_train, y_pred))"
   ]
  },
  {
   "cell_type": "code",
   "execution_count": 91,
   "metadata": {},
   "outputs": [],
   "source": [
    "X_test_poly = poly_transformer.transform(X_test.reshape(-1,1))\n",
    "X_test_poly = scaler.transform(X_test_poly)\n",
    "X_test_poly[:, 0] = 1\n",
    "y_test_pred = regressor.predict(X_test_poly)\n"
   ]
  },
  {
   "cell_type": "code",
   "execution_count": 92,
   "metadata": {},
   "outputs": [
    {
     "name": "stdout",
     "output_type": "stream",
     "text": [
      "2.3141765459765247\n"
     ]
    }
   ],
   "source": [
    "print(mean_absolute_error(y_test, y_test_pred))"
   ]
  },
  {
   "cell_type": "markdown",
   "metadata": {},
   "source": [
    "### МАЕ как функция ошибки"
   ]
  },
  {
   "cell_type": "markdown",
   "metadata": {},
   "source": [
    "В общем случае производная от $|x|$ не определена в точке 0, во всех остальных случаях ее можно определть, как $|x|'= \\dfrac{|x|}{x}$.\n",
    "\n",
    "В нашем случае мы можем доопределить производную от $|x|$ в нуле значением 0. Тогда она совпадет с функцией знака:\n",
    "\\begin{equation*}\n",
    " sign(x) = \n",
    " \\begin{cases}\n",
    "   1 &\\text{x > 0}\\\\\n",
    "   0 &\\text{x = 0}\\\\\n",
    "   -1 &\\text{x < 0}\n",
    " \\end{cases}\n",
    "\\end{equation*}\n",
    "\n",
    "Теперь мы можем посчитать градиент функции потерь:  \n",
    "\\begin{equation*}\n",
    "\\frac{\\partial J(\\Theta)}{\\partial \\theta_j} = \\frac{1}{N} \\sum_{i=1}^{N} sign(X_i\\Theta - y_i) x_{ij}\n",
    "\\end{equation*}\n",
    "\n",
    "\\begin{equation*}\n",
    "\\nabla J(\\Theta) = \n",
    " \\begin{bmatrix}\n",
    "   \\frac{1}{N} \\sum_{i=1}^{N} sign(X_i\\Theta - y_i)x_{i0}\\\\\n",
    "   \\frac{1}{N} \\sum_{i=1}^{N} sign(X_i\\Theta - y_i)x_{i1}\\\\\n",
    "   \\cdots\\\\\n",
    "   \\frac{1}{N} \\sum_{i=1}^{N} sign(X_i\\Theta - y_i)x_{im}\\\\\n",
    " \\end{bmatrix}\n",
    "\\end{equation*}\n"
   ]
  },
  {
   "cell_type": "code",
   "execution_count": null,
   "metadata": {
    "collapsed": true
   },
   "outputs": [],
   "source": []
  },
  {
   "cell_type": "code",
   "execution_count": 115,
   "metadata": {},
   "outputs": [
    {
     "data": {
      "image/png": "[encoded data removed]",
      "text/plain": [
       "<Figure size 1296x432 with 2 Axes>"
      ]
     },
     "metadata": {},
     "output_type": "display_data"
    }
   ],
   "source": [
    "fig, axis = plt.subplots(1, 2, figsize=(18, 6))\n",
    "ks = np.linspace(-1.5, 1.5, 200)\n",
    "\n",
    "axis[0].plot(ks, ks**2, label=\"MSE\")\n",
    "axis[0].plot(ks, np.abs(ks), label=\"MAE\")\n",
    "axis[0].grid()\n",
    "axis[0].set_xticks([]) \n",
    "axis[0].set_yticks([])\n",
    "axis[0].legend()\n",
    "\n",
    "axis[1].plot(ks, 2*ks, label=\"$MSE'$\")\n",
    "axis[1].plot(ks, np.sign(ks), label=\"$MAE'$\")\n",
    "axis[1].legend()\n",
    "axis[1].grid()\n",
    "axis[1].set_xticks([]) \n",
    "axis[1].set_yticks([])\n",
    "\n",
    "\n",
    "plt.show()"
   ]
  },
  {
   "cell_type": "code",
   "execution_count": null,
   "metadata": {},
   "outputs": [],
   "source": []
  },
  {
   "cell_type": "code",
   "execution_count": null,
   "metadata": {
    "collapsed": true
   },
   "outputs": [],
   "source": []
  }
 ],
 "metadata": {
  "anaconda-cloud": {},
  "kernelspec": {
   "display_name": "Python 3",
   "language": "python",
   "name": "python3"
  },
  "language_info": {
   "codemirror_mode": {
    "name": "ipython",
    "version": 3
   },
   "file_extension": ".py",
   "mimetype": "text/x-python",
   "name": "python",
   "nbconvert_exporter": "python",
   "pygments_lexer": "ipython3",
   "version": "3.6.3"
  },
  "widgets": {
   "state": {
    "03fc38044a514408b9de41fa70bf122f": {
     "views": [
      {
       "cell_index": 17
      }
     ]
    },
    "19b7b5447a594ae1a20b764ac13118cc": {
     "views": [
      {
       "cell_index": 15
      }
     ]
    },
    "28304c0dfbab44f5a851af84bf5947d3": {
     "views": [
      {
       "cell_index": 21
      }
     ]
    },
    "3f700e837fd046ddb14ee8776ac8bc04": {
     "views": [
      {
       "cell_index": 31
      }
     ]
    },
    "50d7c06a111e43c1860a5b10a576bfd3": {
     "views": [
      {
       "cell_index": 23
      }
     ]
    },
    "a74e340d7bb24d9bb020ad7dd982e764": {
     "views": [
      {
       "cell_index": 19
      }
     ]
    },
    "d5593dc80c0445c7ae64c7da2d37f72f": {
     "views": [
      {
       "cell_index": 5
      }
     ]
    },
    "d644b9b546b849c6b17acb3be1f1952b": {
     "views": [
      {
       "cell_index": 3
      }
     ]
    },
    "eac5158d5b6c45c4afa73b58b8b0e58a": {
     "views": [
      {
       "cell_index": 7
      }
     ]
    },
    "f4cec2743faf43ad9b8e7c828c6ee76a": {
     "views": [
      {
       "cell_index": 27
      }
     ]
    }
   },
   "version": "1.2.0"
  }
 },
 "nbformat": 4,
 "nbformat_minor": 1
}
