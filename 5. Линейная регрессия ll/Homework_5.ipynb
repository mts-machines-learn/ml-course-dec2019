{
 "cells": [
  {
   "cell_type": "markdown",
   "metadata": {},
   "source": [
    "# Задание\n",
    "\n",
    "1. Создать полиномиальные признаки\n",
    "1. Сделать полиномиальную функцию\n",
    "2. Сделать функцию ошибки\n",
    "3. Рассчитать градиент\n",
    "4. Реализовать градиентный спуск  \n",
    "\n",
    "Задания следует делать одно за другим.  "
   ]
  },
  {
   "cell_type": "code",
   "execution_count": 35,
   "metadata": {
    "collapsed": true
   },
   "outputs": [],
   "source": [
    "X, y = get_data()    # Загружаем данные в X и y"
   ]
  },
  {
   "cell_type": "markdown",
   "metadata": {},
   "source": [
    "##### Создать полиномиальные признаки \n",
    "На вход функции передается вектор значений признаков X размера Nx1. Функция должна возвращать матрицу  размера N x m+1 c полиномиальными признаками из вектора X следущзего вида:\n",
    "   \\begin{equation*}\n",
    "    \\mathbf{X} = \\begin{pmatrix}\n",
    "    1 & x_1 & x_1^2 &\\dots & x_1^m\\\\\n",
    "    1 & x_2 & x_2^2 &\\dots & x_2^m \\\\\n",
    "    \\cdots \\\\\n",
    "    1& x_N & x_N^2 &\\dots & x_n^m\n",
    "    \\end{pmatrix}\n",
    "    \\end{equation*}\n",
    "    \n",
    "Подсказка: использовать функцию hstack из библиотеки numpy."
   ]
  },
  {
   "cell_type": "code",
   "execution_count": 36,
   "metadata": {
    "collapsed": true
   },
   "outputs": [],
   "source": [
    "def creat_polinom_features(X, m):\n",
    "    X_m = np.ones_like(X)\n",
    "    # Напоминаю, что код нужно писать в области между звездочками. \n",
    "    #***********************************************************************\n",
    "    for i in range(1, m+1):\n",
    "        X_m = np.hstack((X_m, X**i))\n",
    "    #***********************************************************************\n",
    "    return X_m\n",
    "\n",
    "m=3\n",
    "X_m = creat_polinom_features(X.reshape(-1,1), m)"
   ]
  },
  {
   "cell_type": "markdown",
   "metadata": {},
   "source": [
    "##### Реализовать линейную функцию вида $y = \\theta_0 + \\theta_1 x + \\theta_2 x^2 +... + \\theta_m x^m$ в матричном виде. \n",
    "   На вход функции передается вектор значений коэффициента $\\Theta$ размера m+1x1, и матрица  $\\mathbf{X}$ размера Nxm+1 с квадратичными признаками полученная предыдущей функцией. Ваша задача  вернуть вектор-столбец предсказаний $\\mathbf{y}$ размера Nx1 полученный перемножением матрицы $X$ и $\\Theta$:\n",
    "\\begin{equation*}\n",
    "y = X\\Theta\n",
    "\\end{equation*}\n"
   ]
  },
  {
   "cell_type": "code",
   "execution_count": 37,
   "metadata": {
    "collapsed": true
   },
   "outputs": [],
   "source": [
    "def polinom_function(theta, X_m):\n",
    "    y = np.zeros(X.shape[0])\n",
    "\n",
    "    #***********************************************************************  \n",
    "    y = np.dot(X_m, theta)\n",
    "    #***********************************************************************\n",
    "\n",
    "    return y"
   ]
  },
  {
   "cell_type": "markdown",
   "metadata": {},
   "source": [
    "##### Реализовать функцию потерь  MAE $J(\\Theta) = \\frac{1}{N}\\sum_{i=0}^{N}{|\\hat{y_i} - y_i|}= \\frac{1}{N} \\sum_{i=0}^{N}{|X_i\\Theta - y_i|}$\n",
    "\n",
    "На вход функции передается вектор коэффициентов $\\Theta$, и матрица признаков $\\mathbf{X}$ размера Nxm+1 и вектор-столбец $\\mathbf{y}$ c реальными значениями, размера Nx1. Функция должна возвращать действительное число равное $J(\\Theta)$.  В библиотеки numpy есть функция модуля absolute, она тебе поможет."
   ]
  },
  {
   "cell_type": "code",
   "execution_count": 38,
   "metadata": {
    "collapsed": true
   },
   "outputs": [],
   "source": [
    "def loss_function(theta, X_m, y):\n",
    "    # Ты можешь использовать функцию polinon_function из предыдущего задания\n",
    "    # Для того, что бы найти значение f(X)\n",
    "    # Не бойся создавать новые переменные. \n",
    "    # Помни что ты можешь вычитать один вектор из другого, а также помни что,\n",
    "    # ты можешь почленно вводить в степень вектор. \n",
    "    \n",
    "    # Результат функции потерь должен быть записан в переменную J\n",
    "   \n",
    "    \n",
    "    N = X.shape[0]       # получаем размер вектора столбца\n",
    "    J = 0\n",
    "\n",
    "    #***********************************************************************\n",
    "    y_pred = polinom_function(theta, X_m)\n",
    "    J = sum(np.absolute(y_pred - y))/N\n",
    "\n",
    "    #***********************************************************************\n",
    "\n",
    "    return J"
   ]
  },
  {
   "cell_type": "markdown",
   "metadata": {},
   "source": [
    "##### Реализовать подсчет градиента  $J'(\\Theta)$.\n",
    "На вход функции передается вектор коэффициентов $\\Theta$, и матрица признаков $\\mathbf{X}$ размера Nxm+1 и вектор-столбец $\\mathbf{y}$ c реальными значениями размера Nx1. Функция должна возвращать вектор градиент функции потерь MAE $J'(\\Theta)$ в точке $\\theta_0 ... \\theta_m$.   В общем случае производная от $|x|$ не определена в точке 0, во всех остальных случаях ее можно определть, как $|x|/x$.\n",
    "В нашем случае мы можем доопределить производную от $|x|$ в нуле значением 0. Тогда она совпадет с функцией знака:\n",
    "\\begin{equation*}\n",
    " sign(x) = \n",
    " \\begin{cases}\n",
    "   1 &\\text{x > 0}\\\\\n",
    "   0 &\\text{x = 0}\\\\\n",
    "   -1 &\\text{x < 0}\n",
    " \\end{cases}\n",
    "\\end{equation*}\n",
    "\n",
    "Теперь мы можем посчитать градиент функции потерь:  \n",
    "\\begin{equation*}\n",
    "\\frac{\\partial J(\\Theta)}{\\partial \\theta_j} = \\frac{1}{N} \\sum_{i=1}^{N} sign(X_i\\Theta - y_i) x_{ij}\n",
    "\\end{equation*}\n",
    "\n",
    "\\begin{equation*}\n",
    "\\nabla J(\\Theta) = \n",
    " \\begin{bmatrix}\n",
    "   \\frac{1}{N} \\sum_{i=1}^{N} sign(X_i\\Theta - y_i)x_{i0}\\\\\n",
    "   \\frac{1}{N} \\sum_{i=1}^{N} sign(X_i\\Theta - y_i)x_{i1}\\\\\n",
    "   \\cdots\\\\\n",
    "   \\frac{1}{N} \\sum_{i=1}^{N} sign(X_i\\Theta - y_i)x_{im}\\\\\n",
    " \\end{bmatrix}\n",
    "\\end{equation*}\n",
    "\n",
    "$x_{i,j} = x^j_i$  \n",
    "В библиотеке numpy есть функция sign, которя считает функцию знака для всех элементолв вектора."
   ]
  },
  {
   "cell_type": "code",
   "execution_count": 232,
   "metadata": {
    "collapsed": true
   },
   "outputs": [],
   "source": [
    "def gradient_function(theta, X_m, y):\n",
    "    # Ты можешь использовать функцию polinom_function из предыдущего задания\n",
    "    # Для того, что бы найти значение f(X)\n",
    "    # Не бойся создавать новые переменные. \n",
    "    # Помни что ты можешь вычитать один из другого, а также помни что,\n",
    "    # ты можешь почленно перемножать вектора вектор. \n",
    "    \n",
    "    # Результат функции потерь должен быть записан в вектор grad\n",
    "    N, m = X_m.shape       # получаем размер вектора столбца\n",
    "    grad = np.zeros(m)\n",
    "    \n",
    "    #***********************************************************************\n",
    "    y_pred = polinom_function(theta, X_m)\n",
    "    for j in range(m):\n",
    "        grad[j] = np.dot(np.sign(y_pred - y),X_m[:,j])/N\n",
    "                       \n",
    "    #***********************************************************************\n",
    "    return grad\n",
    "   \n",
    "#check_gradient_function(gradient_function)"
   ]
  },
  {
   "cell_type": "markdown",
   "metadata": {},
   "source": [
    "##### Финишная прямая. Пора реализовать алгоритм градиентного спуска. \n",
    "На вход функции передается начальный вектор $\\mathbf{\\Theta}$ размера m+1x1, матрица признаков $\\mathbf{X}$ размера Nxm+1 и вектор-столбец $\\mathbf{y}$ c реальными значениями размера Nx1, значение коэффициента альфа $\\alpha$ и число $iters$ равное количеству итераций в алгоритме. \n",
    "Сам алгоритм мы будем использовать в следующем виде\n",
    "* Повторить $iters$ раз:\n",
    "&nbsp;&nbsp;&nbsp;&nbsp;&nbsp;&nbsp; $\\Theta = \\Theta - \\alpha \\cdot \\nabla J(\\Theta)$"
   ]
  },
  {
   "cell_type": "code",
   "execution_count": 233,
   "metadata": {
    "collapsed": true
   },
   "outputs": [],
   "source": [
    "def gradient_descent(theta_init, X_m, y, alpha, iters):\n",
    "    # Лучше всего использовать функцию gradient_function для \n",
    "    # нахождения градиента, чем пересчитывать его еще раз\n",
    "    \n",
    "    # И еше я прошу перед тем как изменить значение theta, сохранять в массиве theta_old.\n",
    "    #предыдущий вектор\n",
    "    # Например, i это счетчик цикла.\n",
    "    # Тогда вектор theta можно сохранить как theta_old[i,:] = theta\n",
    "        \n",
    "    theta = theta_init\n",
    "    N, m = X_m.shape\n",
    "    theta_old = np.zeros((iters, m))\n",
    "\n",
    "    #***********************************************************************\n",
    "\n",
    "    for i in range (0, iters):\n",
    "        theta_old[i, :] = theta\n",
    "        theta = theta - (alpha * gradient_function(theta, X_m, y))\n",
    "        \n",
    "\n",
    "    #***********************************************************************\n",
    "\n",
    "    return theta, theta_old\n",
    "    \n",
    "#check_gradient_descent(gradient_descent)\n"
   ]
  }
 ],
 "metadata": {
  "anaconda-cloud": {},
  "kernelspec": {
   "display_name": "Python 3",
   "language": "python",
   "name": "python3"
  },
  "language_info": {
   "codemirror_mode": {
    "name": "ipython",
    "version": 3
   },
   "file_extension": ".py",
   "mimetype": "text/x-python",
   "name": "python",
   "nbconvert_exporter": "python",
   "pygments_lexer": "ipython3",
   "version": "3.6.3"
  },
  "widgets": {
   "state": {
    "03fc38044a514408b9de41fa70bf122f": {
     "views": [
      {
       "cell_index": 17
      }
     ]
    },
    "19b7b5447a594ae1a20b764ac13118cc": {
     "views": [
      {
       "cell_index": 15
      }
     ]
    },
    "28304c0dfbab44f5a851af84bf5947d3": {
     "views": [
      {
       "cell_index": 21
      }
     ]
    },
    "3f700e837fd046ddb14ee8776ac8bc04": {
     "views": [
      {
       "cell_index": 31
      }
     ]
    },
    "50d7c06a111e43c1860a5b10a576bfd3": {
     "views": [
      {
       "cell_index": 23
      }
     ]
    },
    "a74e340d7bb24d9bb020ad7dd982e764": {
     "views": [
      {
       "cell_index": 19
      }
     ]
    },
    "d5593dc80c0445c7ae64c7da2d37f72f": {
     "views": [
      {
       "cell_index": 5
      }
     ]
    },
    "d644b9b546b849c6b17acb3be1f1952b": {
     "views": [
      {
       "cell_index": 3
      }
     ]
    },
    "eac5158d5b6c45c4afa73b58b8b0e58a": {
     "views": [
      {
       "cell_index": 7
      }
     ]
    },
    "f4cec2743faf43ad9b8e7c828c6ee76a": {
     "views": [
      {
       "cell_index": 27
      }
     ]
    }
   },
   "version": "1.2.0"
  }
 },
 "nbformat": 4,
 "nbformat_minor": 1
}
