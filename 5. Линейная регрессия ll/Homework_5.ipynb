{
 "cells": [
  {
   "cell_type": "markdown",
   "metadata": {},
   "source": [
    "# Практическое задание\n",
    "\n",
    "В данном задании предлагается реализовать алгоритм градиентного спуска для полиномиальной регрессии функции вида $f(x) = \\theta_0 + \\theta_1 x + \\theta_2 x^2 + \\ldots + \\theta_i x^i \\ldots + \\ldots \\theta_m x^m$. При этом, в качестве функции потери будем применяться средняя абсолютная ошибка.\n",
    "\n",
    "Задание состоит из шести частей:\n",
    "\n",
    "1. Создать полиномиальные признаки.\n",
    "\n",
    "2. Реализовать полиномиальную функцию.\n",
    "\n",
    "3. Нормализовать данные.\n",
    "\n",
    "4. Реализовать среднюю абсолютную ошибку.\n",
    "\n",
    "5. Рассчитать градиент для функции ошибки.\n",
    "\n",
    "6. Реализовать градиентный спуск.\n",
    "\n",
    "7. Насладиться красотой алгоритмов машинного обучения.\n",
    "\n",
    "Задания следует делать одно за другим.  "
   ]
  },
  {
   "cell_type": "markdown",
   "metadata": {},
   "source": [
    "Запустите следующие 2 ячейки перед началом работы."
   ]
  },
  {
   "cell_type": "code",
   "execution_count": 2,
   "metadata": {
    "collapsed": true
   },
   "outputs": [],
   "source": [
    "from regression2_helper import * # Подгружаем функции для визуализации\n",
    "import numpy as np              # Подгруджаем библиотеку NumPy"
   ]
  },
  {
   "cell_type": "code",
   "execution_count": 3,
   "metadata": {
    "collapsed": true
   },
   "outputs": [],
   "source": [
    "X, y = get_homework_data()"
   ]
  },
  {
   "cell_type": "markdown",
   "metadata": {},
   "source": [
    "## 1. Создать полиномиальные признаки \n",
    "\n",
    "На вход функции передается вектор значений признаков $x$ размера $(N, 1)$ и $m$. Функция должна возвращать матрицу  размера $(N, m+1)$.\n",
    "\n",
    "Другими словами, вектор $x$ выглядит таким образом:\n",
    "\n",
    "\\begin{equation*}\n",
    "\\mathbf{x} = \\begin{pmatrix}\n",
    "x_1\\\\\n",
    "x_2\\\\\n",
    "\\cdots \\\\\n",
    "x_i\\\\\n",
    "\\cdots \\\\\n",
    "x_N\n",
    "\\end{pmatrix}\n",
    "\\end{equation*}\n",
    "\n",
    "Тогда функция должна вернуть матрицу следующего вида:\n",
    "\n",
    "\\begin{equation*}\n",
    "\\mathbf{X} = \\begin{pmatrix}\n",
    "1 & x_1 & x_1^2 &\\dots & x_1^m\\\\\n",
    "1 & x_2 & x_2^2 &\\dots & x_2^m \\\\\n",
    "\\cdots \\\\\n",
    "1& x_N & x_N^2 &\\dots & x_n^m\n",
    "\\end{pmatrix}\n",
    "\\end{equation*}"
   ]
  },
  {
   "cell_type": "markdown",
   "metadata": {},
   "source": [
    "Входные параметры:\n",
    "\n",
    "* Массив $x$ размера $(N, 1)$: тип numpy.ndarray\n",
    "\n",
    "* Значение коэффициента $m$: тип int\n",
    "\n",
    "Выходное значение:\n",
    "\n",
    "* Массив $X$ с полиномиальными значениями размера $(N, m+1)$: тип numpy.ndarray \n",
    "\n",
    "    \n",
    "Подсказка: использовать функцию hstack или column_stack из библиотеки numpy."
   ]
  },
  {
   "cell_type": "code",
   "execution_count": null,
   "metadata": {
    "collapsed": true
   },
   "outputs": [],
   "source": [
    "def creat_polinom_features(X, m):\n",
    "    pass # Замените на свой код\n",
    "\n",
    "\n",
    "m=3\n",
    "X_m = creat_polinom_features(X.reshape(-1,1), m)\n",
    "print(f\"Размерность матрицы X_m = {X_m.shape}\")"
   ]
  },
  {
   "cell_type": "markdown",
   "metadata": {},
   "source": [
    "## 2. Реализовать полиномиальную функцию\n",
    "\n",
    "Необходимо реализовать линейную функцию вида $f(x_i) = \\theta_0 x_{i, 0} + \\theta_1 x_{i, 1}  + \\theta_2 x_{i, 2} +... + \\theta_m x_{i, m}$ в матричном виде.\n",
    "\n",
    "На вход функции передается вектор значений коэффициента $\\Theta$ размера $(m+1, 1)$, и матрица  $\\mathbf{X}$ размера $(N, m+1)$ с полиномиальными признаками полученная предыдущей функцией. Ваша задача вернуть вектор-столбец предсказаний $\\mathbf{y}$ размера $(N, 1)$.\n",
    "\n",
    "Заметьте, что мы будем передавать в функцию матрицу с полиномиальными признаками, таким образом получая полином:\n",
    "\n",
    "$f(x_i) = \\theta_0 + \\theta_1 x_i + \\theta_2 x_i^2 +... + \\theta_m x_i^m$\n",
    "\n",
    "$x_i^j$ это элемент $x_{i, j}$ матрицы $X$, $x_i^0 = 1$"
   ]
  },
  {
   "cell_type": "markdown",
   "metadata": {},
   "source": [
    "Входные параметры:\n",
    "\n",
    "* Массив $X$ размера $(N, m+1)$: тип numpy.ndarray\n",
    "\n",
    "* Массив $\\Theta$ размера $(m+1, 1)$: тип numpy.ndarray\n",
    "\n",
    "Выходное значение:\n",
    "\n",
    "* Массив $y$ со значения  для $i = 0 \\ldots N-1$. Размера $y$ равен $(N, 1)$: тип numpy.ndarray "
   ]
  },
  {
   "cell_type": "code",
   "execution_count": null,
   "metadata": {
    "collapsed": true
   },
   "outputs": [],
   "source": [
    "def polinom_function(X_m, theta):\n",
    "    pass # Замените на свой код\n",
    "\n",
    "poly_pred = polinom_function(X_m, theta)\n",
    "print(f\"Размерность вектора poly_pred = {poly_pred.shape}\")"
   ]
  },
  {
   "cell_type": "markdown",
   "metadata": {},
   "source": [
    "## 3. Нормализовать данные"
   ]
  },
  {
   "cell_type": "markdown",
   "metadata": {},
   "source": [
    "Необходимо реализовать стандартизацию данных. \n",
    "\n",
    "На вход подается матрица $X$ размера $(N, m+1)$ с полиномильными признаками.\n",
    "Для каждого столбца, кроме нулевого, нужно посчитать среднее значение и стандратное отклонение. Назовем их $E_j$ (среднее занчение для столбца $j$) и $S_j$ (стандартное отклонение для столбца $j$).\n",
    "\n",
    "И для каждого элемента матрицы $x_{i, j}$ (кроме элементов из нулевого столбца, который содержит единицы) нужно посчиать новое значение $x_{i, j}' = \\dfrac{x_{i, j} - E_j}{S_j}, i = 0 \\ldots N-1, j = 1, \\ldots m$\n",
    "\n",
    "Также необходимо вернуть массив со средними значеними и массив со стандартными отклонениями."
   ]
  },
  {
   "cell_type": "markdown",
   "metadata": {},
   "source": [
    "Входные параметры:\n",
    "\n",
    "* Массив $X$ размера $(N, m+1)$: тип numpy.ndarray\n",
    "\n",
    "Выходные значение:\n",
    "\n",
    "* Массив $X'$ размера $(N, m+1)$ со стандартизированными параметрами: тип numpy.ndarray\n",
    "\n",
    "* Массив $E$ размера $(m+1, 1)$ с средними значениям для каждой колонки: тип numpy.ndarray\n",
    "\n",
    "* Массив $S$ размера  $(m+1, 1)$ со стандартными отклонениями для каждой колонки: тип numpy.ndarray\n",
    "\n",
    "\n",
    "*Подсказка: для создания копии массива X можно использовать метод copy().*\n",
    "\n",
    "*Подсказка: для того что бы вернуть несколько матриц, нужно указать их через запятую после return:*\n",
    "`return a, b`"
   ]
  },
  {
   "cell_type": "code",
   "execution_count": null,
   "metadata": {
    "collapsed": true
   },
   "outputs": [],
   "source": [
    "def standartize_data(X):\n",
    "    pass # Замените на свой код\n",
    "   \n",
    "    \n",
    "X_m_ss, means, stds = standartize_data(X_m)"
   ]
  },
  {
   "cell_type": "markdown",
   "metadata": {},
   "source": [
    "## 4. Реализовать функцию потерь  MAE \n",
    "\n",
    "Необходимо реализовать MAE. На вход функции передается вектор значений коэффициента $\\Theta$ размера $(m+1, 1)$, и матрица $\\mathbf{X}$ размера $(N, m+1)$ с полиномиальными признаками. А также вектор-столбец $\\mathbf{y}$ c реальными значениями, размера $(N, 1)$.\n",
    "\n",
    "Формула для MAE:\n",
    "\n",
    "$Loss(\\Theta) = \\frac{1}{N}\\sum_{i=0}^{N}{|\\hat{y_i} - y_i|}= \\frac{1}{N} \\sum_{i=0}^{N}{|X_i\\Theta - y_i|}$\n",
    "\n",
    "Функция должна возвращать действительное число равное $Loss(\\Theta)$.  "
   ]
  },
  {
   "cell_type": "markdown",
   "metadata": {},
   "source": [
    "Входные параметры:\n",
    "\n",
    "* Массив $X$ размера $(N, m+1)$: тип numpy.ndarray\n",
    "\n",
    "* Массив реальных выходных значений $y$ размера $(N, 1)$: тип numpy.ndarray\n",
    "\n",
    "* Массив $\\Theta$ размера $(m+1, 1)$: тип numpy.ndarray\n",
    "\n",
    "Выходное значение:\n",
    "\n",
    "* Значение функции ошибки MAE для параметра $\\Theta$: тип float\n",
    "\n",
    "*Подсказка: в библиотеки NumPy есть функция модуля abs, она тебе поможет.* "
   ]
  },
  {
   "cell_type": "code",
   "execution_count": null,
   "metadata": {
    "collapsed": true
   },
   "outputs": [],
   "source": [
    "def mae_loss_function(X_m, y, theta):\n",
    "    pass # Замените на свой код\n",
    "\n",
    "print(mae_loss_function(X_m_ss, y, theta))"
   ]
  },
  {
   "cell_type": "markdown",
   "metadata": {},
   "source": [
    "## 5. Рассчитать градиент для функции ошибки.\n",
    "\n",
    "\n",
    "На вход функции передается вектор значений коэффициента $\\Theta$ размера $(m+1, 1)$, и матрица $\\mathbf{X}$ размера $(N, m+1)$ с полиномиальными признаками. А также вектор-столбец $\\mathbf{y}$ c реальными значениями, размера $(N, 1)$. \n",
    "\n",
    "Функция должна возвращать вектор градиент функции потерь MAE $Loss'(\\Theta)$ в точке $\\theta_0, \\theta_1, ... \\theta_m$. \n",
    "\n",
    "В общем случае производная от $f(x) = |x|$ не определена в точке 0, во всех остальных случаях ее можно определить, как $|x|/x$.\n",
    "\n",
    "В нашем случае мы можем доопределить производную от $f(x) = |x|$ в нуле значением $0$. Тогда она совпадет с функцией знака (sign):\n",
    "\\begin{equation*}\n",
    " sign(x) = \n",
    " \\begin{cases}\n",
    "   1 &\\text{x > 0}\\\\\n",
    "   0 &\\text{x = 0}\\\\\n",
    "   -1 &\\text{x < 0}\n",
    " \\end{cases}\n",
    "\\end{equation*}\n",
    "\n",
    "Теперь мы можем посчитать градиент функции потерь:  \n",
    "\\begin{equation*}\n",
    "\\frac{\\partial Loss(\\Theta)}{\\partial \\theta_j} = \\frac{1}{N} \\sum_{i=1}^{N} sign(X_i\\Theta - y_i) x_{ij}\n",
    "\\end{equation*}\n",
    "\n",
    "\\begin{equation*}\n",
    "\\nabla Loss(\\Theta) = \n",
    " \\begin{bmatrix}\n",
    "   \\frac{1}{N} \\sum_{i=1}^{N} sign(X_i\\Theta - y_i)x_{i0}\\\\\n",
    "   \\frac{1}{N} \\sum_{i=1}^{N} sign(X_i\\Theta - y_i)x_{i1}\\\\\n",
    "   \\cdots\\\\\n",
    "   \\frac{1}{N} \\sum_{i=1}^{N} sign(X_i\\Theta - y_i)x_{im}\\\\\n",
    " \\end{bmatrix}\n",
    "\\end{equation*}\n",
    "\n",
    "В библиотеке numpy есть функция sign, которая считает функцию знака для всех элементов вектора. "
   ]
  },
  {
   "cell_type": "markdown",
   "metadata": {},
   "source": [
    "Входные параметры:\n",
    "\n",
    "* Массив $X$ размера $(N, m+1)$: тип numpy.ndarray\n",
    "\n",
    "* Массив реальных выходных значений $y$ размера $(N, 1)$: тип numpy.ndarray\n",
    "\n",
    "* Массив $\\Theta$ размера $(m+1, 1)$: тип numpy.ndarray\n",
    "\n",
    "Выходное значение:\n",
    "\n",
    "* Значение градиента для каждого параметра $\\Theta$, размер $(m+1, 1)$:  тип numpy.ndarray\n",
    "\n",
    "*Подсказка: в библиотеки NumPy есть функция модуля abs, она тебе поможет.* "
   ]
  },
  {
   "cell_type": "code",
   "execution_count": null,
   "metadata": {
    "collapsed": true
   },
   "outputs": [],
   "source": [
    "def gradient_function(X, y, theta):\n",
    "    pass # Замените на свой код\n",
    "\n",
    "g = gradient_function(X_m_ss, y, theta)\n",
    "print(g)"
   ]
  },
  {
   "cell_type": "markdown",
   "metadata": {},
   "source": [
    "## 6. Алгоритм градиентного спуска\n",
    "\n",
    "\n",
    "На вход функции передается вектор значений коэффициента $\\Theta$ размера $(m+1, 1)$, и матрица $\\mathbf{X}$ размера $(N, m+1)$ с полиномиальными признаками, вектор-столбец $\\mathbf{y}$ c реальными значениями, размера $(N, 1)$, значение коэффициента альфа $\\alpha$ и число $iters$ равное количеству итераций в алгоритме. \n",
    "\n",
    "Сам алгоритм мы будем использовать в следующем виде:\n",
    "* Повторить $iters$ раз:\n",
    "\n",
    "&nbsp;&nbsp;&nbsp;&nbsp;&nbsp;&nbsp; $\\Theta = \\Theta - \\alpha \\cdot \\nabla Loss(\\Theta)$\n",
    "\n",
    "Где $\\nabla Loss(\\Theta)$ - это градиент, который мы научились рассчитывать в предыдущем задании. "
   ]
  },
  {
   "cell_type": "markdown",
   "metadata": {},
   "source": [
    "На входе:\n",
    "\n",
    "* Массив $X$ размера $(N, m+1)$: тип numpy.ndarray\n",
    "\n",
    "* Массив реальных выходных значений $y$ размера $(N, 1)$: тип numpy.ndarray\n",
    "\n",
    "* Массив $\\Theta_{init}$ размера $(m+1, 1)$. Начальное значение коэффициента: тип numpy.ndarray\n",
    "\n",
    "* Коэффициент обучения $\\alpha$: тип float\n",
    "\n",
    "* Количество итераций алгоритма $iter$: тип int\n",
    "\n",
    "Выходное значение:\n",
    "\n",
    "* Массив $\\Theta$ размера $(m+1, 1)$ полученный методом градиентного спуска: тип numpy.ndarray "
   ]
  },
  {
   "cell_type": "code",
   "execution_count": null,
   "metadata": {
    "collapsed": true,
    "scrolled": true
   },
   "outputs": [],
   "source": [
    "def gradient_descent(X, y, theta_init, alpha, iters):\n",
    "    pass # Замените на свой код\n",
    " \n",
    "theta_init = np.array([1.5, 0, 1, 1])  \n",
    "theta_opt = gradient_descent(X_m_ss, y, theta_init, alpha=0.1, iters=1000)"
   ]
  },
  {
   "cell_type": "markdown",
   "metadata": {},
   "source": [
    "## 7. Посмотреть что получилось\n",
    "\n",
    "Если все прошло успешно, запустите ячейку ниже и насладитесь магией Data Science :) "
   ]
  },
  {
   "cell_type": "code",
   "execution_count": null,
   "metadata": {
    "collapsed": true
   },
   "outputs": [],
   "source": [
    "plot_poly_hw_results(X_m_ss, y, theta_init, theta_opt, means, stds)"
   ]
  }
 ],
 "metadata": {
  "anaconda-cloud": {},
  "kernelspec": {
   "display_name": "Python 3",
   "language": "python",
   "name": "python3"
  },
  "language_info": {
   "codemirror_mode": {
    "name": "ipython",
    "version": 3
   },
   "file_extension": ".py",
   "mimetype": "text/x-python",
   "name": "python",
   "nbconvert_exporter": "python",
   "pygments_lexer": "ipython3",
   "version": "3.6.3"
  },
  "widgets": {
   "state": {
    "03fc38044a514408b9de41fa70bf122f": {
     "views": [
      {
       "cell_index": 17
      }
     ]
    },
    "19b7b5447a594ae1a20b764ac13118cc": {
     "views": [
      {
       "cell_index": 15
      }
     ]
    },
    "28304c0dfbab44f5a851af84bf5947d3": {
     "views": [
      {
       "cell_index": 21
      }
     ]
    },
    "3f700e837fd046ddb14ee8776ac8bc04": {
     "views": [
      {
       "cell_index": 31
      }
     ]
    },
    "50d7c06a111e43c1860a5b10a576bfd3": {
     "views": [
      {
       "cell_index": 23
      }
     ]
    },
    "a74e340d7bb24d9bb020ad7dd982e764": {
     "views": [
      {
       "cell_index": 19
      }
     ]
    },
    "d5593dc80c0445c7ae64c7da2d37f72f": {
     "views": [
      {
       "cell_index": 5
      }
     ]
    },
    "d644b9b546b849c6b17acb3be1f1952b": {
     "views": [
      {
       "cell_index": 3
      }
     ]
    },
    "eac5158d5b6c45c4afa73b58b8b0e58a": {
     "views": [
      {
       "cell_index": 7
      }
     ]
    },
    "f4cec2743faf43ad9b8e7c828c6ee76a": {
     "views": [
      {
       "cell_index": 27
      }
     ]
    }
   },
   "version": "1.2.0"
  }
 },
 "nbformat": 4,
 "nbformat_minor": 1
}
